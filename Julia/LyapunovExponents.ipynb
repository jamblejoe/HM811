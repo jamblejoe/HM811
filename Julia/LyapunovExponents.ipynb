{
 "cells": [
  {
   "cell_type": "markdown",
   "metadata": {},
   "source": [
    "# Calculating Lyapunov Exponents"
   ]
  },
  {
   "cell_type": "markdown",
   "metadata": {},
   "source": [
    "In this notebook we will investigate a method for quantifying chaos in dynamical systems: Lyapunov exponents. We will numerically solve the Lorenz system, a toy example to study chaotic behaviour, and calculate its Lyapunov exponents. We will do this in two ways. First, we will define some basic functions to solve ordinary differential equations and a function to calculate a timeseries of Lyapunov exponents. This will allow us to calculate Lyapunov exponents of the Lorenz system. Second, we will replace the basic ODE solving functions by Julia's ecosystem and demonstrate how easy it is to write high level but very fast code in Julia.\n",
    "\n",
    "I tried to provide as much help for readers not familiar with Julia, but with other high level languages, such as python, c++, java, etc. It should be possible for them to understand the content in this notebook."
   ]
  },
  {
   "cell_type": "markdown",
   "metadata": {},
   "source": [
    "This notebook's content is as follows:\n",
    " - solve the Lorenz system with a simple ODE solver\n",
    " - calculate Lyapunov timeseries utilizing the simple solvers\n",
    " - swap the simple methods for Julia packages\n"
   ]
  },
  {
   "cell_type": "markdown",
   "metadata": {},
   "source": [
    "First of all we will activate the enviroment in the Project.toml file and instantiate it. This allows us to use exactly the packages and versions we defined there. This helps making results reproducible."
   ]
  },
  {
   "cell_type": "code",
   "execution_count": 16,
   "metadata": {},
   "outputs": [
    {
     "name": "stderr",
     "output_type": "stream",
     "text": [
      "\u001b[32m\u001b[1m Activating\u001b[22m\u001b[39m environment at `C:\\Users\\Goran\\MEGA\\modules\\HM811\\projects\\Julia\\Project.toml`\n"
     ]
    }
   ],
   "source": [
    "import Pkg\n",
    "Pkg.activate(\".\")             # This activates the enviromnent in this folder\n",
    "Pkg.instantiate()             # Downloads all the packages in the Project.toml and all dependencies in the Manifest.toml.\n",
    "                              # Then builds necessary binaries."
   ]
  },
  {
   "cell_type": "markdown",
   "metadata": {},
   "source": [
    "The packages in the Project.toml can by added by executing the following cell. If we do not specify a version of the packages, the newest releases will be added."
   ]
  },
  {
   "cell_type": "raw",
   "metadata": {},
   "source": [
    "Pkg.add(\"Plots\")              # Needed for plotting\n",
    "Pkg.add(\"RecipesBase\")        # Lightweight plotting interface\n",
    "Pkg.add(\"LinearAlgebra\")\n",
    "Pkg.add(\"Random\")\n",
    "\n",
    "Pkg.add(\"DifferentialEquations\") # Enormous Differential Equation package\n",
    "Pkg.add(\"DynamicalSystems\")      # Collection of useful tools, e.g. calculating Lyapunov exponents\n",
    "Pkg.add(\"DynamicalSystemsBase\")\n",
    "\n",
    "Pkg.add(\"ModelingToolkit\")       # Toolkit for symbolic calculations"
   ]
  },
  {
   "cell_type": "markdown",
   "metadata": {},
   "source": [
    "If we wanted to update packages, we can do this with"
   ]
  },
  {
   "cell_type": "raw",
   "metadata": {},
   "source": [
    "Pkg.update()"
   ]
  },
  {
   "cell_type": "markdown",
   "metadata": {},
   "source": [
    "Now that we have our packages downloaded and binaries (if the package depence on some) are build we can start using them. The first time we use a package, on this system, it might need precompilation. Packages are just a collection of Julia functions (rarely some constants) and these need to be compiled when loaded. The compiled functions will be stored on the harddrive and can be loaded without compilation the next time, as long as the version of the package does not change. We first load some minimal packages and a package for plotting."
   ]
  },
  {
   "cell_type": "code",
   "execution_count": 17,
   "metadata": {},
   "outputs": [],
   "source": [
    "using Plots\n",
    "using LinearAlgebra\n",
    "using Random"
   ]
  },
  {
   "cell_type": "markdown",
   "metadata": {},
   "source": [
    "We will overload methods from other packages right from the start to reuse code. But we have to exactly specify, which methods we want to overload - so we do not accidently overload methods we did not want or are not aware of. Julia would throw an error then. This needs to be done, outside the development of packages, rarely, but here we want to first do everything from scratch and after that use the Julia ecosystem."
   ]
  },
  {
   "cell_type": "code",
   "execution_count": 18,
   "metadata": {},
   "outputs": [],
   "source": [
    "import RecipesBase.plot\n",
    "import DifferentialEquations.step!\n",
    "import DifferentialEquations.solve"
   ]
  },
  {
   "cell_type": "markdown",
   "metadata": {},
   "source": [
    "## Solve the Lorenz systems"
   ]
  },
  {
   "cell_type": "markdown",
   "metadata": {},
   "source": [
    "The Lorenz system is a system of ordinary differential equations first studied by Edward Lorenz in the 1960's. It is a \"simple\" system which exhibits chaotic behaviour for certain parameter and initial value combinations. It is a simple model for atmospheric convection. The ODE is given by\n",
    "\n",
    "\\begin{align}\n",
    "\\frac{d}{dt} x &= \\sigma (y - x), \\\\\n",
    "\\frac{d}{dt} y &= x (\\rho - z) - y, \\\\\n",
    "\\frac{d}{dt} z &= x y - \\beta z.\n",
    "\\end{align}\n",
    "\n",
    "Below we see the Julia code. It is an inplace update of the dynamical equations. The \"!\" is just a convention in Julia marking that the function will override its first argument."
   ]
  },
  {
   "cell_type": "code",
   "execution_count": 19,
   "metadata": {},
   "outputs": [
    {
     "data": {
      "text/plain": [
       "lorenz! (generic function with 1 method)"
      ]
     },
     "execution_count": 19,
     "metadata": {},
     "output_type": "execute_result"
    }
   ],
   "source": [
    "function lorenz!(du,u,p,t)\n",
    "    σ = p[1]\n",
    "    ρ = p[2]\n",
    "    β = p[3]\n",
    "\n",
    "    du[1] = σ*(u[2]-u[1])\n",
    "    du[2] = u[1]*(ρ-u[3])-u[2]\n",
    "    du[3] = u[1]*u[2]-β*u[3]\n",
    "    nothing\n",
    "end"
   ]
  },
  {
   "cell_type": "markdown",
   "metadata": {},
   "source": [
    "We want to solve this ODE for different parameters and initial conditions. We define (very C-like) an integrator struct and a function \"step!\" and \"solve\". The function \"step!\" calculates the solution to the initial value problem for the next time step and the function \"solve\" is a convience function, which uses \"step!\" to compute a solution for an initial value problem."
   ]
  },
  {
   "cell_type": "code",
   "execution_count": 20,
   "metadata": {},
   "outputs": [],
   "source": [
    "mutable struct MyIntegrator\n",
    "    f!                 # right hand side of ODE\n",
    "    du::AbstractArray  # infinitesimal deviation cache\n",
    "    u::AbstractArray   # current state\n",
    "    p::AbstractArray   # additional parameters\n",
    "    t::Real            # current time steps\n",
    "end\n",
    "\n",
    "my_integrator(f!, u0, p) = MyIntegrator(\n",
    "        f!,               # f!\n",
    "        zeros(size(u0)),  # du\n",
    "        u0,               # u\n",
    "        p,                # p\n",
    "        0.0,              # t\n",
    "    )\n",
    "    \n",
    "\n",
    "function step!(integrator::MyIntegrator, dt::Real)\n",
    "    du = integrator.du\n",
    "    u = integrator.u\n",
    "    p = integrator.p\n",
    "        \n",
    "    integrator.f!(du, u, p, dt)\n",
    "    u .+= dt .* du             # dot syntax is shortcut for loop fusion\n",
    "    integrator.t += dt\n",
    "        \n",
    "    nothing\n",
    "end\n",
    "\n",
    "function solve(integrator::MyIntegrator, t::Real, dt::Real)\n",
    "    \n",
    "    t0 = integrator.t\n",
    "    t0 >= t && throw(\"t must be greater then integrator.t\")\n",
    "    ts = range(t0, t;step=dt)\n",
    "    us = zeros(size(integrator.u)..., length(ts))\n",
    "    us[:,1] = integrator.u\n",
    "    for i in 2:length(ts)\n",
    "        step!(integrator, dt)\n",
    "        us[:,i] = integrator.u\n",
    "    end\n",
    "    \n",
    "    return ts, us\n",
    "end\n",
    "nothing"
   ]
  },
  {
   "cell_type": "markdown",
   "metadata": {},
   "source": [
    "Next, we solve the Lorenz system for the initial value $x=19$, $y=20$ and $z=50$ and chose $\\sigma=16$, $\\rho=45.92$ and $\\beta=4$. With this choice of parameters the dynamical system will have the typical attractor and the trajectory settles quickly to this attractor. One can play around with other parameters too. In the rest of this notebook, we will stick to the chosen initial value and parameters. The first runtime can be comparetively long, because Julia has to compile functions the first time they are called. Run a couple of more times to see the actual runtime."
   ]
  },
  {
   "cell_type": "code",
   "execution_count": 21,
   "metadata": {},
   "outputs": [
    {
     "name": "stdout",
     "output_type": "stream",
     "text": [
      "  0.012131 seconds (35.00 k allocations: 913.183 KiB)\n"
     ]
    },
    {
     "data": {
      "text/plain": [
       "(0.0:0.01:20.0, [19.0 19.16 … 5.224589854795961 5.431639199701373; 20.0 19.0248 … 6.518648260454787 7.16871371854596; 50.0 51.8 … 32.2298930141062 31.28126992922751])"
      ]
     },
     "execution_count": 21,
     "metadata": {},
     "output_type": "execute_result"
    }
   ],
   "source": [
    "lorenz_solution = @time let\n",
    "    u0 = [19.,20.,50.] # initial value\n",
    "    p = [16.,45.92,4]  # parameters\n",
    "    integrator = my_integrator(lorenz!, u0, p) # creates the integrator struct\n",
    "    solve(integrator, 20., 0.01)               # solves the system\n",
    "end"
   ]
  },
  {
   "cell_type": "markdown",
   "metadata": {},
   "source": [
    "We plot the solution in 3D. This functionality is in `Plots.jl`. It may take some time for the first run."
   ]
  },
  {
   "cell_type": "code",
   "execution_count": 22,
   "metadata": {},
   "outputs": [
    {
     "name": "stderr",
     "output_type": "stream",
     "text": [
      "┌ Info: Saved animation to \n",
      "│   fn = C:\\Users\\Goran\\MEGA\\modules\\HM811\\projects\\Julia\\tmp.gif\n",
      "└ @ Plots C:\\Users\\Goran\\.julia\\packages\\Plots\\V8QVi\\src\\animation.jl:104\n"
     ]
    },
    {
     "data": {
      "text/html": [
       "<img src=\"data:image/gif;base64,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\" />"
      ],
      "text/plain": [
       "Plots.AnimatedGif(\"C:\\\\Users\\\\Goran\\\\MEGA\\\\modules\\\\HM811\\\\projects\\\\Julia\\\\tmp.gif\")"
      ]
     },
     "execution_count": 22,
     "metadata": {},
     "output_type": "execute_result"
    }
   ],
   "source": [
    "let\n",
    "    t = lorenz_solution[1]\n",
    "    u = lorenz_solution[2]\n",
    "    \n",
    "    # initialize a 3D plot with 1 empty series\n",
    "    plt = plot3d(\n",
    "        1,\n",
    "        xlim = (-42, 42),\n",
    "        ylim = (-30, 30),\n",
    "        zlim = (0, 100),\n",
    "        title = \"Lorenz Attractor\",\n",
    "        marker = 2,\n",
    "        xlabel=\"x\",\n",
    "        ylabel=\"y\",\n",
    "        zlabel=\"z\",\n",
    "    )\n",
    "\n",
    "    # build an animated gif by pushing new points to the plot, saving every 10th frame\n",
    "    @gif for i=1:length(t)\n",
    "        x = u[1,i]\n",
    "        y = u[2,i]\n",
    "        z = u[3,i]\n",
    "        push!(plt, x, y, z)\n",
    "    end every 5\n",
    "end"
   ]
  },
  {
   "cell_type": "markdown",
   "metadata": {},
   "source": [
    "## Calculate Lyapunov exponents"
   ]
  },
  {
   "cell_type": "markdown",
   "metadata": {},
   "source": [
    "Now that we have numerical integration and solving ordinary differential equations set up, we can focus on calculating Lyapunov exponents. We rewrite the Lorenz equations as \n",
    "\\begin{align}\n",
    "    \\frac{d}{dt} x &= f(x, t),\n",
    "\\end{align}\n",
    "where $x\\in\\mathbb{R}^3$ and\n",
    "\\begin{align}\n",
    "    f(x_1,t) &= \\sigma (x_2 - x_1), \\\\\n",
    "    f(x_2,t) &= x (\\rho - x_3) - x_2, \\\\\n",
    "    f(x_3,t) &= x_1 x_2 - \\beta x_3. \n",
    "\\end{align}\n",
    "\n",
    "To obtain the Lyapunov exponents we have to solve the variational equations\n",
    "\\begin{align}\n",
    "    \\frac{d}{dt} x &= f(x, t) \\\\\n",
    "    \\frac{d}{dt} Y &= Df(x,t) * Y,\n",
    "\\end{align}\n",
    "where $Df$ denotes the Jacobian matrix of $f$. We already have defined $f=$ `lorenz!` and will now define $Df=$ `lorenz_jac!`."
   ]
  },
  {
   "cell_type": "code",
   "execution_count": 23,
   "metadata": {},
   "outputs": [
    {
     "data": {
      "text/plain": [
       "lorenz_jac! (generic function with 1 method)"
      ]
     },
     "execution_count": 23,
     "metadata": {},
     "output_type": "execute_result"
    }
   ],
   "source": [
    "function lorenz_jac!(J,u,p,t)\n",
    "\n",
    "    σ = p[1]\n",
    "    ρ = p[2]\n",
    "    β = p[3]\n",
    "\n",
    "    J[1,1] = -σ\n",
    "    J[1,2] = σ\n",
    "    J[1,3] = 0\n",
    "    J[2,1] = ρ-u[3]\n",
    "    J[2,2] = -1\n",
    "    J[2,3] = -u[1]\n",
    "    J[3,1] = u[2]\n",
    "    J[3,2] = u[1]\n",
    "    J[3,3] = -β\n",
    "    nothing\n",
    "end"
   ]
  },
  {
   "cell_type": "markdown",
   "metadata": {},
   "source": [
    "We define the integrator struct for solving the variational equations. The `@view` makro is a short form for the `view` function, which returns non memory allocating slices of an array."
   ]
  },
  {
   "cell_type": "code",
   "execution_count": 24,
   "metadata": {},
   "outputs": [
    {
     "data": {
      "text/plain": [
       "my_tangent_integrator (generic function with 1 method)"
      ]
     },
     "execution_count": 24,
     "metadata": {},
     "output_type": "execute_result"
    }
   ],
   "source": [
    "function my_tangent_integrator(\n",
    "                f!, \n",
    "                jac!, \n",
    "                u0::Vector{<:Real},\n",
    "                p::AbstractVector;\n",
    "                seed::Integer=42)\n",
    "    \n",
    "    rng = MersenneTwister(seed)\n",
    "    \n",
    "    # initialize w0 with a random, orthogonal matrix\n",
    "    w0 = rand(rng, length(u0), length(u0))\n",
    "    w0 = Array(qr(w0).Q)\n",
    "    \n",
    "    # define cache for Jacobian calculation, as we are\n",
    "    # calcuating in place\n",
    "    J = zeros(size(w0))\n",
    "    \n",
    "    # this is the right hand side of the variational equations\n",
    "    # the out of place version would look like\n",
    "    # function tangent(u,p,t)\n",
    "    #    du = f(u,p,t)\n",
    "    #    J = jac(u,p,t)\n",
    "    #    hcat(du, J)\n",
    "    # end\n",
    "    function tangent!(du,u,p,t)\n",
    "        uv = @view u[:, 1]\n",
    "        f!(view(du,:,1),uv ,p,t)\n",
    "        jac!(J, uv,p,t)\n",
    "        mul!((@view du[:, 2:end]), J, (@view u[:, 2:end]))\n",
    "        nothing\n",
    "    end\n",
    "    \n",
    "    \n",
    "    u0 = hcat(u0, w0)    # hcat concatenates columnwise\n",
    "    integ = my_integrator(tangent!, u0, p)\n",
    "\n",
    "    return integ\n",
    "end\n"
   ]
  },
  {
   "cell_type": "markdown",
   "metadata": {},
   "source": [
    "We define some convenience functions to get and set the tangent space spanning $Y$. We want a setter function as well, as we will renormalize $Y$ while solving the variational equations to prevent numerical overflow due to exponential growth of the entries of $Y$, if the corresponding dynamical system is chaotic."
   ]
  },
  {
   "cell_type": "code",
   "execution_count": 25,
   "metadata": {},
   "outputs": [
    {
     "data": {
      "text/plain": [
       "set_deviations! (generic function with 1 method)"
      ]
     },
     "execution_count": 25,
     "metadata": {},
     "output_type": "execute_result"
    }
   ],
   "source": [
    "get_deviations(integ) = @view integ.u[:, 2:end]\n",
    "set_deviations!(integ, Q)  = (integ.u[:, 2:end] .= Q)"
   ]
  },
  {
   "cell_type": "markdown",
   "metadata": {},
   "source": [
    "Now we will define the most important function - the function calculating a timeseries of Lyapunov exponents. The timeseries allows us later to visually observe sufficient convergence. This function was used (slightly modified) in one of my projects on chaos in classical systems."
   ]
  },
  {
   "cell_type": "code",
   "execution_count": 139,
   "metadata": {},
   "outputs": [
    {
     "data": {
      "text/plain": [
       "_lyap_step_qr!"
      ]
     },
     "execution_count": 139,
     "metadata": {},
     "output_type": "execute_result"
    }
   ],
   "source": [
    "struct LyapunovExponentSolution\n",
    "    t::AbstractArray\n",
    "    u::AbstractArray\n",
    "    lyapunov::AbstractArray\n",
    "end\n",
    "\n",
    "LSE = LyapunovExponentSolution\n",
    "\n",
    "\"\"\"\n",
    "    Calculates time series Lyapunov exponents.\n",
    "    t_max is the maximum time \n",
    "    dt is the stepsize, not necessarily of the integrator,\n",
    "    but \n",
    "\"\"\"\n",
    "function lyap_qr_time_series(integ, t_max::Real, dt::Real; \n",
    "        t_pre_iter::Real=0, \n",
    "        t_save::Real=dt,\n",
    "        t_renormalize::Real=dt,\n",
    "        lyapunov_count::Integer=1\n",
    "    )\n",
    "\n",
    "    #@assert length(integ.u) >= lyapunov_count \"Can not calculate more Lyapunov exponents than the systems dimension: $dim\"\n",
    "\n",
    "    last_t_renormalized = integ.t\n",
    "\n",
    "    # Pre iterate the system\n",
    "    while integ.t < t_pre_iter\n",
    "        # as long as we do not have to renormalize, we do not do it\n",
    "        if integ.t - last_t_renormalized < t_renormalize\n",
    "            step!(integ)\n",
    "        else\n",
    "            _lyap_step_qr!(integ, dt)\n",
    "            last_t_renormalized = integ.t\n",
    "        end\n",
    "    end\n",
    "\n",
    "    \n",
    "    t0 = integ.t\n",
    "    ts = range(t0+dt; stop=t_max, step=t_save)    # timesteps\n",
    "    us = zeros(size(integ.u[:,1])..., length(ts)) # solution of the system at the corresponding timesteps\n",
    "    lyapunovs = zeros(lyapunov_count, length(ts)) # Lyapunov exponents at the corresponding timesteps\n",
    "    lyap_tmp = zeros(lyapunov_count)              # cache\n",
    "     \n",
    "    for i in 1:length(ts)\n",
    "        # we integrate the system up to the next saving time\n",
    "        while integ.t < ts[i]\n",
    "            # as long as we do not have to renormalize, we do not do it\n",
    "            if integ.t - last_t_renormalized < t_renormalize\n",
    "                step!(integ, dt)\n",
    "            else\n",
    "                R = _lyap_step_qr!(integ, dt)\n",
    "                \n",
    "                # we accumulate the exponential growth of the deviation vectors\n",
    "                for j in 1:lyapunov_count\n",
    "                    lyap_tmp[j] += log(abs(R[j,j]))\n",
    "                end\n",
    "                last_t_renormalized = integ.t\n",
    "            end\n",
    "        end\n",
    "        \n",
    "        # save the systems state and the calculated Lyapunov exponents\n",
    "        us[:,i] = integ.u[:,1]\n",
    "        lyapunovs[:,i] = lyap_tmp ./ (integ.t-t0)\n",
    "    end\n",
    "    \n",
    "    lse = LyapunovExponentSolution(\n",
    "        ts,\n",
    "        us,\n",
    "        lyapunovs\n",
    "    )\n",
    "    \n",
    "    return lse\n",
    "end\n",
    "\n",
    "\"\"\"\n",
    "    Evolves the system for dt time and renormalizes the tangent space.\n",
    "\"\"\"\n",
    "function _lyap_step_qr!(integ, dt)\n",
    "    # Evolve the the coupled system and get the tangent vectors\n",
    "    step!(integ, dt)\n",
    "    w = get_deviations(integ)\n",
    "\n",
    "    # Orthonormalize the tangent vectors\n",
    "    F = qr(w)\n",
    "    w = Matrix(F.Q)\n",
    "\n",
    "    # Reinitialize the tangent vectors with the normalized ones\n",
    "    set_deviations!(integ, w)\n",
    "\n",
    "    return Matrix(F.R)\n",
    "end\n",
    "\n"
   ]
  },
  {
   "cell_type": "markdown",
   "metadata": {},
   "source": [
    "Now, everything comes together and we can use our ODE solvers, the tangent integrator and our Lyapunov exponent timeseries function to calculate the timeseries of Lyapunov exponents. Again, the first time the following code block is run, function compilation will dominate the runtime. Run the cell multiple times to time the calculation takes without compilation."
   ]
  },
  {
   "cell_type": "code",
   "execution_count": 32,
   "metadata": {},
   "outputs": [
    {
     "name": "stdout",
     "output_type": "stream",
     "text": [
      "  0.024421 seconds (214.06 k allocations: 6.518 MiB)\n"
     ]
    },
    {
     "data": {
      "text/plain": [
       "LyapunovExponentSolution(0.001:0.01:9.991, [19.016 19.072348255630207 … -22.019921104808994 -22.00464510043372; 19.90248 18.74976263295863 … -23.067922916548053 -20.48590256519617; 50.18 51.84085386001947 … 55.422381044443085 57.996542476964215], [0.0 -1.7954422024163348 … 1.500649509692322 1.5026815106181124; 0.0 -14.296796021244997 … -0.10701553434967098 -0.10899084617455493; 0.0 -4.6065567160213075 … -22.447947821942385 -22.451556918924144])"
      ]
     },
     "execution_count": 32,
     "metadata": {},
     "output_type": "execute_result"
    }
   ],
   "source": [
    "lse = @time let\n",
    "    u0 = [19.,20.,50.]\n",
    "    p = [16.,45.92,4]\n",
    "    integrator = my_tangent_integrator(lorenz!, lorenz_jac!, u0, p)\n",
    "\n",
    "    dt = 0.001\n",
    "    t_max = 10\n",
    "    lyap_qr_time_series(integrator, t_max, dt; \n",
    "        t_pre_iter=0, \n",
    "        t_save=t_max/100,\n",
    "        t_renormalize=10*dt,\n",
    "        lyapunov_count=length(u0)\n",
    "    )\n",
    "end"
   ]
  },
  {
   "cell_type": "markdown",
   "metadata": {},
   "source": [
    "At the beginning of the notebook we imported from RecipesBase the plot method. We did this so we can define a plotting function for the `LyapunovExponentSolution` struct, besides there being multiple `plot` methods defined in `Plots` already. Multiple dispatch is one of Julia's most characterizing design choices."
   ]
  },
  {
   "cell_type": "markdown",
   "metadata": {},
   "source": [
    "The first time we call the `plot` method, it shows how many methods with the same name are defined."
   ]
  },
  {
   "cell_type": "code",
   "execution_count": 33,
   "metadata": {},
   "outputs": [
    {
     "data": {
      "text/plain": [
       "plot (generic function with 4 methods)"
      ]
     },
     "execution_count": 33,
     "metadata": {},
     "output_type": "execute_result"
    }
   ],
   "source": [
    "plot"
   ]
  },
  {
   "cell_type": "code",
   "execution_count": 40,
   "metadata": {},
   "outputs": [
    {
     "data": {
      "text/plain": [
       "plot (generic function with 4 methods)"
      ]
     },
     "execution_count": 40,
     "metadata": {},
     "output_type": "execute_result"
    }
   ],
   "source": [
    "function plot(lse::LyapunovExponentSolution, args...;kwargs...)\n",
    "    plot(lse.t, transpose(lse.lyapunov), args...;kwargs...)\n",
    "    plot!(\n",
    "        xlabel=\"time\",\n",
    "        ylabel=\"Lyapunov exponent\",\n",
    "    )\n",
    "end"
   ]
  },
  {
   "cell_type": "markdown",
   "metadata": {},
   "source": [
    "The next time we call `plot` the number of methods should have increased by one."
   ]
  },
  {
   "cell_type": "code",
   "execution_count": 41,
   "metadata": {},
   "outputs": [
    {
     "data": {
      "text/plain": [
       "plot (generic function with 4 methods)"
      ]
     },
     "execution_count": 41,
     "metadata": {},
     "output_type": "execute_result"
    }
   ],
   "source": [
    "plot"
   ]
  },
  {
   "cell_type": "markdown",
   "metadata": {},
   "source": [
    "In the plot below we see the calculated Lyapunov exponent for increasing time the system is evolved. The longer one integrates the variational equations the better the estimate for the Lyapunov exponents should become. The actual Lyapunov exponents of the Lorenz system are, with an error of $0.00008$:\n",
    " - $\\approx 1.50255$\n",
    " - 0\n",
    " - $\\approx -22.50255$\n",
    " \n",
    "Altough we only used a (non-symplectic) first order method to integrate the system and the tangent space, we obtain surprisingly good convergence.\n",
    "\n",
    "For other parameter choices\n",
    "\\begin{align}\n",
    "    \\sigma &= 16 \\\\\n",
    "    \\rho &= 40 \\\\\n",
    "    \\beta &= 4\n",
    "\\end{align}\n",
    "and\n",
    "\\begin{align}\n",
    "    \\sigma &= 10 \\\\\n",
    "    \\rho &= 28 \\\\\n",
    "    \\beta &= 8/3\n",
    "\\end{align}\n",
    "the actual Lyapunov exponents are with an error of $0.0006$\n",
    " - $\\approx 1.37446$\n",
    " - 0 \n",
    " - $\\approx -22.37446$\n",
    " \n",
    "and with an error of $0.00007$\n",
    " - $\\approx 0.90566$ \n",
    " - 0\n",
    " - $\\approx -14.57233$\n"
   ]
  },
  {
   "cell_type": "code",
   "execution_count": 43,
   "metadata": {},
   "outputs": [
    {
     "name": "stdout",
     "output_type": "stream",
     "text": [
      "lse.lyapunov[:, end] = [1.5026815106181124, -0.10899084617455493, -22.451556918924144]\n"
     ]
    },
    {
     "data": {
      "image/svg+xml": [
       "<?xml version=\"1.0\" encoding=\"utf-8\"?>\n",
       "<svg xmlns=\"http://www.w3.org/2000/svg\" xmlns:xlink=\"http://www.w3.org/1999/xlink\" width=\"600\" height=\"400\" viewBox=\"0 0 2400 1600\">\n",
       "<defs>\n",
       "  <clipPath id=\"clip700\">\n",
       "    <rect x=\"0\" y=\"0\" width=\"2400\" height=\"1600\"/>\n",
       "  </clipPath>\n",
       "</defs>\n",
       "<path clip-path=\"url(#clip700)\" d=\"\n",
       "M0 1600 L2400 1600 L2400 0 L0 0  Z\n",
       "  \" fill=\"#ffffff\" fill-rule=\"evenodd\" fill-opacity=\"1\"/>\n",
       "<defs>\n",
       "  <clipPath id=\"clip701\">\n",
       "    <rect x=\"480\" y=\"0\" width=\"1681\" height=\"1600\"/>\n",
       "  </clipPath>\n",
       "</defs>\n",
       "<path clip-path=\"url(#clip700)\" d=\"\n",
       "M215.538 1423.18 L2352.76 1423.18 L2352.76 47.2441 L215.538 47.2441  Z\n",
       "  \" fill=\"#ffffff\" fill-rule=\"evenodd\" fill-opacity=\"1\"/>\n",
       "<defs>\n",
       "  <clipPath id=\"clip702\">\n",
       "    <rect x=\"215\" y=\"47\" width=\"2138\" height=\"1377\"/>\n",
       "  </clipPath>\n",
       "</defs>\n",
       "<polyline clip-path=\"url(#clip702)\" style=\"stroke:#000000; stroke-width:2; stroke-opacity:0.1; fill:none\" points=\"\n",
       "  275.823,1423.18 275.823,47.2441 \n",
       "  \"/>\n",
       "<polyline clip-path=\"url(#clip702)\" style=\"stroke:#000000; stroke-width:2; stroke-opacity:0.1; fill:none\" points=\"\n",
       "  780.389,1423.18 780.389,47.2441 \n",
       "  \"/>\n",
       "<polyline clip-path=\"url(#clip702)\" style=\"stroke:#000000; stroke-width:2; stroke-opacity:0.1; fill:none\" points=\"\n",
       "  1284.95,1423.18 1284.95,47.2441 \n",
       "  \"/>\n",
       "<polyline clip-path=\"url(#clip702)\" style=\"stroke:#000000; stroke-width:2; stroke-opacity:0.1; fill:none\" points=\"\n",
       "  1789.52,1423.18 1789.52,47.2441 \n",
       "  \"/>\n",
       "<polyline clip-path=\"url(#clip702)\" style=\"stroke:#000000; stroke-width:2; stroke-opacity:0.1; fill:none\" points=\"\n",
       "  2294.09,1423.18 2294.09,47.2441 \n",
       "  \"/>\n",
       "<polyline clip-path=\"url(#clip702)\" style=\"stroke:#000000; stroke-width:2; stroke-opacity:0.1; fill:none\" points=\"\n",
       "  215.538,1257.23 2352.76,1257.23 \n",
       "  \"/>\n",
       "<polyline clip-path=\"url(#clip702)\" style=\"stroke:#000000; stroke-width:2; stroke-opacity:0.1; fill:none\" points=\"\n",
       "  215.538,1010.34 2352.76,1010.34 \n",
       "  \"/>\n",
       "<polyline clip-path=\"url(#clip702)\" style=\"stroke:#000000; stroke-width:2; stroke-opacity:0.1; fill:none\" points=\"\n",
       "  215.538,763.44 2352.76,763.44 \n",
       "  \"/>\n",
       "<polyline clip-path=\"url(#clip702)\" style=\"stroke:#000000; stroke-width:2; stroke-opacity:0.1; fill:none\" points=\"\n",
       "  215.538,516.546 2352.76,516.546 \n",
       "  \"/>\n",
       "<polyline clip-path=\"url(#clip702)\" style=\"stroke:#000000; stroke-width:2; stroke-opacity:0.1; fill:none\" points=\"\n",
       "  215.538,269.651 2352.76,269.651 \n",
       "  \"/>\n",
       "<polyline clip-path=\"url(#clip700)\" style=\"stroke:#000000; stroke-width:4; stroke-opacity:1; fill:none\" points=\"\n",
       "  215.538,1423.18 2352.76,1423.18 \n",
       "  \"/>\n",
       "<polyline clip-path=\"url(#clip700)\" style=\"stroke:#000000; stroke-width:4; stroke-opacity:1; fill:none\" points=\"\n",
       "  215.538,1423.18 215.538,47.2441 \n",
       "  \"/>\n",
       "<polyline clip-path=\"url(#clip700)\" style=\"stroke:#000000; stroke-width:4; stroke-opacity:1; fill:none\" points=\"\n",
       "  275.823,1423.18 275.823,1406.67 \n",
       "  \"/>\n",
       "<polyline clip-path=\"url(#clip700)\" style=\"stroke:#000000; stroke-width:4; stroke-opacity:1; fill:none\" points=\"\n",
       "  780.389,1423.18 780.389,1406.67 \n",
       "  \"/>\n",
       "<polyline clip-path=\"url(#clip700)\" style=\"stroke:#000000; stroke-width:4; stroke-opacity:1; fill:none\" points=\"\n",
       "  1284.95,1423.18 1284.95,1406.67 \n",
       "  \"/>\n",
       "<polyline clip-path=\"url(#clip700)\" style=\"stroke:#000000; stroke-width:4; stroke-opacity:1; fill:none\" points=\"\n",
       "  1789.52,1423.18 1789.52,1406.67 \n",
       "  \"/>\n",
       "<polyline clip-path=\"url(#clip700)\" style=\"stroke:#000000; stroke-width:4; stroke-opacity:1; fill:none\" points=\"\n",
       "  2294.09,1423.18 2294.09,1406.67 \n",
       "  \"/>\n",
       "<polyline clip-path=\"url(#clip700)\" style=\"stroke:#000000; stroke-width:4; stroke-opacity:1; fill:none\" points=\"\n",
       "  215.538,1257.23 241.184,1257.23 \n",
       "  \"/>\n",
       "<polyline clip-path=\"url(#clip700)\" style=\"stroke:#000000; stroke-width:4; stroke-opacity:1; fill:none\" points=\"\n",
       "  215.538,1010.34 241.184,1010.34 \n",
       "  \"/>\n",
       "<polyline clip-path=\"url(#clip700)\" style=\"stroke:#000000; stroke-width:4; stroke-opacity:1; fill:none\" points=\"\n",
       "  215.538,763.44 241.184,763.44 \n",
       "  \"/>\n",
       "<polyline clip-path=\"url(#clip700)\" style=\"stroke:#000000; stroke-width:4; stroke-opacity:1; fill:none\" points=\"\n",
       "  215.538,516.546 241.184,516.546 \n",
       "  \"/>\n",
       "<polyline clip-path=\"url(#clip700)\" style=\"stroke:#000000; stroke-width:4; stroke-opacity:1; fill:none\" points=\"\n",
       "  215.538,269.651 241.184,269.651 \n",
       "  \"/>\n",
       "<path clip-path=\"url(#clip700)\" d=\"M 0 0 M257.339 1445.17 Q253.728 1445.17 251.9 1448.74 Q250.094 1452.28 250.094 1459.41 Q250.094 1466.51 251.9 1470.08 Q253.728 1473.62 257.339 1473.62 Q260.974 1473.62 262.779 1470.08 Q264.608 1466.51 264.608 1459.41 Q264.608 1452.28 262.779 1448.74 Q260.974 1445.17 257.339 1445.17 M257.339 1441.47 Q263.15 1441.47 266.205 1446.07 Q269.284 1450.66 269.284 1459.41 Q269.284 1468.13 266.205 1472.74 Q263.15 1477.32 257.339 1477.32 Q251.529 1477.32 248.451 1472.74 Q245.395 1468.13 245.395 1459.41 Q245.395 1450.66 248.451 1446.07 Q251.529 1441.47 257.339 1441.47 Z\" fill=\"#000000\" fill-rule=\"evenodd\" fill-opacity=\"1\" /><path clip-path=\"url(#clip700)\" d=\"M 0 0 M274.353 1470.77 L279.237 1470.77 L279.237 1476.65 L274.353 1476.65 L274.353 1470.77 Z\" fill=\"#000000\" fill-rule=\"evenodd\" fill-opacity=\"1\" /><path clip-path=\"url(#clip700)\" d=\"M 0 0 M294.307 1445.17 Q290.696 1445.17 288.867 1448.74 Q287.061 1452.28 287.061 1459.41 Q287.061 1466.51 288.867 1470.08 Q290.696 1473.62 294.307 1473.62 Q297.941 1473.62 299.747 1470.08 Q301.575 1466.51 301.575 1459.41 Q301.575 1452.28 299.747 1448.74 Q297.941 1445.17 294.307 1445.17 M294.307 1441.47 Q300.117 1441.47 303.172 1446.07 Q306.251 1450.66 306.251 1459.41 Q306.251 1468.13 303.172 1472.74 Q300.117 1477.32 294.307 1477.32 Q288.497 1477.32 285.418 1472.74 Q282.362 1468.13 282.362 1459.41 Q282.362 1450.66 285.418 1446.07 Q288.497 1441.47 294.307 1441.47 Z\" fill=\"#000000\" fill-rule=\"evenodd\" fill-opacity=\"1\" /><path clip-path=\"url(#clip700)\" d=\"M 0 0 M757.055 1472.72 L773.375 1472.72 L773.375 1476.65 L751.43 1476.65 L751.43 1472.72 Q754.092 1469.96 758.676 1465.33 Q763.282 1460.68 764.463 1459.34 Q766.708 1456.81 767.588 1455.08 Q768.49 1453.32 768.49 1451.63 Q768.49 1448.87 766.546 1447.14 Q764.625 1445.4 761.523 1445.4 Q759.324 1445.4 756.87 1446.17 Q754.44 1446.93 751.662 1448.48 L751.662 1443.76 Q754.486 1442.62 756.94 1442.05 Q759.393 1441.47 761.43 1441.47 Q766.801 1441.47 769.995 1444.15 Q773.19 1446.84 773.19 1451.33 Q773.19 1453.46 772.379 1455.38 Q771.592 1457.28 769.486 1459.87 Q768.907 1460.54 765.805 1463.76 Q762.703 1466.95 757.055 1472.72 Z\" fill=\"#000000\" fill-rule=\"evenodd\" fill-opacity=\"1\" /><path clip-path=\"url(#clip700)\" d=\"M 0 0 M778.444 1470.77 L783.328 1470.77 L783.328 1476.65 L778.444 1476.65 L778.444 1470.77 Z\" fill=\"#000000\" fill-rule=\"evenodd\" fill-opacity=\"1\" /><path clip-path=\"url(#clip700)\" d=\"M 0 0 M788.444 1442.09 L806.8 1442.09 L806.8 1446.03 L792.726 1446.03 L792.726 1454.5 Q793.745 1454.15 794.763 1453.99 Q795.782 1453.8 796.801 1453.8 Q802.588 1453.8 805.967 1456.98 Q809.347 1460.15 809.347 1465.56 Q809.347 1471.14 805.875 1474.24 Q802.402 1477.32 796.083 1477.32 Q793.907 1477.32 791.638 1476.95 Q789.393 1476.58 786.986 1475.84 L786.986 1471.14 Q789.069 1472.28 791.291 1472.83 Q793.513 1473.39 795.99 1473.39 Q799.995 1473.39 802.333 1471.28 Q804.671 1469.18 804.671 1465.56 Q804.671 1461.95 802.333 1459.85 Q799.995 1457.74 795.99 1457.74 Q794.115 1457.74 792.24 1458.16 Q790.389 1458.57 788.444 1459.45 L788.444 1442.09 Z\" fill=\"#000000\" fill-rule=\"evenodd\" fill-opacity=\"1\" /><path clip-path=\"url(#clip700)\" d=\"M 0 0 M1256.75 1442.09 L1275.1 1442.09 L1275.1 1446.03 L1261.03 1446.03 L1261.03 1454.5 Q1262.05 1454.15 1263.07 1453.99 Q1264.09 1453.8 1265.1 1453.8 Q1270.89 1453.8 1274.27 1456.98 Q1277.65 1460.15 1277.65 1465.56 Q1277.65 1471.14 1274.18 1474.24 Q1270.71 1477.32 1264.39 1477.32 Q1262.21 1477.32 1259.94 1476.95 Q1257.7 1476.58 1255.29 1475.84 L1255.29 1471.14 Q1257.37 1472.28 1259.6 1472.83 Q1261.82 1473.39 1264.29 1473.39 Q1268.3 1473.39 1270.64 1471.28 Q1272.97 1469.18 1272.97 1465.56 Q1272.97 1461.95 1270.64 1459.85 Q1268.3 1457.74 1264.29 1457.74 Q1262.42 1457.74 1260.54 1458.16 Q1258.69 1458.57 1256.75 1459.45 L1256.75 1442.09 Z\" fill=\"#000000\" fill-rule=\"evenodd\" fill-opacity=\"1\" /><path clip-path=\"url(#clip700)\" d=\"M 0 0 M1282.72 1470.77 L1287.6 1470.77 L1287.6 1476.65 L1282.72 1476.65 L1282.72 1470.77 Z\" fill=\"#000000\" fill-rule=\"evenodd\" fill-opacity=\"1\" /><path clip-path=\"url(#clip700)\" d=\"M 0 0 M1302.67 1445.17 Q1299.06 1445.17 1297.23 1448.74 Q1295.43 1452.28 1295.43 1459.41 Q1295.43 1466.51 1297.23 1470.08 Q1299.06 1473.62 1302.67 1473.62 Q1306.31 1473.62 1308.11 1470.08 Q1309.94 1466.51 1309.94 1459.41 Q1309.94 1452.28 1308.11 1448.74 Q1306.31 1445.17 1302.67 1445.17 M1302.67 1441.47 Q1308.48 1441.47 1311.54 1446.07 Q1314.62 1450.66 1314.62 1459.41 Q1314.62 1468.13 1311.54 1472.74 Q1308.48 1477.32 1302.67 1477.32 Q1296.86 1477.32 1293.79 1472.74 Q1290.73 1468.13 1290.73 1459.41 Q1290.73 1450.66 1293.79 1446.07 Q1296.86 1441.47 1302.67 1441.47 Z\" fill=\"#000000\" fill-rule=\"evenodd\" fill-opacity=\"1\" /><path clip-path=\"url(#clip700)\" d=\"M 0 0 M1760.42 1442.09 L1782.64 1442.09 L1782.64 1444.08 L1770.1 1476.65 L1765.21 1476.65 L1777.02 1446.03 L1760.42 1446.03 L1760.42 1442.09 Z\" fill=\"#000000\" fill-rule=\"evenodd\" fill-opacity=\"1\" /><path clip-path=\"url(#clip700)\" d=\"M 0 0 M1787.71 1470.77 L1792.6 1470.77 L1792.6 1476.65 L1787.71 1476.65 L1787.71 1470.77 Z\" fill=\"#000000\" fill-rule=\"evenodd\" fill-opacity=\"1\" /><path clip-path=\"url(#clip700)\" d=\"M 0 0 M1797.71 1442.09 L1816.07 1442.09 L1816.07 1446.03 L1802 1446.03 L1802 1454.5 Q1803.01 1454.15 1804.03 1453.99 Q1805.05 1453.8 1806.07 1453.8 Q1811.86 1453.8 1815.24 1456.98 Q1818.62 1460.15 1818.62 1465.56 Q1818.62 1471.14 1815.14 1474.24 Q1811.67 1477.32 1805.35 1477.32 Q1803.18 1477.32 1800.91 1476.95 Q1798.66 1476.58 1796.26 1475.84 L1796.26 1471.14 Q1798.34 1472.28 1800.56 1472.83 Q1802.78 1473.39 1805.26 1473.39 Q1809.26 1473.39 1811.6 1471.28 Q1813.94 1469.18 1813.94 1465.56 Q1813.94 1461.95 1811.6 1459.85 Q1809.26 1457.74 1805.26 1457.74 Q1803.39 1457.74 1801.51 1458.16 Q1799.66 1458.57 1797.71 1459.45 L1797.71 1442.09 Z\" fill=\"#000000\" fill-rule=\"evenodd\" fill-opacity=\"1\" /><path clip-path=\"url(#clip700)\" d=\"M 0 0 M2252.48 1472.72 L2260.12 1472.72 L2260.12 1446.35 L2251.81 1448.02 L2251.81 1443.76 L2260.07 1442.09 L2264.74 1442.09 L2264.74 1472.72 L2272.38 1472.72 L2272.38 1476.65 L2252.48 1476.65 L2252.48 1472.72 Z\" fill=\"#000000\" fill-rule=\"evenodd\" fill-opacity=\"1\" /><path clip-path=\"url(#clip700)\" d=\"M 0 0 M2287.45 1445.17 Q2283.84 1445.17 2282.01 1448.74 Q2280.21 1452.28 2280.21 1459.41 Q2280.21 1466.51 2282.01 1470.08 Q2283.84 1473.62 2287.45 1473.62 Q2291.09 1473.62 2292.89 1470.08 Q2294.72 1466.51 2294.72 1459.41 Q2294.72 1452.28 2292.89 1448.74 Q2291.09 1445.17 2287.45 1445.17 M2287.45 1441.47 Q2293.26 1441.47 2296.32 1446.07 Q2299.4 1450.66 2299.4 1459.41 Q2299.4 1468.13 2296.32 1472.74 Q2293.26 1477.32 2287.45 1477.32 Q2281.64 1477.32 2278.56 1472.74 Q2275.51 1468.13 2275.51 1459.41 Q2275.51 1450.66 2278.56 1446.07 Q2281.64 1441.47 2287.45 1441.47 Z\" fill=\"#000000\" fill-rule=\"evenodd\" fill-opacity=\"1\" /><path clip-path=\"url(#clip700)\" d=\"M 0 0 M2304.47 1470.77 L2309.35 1470.77 L2309.35 1476.65 L2304.47 1476.65 L2304.47 1470.77 Z\" fill=\"#000000\" fill-rule=\"evenodd\" fill-opacity=\"1\" /><path clip-path=\"url(#clip700)\" d=\"M 0 0 M2324.42 1445.17 Q2320.81 1445.17 2318.98 1448.74 Q2317.18 1452.28 2317.18 1459.41 Q2317.18 1466.51 2318.98 1470.08 Q2320.81 1473.62 2324.42 1473.62 Q2328.05 1473.62 2329.86 1470.08 Q2331.69 1466.51 2331.69 1459.41 Q2331.69 1452.28 2329.86 1448.74 Q2328.05 1445.17 2324.42 1445.17 M2324.42 1441.47 Q2330.23 1441.47 2333.29 1446.07 Q2336.36 1450.66 2336.36 1459.41 Q2336.36 1468.13 2333.29 1472.74 Q2330.23 1477.32 2324.42 1477.32 Q2318.61 1477.32 2315.53 1472.74 Q2312.48 1468.13 2312.48 1459.41 Q2312.48 1450.66 2315.53 1446.07 Q2318.61 1441.47 2324.42 1441.47 Z\" fill=\"#000000\" fill-rule=\"evenodd\" fill-opacity=\"1\" /><path clip-path=\"url(#clip700)\" d=\"M 0 0 M126.631 1259.63 L139.107 1259.63 L139.107 1263.42 L126.631 1263.42 L126.631 1259.63 Z\" fill=\"#000000\" fill-rule=\"evenodd\" fill-opacity=\"1\" /><path clip-path=\"url(#clip700)\" d=\"M 0 0 M148.204 1270.58 L164.524 1270.58 L164.524 1274.51 L142.58 1274.51 L142.58 1270.58 Q145.242 1267.82 149.825 1263.19 Q154.431 1258.54 155.612 1257.2 Q157.857 1254.67 158.737 1252.94 Q159.64 1251.18 159.64 1249.49 Q159.64 1246.73 157.695 1245 Q155.774 1243.26 152.672 1243.26 Q150.473 1243.26 148.019 1244.02 Q145.589 1244.79 142.811 1246.34 L142.811 1241.62 Q145.635 1240.48 148.089 1239.9 Q150.542 1239.33 152.579 1239.33 Q157.95 1239.33 161.144 1242.01 Q164.339 1244.7 164.339 1249.19 Q164.339 1251.32 163.528 1253.24 Q162.741 1255.14 160.635 1257.73 Q160.056 1258.4 156.954 1261.62 Q153.853 1264.81 148.204 1270.58 Z\" fill=\"#000000\" fill-rule=\"evenodd\" fill-opacity=\"1\" /><path clip-path=\"url(#clip700)\" d=\"M 0 0 M179.593 1243.03 Q175.982 1243.03 174.153 1246.59 Q172.348 1250.14 172.348 1257.27 Q172.348 1264.37 174.153 1267.94 Q175.982 1271.48 179.593 1271.48 Q183.227 1271.48 185.033 1267.94 Q186.862 1264.37 186.862 1257.27 Q186.862 1250.14 185.033 1246.59 Q183.227 1243.03 179.593 1243.03 M179.593 1239.33 Q185.403 1239.33 188.459 1243.93 Q191.538 1248.52 191.538 1257.27 Q191.538 1265.99 188.459 1270.6 Q185.403 1275.18 179.593 1275.18 Q173.783 1275.18 170.704 1270.6 Q167.649 1265.99 167.649 1257.27 Q167.649 1248.52 170.704 1243.93 Q173.783 1239.33 179.593 1239.33 Z\" fill=\"#000000\" fill-rule=\"evenodd\" fill-opacity=\"1\" /><path clip-path=\"url(#clip700)\" d=\"M 0 0 M127.256 1012.73 L139.732 1012.73 L139.732 1016.53 L127.256 1016.53 L127.256 1012.73 Z\" fill=\"#000000\" fill-rule=\"evenodd\" fill-opacity=\"1\" /><path clip-path=\"url(#clip700)\" d=\"M 0 0 M145.612 1023.68 L153.251 1023.68 L153.251 997.315 L144.941 998.981 L144.941 994.722 L153.204 993.055 L157.88 993.055 L157.88 1023.68 L165.519 1023.68 L165.519 1027.62 L145.612 1027.62 L145.612 1023.68 Z\" fill=\"#000000\" fill-rule=\"evenodd\" fill-opacity=\"1\" /><path clip-path=\"url(#clip700)\" d=\"M 0 0 M170.635 993.055 L188.991 993.055 L188.991 996.991 L174.917 996.991 L174.917 1005.46 Q175.936 1005.12 176.954 1004.95 Q177.973 1004.77 178.991 1004.77 Q184.778 1004.77 188.158 1007.94 Q191.538 1011.11 191.538 1016.53 Q191.538 1022.11 188.065 1025.21 Q184.593 1028.29 178.274 1028.29 Q176.098 1028.29 173.829 1027.92 Q171.584 1027.55 169.177 1026.81 L169.177 1022.11 Q171.26 1023.24 173.482 1023.8 Q175.704 1024.35 178.181 1024.35 Q182.186 1024.35 184.524 1022.25 Q186.862 1020.14 186.862 1016.53 Q186.862 1012.92 184.524 1010.81 Q182.186 1008.7 178.181 1008.7 Q176.306 1008.7 174.431 1009.12 Q172.579 1009.54 170.635 1010.42 L170.635 993.055 Z\" fill=\"#000000\" fill-rule=\"evenodd\" fill-opacity=\"1\" /><path clip-path=\"url(#clip700)\" d=\"M 0 0 M126.26 765.836 L138.737 765.836 L138.737 769.633 L126.26 769.633 L126.26 765.836 Z\" fill=\"#000000\" fill-rule=\"evenodd\" fill-opacity=\"1\" /><path clip-path=\"url(#clip700)\" d=\"M 0 0 M144.617 776.785 L152.255 776.785 L152.255 750.42 L143.945 752.086 L143.945 747.827 L152.209 746.16 L156.885 746.16 L156.885 776.785 L164.524 776.785 L164.524 780.72 L144.617 780.72 L144.617 776.785 Z\" fill=\"#000000\" fill-rule=\"evenodd\" fill-opacity=\"1\" /><path clip-path=\"url(#clip700)\" d=\"M 0 0 M179.593 749.239 Q175.982 749.239 174.153 752.804 Q172.348 756.346 172.348 763.475 Q172.348 770.582 174.153 774.146 Q175.982 777.688 179.593 777.688 Q183.227 777.688 185.033 774.146 Q186.862 770.582 186.862 763.475 Q186.862 756.346 185.033 752.804 Q183.227 749.239 179.593 749.239 M179.593 745.535 Q185.403 745.535 188.459 750.142 Q191.538 754.725 191.538 763.475 Q191.538 772.202 188.459 776.808 Q185.403 781.392 179.593 781.392 Q173.783 781.392 170.704 776.808 Q167.649 772.202 167.649 763.475 Q167.649 754.725 170.704 750.142 Q173.783 745.535 179.593 745.535 Z\" fill=\"#000000\" fill-rule=\"evenodd\" fill-opacity=\"1\" /><path clip-path=\"url(#clip700)\" d=\"M 0 0 M153.042 518.941 L165.519 518.941 L165.519 522.738 L153.042 522.738 L153.042 518.941 Z\" fill=\"#000000\" fill-rule=\"evenodd\" fill-opacity=\"1\" /><path clip-path=\"url(#clip700)\" d=\"M 0 0 M170.635 499.266 L188.991 499.266 L188.991 503.201 L174.917 503.201 L174.917 511.673 Q175.936 511.326 176.954 511.164 Q177.973 510.978 178.991 510.978 Q184.778 510.978 188.158 514.15 Q191.538 517.321 191.538 522.738 Q191.538 528.316 188.065 531.418 Q184.593 534.497 178.274 534.497 Q176.098 534.497 173.829 534.127 Q171.584 533.756 169.177 533.015 L169.177 528.316 Q171.26 529.451 173.482 530.006 Q175.704 530.562 178.181 530.562 Q182.186 530.562 184.524 528.455 Q186.862 526.349 186.862 522.738 Q186.862 519.127 184.524 517.02 Q182.186 514.914 178.181 514.914 Q176.306 514.914 174.431 515.33 Q172.579 515.747 170.635 516.627 L170.635 499.266 Z\" fill=\"#000000\" fill-rule=\"evenodd\" fill-opacity=\"1\" /><path clip-path=\"url(#clip700)\" d=\"M 0 0 M179.593 255.449 Q175.982 255.449 174.153 259.014 Q172.348 262.556 172.348 269.685 Q172.348 276.792 174.153 280.357 Q175.982 283.898 179.593 283.898 Q183.227 283.898 185.033 280.357 Q186.862 276.792 186.862 269.685 Q186.862 262.556 185.033 259.014 Q183.227 255.449 179.593 255.449 M179.593 251.746 Q185.403 251.746 188.459 256.352 Q191.538 260.935 191.538 269.685 Q191.538 278.412 188.459 283.019 Q185.403 287.602 179.593 287.602 Q173.783 287.602 170.704 283.019 Q167.649 278.412 167.649 269.685 Q167.649 260.935 170.704 256.352 Q173.783 251.746 179.593 251.746 Z\" fill=\"#000000\" fill-rule=\"evenodd\" fill-opacity=\"1\" /><path clip-path=\"url(#clip700)\" d=\"M 0 0 M1229.91 1510.27 L1229.91 1520.4 L1241.97 1520.4 L1241.97 1524.95 L1229.91 1524.95 L1229.91 1544.3 Q1229.91 1548.66 1231.09 1549.9 Q1232.3 1551.14 1235.96 1551.14 L1241.97 1551.14 L1241.97 1556.04 L1235.96 1556.04 Q1229.18 1556.04 1226.6 1553.53 Q1224.02 1550.98 1224.02 1544.3 L1224.02 1524.95 L1219.73 1524.95 L1219.73 1520.4 L1224.02 1520.4 L1224.02 1510.27 L1229.91 1510.27 Z\" fill=\"#000000\" fill-rule=\"evenodd\" fill-opacity=\"1\" /><path clip-path=\"url(#clip700)\" d=\"M 0 0 M1248.12 1520.4 L1253.97 1520.4 L1253.97 1556.04 L1248.12 1556.04 L1248.12 1520.4 M1248.12 1506.52 L1253.97 1506.52 L1253.97 1513.93 L1248.12 1513.93 L1248.12 1506.52 Z\" fill=\"#000000\" fill-rule=\"evenodd\" fill-opacity=\"1\" /><path clip-path=\"url(#clip700)\" d=\"M 0 0 M1287.87 1527.24 Q1290.07 1523.29 1293.12 1521.41 Q1296.18 1519.54 1300.32 1519.54 Q1305.89 1519.54 1308.91 1523.45 Q1311.93 1527.33 1311.93 1534.53 L1311.93 1556.04 L1306.04 1556.04 L1306.04 1534.72 Q1306.04 1529.59 1304.23 1527.11 Q1302.42 1524.63 1298.69 1524.63 Q1294.14 1524.63 1291.5 1527.65 Q1288.86 1530.68 1288.86 1535.9 L1288.86 1556.04 L1282.97 1556.04 L1282.97 1534.72 Q1282.97 1529.56 1281.15 1527.11 Q1279.34 1524.63 1275.55 1524.63 Q1271.07 1524.63 1268.42 1527.68 Q1265.78 1530.71 1265.78 1535.9 L1265.78 1556.04 L1259.89 1556.04 L1259.89 1520.4 L1265.78 1520.4 L1265.78 1525.93 Q1267.79 1522.66 1270.59 1521.1 Q1273.39 1519.54 1277.24 1519.54 Q1281.12 1519.54 1283.83 1521.51 Q1286.57 1523.48 1287.87 1527.24 Z\" fill=\"#000000\" fill-rule=\"evenodd\" fill-opacity=\"1\" /><path clip-path=\"url(#clip700)\" d=\"M 0 0 M1348.57 1536.76 L1348.57 1539.62 L1321.64 1539.62 Q1322.02 1545.67 1325.27 1548.85 Q1328.55 1552 1334.37 1552 Q1337.75 1552 1340.9 1551.17 Q1344.08 1550.35 1347.2 1548.69 L1347.2 1554.23 Q1344.05 1555.57 1340.74 1556.27 Q1337.43 1556.97 1334.02 1556.97 Q1325.49 1556.97 1320.49 1552 Q1315.53 1547.04 1315.53 1538.57 Q1315.53 1529.82 1320.24 1524.69 Q1324.98 1519.54 1333 1519.54 Q1340.2 1519.54 1344.37 1524.18 Q1348.57 1528.8 1348.57 1536.76 M1342.71 1535.04 Q1342.65 1530.23 1340.01 1527.37 Q1337.4 1524.5 1333.07 1524.5 Q1328.17 1524.5 1325.21 1527.27 Q1322.28 1530.04 1321.83 1535.07 L1342.71 1535.04 Z\" fill=\"#000000\" fill-rule=\"evenodd\" fill-opacity=\"1\" /><path clip-path=\"url(#clip700)\" d=\"M 0 0 M40.4842 1022.78 L40.4842 1016.35 L82.5933 1016.35 L82.5933 993.214 L88.0042 993.214 L88.0042 1022.78 L40.4842 1022.78 Z\" fill=\"#000000\" fill-rule=\"evenodd\" fill-opacity=\"1\" /><path clip-path=\"url(#clip700)\" d=\"M 0 0 M91.3143 978.223 Q97.68 980.705 99.6216 983.061 Q101.563 985.416 101.563 989.363 L101.563 994.042 L96.6615 994.042 L96.6615 990.604 Q96.6615 988.185 95.5157 986.848 Q94.3699 985.512 90.1048 983.888 L87.4312 982.838 L52.3562 997.256 L52.3562 991.05 L80.238 979.91 L52.3562 968.77 L52.3562 962.563 L91.3143 978.223 Z\" fill=\"#000000\" fill-rule=\"evenodd\" fill-opacity=\"1\" /><path clip-path=\"url(#clip700)\" d=\"M 0 0 M70.0847 940.22 Q70.0847 947.317 71.7079 950.055 Q73.3312 952.792 77.2461 952.792 Q80.3653 952.792 82.2114 950.755 Q84.0256 948.686 84.0256 945.153 Q84.0256 940.283 80.5881 937.355 Q77.1188 934.395 71.3897 934.395 L70.0847 934.395 L70.0847 940.22 M67.6657 928.538 L88.0042 928.538 L88.0042 934.395 L82.5933 934.395 Q85.8398 936.4 87.3994 939.392 Q88.9272 942.384 88.9272 946.713 Q88.9272 952.187 85.8716 955.434 Q82.7843 958.648 77.6281 958.648 Q71.6125 958.648 68.5569 954.638 Q65.5014 950.596 65.5014 942.607 L65.5014 934.395 L64.9285 934.395 Q60.8862 934.395 58.6901 937.069 Q56.4621 939.71 56.4621 944.516 Q56.4621 947.572 57.1941 950.468 Q57.9262 953.365 59.3903 956.038 L53.9795 956.038 Q52.7381 952.824 52.1334 949.8 Q51.4968 946.776 51.4968 943.912 Q51.4968 936.177 55.5072 932.358 Q59.5176 928.538 67.6657 928.538 Z\" fill=\"#000000\" fill-rule=\"evenodd\" fill-opacity=\"1\" /><path clip-path=\"url(#clip700)\" d=\"M 0 0 M82.657 916.73 L101.563 916.73 L101.563 922.618 L52.3562 922.618 L52.3562 916.73 L57.7671 916.73 Q54.5842 914.884 53.0564 912.083 Q51.4968 909.25 51.4968 905.335 Q51.4968 898.842 56.6531 894.8 Q61.8093 890.726 70.212 890.726 Q78.6147 890.726 83.771 894.8 Q88.9272 898.842 88.9272 905.335 Q88.9272 909.25 87.3994 912.083 Q85.8398 914.884 82.657 916.73 M70.212 896.805 Q63.7508 896.805 60.0905 899.479 Q56.3984 902.121 56.3984 906.768 Q56.3984 911.415 60.0905 914.088 Q63.7508 916.73 70.212 916.73 Q76.6732 916.73 80.3653 914.088 Q84.0256 911.415 84.0256 906.768 Q84.0256 902.121 80.3653 899.479 Q76.6732 896.805 70.212 896.805 Z\" fill=\"#000000\" fill-rule=\"evenodd\" fill-opacity=\"1\" /><path clip-path=\"url(#clip700)\" d=\"M 0 0 M73.9359 885.188 L52.3562 885.188 L52.3562 879.332 L73.7131 879.332 Q78.7739 879.332 81.3202 877.358 Q83.8346 875.385 83.8346 871.438 Q83.8346 866.696 80.8109 863.958 Q77.7872 861.189 72.5673 861.189 L52.3562 861.189 L52.3562 855.333 L88.0042 855.333 L88.0042 861.189 L82.5296 861.189 Q85.7762 863.322 87.3676 866.155 Q88.9272 868.955 88.9272 872.679 Q88.9272 878.822 85.1078 882.005 Q81.2883 885.188 73.9359 885.188 M51.4968 870.451 L51.4968 870.451 Z\" fill=\"#000000\" fill-rule=\"evenodd\" fill-opacity=\"1\" /><path clip-path=\"url(#clip700)\" d=\"M 0 0 M66.4881 819.558 L88.0042 819.558 L88.0042 825.414 L66.679 825.414 Q61.6183 825.414 59.1038 827.387 Q56.5894 829.361 56.5894 833.308 Q56.5894 838.05 59.6131 840.787 Q62.6368 843.524 67.8567 843.524 L88.0042 843.524 L88.0042 849.413 L52.3562 849.413 L52.3562 843.524 L57.8944 843.524 Q54.6797 841.424 53.0883 838.591 Q51.4968 835.726 51.4968 832.003 Q51.4968 825.86 55.3163 822.709 Q59.1038 819.558 66.4881 819.558 Z\" fill=\"#000000\" fill-rule=\"evenodd\" fill-opacity=\"1\" /><path clip-path=\"url(#clip700)\" d=\"M 0 0 M56.4621 799.601 Q56.4621 804.312 60.1542 807.049 Q63.8145 809.786 70.212 809.786 Q76.6095 809.786 80.3017 807.081 Q83.9619 804.344 83.9619 799.601 Q83.9619 794.922 80.2698 792.185 Q76.5777 789.448 70.212 789.448 Q63.8781 789.448 60.186 792.185 Q56.4621 794.922 56.4621 799.601 M51.4968 799.601 Q51.4968 791.962 56.4621 787.602 Q61.4273 783.241 70.212 783.241 Q78.9649 783.241 83.9619 787.602 Q88.9272 791.962 88.9272 799.601 Q88.9272 807.272 83.9619 811.632 Q78.9649 815.961 70.212 815.961 Q61.4273 815.961 56.4621 811.632 Q51.4968 807.272 51.4968 799.601 Z\" fill=\"#000000\" fill-rule=\"evenodd\" fill-opacity=\"1\" /><path clip-path=\"url(#clip700)\" d=\"M 0 0 M52.3562 781.3 L52.3562 775.093 L82.275 763.953 L52.3562 752.813 L52.3562 746.607 L88.0042 759.975 L88.0042 767.932 L52.3562 781.3 Z\" fill=\"#000000\" fill-rule=\"evenodd\" fill-opacity=\"1\" /><path clip-path=\"url(#clip700)\" d=\"M 0 0 M68.7161 689.252 L71.5806 689.252 L71.5806 716.179 Q77.6281 715.797 80.8109 712.55 Q83.9619 709.272 83.9619 703.447 Q83.9619 700.073 83.1344 696.922 Q82.3069 693.739 80.6518 690.62 L86.1899 690.62 Q87.5267 693.771 88.227 697.081 Q88.9272 700.392 88.9272 703.797 Q88.9272 712.327 83.9619 717.324 Q78.9967 722.29 70.5303 722.29 Q61.7774 722.29 56.6531 717.579 Q51.4968 712.837 51.4968 704.816 Q51.4968 697.622 56.1438 693.453 Q60.7589 689.252 68.7161 689.252 M66.9973 695.108 Q62.1912 695.172 59.3266 697.813 Q56.4621 700.423 56.4621 704.752 Q56.4621 709.654 59.2312 712.614 Q62.0002 715.542 67.0292 715.988 L66.9973 695.108 Z\" fill=\"#000000\" fill-rule=\"evenodd\" fill-opacity=\"1\" /><path clip-path=\"url(#clip700)\" d=\"M 0 0 M52.3562 654.622 L69.7028 667.513 L88.0042 653.954 L88.0042 660.861 L73.9996 671.237 L88.0042 681.613 L88.0042 688.52 L69.3526 674.674 L52.3562 687.342 L52.3562 680.435 L65.0558 670.982 L52.3562 661.529 L52.3562 654.622 Z\" fill=\"#000000\" fill-rule=\"evenodd\" fill-opacity=\"1\" /><path clip-path=\"url(#clip700)\" d=\"M 0 0 M82.657 642.145 L101.563 642.145 L101.563 648.034 L52.3562 648.034 L52.3562 642.145 L57.7671 642.145 Q54.5842 640.299 53.0564 637.498 Q51.4968 634.666 51.4968 630.751 Q51.4968 624.258 56.6531 620.215 Q61.8093 616.141 70.212 616.141 Q78.6147 616.141 83.771 620.215 Q88.9272 624.258 88.9272 630.751 Q88.9272 634.666 87.3994 637.498 Q85.8398 640.299 82.657 642.145 M70.212 622.221 Q63.7508 622.221 60.0905 624.894 Q56.3984 627.536 56.3984 632.183 Q56.3984 636.83 60.0905 639.504 Q63.7508 642.145 70.212 642.145 Q76.6732 642.145 80.3653 639.504 Q84.0256 636.83 84.0256 632.183 Q84.0256 627.536 80.3653 624.894 Q76.6732 622.221 70.212 622.221 Z\" fill=\"#000000\" fill-rule=\"evenodd\" fill-opacity=\"1\" /><path clip-path=\"url(#clip700)\" d=\"M 0 0 M56.4621 596.185 Q56.4621 600.896 60.1542 603.633 Q63.8145 606.37 70.212 606.37 Q76.6095 606.37 80.3017 603.665 Q83.9619 600.927 83.9619 596.185 Q83.9619 591.506 80.2698 588.769 Q76.5777 586.032 70.212 586.032 Q63.8781 586.032 60.186 588.769 Q56.4621 591.506 56.4621 596.185 M51.4968 596.185 Q51.4968 588.546 56.4621 584.186 Q61.4273 579.825 70.212 579.825 Q78.9649 579.825 83.9619 584.186 Q88.9272 588.546 88.9272 596.185 Q88.9272 603.856 83.9619 608.216 Q78.9649 612.545 70.212 612.545 Q61.4273 612.545 56.4621 608.216 Q51.4968 603.856 51.4968 596.185 Z\" fill=\"#000000\" fill-rule=\"evenodd\" fill-opacity=\"1\" /><path clip-path=\"url(#clip700)\" d=\"M 0 0 M66.4881 544.05 L88.0042 544.05 L88.0042 549.906 L66.679 549.906 Q61.6183 549.906 59.1038 551.88 Q56.5894 553.853 56.5894 557.8 Q56.5894 562.542 59.6131 565.279 Q62.6368 568.017 67.8567 568.017 L88.0042 568.017 L88.0042 573.905 L52.3562 573.905 L52.3562 568.017 L57.8944 568.017 Q54.6797 565.916 53.0883 563.083 Q51.4968 560.219 51.4968 556.495 Q51.4968 550.352 55.3163 547.201 Q59.1038 544.05 66.4881 544.05 Z\" fill=\"#000000\" fill-rule=\"evenodd\" fill-opacity=\"1\" /><path clip-path=\"url(#clip700)\" d=\"M 0 0 M68.7161 507.415 L71.5806 507.415 L71.5806 534.342 Q77.6281 533.96 80.8109 530.714 Q83.9619 527.435 83.9619 521.611 Q83.9619 518.237 83.1344 515.086 Q82.3069 511.903 80.6518 508.784 L86.1899 508.784 Q87.5267 511.935 88.227 515.245 Q88.9272 518.555 88.9272 521.961 Q88.9272 530.491 83.9619 535.488 Q78.9967 540.453 70.5303 540.453 Q61.7774 540.453 56.6531 535.743 Q51.4968 531 51.4968 522.979 Q51.4968 515.786 56.1438 511.617 Q60.7589 507.415 68.7161 507.415 M66.9973 513.272 Q62.1912 513.335 59.3266 515.977 Q56.4621 518.587 56.4621 522.916 Q56.4621 527.817 59.2312 530.777 Q62.0002 533.706 67.0292 534.151 L66.9973 513.272 Z\" fill=\"#000000\" fill-rule=\"evenodd\" fill-opacity=\"1\" /><path clip-path=\"url(#clip700)\" d=\"M 0 0 M66.4881 471.64 L88.0042 471.64 L88.0042 477.496 L66.679 477.496 Q61.6183 477.496 59.1038 479.47 Q56.5894 481.443 56.5894 485.39 Q56.5894 490.132 59.6131 492.87 Q62.6368 495.607 67.8567 495.607 L88.0042 495.607 L88.0042 501.495 L52.3562 501.495 L52.3562 495.607 L57.8944 495.607 Q54.6797 493.506 53.0883 490.673 Q51.4968 487.809 51.4968 484.085 Q51.4968 477.942 55.3163 474.791 Q59.1038 471.64 66.4881 471.64 Z\" fill=\"#000000\" fill-rule=\"evenodd\" fill-opacity=\"1\" /><path clip-path=\"url(#clip700)\" d=\"M 0 0 M42.2347 459.704 L52.3562 459.704 L52.3562 447.641 L56.9077 447.641 L56.9077 459.704 L76.2594 459.704 Q80.6199 459.704 81.8613 458.527 Q83.1026 457.317 83.1026 453.657 L83.1026 447.641 L88.0042 447.641 L88.0042 453.657 Q88.0042 460.436 85.4897 463.014 Q82.9434 465.592 76.2594 465.592 L56.9077 465.592 L56.9077 469.889 L52.3562 469.889 L52.3562 465.592 L42.2347 465.592 L42.2347 459.704 Z\" fill=\"#000000\" fill-rule=\"evenodd\" fill-opacity=\"1\" /><polyline clip-path=\"url(#clip702)\" style=\"stroke:#009af9; stroke-width:4; stroke-opacity:1; fill:none\" points=\"\n",
       "  276.025,269.651 278.043,358.308 280.061,316.09 282.08,303.554 284.098,295.065 286.116,297.838 288.134,308.925 290.153,323.538 292.171,337.301 294.189,346.991 \n",
       "  296.208,350.869 298.226,348.713 300.244,341.481 302.262,335.998 304.281,325.732 306.299,313.811 308.317,300.975 310.335,287.874 312.354,274.861 314.372,262.099 \n",
       "  316.39,249.661 318.408,237.592 320.427,225.932 322.445,227.825 324.463,217.013 326.481,206.676 328.5,195.777 330.518,186.678 332.536,178.331 334.554,170.846 \n",
       "  336.573,164.345 338.591,158.96 340.609,154.838 342.628,158.307 344.646,155.579 346.664,154.373 348.682,154.81 350.701,156.949 352.719,160.721 354.737,165.853 \n",
       "  356.755,171.792 358.774,177.718 360.792,182.755 362.81,186.393 364.828,188.281 366.847,190.603 368.865,192.476 370.883,194.749 372.901,197.991 374.92,202.363 \n",
       "  376.938,207.685 378.956,213.994 380.975,219.876 382.993,225.217 385.011,226.039 387.029,230.305 389.048,233.322 391.066,234.958 393.084,235.223 395.102,234.217 \n",
       "  397.121,232.079 399.139,228.958 401.157,224.997 403.175,220.328 405.194,215.08 407.212,215.918 409.23,210.285 411.248,204.311 413.267,198.102 415.285,191.756 \n",
       "  417.303,185.36 419.321,178.998 421.34,172.75 423.358,166.694 425.376,160.913 427.395,155.498 429.413,156.998 431.431,152.093 433.449,147.758 435.468,144.119 \n",
       "  437.486,141.309 439.504,139.465 441.522,138.7 443.541,139.076 445.559,140.553 447.577,142.939 449.595,145.886 451.614,147.307 453.632,150.344 455.65,153.232 \n",
       "  457.668,155.957 459.687,158.756 461.705,161.917 463.723,165.619 465.742,169.876 467.76,174.567 469.778,179.488 471.796,184.397 473.815,185.266 475.833,189.868 \n",
       "  477.851,194.021 479.869,197.878 481.888,200.863 483.906,203.025 485.924,204.381 487.942,205.002 489.961,205.569 491.979,205.384 493.997,204.454 496.015,202.79 \n",
       "  498.034,200.412 500.052,201.035 502.07,198.011 504.088,194.389 506.107,190.249 508.125,185.678 510.143,180.76 512.162,181.518 514.18,176.363 516.198,170.999 \n",
       "  518.216,165.477 520.235,159.838 522.253,154.114 524.271,155.052 526.289,149.311 528.308,143.537 530.326,137.751 532.344,131.976 534.362,126.235 536.381,127.345 \n",
       "  538.399,121.701 540.417,116.152 542.435,110.743 544.454,105.533 546.472,100.602 548.49,101.853 550.509,97.3302 552.527,93.3249 554.545,90.0054 556.563,87.5639 \n",
       "  558.582,86.1857 560.6,87.485 562.618,87.2807 564.636,88.2229 566.655,90.1066 568.673,92.6536 570.691,95.7176 572.709,96.8992 574.728,100.504 576.746,104.791 \n",
       "  578.764,109.773 580.782,115.344 582.801,121.323 584.819,122.291 586.837,128.424 588.856,134.543 590.874,140.449 592.892,145.967 594.91,150.972 596.929,151.718 \n",
       "  598.947,156.127 600.965,160.003 602.983,163.425 605.002,166.491 607.02,169.278 609.038,169.885 611.056,172.403 613.075,174.625 615.093,176.419 617.111,177.582 \n",
       "  619.129,177.913 621.148,178.449 623.166,177.866 625.184,176.5 627.202,174.648 629.221,172.667 631.239,170.867 633.257,171.424 635.276,170.039 637.294,169.203 \n",
       "  639.312,168.978 641.33,169.348 643.349,170.212 645.367,170.755 647.385,171.92 649.403,173.163 651.422,174.269 653.44,175.128 655.458,175.76 657.476,176.256 \n",
       "  659.495,176.765 661.513,177.278 663.531,177.877 665.549,178.597 667.568,179.435 669.586,179.897 671.604,180.823 673.623,181.814 675.641,182.844 677.659,183.894 \n",
       "  679.677,184.955 681.696,185.376 683.714,186.439 685.732,187.52 687.75,188.63 689.769,189.783 691.787,190.993 693.805,191.373 695.823,192.639 697.842,193.962 \n",
       "  699.86,195.306 701.878,196.587 703.896,197.652 705.915,197.99 707.933,198.619 709.951,198.604 711.969,197.861 713.988,196.535 716.006,194.944 718.024,195.284 \n",
       "  720.043,193.78 722.061,192.627 724.079,191.982 726.097,191.886 728.116,192.281 730.134,192.624 732.152,193.355 734.17,194.227 736.189,195.059 738.207,195.744 \n",
       "  740.225,196.274 742.243,196.592 744.262,197.019 746.28,197.411 748.298,197.804 750.316,198.205 752.335,198.596 754.353,198.895 756.371,199.242 758.39,199.515 \n",
       "  760.408,199.687 762.426,199.737 764.444,199.653 766.463,199.941 768.481,199.72 770.499,199.366 772.517,198.886 774.536,198.292 776.554,197.6 778.572,197.889 \n",
       "  780.59,197.121 782.609,196.298 784.627,195.447 786.645,194.602 788.663,193.8 790.682,194.097 792.7,193.385 794.718,192.811 796.736,192.43 798.755,192.296 \n",
       "  800.773,192.455 802.791,192.75 804.81,193.216 806.828,193.953 808.846,194.848 810.864,195.719 812.883,196.409 814.901,196.683 816.919,197.177 818.937,197.626 \n",
       "  820.956,198.221 822.974,199.077 824.992,200.194 827.01,200.448 829.029,201.726 831.047,203.024 833.065,204.188 835.083,205.094 837.102,205.676 839.12,205.905 \n",
       "  841.138,206.151 843.157,206.089 845.175,205.757 847.193,205.188 849.211,204.405 851.23,204.634 853.248,203.656 855.266,202.492 857.284,201.158 859.303,199.667 \n",
       "  861.321,198.035 863.339,198.281 865.357,196.53 867.376,194.672 869.394,192.723 871.412,190.696 873.43,188.605 875.449,188.877 877.467,186.741 879.485,184.567 \n",
       "  881.503,182.368 883.522,180.16 885.54,177.96 887.558,178.262 889.577,176.098 891.595,173.99 893.613,171.974 895.631,170.092 897.65,168.399 899.668,168.726 \n",
       "  901.686,167.291 903.704,166.184 905.723,165.475 907.741,165.217 909.759,165.412 911.777,165.742 913.796,166.314 915.814,167.136 917.832,168.098 919.85,169.183 \n",
       "  921.869,170.457 923.887,170.766 925.905,172.292 927.924,174.084 929.942,176.099 931.96,178.252 933.978,180.443 935.997,180.716 938.015,182.834 940.033,184.796 \n",
       "  942.051,186.537 944.07,188.029 946.088,189.281 948.106,189.523 950.124,190.567 952.143,191.453 954.161,192.224 956.179,192.914 958.197,193.551 960.216,193.775 \n",
       "  962.234,194.379 964.252,194.968 966.27,195.56 968.289,196.169 970.307,196.814 972.325,197.025 974.344,197.716 976.362,198.465 978.38,199.263 980.398,200.067 \n",
       "  982.417,200.775 984.435,200.971 986.453,201.418 988.471,201.44 990.49,200.993 992.508,200.236 994.526,199.44 996.544,199.637 998.563,199.046 1000.58,198.788 \n",
       "  1002.6,198.875 1004.62,199.225 1006.64,199.711 1008.65,199.903 1010.67,200.398 1012.69,200.828 1014.71,201.174 1016.73,201.45 1018.75,201.675 1020.76,201.859 \n",
       "  1022.78,202.034 1024.8,202.148 1026.82,202.18 1028.84,202.104 1030.85,201.897 1032.87,202.077 1034.89,201.724 1036.91,201.217 1038.93,200.558 1040.95,199.752 \n",
       "  1042.96,198.811 1044.98,198.996 1047,197.935 1049.02,196.763 1051.04,195.495 1053.06,194.141 1055.07,192.714 1057.09,192.912 1059.11,191.424 1061.13,189.881 \n",
       "  1063.15,188.295 1065.17,186.673 1067.18,185.028 1069.2,185.243 1071.22,183.59 1073.24,181.94 1075.26,180.311 1077.27,178.725 1079.29,177.21 1081.31,177.442 \n",
       "  1083.33,176.038 1085.35,174.902 1087.37,173.935 1089.38,173.181 1091.4,172.683 1093.42,172.475 1095.44,172.561 1097.46,172.911 1099.48,173.452 1101.49,174.108 \n",
       "  1103.51,174.341 1105.53,175.071 1107.55,175.899 1109.57,176.871 1111.59,178.021 1113.6,179.345 1115.62,180.81 1117.64,182.362 1119.66,183.937 1121.68,185.471 \n",
       "  1123.69,186.902 1125.71,187.098 1127.73,188.378 1129.75,189.487 1131.77,190.424 1133.79,191.205 1135.8,191.858 1137.82,192.411 1139.84,192.891 1141.86,193.316 \n",
       "  1143.88,193.704 1145.9,194.066 1147.91,194.24 1149.93,194.585 1151.95,194.923 1153.97,195.265 1155.99,195.622 1158.01,196.005 1160.02,196.427 1162.04,196.899 \n",
       "  1164.06,197.425 1166.08,197.996 1168.1,198.578 1170.11,198.738 1172.13,199.257 1174.15,199.611 1176.17,199.703 1178.19,199.511 1180.21,199.129 1182.22,198.717 \n",
       "  1184.24,198.421 1186.26,198.324 1188.28,198.441 1190.3,198.728 1192.32,198.884 1194.33,199.264 1196.35,199.658 1198.37,200.004 1200.39,200.274 1202.41,200.467 \n",
       "  1204.43,200.594 1206.44,200.665 1208.46,200.684 1210.48,200.649 1212.5,200.549 1214.52,200.697 1216.53,200.523 1218.55,200.265 1220.57,199.916 1222.59,199.474 \n",
       "  1224.61,198.939 1226.63,198.316 1228.64,197.609 1230.66,196.826 1232.68,195.973 1234.7,195.057 1236.72,195.214 1238.74,194.244 1240.75,193.226 1242.77,192.164 \n",
       "  1244.79,191.065 1246.81,189.936 1248.83,188.782 1250.85,187.611 1252.86,186.43 1254.88,185.249 1256.9,184.079 1258.92,184.254 1260.94,183.109 1262.95,182.004 \n",
       "  1264.97,180.959 1266.99,180 1269.01,179.155 1271.03,178.458 1273.05,177.946 1275.06,177.65 1277.08,177.588 1279.1,177.754 1281.12,177.938 1283.14,178.272 \n",
       "  1285.16,178.746 1287.17,179.286 1289.19,179.879 1291.21,180.554 1293.23,181.353 1295.25,182.295 1297.27,183.37 1299.28,184.546 1301.3,184.713 1303.32,185.941 \n",
       "  1305.34,187.169 1307.36,188.345 1309.38,189.424 1311.39,190.373 1313.41,191.182 1315.43,191.853 1317.45,192.403 1319.47,192.853 1321.48,193.223 1323.5,193.371 \n",
       "  1325.52,193.676 1327.54,193.93 1329.56,194.14 1331.58,194.312 1333.59,194.452 1335.61,194.563 1337.63,194.651 1339.65,194.724 1341.67,194.791 1343.69,194.864 \n",
       "  1345.7,195.005 1347.72,195.099 1349.74,195.23 1351.76,195.415 1353.78,195.671 1355.8,196.006 1357.81,196.415 1359.83,196.866 1361.85,197.294 1363.87,197.614 \n",
       "  1365.89,197.766 1367.9,197.899 1369.92,197.903 1371.94,197.856 1373.96,197.868 1375.98,198.009 1378,198.289 1380.01,198.668 1382.03,199.081 1384.05,199.464 \n",
       "  1386.07,199.765 1388.09,199.965 1390.11,200.091 1392.12,200.188 1394.14,200.195 1396.16,200.124 1398.18,199.983 1400.2,199.776 1402.22,199.502 1404.23,199.157 \n",
       "  1406.25,198.742 1408.27,198.254 1410.29,197.695 1412.31,197.823 1414.32,197.198 1416.34,196.509 1418.36,195.761 1420.38,194.958 1422.4,194.106 1424.42,193.209 \n",
       "  1426.43,192.271 1428.45,191.296 1430.47,190.287 1432.49,189.247 1434.51,189.387 1436.53,188.321 1438.54,187.23 1440.56,186.117 1442.58,184.985 1444.6,183.838 \n",
       "  1446.62,182.678 1448.64,181.509 1450.65,180.337 1452.67,179.168 1454.69,178.009 1456.71,178.165 1458.73,177.028 1460.74,175.923 1462.76,174.868 1464.78,173.883 \n",
       "  1466.8,172.995 1468.82,172.237 1470.84,171.643 1472.85,171.249 1474.87,171.079 1476.89,171.135 1478.91,171.3 1480.93,171.553 1482.95,171.952 1484.96,172.457 \n",
       "  1486.98,173.059 1489,173.781 1491.02,174.646 1493.04,175.657 1495.06,176.795 1497.07,178.025 1499.09,179.308 1501.11,179.457 1503.13,180.747 1505.15,182.005 \n",
       "  1507.16,183.192 1509.18,184.279 1511.2,185.25 1513.22,186.107 1515.24,186.863 1517.26,187.538 1519.27,188.156 1521.29,188.737 1523.31,188.867 1525.33,189.423 \n",
       "  1527.35,189.958 1529.37,190.467 1531.38,190.928 1533.4,191.301 1535.42,191.537 1537.44,191.582 1539.46,191.414 1541.48,191.052 1543.49,190.56 1545.51,190.685 \n",
       "  1547.53,190.145 1549.55,189.633 1551.57,189.212 1553.58,188.922 1555.6,188.784 1557.62,188.802 1559.64,188.957 1561.66,189.212 1563.68,189.518 1565.69,189.821 \n",
       "  1567.71,189.945 1569.73,190.208 1571.75,190.42 1573.77,190.595 1575.79,190.756 1577.8,190.925 1579.82,191.115 1581.84,191.327 1583.86,191.56 1585.88,191.805 \n",
       "  1587.9,192.053 1589.91,192.172 1591.93,192.416 1593.95,192.648 1595.97,192.865 1597.99,193.064 1600,193.246 1602.02,193.41 1604.04,193.561 1606.06,193.701 \n",
       "  1608.08,193.835 1610.1,193.967 1612.11,194.082 1614.13,194.219 1616.15,194.369 1618.17,194.54 1620.19,194.74 1622.21,194.978 1624.22,195.26 1626.24,195.588 \n",
       "  1628.26,195.95 1630.28,196.318 1632.3,196.637 1634.32,196.746 1636.33,196.949 1638.35,196.987 1640.37,196.871 1642.39,196.674 1644.41,196.492 1646.42,196.403 \n",
       "  1648.44,196.443 1650.46,196.606 1652.48,196.858 1654.5,197.147 1656.52,197.253 1658.53,197.529 1660.55,197.754 1662.57,197.913 1664.59,198.005 1666.61,198.04 \n",
       "  1668.63,198.027 1670.64,197.973 1672.66,197.877 1674.68,197.737 1676.7,197.549 1678.72,197.653 1680.74,197.415 1682.75,197.125 1684.77,196.782 1686.79,196.388 \n",
       "  1688.81,195.945 1690.83,195.457 1692.84,194.929 1694.86,194.364 1696.88,193.769 1698.9,193.147 1700.92,193.255 1702.94,192.613 1704.95,191.955 1706.97,191.287 \n",
       "  1708.99,190.617 1711.01,189.953 1713.03,189.305 1715.05,188.684 1717.06,188.103 1719.08,187.58 1721.1,187.133 1723.12,187.248 1725.14,186.898 1727.16,186.665 \n",
       "  1729.17,186.565 1731.19,186.607 1733.21,186.778 1735.23,187.047 1737.25,187.367 1739.26,187.698 1741.28,188.033 1743.3,188.395 1745.32,188.507 1747.34,188.931 \n",
       "  1749.36,189.44 1751.37,190.036 1753.39,190.699 1755.41,191.399 1757.43,192.1 1759.45,192.765 1761.47,193.363 1763.48,193.871 1765.5,194.28 1767.52,194.382 \n",
       "  1769.54,194.691 1771.56,194.907 1773.58,195.038 1775.59,195.091 1777.61,195.069 1779.63,194.973 1781.65,194.805 1783.67,194.564 1785.68,194.251 1787.7,193.87 \n",
       "  1789.72,193.971 1791.74,193.525 1793.76,193.02 1795.78,192.463 1797.79,191.86 1799.81,191.218 1801.83,190.545 1803.85,189.847 1805.87,189.131 1807.89,188.406 \n",
       "  1809.9,187.678 1811.92,187.786 1813.94,187.067 1815.96,186.366 1817.98,185.698 1820,185.077 1822.01,184.523 1824.03,184.058 1826.05,183.707 1828.07,183.491 \n",
       "  1830.09,183.425 1832.1,183.508 1834.12,183.619 1836.14,183.828 1838.16,184.124 1840.18,184.468 1842.2,184.85 1844.21,185.287 1846.23,185.807 1848.25,186.422 \n",
       "  1850.27,187.128 1852.29,187.901 1854.31,188.708 1856.32,188.812 1858.34,189.615 1860.36,190.379 1862.38,191.071 1864.4,191.668 1866.42,192.165 1868.43,192.564 \n",
       "  1870.45,192.88 1872.47,193.128 1874.49,193.324 1876.51,193.478 1878.52,193.574 1880.54,193.695 1882.56,193.789 1884.58,193.861 1886.6,193.915 1888.62,193.954 \n",
       "  1890.63,193.984 1892.65,194.003 1894.67,194.028 1896.69,194.122 1898.71,194.164 1900.73,194.236 1902.74,194.353 1904.76,194.527 1906.78,194.766 1908.8,194.859 \n",
       "  1910.82,195.154 1912.84,195.471 1914.85,195.75 1916.87,195.921 1918.89,195.965 1920.91,196.055 1922.93,196.023 1924.94,196.01 1926.96,196.085 1928.98,196.27 \n",
       "  1931,196.541 1933.02,196.63 1935.04,196.934 1937.05,197.214 1939.07,197.428 1941.09,197.557 1943.11,197.603 1945.13,197.69 1947.15,197.663 1949.16,197.575 \n",
       "  1951.18,197.43 1953.2,197.232 1955.22,196.979 1957.24,197.066 1959.26,196.757 1961.27,196.392 1963.29,195.972 1965.31,195.5 1967.33,194.979 1969.35,195.068 \n",
       "  1971.36,194.502 1973.38,193.897 1975.4,193.255 1977.42,192.581 1979.44,191.879 1981.46,191.971 1983.47,191.245 1985.49,190.499 1987.51,189.736 1989.53,188.961 \n",
       "  1991.55,188.178 1993.57,188.274 1995.58,187.492 1997.6,186.717 1999.62,185.959 2001.64,185.231 2003.66,184.548 2005.68,184.648 2007.69,184.032 2009.71,183.506 \n",
       "  2011.73,183.097 2013.75,182.833 2015.77,182.732 2017.78,182.832 2019.8,182.894 2021.82,183.093 2023.84,183.38 2025.86,183.719 2027.88,184.106 2029.89,184.204 \n",
       "  2031.91,184.665 2033.93,185.225 2035.95,185.885 2037.97,186.629 2039.99,187.423 2042,187.517 2044.02,188.323 2046.04,189.102 2048.06,189.82 2050.08,190.452 \n",
       "  2052.1,190.99 2054.11,191.079 2056.13,191.526 2058.15,191.898 2060.17,192.211 2062.19,192.481 2064.2,192.723 2066.22,192.809 2068.24,193.031 2070.26,193.24 \n",
       "  2072.28,193.445 2074.3,193.65 2076.31,193.862 2078.33,193.947 2080.35,194.174 2082.37,194.421 2084.39,194.695 2086.41,194.995 2088.42,195.309 2090.44,195.392 \n",
       "  2092.46,195.688 2094.48,195.908 2096.5,195.984 2098.52,195.881 2100.53,195.641 2102.55,195.723 2104.57,195.448 2106.59,195.237 2108.61,195.147 2110.63,195.189 \n",
       "  2112.64,195.335 2114.66,195.417 2116.68,195.617 2118.7,195.821 2120.72,195.995 2122.73,196.131 2124.75,196.232 2126.77,196.312 2128.79,196.385 2130.81,196.434 \n",
       "  2132.83,196.455 2134.84,196.441 2136.86,196.383 2138.88,196.462 2140.9,196.353 2142.92,196.186 2144.94,195.96 2146.95,195.674 2148.97,195.331 2150.99,195.411 \n",
       "  2153.01,195.015 2155.03,194.57 2157.05,194.083 2159.06,193.556 2161.08,192.994 2163.1,193.076 2165.12,192.485 2167.14,191.868 2169.15,191.229 2171.17,190.571 \n",
       "  2173.19,189.9 2175.21,189.985 2177.23,189.306 2179.25,188.624 2181.26,187.946 2183.28,187.281 2185.3,186.64 2187.32,186.728 2189.34,186.126 2191.36,185.581 \n",
       "  2193.37,185.112 2195.39,184.746 2197.41,184.505 2199.43,184.594 2201.45,184.497 2203.47,184.545 2205.48,184.716 2207.5,184.969 2209.52,185.266 2211.54,185.354 \n",
       "  2213.56,185.689 2215.57,186.084 2217.59,186.564 2219.61,187.135 2221.63,187.783 2223.65,187.868 2225.67,188.564 2227.68,189.273 2229.7,189.96 2231.72,190.59 \n",
       "  2233.74,191.141 2235.76,191.222 2237.78,191.684 2239.79,192.062 2241.81,192.367 2243.83,192.615 2245.85,192.818 2247.87,192.897 2249.89,193.067 2251.9,193.212 \n",
       "  2253.92,193.336 2255.94,193.444 2257.96,193.548 2259.98,193.625 2261.99,193.714 2264.01,193.802 2266.03,193.895 2268.05,194.003 2270.07,194.135 2272.09,194.212 \n",
       "  2274.1,194.378 2276.12,194.586 2278.14,194.834 2280.16,195.102 2282.18,195.348 2284.2,195.423 2286.21,195.585 2288.23,195.621 2290.25,195.55 2292.27,195.45 \n",
       "  \n",
       "  \"/>\n",
       "<polyline clip-path=\"url(#clip702)\" style=\"stroke:#e26f46; stroke-width:4; stroke-opacity:1; fill:none\" points=\"\n",
       "  276.025,269.651 278.043,975.612 280.061,639.44 282.08,794.781 284.098,876.169 286.116,917.422 288.134,934.072 290.153,935.864 292.171,929.781 294.189,920.888 \n",
       "  296.208,912.407 298.226,905.696 300.244,900.555 302.262,852.394 304.281,855.082 306.299,852.455 308.317,847.675 310.335,840.371 312.354,830.605 314.372,818.745 \n",
       "  316.39,805.309 318.408,790.83 320.427,775.766 322.445,753.856 324.463,740.097 326.481,726.203 328.5,712.588 330.518,698.662 332.536,684.806 334.554,670.98 \n",
       "  336.573,657.112 338.591,643.113 340.609,628.882 342.628,618.029 344.646,604.206 346.664,589.927 348.682,575.141 350.701,559.874 352.719,544.287 354.737,528.748 \n",
       "  356.755,513.903 358.774,500.65 360.792,489.913 362.81,482.209 364.828,477.389 366.847,472.704 368.865,469.897 370.883,467.943 372.901,466.044 374.92,463.767 \n",
       "  376.938,461.008 378.956,457.927 380.975,454.689 382.993,451.663 385.011,448.299 387.029,445.848 389.048,444.006 391.066,442.804 393.084,442.178 395.102,442.008 \n",
       "  397.121,442.169 399.139,442.551 401.157,443.076 403.175,443.682 405.194,444.324 407.212,441.641 409.23,442.311 411.248,442.939 413.267,443.491 415.285,443.935 \n",
       "  417.303,444.24 419.321,444.376 421.34,444.313 423.358,444.019 425.376,443.459 427.395,442.59 429.413,440.318 431.431,439.138 433.449,437.551 435.468,435.495 \n",
       "  437.486,432.912 439.504,429.75 441.522,425.993 443.541,421.685 445.559,416.98 447.577,412.178 449.595,407.721 451.614,406.136 453.632,402.565 455.65,400.12 \n",
       "  457.668,398.774 459.687,398.194 461.705,397.94 463.723,397.646 465.742,397.091 467.76,396.193 469.778,394.969 471.796,393.499 473.815,392.236 475.833,390.656 \n",
       "  477.851,389.035 479.869,387.29 481.888,385.729 483.906,384.23 485.924,382.784 487.942,381.709 489.961,380.35 491.979,379.097 493.997,378.017 496.015,377.179 \n",
       "  498.034,376.635 500.052,375.673 502.07,375.455 504.088,375.54 506.107,375.894 508.125,376.469 510.143,377.214 512.162,376.296 514.18,377.162 516.198,378.109 \n",
       "  518.216,379.103 520.235,380.121 522.253,381.144 524.271,380.239 526.289,381.251 528.308,382.244 530.326,383.208 532.344,384.133 534.362,385.009 536.381,384.116 \n",
       "  538.399,384.929 540.417,385.662 542.435,386.291 544.454,386.782 546.472,387.091 548.49,386.222 550.509,386.295 552.527,386.056 554.545,385.42 556.563,384.309 \n",
       "  558.582,382.683 560.6,381.882 562.618,379.821 564.636,377.528 566.655,375.391 568.673,373.819 570.691,372.989 572.709,372.287 574.728,372.054 576.746,372.09 \n",
       "  578.764,372.104 580.782,371.907 582.801,371.415 584.819,370.751 586.837,369.974 588.856,368.974 590.874,367.859 592.892,366.728 594.91,365.629 596.929,365.026 \n",
       "  598.947,363.933 600.965,362.72 602.983,361.243 605.002,359.388 607.02,357.121 609.038,356.592 611.056,354 613.075,351.228 615.093,348.528 617.111,346.207 \n",
       "  619.129,344.552 621.148,344.114 623.166,343.286 625.184,343.206 627.202,343.626 629.221,344.24 631.239,344.782 633.257,344.358 635.276,344.642 637.294,344.571 \n",
       "  639.312,344.118 641.33,343.331 643.349,342.331 645.367,341.934 647.385,340.918 649.403,340.102 651.422,339.672 653.44,339.7 655.458,340.111 657.476,339.738 \n",
       "  659.495,340.359 661.513,341.006 663.531,341.535 665.549,341.852 667.568,341.912 669.586,341.542 671.604,341.331 673.623,340.849 675.641,340.104 677.659,339.107 \n",
       "  679.677,337.869 681.696,337.53 683.714,336.069 685.732,334.385 687.75,332.483 689.769,330.371 691.787,328.058 693.805,327.776 695.823,325.289 697.842,322.647 \n",
       "  699.86,319.909 701.878,317.183 703.896,314.647 705.915,314.436 707.933,312.346 709.951,310.933 711.969,310.314 713.988,310.382 716.006,310.858 718.024,310.67 \n",
       "  720.043,311.246 722.061,311.694 724.079,311.896 726.097,311.835 728.116,311.589 730.134,311.403 732.152,311.12 734.17,310.973 736.189,311.107 738.207,311.571 \n",
       "  740.225,312.307 742.243,312.122 744.262,313.002 746.28,313.896 748.298,314.706 750.316,315.371 752.335,315.868 754.353,315.673 756.371,315.999 758.39,316.168 \n",
       "  760.408,316.2 762.426,316.116 764.444,315.936 766.463,315.746 768.481,315.491 770.499,315.176 772.517,314.814 774.536,314.412 776.554,313.977 778.572,313.799 \n",
       "  780.59,313.332 782.609,312.827 784.627,312.275 786.645,311.66 788.663,310.965 790.682,310.803 792.7,310.008 794.718,309.082 796.736,307.997 798.755,306.731 \n",
       "  800.773,305.276 802.791,305.14 804.81,303.526 806.828,301.832 808.846,300.219 810.864,298.916 812.883,298.116 814.901,298.01 816.919,297.752 818.937,297.884 \n",
       "  820.956,298.191 822.974,298.509 824.992,298.773 827.01,298.666 829.029,298.888 831.047,299.134 833.065,299.482 835.083,299.987 837.102,300.661 839.12,300.55 \n",
       "  841.138,301.356 843.157,302.238 845.175,303.14 847.193,304.02 849.211,304.859 851.23,304.735 853.248,305.528 855.266,306.285 857.284,307.013 859.303,307.723 \n",
       "  861.321,308.42 863.339,308.287 865.357,308.972 867.376,309.648 869.394,310.314 871.412,310.968 873.43,311.607 875.449,311.466 877.467,312.086 879.485,312.684 \n",
       "  881.503,313.257 883.522,313.796 885.54,314.295 887.558,314.148 889.577,314.594 891.595,314.975 893.613,315.271 895.631,315.458 897.65,315.508 899.668,315.359 \n",
       "  901.686,315.239 903.704,314.917 905.723,314.372 907.741,313.616 909.759,312.716 911.777,312.579 913.796,311.679 915.814,310.961 917.832,310.567 919.85,310.503 \n",
       "  921.869,310.655 923.887,310.528 925.905,310.745 927.924,310.91 929.942,310.963 931.96,310.886 933.978,310.699 935.997,310.574 938.015,310.319 940.033,310.035 \n",
       "  942.051,309.745 944.07,309.44 946.088,309.085 948.106,308.967 950.124,308.518 952.143,307.932 954.161,307.187 956.179,306.28 958.197,305.22 960.216,305.116 \n",
       "  962.234,303.922 964.252,302.607 966.27,301.182 968.289,299.653 970.307,298.024 972.325,297.942 974.344,296.221 976.362,294.414 978.38,292.545 980.398,290.68 \n",
       "  982.417,288.94 984.435,288.885 986.453,287.465 988.471,286.555 990.49,286.232 992.508,286.376 994.526,286.749 996.544,286.701 998.563,287.095 1000.58,287.406 \n",
       "  1002.6,287.632 1004.62,287.849 1006.64,288.16 1008.65,288.109 1010.67,288.593 1012.69,289.272 1014.71,290.104 1016.73,291.015 1018.75,291.933 1020.76,291.873 \n",
       "  1022.78,292.744 1024.8,293.545 1026.82,294.267 1028.84,294.916 1030.85,295.502 1032.87,295.433 1034.89,295.97 1036.91,296.47 1038.93,296.946 1040.95,297.406 \n",
       "  1042.96,297.857 1044.98,297.783 1047,298.229 1049.02,298.673 1051.04,299.117 1053.06,299.561 1055.07,300.003 1057.09,299.925 1059.11,300.363 1061.13,300.798 \n",
       "  1063.15,301.224 1065.17,301.641 1067.18,302.042 1069.2,301.959 1071.22,302.339 1073.24,302.691 1075.26,303.006 1077.27,303.271 1079.29,303.471 1081.31,303.387 \n",
       "  1083.33,303.502 1085.35,303.505 1087.37,303.397 1089.38,303.158 1091.4,302.776 1093.42,302.256 1095.44,301.632 1097.46,300.981 1099.48,300.41 1101.49,300.024 \n",
       "  1103.51,299.95 1105.53,299.794 1107.55,299.83 1109.57,299.975 1111.59,300.139 1113.6,300.262 1115.62,300.313 1117.64,300.285 1119.66,300.192 1121.68,300.061 \n",
       "  1123.69,299.919 1125.71,299.847 1127.73,299.714 1129.75,299.589 1131.77,299.455 1133.79,299.282 1135.8,299.038 1137.82,298.699 1139.84,298.254 1141.86,297.703 \n",
       "  1143.88,297.053 1145.9,296.314 1147.91,296.252 1149.93,295.437 1151.95,294.551 1153.97,293.6 1155.99,292.585 1158.01,291.508 1160.02,290.365 1162.04,289.157 \n",
       "  1164.06,287.892 1166.08,286.591 1168.1,285.302 1170.11,285.267 1172.13,284.082 1174.15,283.118 1176.17,282.496 1178.19,282.255 1180.21,282.327 1182.22,282.571 \n",
       "  1184.24,282.858 1186.26,283.114 1188.28,283.328 1190.3,283.533 1192.32,283.503 1194.33,283.754 1196.35,284.106 1198.37,284.585 1200.39,285.182 1202.41,285.864 \n",
       "  1204.43,286.585 1206.44,287.306 1208.46,287.997 1210.48,288.643 1212.5,289.237 1214.52,289.195 1216.53,289.739 1218.55,290.236 1220.57,290.696 1222.59,291.124 \n",
       "  1224.61,291.528 1226.63,291.913 1228.64,292.285 1230.66,292.647 1232.68,293.002 1234.7,293.352 1236.72,293.302 1238.74,293.646 1240.75,293.986 1242.77,294.321 \n",
       "  1244.79,294.65 1246.81,294.973 1248.83,295.286 1250.85,295.587 1252.86,295.873 1254.88,296.14 1256.9,296.382 1258.92,296.327 1260.94,296.536 1262.95,296.705 \n",
       "  1264.97,296.821 1266.99,296.87 1269.01,296.839 1271.03,296.71 1273.05,296.47 1275.06,296.113 1277.08,295.652 1279.1,295.127 1281.12,295.076 1283.14,294.565 \n",
       "  1285.16,294.15 1287.17,293.908 1289.19,293.851 1291.21,293.931 1293.23,294.075 1295.25,294.215 1297.27,294.311 1299.28,294.344 1301.3,294.295 1303.32,294.267 \n",
       "  1305.34,294.194 1307.36,294.099 1309.38,294.001 1311.39,293.911 1313.41,293.825 1315.43,293.725 1317.45,293.587 1319.47,293.391 1321.48,293.123 1323.5,293.078 \n",
       "  1325.52,292.736 1327.54,292.325 1329.56,291.852 1331.58,291.33 1333.59,290.767 1335.61,290.173 1337.63,289.552 1339.65,288.906 1341.67,288.234 1343.69,287.532 \n",
       "  1345.7,287.499 1347.72,286.762 1349.74,285.981 1351.76,285.148 1353.78,284.257 1355.8,283.314 1357.81,282.337 1359.83,281.375 1361.85,280.513 1363.87,279.855 \n",
       "  1365.89,279.482 1367.9,279.464 1369.92,279.374 1371.94,279.484 1373.96,279.689 1375.98,279.919 1378,280.151 1380.01,280.402 1382.03,280.709 1384.05,281.104 \n",
       "  1386.07,281.604 1388.09,282.199 1390.11,282.177 1392.12,282.836 1394.14,283.526 1396.16,284.213 1398.18,284.875 1400.2,285.496 1402.22,286.071 1404.23,286.599 \n",
       "  1406.25,287.086 1408.27,287.537 1410.29,287.958 1412.31,287.926 1414.32,288.324 1416.34,288.705 1418.36,289.073 1420.38,289.433 1422.4,289.786 1424.42,290.134 \n",
       "  1426.43,290.478 1428.45,290.819 1430.47,291.157 1432.49,291.492 1434.51,291.454 1436.53,291.786 1438.54,292.115 1440.56,292.441 1442.58,292.762 1444.6,293.078 \n",
       "  1446.62,293.388 1448.64,293.69 1450.65,293.982 1452.67,294.26 1454.69,294.521 1456.71,294.479 1458.73,294.717 1460.74,294.926 1462.76,295.095 1464.78,295.213 \n",
       "  1466.8,295.266 1468.82,295.238 1470.84,295.114 1472.85,294.888 1474.87,294.565 1476.89,294.179 1478.91,294.138 1480.93,293.754 1482.95,293.452 1484.96,293.29 \n",
       "  1486.98,293.274 1489,293.36 1491.02,293.486 1493.04,293.601 1495.06,293.67 1497.07,293.679 1499.09,293.627 1501.11,293.588 1503.13,293.489 1505.15,293.363 \n",
       "  1507.16,293.229 1509.18,293.1 1511.2,292.973 1513.22,292.831 1515.24,292.645 1517.26,292.387 1519.27,292.034 1521.29,291.577 1523.31,291.542 1525.33,290.988 \n",
       "  1527.35,290.352 1529.37,289.662 1531.38,288.959 1533.4,288.297 1535.42,287.742 1537.44,287.356 1539.46,287.174 1541.48,287.188 1543.49,287.343 1545.51,287.315 \n",
       "  1547.53,287.54 1549.55,287.767 1551.57,287.947 1553.58,288.05 1555.6,288.062 1557.62,287.992 1559.64,287.862 1561.66,287.712 1563.68,287.592 1565.69,287.549 \n",
       "  1567.71,287.521 1569.73,287.583 1571.75,287.748 1573.77,287.987 1575.79,288.26 1577.8,288.527 1579.82,288.761 1581.84,288.943 1583.86,289.063 1585.88,289.12 \n",
       "  1587.9,289.114 1589.91,289.084 1591.93,289.017 1593.95,288.895 1595.97,288.72 1597.99,288.497 1600,288.228 1602.02,287.918 1604.04,287.567 1606.06,287.179 \n",
       "  1608.08,286.754 1610.1,286.292 1612.11,286.267 1614.13,285.768 1616.15,285.23 1618.17,284.649 1620.19,284.024 1622.21,283.35 1624.22,282.63 1626.24,281.869 \n",
       "  1628.26,281.086 1630.28,280.322 1632.3,279.64 1634.32,279.626 1636.33,279.106 1638.35,278.81 1640.37,278.741 1642.39,278.838 1644.41,279.012 1646.42,279.194 \n",
       "  1648.44,279.349 1650.46,279.477 1652.48,279.603 1654.5,279.762 1656.52,279.747 1658.53,279.97 1660.55,280.274 1662.57,280.653 1664.59,281.086 1666.61,281.545 \n",
       "  1668.63,282.005 1670.64,282.447 1672.66,282.862 1674.68,283.245 1676.7,283.596 1678.72,283.576 1680.74,283.897 1682.75,284.193 1684.77,284.469 1686.79,284.726 \n",
       "  1688.81,284.971 1690.83,285.203 1692.84,285.426 1694.86,285.641 1696.88,285.847 1698.9,286.044 1700.92,286.021 1702.94,286.209 1704.95,286.385 1706.97,286.548 \n",
       "  1708.99,286.695 1711.01,286.821 1713.03,286.922 1715.05,286.991 1717.06,287.021 1719.08,287.003 1721.1,286.928 1723.12,286.904 1725.14,286.762 1727.16,286.545 \n",
       "  1729.17,286.254 1731.19,285.898 1733.21,285.507 1735.23,285.131 1737.25,284.832 1739.26,284.658 1741.28,284.618 1743.3,284.68 1745.32,284.659 1747.34,284.77 \n",
       "  1749.36,284.883 1751.37,284.968 1753.39,285.014 1755.41,285.023 1757.43,285.007 1759.45,284.983 1761.47,284.963 1763.48,284.956 1765.5,284.962 1767.52,284.941 \n",
       "  1769.54,284.951 1771.56,284.956 1773.58,284.949 1775.59,284.927 1777.61,284.894 1779.63,284.857 1781.65,284.824 1783.67,284.804 1785.68,284.804 1787.7,284.827 \n",
       "  1789.72,284.807 1791.74,284.855 1793.76,284.927 1795.78,285.02 1797.79,285.132 1799.81,285.257 1801.83,285.392 1803.85,285.532 1805.87,285.674 1807.89,285.812 \n",
       "  1809.9,285.941 1811.92,285.92 1813.94,286.034 1815.96,286.129 1817.98,286.194 1820,286.223 1822.01,286.203 1824.03,286.124 1826.05,285.976 1828.07,285.754 \n",
       "  1830.09,285.464 1832.1,285.128 1834.12,285.108 1836.14,284.772 1838.16,284.495 1840.18,284.327 1842.2,284.283 1844.21,284.333 1846.23,284.43 1848.25,284.531 \n",
       "  1850.27,284.608 1852.29,284.649 1854.31,284.657 1856.32,284.638 1858.34,284.624 1860.36,284.606 1862.38,284.599 1864.4,284.609 1866.42,284.633 1868.43,284.656 \n",
       "  1870.45,284.658 1872.47,284.622 1874.49,284.537 1876.51,284.398 1878.52,284.379 1880.54,284.189 1882.56,283.955 1884.58,283.682 1886.6,283.377 1888.62,283.047 \n",
       "  1890.63,282.693 1892.65,282.282 1894.67,281.842 1896.69,281.827 1898.71,281.355 1900.73,280.843 1902.74,280.287 1904.76,279.681 1906.78,279.031 1908.8,279.02 \n",
       "  1910.82,278.347 1912.84,277.698 1914.85,277.15 1916.87,276.788 1918.89,276.649 1920.91,276.64 1922.93,276.683 1924.94,276.821 1926.96,276.984 1928.98,277.143 \n",
       "  1931,277.304 1933.02,277.295 1935.04,277.488 1937.05,277.744 1939.07,278.079 1941.09,278.486 1943.11,278.941 1945.13,278.93 1947.15,279.403 1949.16,279.871 \n",
       "  1951.18,280.316 1953.2,280.73 1955.22,281.112 1957.24,281.098 1959.26,281.449 1961.27,281.774 1963.29,282.079 1965.31,282.368 1967.33,282.645 1969.35,282.629 \n",
       "  1971.36,282.898 1973.38,283.16 1975.4,283.416 1977.42,283.668 1979.44,283.916 1981.46,283.899 1983.47,284.141 1985.49,284.378 1987.51,284.609 1989.53,284.832 \n",
       "  1991.55,285.044 1993.57,285.026 1995.58,285.225 1997.6,285.407 1999.62,285.566 2001.64,285.696 2003.66,285.788 2005.68,285.769 2007.69,285.811 2009.71,285.791 \n",
       "  2011.73,285.698 2013.75,285.524 2015.77,285.273 2017.78,285.255 2019.8,284.954 2021.82,284.656 2023.84,284.428 2025.86,284.32 2027.88,284.332 2029.89,284.315 \n",
       "  2031.91,284.402 2033.93,284.511 2035.95,284.599 2037.97,284.645 2039.99,284.645 2042,284.628 2044.02,284.591 2046.04,284.531 2048.06,284.465 2050.08,284.401 \n",
       "  2052.1,284.333 2054.11,284.316 2056.13,284.231 2058.15,284.108 2060.17,283.932 2062.19,283.695 2064.2,283.395 2066.22,283.38 2068.24,283.022 2070.26,282.611 \n",
       "  2072.28,282.153 2074.3,281.652 2076.31,281.11 2078.33,281.097 2080.35,280.516 2082.37,279.896 2084.39,279.237 2086.41,278.547 2088.42,277.845 2090.44,277.836 \n",
       "  2092.46,277.165 2094.48,276.591 2096.5,276.196 2098.52,276.028 2100.53,276.057 2102.55,276.05 2104.57,276.191 2106.59,276.358 2108.61,276.502 2110.63,276.616 \n",
       "  2112.64,276.725 2114.66,276.717 2116.68,276.859 2118.7,277.068 2120.72,277.355 2122.73,277.706 2124.75,278.094 2126.77,278.084 2128.79,278.479 2130.81,278.859 \n",
       "  2132.83,279.214 2134.84,279.539 2136.86,279.834 2138.88,279.823 2140.9,280.092 2142.92,280.341 2144.94,280.574 2146.95,280.796 2148.97,281.01 2150.99,280.998 \n",
       "  2153.01,281.206 2155.03,281.412 2157.05,281.616 2159.06,281.819 2161.08,282.021 2163.1,282.008 2165.12,282.209 2167.14,282.408 2169.15,282.604 2171.17,282.796 \n",
       "  2173.19,282.982 2175.21,282.968 2177.23,283.147 2179.25,283.315 2181.26,283.468 2183.28,283.603 2185.3,283.712 2187.32,283.697 2189.34,283.773 2191.36,283.806 \n",
       "  2193.37,283.785 2195.39,283.699 2197.41,283.542 2199.43,283.527 2201.45,283.3 2203.47,283.025 2205.48,282.745 2207.5,282.523 2209.52,282.408 2211.54,282.395 \n",
       "  2213.56,282.392 2215.57,282.465 2217.59,282.564 2219.61,282.649 2221.63,282.699 2223.65,282.686 2225.67,282.696 2227.68,282.674 2229.7,282.635 2231.72,282.592 \n",
       "  2233.74,282.554 2235.76,282.54 2237.78,282.504 2239.79,282.457 2241.81,282.382 2243.83,282.264 2245.85,282.097 2247.87,282.084 2249.89,281.866 2251.9,281.603 \n",
       "  2253.92,281.299 2255.94,280.963 2257.96,280.597 2259.98,280.586 2261.99,280.198 2264.01,279.785 2266.03,279.347 2268.05,278.881 2270.07,278.383 2272.09,278.374 \n",
       "  2274.1,277.841 2276.12,277.272 2278.14,276.68 2280.16,276.091 2282.18,275.562 2284.2,275.556 2286.21,275.161 2288.23,274.956 2290.25,274.935 2292.27,275.033 \n",
       "  \n",
       "  \"/>\n",
       "<polyline clip-path=\"url(#clip702)\" style=\"stroke:#3da44d; stroke-width:4; stroke-opacity:1; fill:none\" points=\"\n",
       "  276.025,269.651 278.043,497.118 280.061,388.8 282.08,435.506 284.098,459.535 286.116,474.493 288.134,486.591 290.153,499.062 292.171,513.418 294.189,530.104 \n",
       "  296.208,549.002 298.226,569.835 300.244,592.412 302.262,567.773 304.281,596.475 306.299,622.632 308.317,650.542 310.335,680.141 312.354,711.19 314.372,743.293 \n",
       "  316.39,775.967 318.408,808.726 320.427,841.143 322.445,816.403 324.463,847.851 326.481,878.437 328.5,912.864 330.518,941.202 332.536,968.339 334.554,994.235 \n",
       "  336.573,1018.86 338.591,1042.2 340.609,1064.22 342.628,1040.21 344.646,1060.97 346.664,1080.35 348.682,1098.3 350.701,1114.74 352.719,1129.58 354.737,1142.75 \n",
       "  356.755,1154.18 358.774,1163.8 360.792,1171.6 362.81,1177.61 364.828,1157.02 366.847,1161.69 368.865,1164.83 370.883,1166.64 372.901,1167.4 374.92,1167.37 \n",
       "  376.938,1166.87 378.956,1167.7 380.975,1167.06 382.993,1166.73 385.011,1150.15 387.029,1150.61 389.048,1151.69 391.066,1153.46 393.084,1155.99 395.102,1159.29 \n",
       "  397.121,1163.36 399.139,1168.14 401.157,1173.58 403.175,1179.6 405.194,1186.12 407.212,1172.04 409.23,1179.09 411.248,1186.47 413.267,1194.11 415.285,1201.95 \n",
       "  417.303,1209.93 419.321,1218 421.34,1226.1 423.358,1234.18 425.376,1242.2 427.395,1250.1 429.413,1237.22 431.431,1245.02 433.449,1252.58 435.468,1259.83 \n",
       "  437.486,1266.7 439.504,1273.08 441.522,1278.88 443.541,1283.99 445.559,1288.29 447.577,1291.68 449.595,1294.08 451.614,1282.32 453.632,1283.81 455.65,1284.28 \n",
       "  457.668,1283.81 459.687,1282.5 461.705,1280.53 463.723,1278.08 465.742,1275.38 467.76,1272.61 469.778,1269.97 471.796,1267.6 473.815,1257.43 475.833,1255.59 \n",
       "  477.851,1254.24 479.869,1253.33 481.888,1254.11 483.906,1255.64 485.924,1257.89 487.942,1248.5 489.961,1251.5 491.979,1255.13 493.997,1259.3 496.015,1263.94 \n",
       "  498.034,1268.98 500.052,1259.99 502.07,1265.38 504.088,1271.04 506.107,1276.93 508.125,1282.99 510.143,1289.21 512.162,1280.51 514.18,1286.88 516.198,1293.35 \n",
       "  518.216,1299.9 520.235,1306.52 522.253,1313.19 524.271,1304.72 526.289,1311.45 528.308,1318.2 530.326,1324.96 532.344,1331.73 534.362,1338.48 536.381,1330.21 \n",
       "  538.399,1336.94 540.417,1343.62 542.435,1350.24 544.454,1356.75 546.472,1363.11 548.49,1355.02 550.509,1361.2 552.527,1367.11 554.545,1372.64 556.563,1377.67 \n",
       "  558.582,1382.03 560.6,1374.15 562.618,1377.7 564.636,1380.21 566.655,1381.54 568.673,1381.59 570.691,1380.37 572.709,1372.83 574.728,1370.55 576.746,1367.39 \n",
       "  578.764,1363.61 580.782,1359.5 582.801,1355.32 584.819,1348.23 586.837,1344.24 588.856,1340.5 590.874,1337.08 592.892,1334.07 594.91,1331.53 596.929,1324.86 \n",
       "  598.947,1322.93 600.965,1321.64 602.983,1321.06 605.002,1321.19 607.02,1322.01 609.038,1315.64 611.056,1317.06 613.075,1318.95 615.093,1321.17 617.111,1323.62 \n",
       "  619.129,1326.22 621.148,1320.05 623.166,1322.74 625.184,1325.43 627.202,1328.09 629.221,1330.65 631.239,1333.07 633.257,1327.07 635.276,1329.32 637.294,1331.35 \n",
       "  639.312,1333.11 641.33,1334.59 643.349,1335.76 645.367,1329.94 647.385,1330.84 649.403,1331.44 651.422,1331.79 653.44,1331.93 655.458,1331.91 657.476,1326.3 \n",
       "  659.495,1326.22 661.513,1326.12 663.531,1326.06 665.549,1326.09 667.568,1326.26 669.586,1320.85 671.604,1321.22 673.623,1321.81 675.641,1322.62 677.659,1323.66 \n",
       "  679.677,1324.92 681.696,1319.68 683.714,1321.18 685.732,1322.88 687.75,1324.77 689.769,1326.81 691.787,1328.99 693.805,1323.88 695.823,1326.19 697.842,1328.58 \n",
       "  699.86,1331.04 701.878,1333.53 703.896,1336.03 705.915,1331.03 707.933,1333.52 709.951,1335.96 711.969,1338.3 713.988,1340.51 716.006,1342.55 718.024,1337.66 \n",
       "  720.043,1339.5 722.061,1341.09 724.079,1342.39 726.097,1343.38 728.116,1344.04 730.134,1339.27 732.152,1339.65 734.17,1339.74 736.189,1339.6 738.207,1339.29 \n",
       "  740.225,1338.86 742.243,1334.24 744.262,1333.79 746.28,1333.38 748.298,1333.06 750.316,1332.89 752.335,1332.89 754.353,1328.41 756.371,1328.65 758.39,1329.12 \n",
       "  760.408,1329.83 762.426,1330.78 764.444,1331.96 766.463,1327.59 768.481,1329 770.499,1330.59 772.517,1332.35 774.536,1334.27 776.554,1336.31 778.572,1332.03 \n",
       "  780.59,1334.18 782.609,1336.43 784.627,1338.73 786.645,1341.09 788.663,1343.47 790.682,1339.27 792.7,1341.66 794.718,1344.03 796.736,1346.34 798.755,1348.56 \n",
       "  800.773,1350.66 802.791,1346.52 804.81,1348.45 806.828,1350.16 808.846,1351.59 810.864,1352.72 812.883,1353.49 814.901,1349.44 816.919,1349.87 818.937,1349.94 \n",
       "  820.956,1349.7 822.974,1349.2 824.992,1348.5 827.01,1344.56 829.029,1343.77 831.047,1342.95 833.065,1342.17 835.083,1341.51 837.102,1341.01 839.12,1337.17 \n",
       "  841.138,1336.89 843.157,1336.85 845.175,1337.06 847.193,1337.53 849.211,1338.25 851.23,1334.5 853.248,1335.48 855.266,1336.68 857.284,1338.08 859.303,1339.66 \n",
       "  861.321,1341.38 863.339,1337.7 865.357,1339.57 867.376,1341.55 869.394,1343.63 871.412,1345.8 873.43,1348.04 875.449,1344.41 877.467,1346.73 879.485,1349.1 \n",
       "  881.503,1351.51 883.522,1353.97 885.54,1356.45 887.558,1352.87 889.577,1355.36 891.595,1357.86 893.613,1360.34 895.631,1362.78 897.65,1365.14 899.668,1361.6 \n",
       "  901.686,1363.86 903.704,1365.96 905.723,1367.85 907.741,1369.47 909.759,1370.73 911.777,1367.24 913.796,1368.1 915.814,1368.51 917.832,1368.44 919.85,1367.93 \n",
       "  921.869,1367.02 923.887,1363.61 925.905,1362.42 927.924,1361.04 929.942,1359.58 931.96,1358.12 933.978,1356.74 935.997,1353.42 938.015,1352.2 940.033,1351.18 \n",
       "  942.051,1350.38 944.07,1349.86 946.088,1349.62 948.106,1346.38 950.124,1346.45 952.143,1346.82 954.161,1347.46 956.179,1348.35 958.197,1349.43 960.216,1346.25 \n",
       "  962.234,1347.51 964.252,1348.91 966.27,1350.41 968.289,1351.99 970.307,1353.63 972.325,1350.49 974.344,1352.18 976.362,1353.89 978.38,1355.6 980.398,1357.29 \n",
       "  982.417,1358.94 984.435,1355.83 986.453,1357.41 988.471,1358.88 990.49,1360.22 992.508,1361.37 994.526,1362.31 996.544,1359.26 998.563,1359.96 1000.58,1360.4 \n",
       "  1002.6,1360.57 1004.62,1360.49 1006.64,1360.19 1008.65,1357.19 1010.67,1356.71 1012.69,1356.13 1014.71,1355.48 1016.73,1354.83 1018.75,1354.24 1020.76,1351.31 \n",
       "  1022.78,1350.83 1024.8,1350.48 1026.82,1350.31 1028.84,1350.32 1030.85,1350.52 1032.87,1347.64 1034.89,1348.05 1036.91,1348.65 1038.93,1349.43 1040.95,1350.37 \n",
       "  1042.96,1351.46 1044.98,1348.62 1047,1349.84 1049.02,1351.17 1051.04,1352.6 1053.06,1354.11 1055.07,1355.7 1057.09,1352.9 1059.11,1354.55 1061.13,1356.27 \n",
       "  1063.15,1358.04 1065.17,1359.84 1067.18,1361.69 1069.2,1358.91 1071.22,1360.79 1073.24,1362.69 1075.26,1364.59 1077.27,1366.5 1079.29,1368.39 1081.31,1365.64 \n",
       "  1083.33,1367.5 1085.35,1368.93 1087.37,1370.28 1089.38,1371.53 1091.4,1372.65 1093.42,1373.59 1095.44,1374.32 1097.46,1374.79 1099.48,1374.96 1101.49,1374.83 \n",
       "  1103.51,1372.14 1105.53,1371.71 1107.55,1371 1109.57,1370.05 1111.59,1368.93 1113.6,1367.68 1115.62,1366.39 1117.64,1365.09 1119.66,1363.85 1121.68,1362.7 \n",
       "  1123.69,1361.66 1125.71,1359.07 1127.73,1358.19 1129.75,1357.47 1131.77,1356.94 1133.79,1356.6 1135.8,1356.47 1137.82,1356.53 1139.84,1356.77 1141.86,1357.17 \n",
       "  1143.88,1357.71 1145.9,1358.36 1147.91,1355.85 1149.93,1356.6 1151.95,1357.43 1153.97,1358.32 1155.99,1359.25 1158.01,1360.22 1160.02,1361.21 1162.04,1362.22 \n",
       "  1164.06,1363.22 1166.08,1364.2 1168.1,1365.16 1170.11,1362.69 1172.13,1363.59 1174.15,1364.43 1176.17,1365.18 1178.19,1365.81 1180.21,1366.31 1182.22,1366.66 \n",
       "  1184.24,1366.84 1186.26,1366.84 1188.28,1366.67 1190.3,1366.34 1192.32,1363.93 1194.33,1363.47 1196.35,1362.91 1198.37,1362.27 1200.39,1361.61 1202.41,1360.94 \n",
       "  1204.43,1360.31 1206.44,1359.74 1208.46,1359.26 1210.48,1358.88 1212.5,1358.62 1214.52,1356.28 1216.53,1356.15 1218.55,1356.16 1220.57,1356.3 1222.59,1356.57 \n",
       "  1224.61,1356.95 1226.63,1357.44 1228.64,1358.04 1230.66,1358.72 1232.68,1359.47 1234.7,1360.3 1236.72,1358.01 1238.74,1358.9 1240.75,1359.85 1242.77,1360.84 \n",
       "  1244.79,1361.88 1246.81,1362.95 1248.83,1364.06 1250.85,1365.19 1252.86,1366.35 1254.88,1367.53 1256.9,1368.72 1258.92,1366.46 1260.94,1367.66 1262.95,1368.86 \n",
       "  1264.97,1370.04 1266.99,1371.19 1269.01,1372.3 1271.03,1373.34 1273.05,1374.3 1275.06,1375.14 1277.08,1375.83 1279.1,1376.33 1281.12,1374.11 1283.14,1374.63 \n",
       "  1285.16,1374.7 1287.17,1374.52 1289.19,1374.11 1291.21,1373.48 1293.23,1372.68 1295.25,1371.75 1297.27,1370.75 1299.28,1369.72 1301.3,1367.56 1303.32,1366.55 \n",
       "  1305.34,1365.6 1307.36,1364.73 1309.38,1363.96 1311.39,1363.32 1313.41,1362.81 1315.43,1362.46 1317.45,1362.27 1319.47,1362.24 1321.48,1362.37 1323.5,1360.26 \n",
       "  1325.52,1360.53 1327.54,1360.92 1329.56,1361.41 1331.58,1361.99 1333.59,1362.65 1335.61,1363.37 1337.63,1364.13 1339.65,1364.93 1341.67,1365.77 1343.69,1366.62 \n",
       "  1345.7,1364.56 1347.72,1365.43 1349.74,1366.3 1351.76,1367.17 1353.78,1368.01 1355.8,1368.82 1357.81,1369.59 1359.83,1370.28 1361.85,1370.89 1363.87,1371.38 \n",
       "  1365.89,1371.75 1367.9,1369.72 1369.92,1369.94 1371.94,1370.01 1373.96,1369.93 1375.98,1369.69 1378,1369.31 1380.01,1368.83 1382.03,1368.26 1384.05,1367.64 \n",
       "  1386.07,1367.01 1388.09,1366.39 1390.11,1364.4 1392.12,1363.83 1394.14,1363.32 1396.16,1362.9 1398.18,1362.57 1400.2,1362.36 1402.22,1362.27 1404.23,1362.29 \n",
       "  1406.25,1362.42 1408.27,1362.67 1410.29,1363.02 1412.31,1361.08 1414.32,1361.52 1416.34,1362.05 1418.36,1362.65 1420.38,1363.31 1422.4,1364.03 1424.42,1364.8 \n",
       "  1426.43,1365.62 1428.45,1366.48 1430.47,1367.37 1432.49,1368.3 1434.51,1366.39 1436.53,1367.35 1438.54,1368.34 1440.56,1369.36 1442.58,1370.4 1444.6,1371.46 \n",
       "  1446.62,1372.54 1448.64,1373.64 1450.65,1374.74 1452.67,1375.86 1454.69,1376.98 1456.71,1375.09 1458.73,1376.21 1460.74,1377.33 1462.76,1378.43 1464.78,1379.51 \n",
       "  1466.8,1380.54 1468.82,1381.51 1470.84,1382.4 1472.85,1383.17 1474.87,1383.8 1476.89,1384.24 1478.91,1382.37 1480.93,1382.6 1482.95,1382.59 1484.96,1382.33 \n",
       "  1486.98,1381.84 1489,1381.13 1491.02,1380.25 1493.04,1379.26 1495.06,1378.19 1497.07,1377.11 1499.09,1376.04 1501.11,1374.22 1503.13,1373.2 1505.15,1372.24 \n",
       "  1507.16,1371.37 1509.18,1370.59 1511.2,1369.92 1513.22,1369.39 1515.24,1369.01 1517.26,1368.77 1519.27,1368.69 1521.29,1368.75 1523.31,1366.98 1525.33,1367.16 \n",
       "  1527.35,1367.45 1529.37,1367.82 1531.38,1368.24 1533.4,1368.71 1535.42,1369.22 1537.44,1369.73 1539.46,1370.26 1541.48,1370.78 1543.49,1371.28 1545.51,1369.53 \n",
       "  1547.53,1370.01 1549.55,1370.45 1551.57,1370.84 1553.58,1371.18 1555.6,1371.44 1557.62,1371.63 1559.64,1371.74 1561.66,1371.76 1563.68,1371.7 1565.69,1371.57 \n",
       "  1567.71,1369.85 1569.73,1369.65 1571.75,1369.41 1573.77,1369.14 1575.79,1368.85 1577.8,1368.56 1579.82,1368.29 1581.84,1368.05 1583.86,1367.86 1585.88,1367.72 \n",
       "  1587.9,1367.64 1589.91,1365.95 1591.93,1365.95 1593.95,1366.01 1595.97,1366.14 1597.99,1366.34 1600,1366.6 1602.02,1366.92 1604.04,1367.3 1606.06,1367.73 \n",
       "  1608.08,1368.2 1610.1,1368.7 1612.11,1367.04 1614.13,1367.59 1616.15,1368.15 1618.17,1368.74 1620.19,1369.34 1622.21,1369.95 1624.22,1370.56 1626.24,1371.16 \n",
       "  1628.26,1371.74 1630.28,1372.29 1632.3,1372.81 1634.32,1371.17 1636.33,1371.63 1638.35,1372.02 1640.37,1372.33 1642.39,1372.56 1644.41,1372.68 1646.42,1372.7 \n",
       "  1648.44,1372.62 1650.46,1372.44 1652.48,1372.17 1654.5,1371.85 1656.52,1370.23 1658.53,1369.86 1660.55,1369.47 1662.57,1369.07 1664.59,1368.68 1666.61,1368.34 \n",
       "  1668.63,1368.04 1670.64,1367.81 1672.66,1367.65 1674.68,1367.56 1676.7,1367.56 1678.72,1365.98 1680.74,1366.06 1682.75,1366.22 1684.77,1366.46 1686.79,1366.77 \n",
       "  1688.81,1367.14 1690.83,1367.57 1692.84,1368.04 1694.86,1368.57 1696.88,1369.13 1698.9,1369.73 1700.92,1368.18 1702.94,1368.81 1704.95,1369.47 1706.97,1370.15 \n",
       "  1708.99,1370.85 1711.01,1371.56 1713.03,1372.28 1715.05,1373 1717.06,1373.72 1719.08,1374.42 1721.1,1375.1 1723.12,1373.56 1725.14,1374.2 1727.16,1374.79 \n",
       "  1729.17,1375.31 1731.19,1375.74 1733.21,1376.07 1735.23,1376.28 1737.25,1376.36 1739.26,1376.29 1741.28,1376.08 1743.3,1375.75 1745.32,1374.23 1747.34,1373.8 \n",
       "  1749.36,1373.29 1751.37,1372.73 1753.39,1372.14 1755.41,1371.56 1757.43,1371.01 1759.45,1370.52 1761.47,1370.08 1763.48,1369.73 1765.5,1369.46 1767.52,1367.98 \n",
       "  1769.54,1367.81 1771.56,1367.75 1773.58,1367.78 1775.59,1367.91 1777.61,1368.12 1779.63,1368.42 1781.65,1368.78 1783.67,1369.21 1785.68,1369.69 1787.7,1370.21 \n",
       "  1789.72,1368.74 1791.74,1369.31 1793.76,1369.91 1795.78,1370.54 1797.79,1371.21 1799.81,1371.89 1801.83,1372.6 1803.85,1373.33 1805.87,1374.07 1807.89,1374.83 \n",
       "  1809.9,1375.6 1811.92,1374.14 1813.94,1374.92 1815.96,1375.69 1817.98,1376.45 1820,1377.2 1822.01,1377.93 1824.03,1378.61 1826.05,1379.24 1828.07,1379.8 \n",
       "  1830.09,1380.27 1832.1,1380.62 1834.12,1379.18 1836.14,1379.39 1838.16,1379.45 1840.18,1379.35 1842.2,1379.09 1844.21,1378.68 1846.23,1378.16 1848.25,1377.54 \n",
       "  1850.27,1376.86 1852.29,1376.17 1854.31,1375.47 1856.32,1374.06 1858.34,1373.4 1860.36,1372.79 1862.38,1372.24 1864.4,1371.77 1866.42,1371.4 1868.43,1371.12 \n",
       "  1870.45,1370.94 1872.47,1370.88 1874.49,1370.91 1876.51,1371.05 1878.52,1369.66 1880.54,1369.88 1882.56,1370.17 1884.58,1370.52 1886.6,1370.92 1888.62,1371.37 \n",
       "  1890.63,1371.84 1892.65,1372.51 1894.67,1373.21 1896.69,1371.83 1898.71,1372.54 1900.73,1373.26 1902.74,1373.97 1904.76,1374.67 1906.78,1375.34 1908.8,1373.98 \n",
       "  1910.82,1374.61 1912.84,1375.19 1914.85,1375.69 1916.87,1376.11 1918.89,1376.43 1920.91,1375.07 1922.93,1375.28 1924.94,1375.37 1926.96,1375.34 1928.98,1375.21 \n",
       "  1931,1375 1933.02,1373.65 1935.04,1373.38 1937.05,1373.08 1939.07,1372.77 1941.09,1372.48 1943.11,1372.23 1945.13,1370.89 1947.15,1370.7 1949.16,1370.58 \n",
       "  1951.18,1370.53 1953.2,1370.58 1955.22,1370.71 1957.24,1369.39 1959.26,1369.62 1961.27,1369.92 1963.29,1370.31 1965.31,1370.76 1967.33,1371.28 1969.35,1369.96 \n",
       "  1971.36,1370.53 1973.38,1371.15 1975.4,1371.81 1977.42,1372.51 1979.44,1373.24 1981.46,1371.93 1983.47,1372.69 1985.49,1373.48 1987.51,1374.29 1989.53,1375.12 \n",
       "  1991.55,1375.97 1993.57,1374.67 1995.58,1375.52 1997.6,1376.39 1999.62,1377.26 2001.64,1378.13 2003.66,1378.99 2005.68,1377.69 2007.69,1378.53 2009.71,1379.32 \n",
       "  2011.73,1380.06 2013.75,1380.73 2015.77,1381.3 2017.78,1380.01 2019.8,1380.45 2021.82,1380.74 2023.84,1380.87 2025.86,1380.82 2027.88,1380.6 2029.89,1379.33 \n",
       "  2031.91,1378.97 2033.93,1378.5 2035.95,1377.97 2037.97,1377.4 2039.99,1376.83 2042,1375.57 2044.02,1375.03 2046.04,1374.55 2048.06,1374.14 2050.08,1373.82 \n",
       "  2052.1,1373.59 2054.11,1372.34 2056.13,1372.23 2058.15,1372.23 2060.17,1372.34 2062.19,1372.56 2064.2,1372.87 2066.22,1371.63 2068.24,1372.02 2070.26,1372.47 \n",
       "  2072.28,1372.98 2074.3,1373.53 2076.31,1374.11 2078.33,1372.87 2080.35,1373.48 2082.37,1374.1 2084.39,1374.74 2086.41,1375.37 2088.42,1376 2090.44,1374.77 \n",
       "  2092.46,1375.39 2094.48,1375.97 2096.5,1376.52 2098.52,1377.01 2100.53,1377.43 2102.55,1376.2 2104.57,1376.54 2106.59,1376.78 2108.61,1376.92 2110.63,1376.95 \n",
       "  2112.64,1376.89 2114.66,1375.68 2116.68,1375.53 2118.7,1375.32 2120.72,1375.06 2122.73,1374.79 2124.75,1374.51 2126.77,1373.31 2128.79,1373.06 2130.81,1372.86 \n",
       "  2132.83,1372.71 2134.84,1372.63 2136.86,1372.63 2138.88,1371.43 2140.9,1371.51 2142.92,1371.67 2144.94,1371.9 2146.95,1372.21 2148.97,1372.58 2150.99,1371.39 \n",
       "  2153.01,1371.82 2155.03,1372.3 2157.05,1372.83 2159.06,1373.4 2161.08,1374.01 2163.1,1372.83 2165.12,1373.47 2167.14,1374.14 2169.15,1374.83 2171.17,1375.54 \n",
       "  2173.19,1376.28 2175.21,1375.1 2177.23,1375.85 2179.25,1376.62 2181.26,1377.39 2183.28,1378.16 2185.3,1378.94 2187.32,1377.77 2189.34,1378.53 2191.36,1379.28 \n",
       "  2193.37,1380 2195.39,1380.67 2197.41,1381.27 2199.43,1380.11 2201.45,1380.63 2203.47,1381.04 2205.48,1381.33 2207.5,1381.46 2209.52,1381.44 2211.54,1380.29 \n",
       "  2213.56,1380.12 2215.57,1379.83 2217.59,1379.43 2219.61,1378.96 2221.63,1378.46 2223.65,1377.31 2225.67,1376.81 2227.68,1376.34 2229.7,1375.91 2231.72,1375.54 \n",
       "  2233.74,1375.24 2235.76,1374.11 2237.78,1373.9 2239.79,1373.8 2241.81,1373.79 2243.83,1373.89 2245.85,1374.08 2247.87,1372.95 2249.89,1373.23 2251.9,1373.58 \n",
       "  2253.92,1373.99 2255.94,1374.44 2257.96,1374.83 2259.98,1373.71 2261.99,1374.24 2264.01,1374.79 2266.03,1375.37 2268.05,1375.95 2270.07,1376.54 2272.09,1375.42 \n",
       "  2274.1,1376.01 2276.12,1376.59 2278.14,1377.15 2280.16,1377.68 2282.18,1378.16 2284.2,1377.05 2286.21,1377.48 2288.23,1377.84 2290.25,1378.11 2292.27,1378.29 \n",
       "  \n",
       "  \"/>\n",
       "<path clip-path=\"url(#clip700)\" d=\"\n",
       "M1989.16 372.684 L2280.76 372.684 L2280.76 130.764 L1989.16 130.764  Z\n",
       "  \" fill=\"#ffffff\" fill-rule=\"evenodd\" fill-opacity=\"1\"/>\n",
       "<polyline clip-path=\"url(#clip700)\" style=\"stroke:#000000; stroke-width:4; stroke-opacity:1; fill:none\" points=\"\n",
       "  1989.16,372.684 2280.76,372.684 2280.76,130.764 1989.16,130.764 1989.16,372.684 \n",
       "  \"/>\n",
       "<polyline clip-path=\"url(#clip700)\" style=\"stroke:#009af9; stroke-width:4; stroke-opacity:1; fill:none\" points=\"\n",
       "  2013.16,191.244 2157.16,191.244 \n",
       "  \"/>\n",
       "<path clip-path=\"url(#clip700)\" d=\"M 0 0 M2195 210.931 Q2193.2 215.561 2191.48 216.973 Q2189.77 218.385 2186.9 218.385 L2183.5 218.385 L2183.5 214.82 L2186 214.82 Q2187.76 214.82 2188.73 213.987 Q2189.7 213.154 2190.88 210.052 L2191.65 208.107 L2181.16 182.598 L2185.67 182.598 L2193.77 202.876 L2201.88 182.598 L2206.39 182.598 L2195 210.931 Z\" fill=\"#000000\" fill-rule=\"evenodd\" fill-opacity=\"1\" /><path clip-path=\"url(#clip700)\" d=\"M 0 0 M2212.27 204.589 L2219.91 204.589 L2219.91 178.223 L2211.6 179.89 L2211.6 175.631 L2219.86 173.964 L2224.54 173.964 L2224.54 204.589 L2232.18 204.589 L2232.18 208.524 L2212.27 208.524 L2212.27 204.589 Z\" fill=\"#000000\" fill-rule=\"evenodd\" fill-opacity=\"1\" /><polyline clip-path=\"url(#clip700)\" style=\"stroke:#e26f46; stroke-width:4; stroke-opacity:1; fill:none\" points=\"\n",
       "  2013.16,251.724 2157.16,251.724 \n",
       "  \"/>\n",
       "<path clip-path=\"url(#clip700)\" d=\"M 0 0 M2195 271.411 Q2193.2 276.041 2191.48 277.453 Q2189.77 278.865 2186.9 278.865 L2183.5 278.865 L2183.5 275.3 L2186 275.3 Q2187.76 275.3 2188.73 274.467 Q2189.7 273.634 2190.88 270.532 L2191.65 268.587 L2181.16 243.078 L2185.67 243.078 L2193.77 263.356 L2201.88 243.078 L2206.39 243.078 L2195 271.411 Z\" fill=\"#000000\" fill-rule=\"evenodd\" fill-opacity=\"1\" /><path clip-path=\"url(#clip700)\" d=\"M 0 0 M2215.49 265.069 L2231.81 265.069 L2231.81 269.004 L2209.86 269.004 L2209.86 265.069 Q2212.52 262.314 2217.11 257.685 Q2221.71 253.032 2222.89 251.689 Q2225.14 249.166 2226.02 247.43 Q2226.92 245.671 2226.92 243.981 Q2226.92 241.226 2224.98 239.49 Q2223.06 237.754 2219.96 237.754 Q2217.76 237.754 2215.3 238.518 Q2212.87 239.282 2210.09 240.833 L2210.09 236.111 Q2212.92 234.976 2215.37 234.398 Q2217.83 233.819 2219.86 233.819 Q2225.23 233.819 2228.43 236.504 Q2231.62 239.189 2231.62 243.68 Q2231.62 245.81 2230.81 247.731 Q2230.02 249.629 2227.92 252.222 Q2227.34 252.893 2224.24 256.111 Q2221.14 259.305 2215.49 265.069 Z\" fill=\"#000000\" fill-rule=\"evenodd\" fill-opacity=\"1\" /><polyline clip-path=\"url(#clip700)\" style=\"stroke:#3da44d; stroke-width:4; stroke-opacity:1; fill:none\" points=\"\n",
       "  2013.16,312.204 2157.16,312.204 \n",
       "  \"/>\n",
       "<path clip-path=\"url(#clip700)\" d=\"M 0 0 M2195 331.891 Q2193.2 336.521 2191.48 337.933 Q2189.77 339.345 2186.9 339.345 L2183.5 339.345 L2183.5 335.78 L2186 335.78 Q2187.76 335.78 2188.73 334.947 Q2189.7 334.114 2190.88 331.012 L2191.65 329.067 L2181.16 303.558 L2185.67 303.558 L2193.77 323.836 L2201.88 303.558 L2206.39 303.558 L2195 331.891 Z\" fill=\"#000000\" fill-rule=\"evenodd\" fill-opacity=\"1\" /><path clip-path=\"url(#clip700)\" d=\"M 0 0 M2225.63 310.85 Q2228.98 311.568 2230.86 313.836 Q2232.76 316.105 2232.76 319.438 Q2232.76 324.554 2229.24 327.354 Q2225.72 330.155 2219.24 330.155 Q2217.06 330.155 2214.75 329.716 Q2212.46 329.299 2210 328.442 L2210 323.929 Q2211.95 325.063 2214.26 325.642 Q2216.58 326.22 2219.1 326.22 Q2223.5 326.22 2225.79 324.484 Q2228.1 322.748 2228.1 319.438 Q2228.1 316.382 2225.95 314.669 Q2223.82 312.933 2220 312.933 L2215.97 312.933 L2215.97 309.091 L2220.19 309.091 Q2223.64 309.091 2225.46 307.725 Q2227.29 306.336 2227.29 303.743 Q2227.29 301.081 2225.39 299.669 Q2223.52 298.234 2220 298.234 Q2218.08 298.234 2215.88 298.651 Q2213.68 299.068 2211.04 299.947 L2211.04 295.781 Q2213.71 295.04 2216.02 294.669 Q2218.36 294.299 2220.42 294.299 Q2225.74 294.299 2228.84 296.73 Q2231.95 299.137 2231.95 303.257 Q2231.95 306.128 2230.3 308.118 Q2228.66 310.086 2225.63 310.85 Z\" fill=\"#000000\" fill-rule=\"evenodd\" fill-opacity=\"1\" /></svg>\n"
      ]
     },
     "execution_count": 43,
     "metadata": {},
     "output_type": "execute_result"
    }
   ],
   "source": [
    "@show lse.lyapunov[:,end]\n",
    "plot(lse)"
   ]
  },
  {
   "cell_type": "markdown",
   "metadata": {},
   "source": [
    "The next cell wraps the calculation of the Lyapunov exponents and the plotting. We encourage the reader to play around with the parameters and see how the result changes."
   ]
  },
  {
   "cell_type": "code",
   "execution_count": 110,
   "metadata": {},
   "outputs": [
    {
     "name": "stdout",
     "output_type": "stream",
     "text": [
      "lse.lyapunov[:, end] = [1.8118244751558523, -0.13685467926037476, -22.750828809973147]\n",
      "  0.089486 seconds (644.73 k allocations: 24.350 MiB)\n"
     ]
    },
    {
     "data": {
      "image/svg+xml": [
       "<?xml version=\"1.0\" encoding=\"utf-8\"?>\n",
       "<svg xmlns=\"http://www.w3.org/2000/svg\" xmlns:xlink=\"http://www.w3.org/1999/xlink\" width=\"600\" height=\"400\" viewBox=\"0 0 2400 1600\">\n",
       "<defs>\n",
       "  <clipPath id=\"clip140\">\n",
       "    <rect x=\"0\" y=\"0\" width=\"2400\" height=\"1600\"/>\n",
       "  </clipPath>\n",
       "</defs>\n",
       "<path clip-path=\"url(#clip140)\" d=\"\n",
       "M0 1600 L2400 1600 L2400 0 L0 0  Z\n",
       "  \" fill=\"#ffffff\" fill-rule=\"evenodd\" fill-opacity=\"1\"/>\n",
       "<defs>\n",
       "  <clipPath id=\"clip141\">\n",
       "    <rect x=\"480\" y=\"0\" width=\"1681\" height=\"1600\"/>\n",
       "  </clipPath>\n",
       "</defs>\n",
       "<path clip-path=\"url(#clip140)\" d=\"\n",
       "M215.538 1423.18 L2352.76 1423.18 L2352.76 47.2441 L215.538 47.2441  Z\n",
       "  \" fill=\"#ffffff\" fill-rule=\"evenodd\" fill-opacity=\"1\"/>\n",
       "<defs>\n",
       "  <clipPath id=\"clip142\">\n",
       "    <rect x=\"215\" y=\"47\" width=\"2138\" height=\"1377\"/>\n",
       "  </clipPath>\n",
       "</defs>\n",
       "<polyline clip-path=\"url(#clip142)\" style=\"stroke:#000000; stroke-width:2; stroke-opacity:0.1; fill:none\" points=\"\n",
       "  275.923,1423.18 275.923,47.2441 \n",
       "  \"/>\n",
       "<polyline clip-path=\"url(#clip142)\" style=\"stroke:#000000; stroke-width:2; stroke-opacity:0.1; fill:none\" points=\"\n",
       "  785.076,1423.18 785.076,47.2441 \n",
       "  \"/>\n",
       "<polyline clip-path=\"url(#clip142)\" style=\"stroke:#000000; stroke-width:2; stroke-opacity:0.1; fill:none\" points=\"\n",
       "  1294.23,1423.18 1294.23,47.2441 \n",
       "  \"/>\n",
       "<polyline clip-path=\"url(#clip142)\" style=\"stroke:#000000; stroke-width:2; stroke-opacity:0.1; fill:none\" points=\"\n",
       "  1803.38,1423.18 1803.38,47.2441 \n",
       "  \"/>\n",
       "<polyline clip-path=\"url(#clip142)\" style=\"stroke:#000000; stroke-width:2; stroke-opacity:0.1; fill:none\" points=\"\n",
       "  2312.53,1423.18 2312.53,47.2441 \n",
       "  \"/>\n",
       "<polyline clip-path=\"url(#clip142)\" style=\"stroke:#000000; stroke-width:2; stroke-opacity:0.1; fill:none\" points=\"\n",
       "  215.538,1234.13 2352.76,1234.13 \n",
       "  \"/>\n",
       "<polyline clip-path=\"url(#clip142)\" style=\"stroke:#000000; stroke-width:2; stroke-opacity:0.1; fill:none\" points=\"\n",
       "  215.538,992.145 2352.76,992.145 \n",
       "  \"/>\n",
       "<polyline clip-path=\"url(#clip142)\" style=\"stroke:#000000; stroke-width:2; stroke-opacity:0.1; fill:none\" points=\"\n",
       "  215.538,750.154 2352.76,750.154 \n",
       "  \"/>\n",
       "<polyline clip-path=\"url(#clip142)\" style=\"stroke:#000000; stroke-width:2; stroke-opacity:0.1; fill:none\" points=\"\n",
       "  215.538,508.164 2352.76,508.164 \n",
       "  \"/>\n",
       "<polyline clip-path=\"url(#clip142)\" style=\"stroke:#000000; stroke-width:2; stroke-opacity:0.1; fill:none\" points=\"\n",
       "  215.538,266.174 2352.76,266.174 \n",
       "  \"/>\n",
       "<polyline clip-path=\"url(#clip140)\" style=\"stroke:#000000; stroke-width:4; stroke-opacity:1; fill:none\" points=\"\n",
       "  215.538,1423.18 2352.76,1423.18 \n",
       "  \"/>\n",
       "<polyline clip-path=\"url(#clip140)\" style=\"stroke:#000000; stroke-width:4; stroke-opacity:1; fill:none\" points=\"\n",
       "  215.538,1423.18 215.538,47.2441 \n",
       "  \"/>\n",
       "<polyline clip-path=\"url(#clip140)\" style=\"stroke:#000000; stroke-width:4; stroke-opacity:1; fill:none\" points=\"\n",
       "  275.923,1423.18 275.923,1406.67 \n",
       "  \"/>\n",
       "<polyline clip-path=\"url(#clip140)\" style=\"stroke:#000000; stroke-width:4; stroke-opacity:1; fill:none\" points=\"\n",
       "  785.076,1423.18 785.076,1406.67 \n",
       "  \"/>\n",
       "<polyline clip-path=\"url(#clip140)\" style=\"stroke:#000000; stroke-width:4; stroke-opacity:1; fill:none\" points=\"\n",
       "  1294.23,1423.18 1294.23,1406.67 \n",
       "  \"/>\n",
       "<polyline clip-path=\"url(#clip140)\" style=\"stroke:#000000; stroke-width:4; stroke-opacity:1; fill:none\" points=\"\n",
       "  1803.38,1423.18 1803.38,1406.67 \n",
       "  \"/>\n",
       "<polyline clip-path=\"url(#clip140)\" style=\"stroke:#000000; stroke-width:4; stroke-opacity:1; fill:none\" points=\"\n",
       "  2312.53,1423.18 2312.53,1406.67 \n",
       "  \"/>\n",
       "<polyline clip-path=\"url(#clip140)\" style=\"stroke:#000000; stroke-width:4; stroke-opacity:1; fill:none\" points=\"\n",
       "  215.538,1234.13 241.184,1234.13 \n",
       "  \"/>\n",
       "<polyline clip-path=\"url(#clip140)\" style=\"stroke:#000000; stroke-width:4; stroke-opacity:1; fill:none\" points=\"\n",
       "  215.538,992.145 241.184,992.145 \n",
       "  \"/>\n",
       "<polyline clip-path=\"url(#clip140)\" style=\"stroke:#000000; stroke-width:4; stroke-opacity:1; fill:none\" points=\"\n",
       "  215.538,750.154 241.184,750.154 \n",
       "  \"/>\n",
       "<polyline clip-path=\"url(#clip140)\" style=\"stroke:#000000; stroke-width:4; stroke-opacity:1; fill:none\" points=\"\n",
       "  215.538,508.164 241.184,508.164 \n",
       "  \"/>\n",
       "<polyline clip-path=\"url(#clip140)\" style=\"stroke:#000000; stroke-width:4; stroke-opacity:1; fill:none\" points=\"\n",
       "  215.538,266.174 241.184,266.174 \n",
       "  \"/>\n",
       "<path clip-path=\"url(#clip140)\" d=\"M 0 0 M275.923 1445.17 Q272.312 1445.17 270.483 1448.74 Q268.678 1452.28 268.678 1459.41 Q268.678 1466.51 270.483 1470.08 Q272.312 1473.62 275.923 1473.62 Q279.557 1473.62 281.363 1470.08 Q283.192 1466.51 283.192 1459.41 Q283.192 1452.28 281.363 1448.74 Q279.557 1445.17 275.923 1445.17 M275.923 1441.47 Q281.733 1441.47 284.789 1446.07 Q287.867 1450.66 287.867 1459.41 Q287.867 1468.13 284.789 1472.74 Q281.733 1477.32 275.923 1477.32 Q270.113 1477.32 267.034 1472.74 Q263.979 1468.13 263.979 1459.41 Q263.979 1450.66 267.034 1446.07 Q270.113 1441.47 275.923 1441.47 Z\" fill=\"#000000\" fill-rule=\"evenodd\" fill-opacity=\"1\" /><path clip-path=\"url(#clip140)\" d=\"M 0 0 M775.353 1442.09 L793.71 1442.09 L793.71 1446.03 L779.636 1446.03 L779.636 1454.5 Q780.654 1454.15 781.673 1453.99 Q782.691 1453.8 783.71 1453.8 Q789.497 1453.8 792.876 1456.98 Q796.256 1460.15 796.256 1465.56 Q796.256 1471.14 792.784 1474.24 Q789.312 1477.32 782.992 1477.32 Q780.816 1477.32 778.548 1476.95 Q776.302 1476.58 773.895 1475.84 L773.895 1471.14 Q775.978 1472.28 778.201 1472.83 Q780.423 1473.39 782.9 1473.39 Q786.904 1473.39 789.242 1471.28 Q791.58 1469.18 791.58 1465.56 Q791.58 1461.95 789.242 1459.85 Q786.904 1457.74 782.9 1457.74 Q781.025 1457.74 779.15 1458.16 Q777.298 1458.57 775.353 1459.45 L775.353 1442.09 Z\" fill=\"#000000\" fill-rule=\"evenodd\" fill-opacity=\"1\" /><path clip-path=\"url(#clip140)\" d=\"M 0 0 M1271.1 1472.72 L1278.74 1472.72 L1278.74 1446.35 L1270.43 1448.02 L1270.43 1443.76 L1278.7 1442.09 L1283.37 1442.09 L1283.37 1472.72 L1291.01 1472.72 L1291.01 1476.65 L1271.1 1476.65 L1271.1 1472.72 Z\" fill=\"#000000\" fill-rule=\"evenodd\" fill-opacity=\"1\" /><path clip-path=\"url(#clip140)\" d=\"M 0 0 M1306.08 1445.17 Q1302.47 1445.17 1300.64 1448.74 Q1298.83 1452.28 1298.83 1459.41 Q1298.83 1466.51 1300.64 1470.08 Q1302.47 1473.62 1306.08 1473.62 Q1309.71 1473.62 1311.52 1470.08 Q1313.35 1466.51 1313.35 1459.41 Q1313.35 1452.28 1311.52 1448.74 Q1309.71 1445.17 1306.08 1445.17 M1306.08 1441.47 Q1311.89 1441.47 1314.95 1446.07 Q1318.02 1450.66 1318.02 1459.41 Q1318.02 1468.13 1314.95 1472.74 Q1311.89 1477.32 1306.08 1477.32 Q1300.27 1477.32 1297.19 1472.74 Q1294.14 1468.13 1294.14 1459.41 Q1294.14 1450.66 1297.19 1446.07 Q1300.27 1441.47 1306.08 1441.47 Z\" fill=\"#000000\" fill-rule=\"evenodd\" fill-opacity=\"1\" /><path clip-path=\"url(#clip140)\" d=\"M 0 0 M1780.75 1472.72 L1788.39 1472.72 L1788.39 1446.35 L1780.08 1448.02 L1780.08 1443.76 L1788.35 1442.09 L1793.02 1442.09 L1793.02 1472.72 L1800.66 1472.72 L1800.66 1476.65 L1780.75 1476.65 L1780.75 1472.72 Z\" fill=\"#000000\" fill-rule=\"evenodd\" fill-opacity=\"1\" /><path clip-path=\"url(#clip140)\" d=\"M 0 0 M1805.78 1442.09 L1824.13 1442.09 L1824.13 1446.03 L1810.06 1446.03 L1810.06 1454.5 Q1811.08 1454.15 1812.1 1453.99 Q1813.11 1453.8 1814.13 1453.8 Q1819.92 1453.8 1823.3 1456.98 Q1826.68 1460.15 1826.68 1465.56 Q1826.68 1471.14 1823.21 1474.24 Q1819.73 1477.32 1813.42 1477.32 Q1811.24 1477.32 1808.97 1476.95 Q1806.73 1476.58 1804.32 1475.84 L1804.32 1471.14 Q1806.4 1472.28 1808.62 1472.83 Q1810.85 1473.39 1813.32 1473.39 Q1817.33 1473.39 1819.67 1471.28 Q1822 1469.18 1822 1465.56 Q1822 1461.95 1819.67 1459.85 Q1817.33 1457.74 1813.32 1457.74 Q1811.45 1457.74 1809.57 1458.16 Q1807.72 1458.57 1805.78 1459.45 L1805.78 1442.09 Z\" fill=\"#000000\" fill-rule=\"evenodd\" fill-opacity=\"1\" /><path clip-path=\"url(#clip140)\" d=\"M 0 0 M2293.68 1472.72 L2310 1472.72 L2310 1476.65 L2288.05 1476.65 L2288.05 1472.72 Q2290.72 1469.96 2295.3 1465.33 Q2299.91 1460.68 2301.09 1459.34 Q2303.33 1456.81 2304.21 1455.08 Q2305.11 1453.32 2305.11 1451.63 Q2305.11 1448.87 2303.17 1447.14 Q2301.25 1445.4 2298.15 1445.4 Q2295.95 1445.4 2293.49 1446.17 Q2291.06 1446.93 2288.29 1448.48 L2288.29 1443.76 Q2291.11 1442.62 2293.56 1442.05 Q2296.02 1441.47 2298.05 1441.47 Q2303.42 1441.47 2306.62 1444.15 Q2309.81 1446.84 2309.81 1451.33 Q2309.81 1453.46 2309 1455.38 Q2308.22 1457.28 2306.11 1459.87 Q2305.53 1460.54 2302.43 1463.76 Q2299.33 1466.95 2293.68 1472.72 Z\" fill=\"#000000\" fill-rule=\"evenodd\" fill-opacity=\"1\" /><path clip-path=\"url(#clip140)\" d=\"M 0 0 M2325.07 1445.17 Q2321.46 1445.17 2319.63 1448.74 Q2317.82 1452.28 2317.82 1459.41 Q2317.82 1466.51 2319.63 1470.08 Q2321.46 1473.62 2325.07 1473.62 Q2328.7 1473.62 2330.51 1470.08 Q2332.34 1466.51 2332.34 1459.41 Q2332.34 1452.28 2330.51 1448.74 Q2328.7 1445.17 2325.07 1445.17 M2325.07 1441.47 Q2330.88 1441.47 2333.93 1446.07 Q2337.01 1450.66 2337.01 1459.41 Q2337.01 1468.13 2333.93 1472.74 Q2330.88 1477.32 2325.07 1477.32 Q2319.26 1477.32 2316.18 1472.74 Q2313.12 1468.13 2313.12 1459.41 Q2313.12 1450.66 2316.18 1446.07 Q2319.26 1441.47 2325.07 1441.47 Z\" fill=\"#000000\" fill-rule=\"evenodd\" fill-opacity=\"1\" /><path clip-path=\"url(#clip140)\" d=\"M 0 0 M126.631 1236.53 L139.107 1236.53 L139.107 1240.33 L126.631 1240.33 L126.631 1236.53 Z\" fill=\"#000000\" fill-rule=\"evenodd\" fill-opacity=\"1\" /><path clip-path=\"url(#clip140)\" d=\"M 0 0 M148.204 1247.48 L164.524 1247.48 L164.524 1251.41 L142.58 1251.41 L142.58 1247.48 Q145.242 1244.72 149.825 1240.1 Q154.431 1235.44 155.612 1234.1 Q157.857 1231.58 158.737 1229.84 Q159.64 1228.08 159.64 1226.39 Q159.64 1223.64 157.695 1221.9 Q155.774 1220.16 152.672 1220.16 Q150.473 1220.16 148.019 1220.93 Q145.589 1221.69 142.811 1223.24 L142.811 1218.52 Q145.635 1217.39 148.089 1216.81 Q150.542 1216.23 152.579 1216.23 Q157.95 1216.23 161.144 1218.91 Q164.339 1221.6 164.339 1226.09 Q164.339 1228.22 163.528 1230.14 Q162.741 1232.04 160.635 1234.63 Q160.056 1235.3 156.954 1238.52 Q153.853 1241.72 148.204 1247.48 Z\" fill=\"#000000\" fill-rule=\"evenodd\" fill-opacity=\"1\" /><path clip-path=\"url(#clip140)\" d=\"M 0 0 M179.593 1219.93 Q175.982 1219.93 174.153 1223.5 Q172.348 1227.04 172.348 1234.17 Q172.348 1241.28 174.153 1244.84 Q175.982 1248.38 179.593 1248.38 Q183.227 1248.38 185.033 1244.84 Q186.862 1241.28 186.862 1234.17 Q186.862 1227.04 185.033 1223.5 Q183.227 1219.93 179.593 1219.93 M179.593 1216.23 Q185.403 1216.23 188.459 1220.84 Q191.538 1225.42 191.538 1234.17 Q191.538 1242.9 188.459 1247.5 Q185.403 1252.09 179.593 1252.09 Q173.783 1252.09 170.704 1247.5 Q167.649 1242.9 167.649 1234.17 Q167.649 1225.42 170.704 1220.84 Q173.783 1216.23 179.593 1216.23 Z\" fill=\"#000000\" fill-rule=\"evenodd\" fill-opacity=\"1\" /><path clip-path=\"url(#clip140)\" d=\"M 0 0 M127.256 994.54 L139.732 994.54 L139.732 998.337 L127.256 998.337 L127.256 994.54 Z\" fill=\"#000000\" fill-rule=\"evenodd\" fill-opacity=\"1\" /><path clip-path=\"url(#clip140)\" d=\"M 0 0 M145.612 1005.49 L153.251 1005.49 L153.251 979.124 L144.941 980.79 L144.941 976.531 L153.204 974.865 L157.88 974.865 L157.88 1005.49 L165.519 1005.49 L165.519 1009.42 L145.612 1009.42 L145.612 1005.49 Z\" fill=\"#000000\" fill-rule=\"evenodd\" fill-opacity=\"1\" /><path clip-path=\"url(#clip140)\" d=\"M 0 0 M170.635 974.865 L188.991 974.865 L188.991 978.8 L174.917 978.8 L174.917 987.272 Q175.936 986.925 176.954 986.763 Q177.973 986.577 178.991 986.577 Q184.778 986.577 188.158 989.749 Q191.538 992.92 191.538 998.337 Q191.538 1003.92 188.065 1007.02 Q184.593 1010.1 178.274 1010.1 Q176.098 1010.1 173.829 1009.73 Q171.584 1009.36 169.177 1008.61 L169.177 1003.92 Q171.26 1005.05 173.482 1005.61 Q175.704 1006.16 178.181 1006.16 Q182.186 1006.16 184.524 1004.05 Q186.862 1001.95 186.862 998.337 Q186.862 994.726 184.524 992.619 Q182.186 990.513 178.181 990.513 Q176.306 990.513 174.431 990.929 Q172.579 991.346 170.635 992.226 L170.635 974.865 Z\" fill=\"#000000\" fill-rule=\"evenodd\" fill-opacity=\"1\" /><path clip-path=\"url(#clip140)\" d=\"M 0 0 M126.26 752.55 L138.737 752.55 L138.737 756.346 L126.26 756.346 L126.26 752.55 Z\" fill=\"#000000\" fill-rule=\"evenodd\" fill-opacity=\"1\" /><path clip-path=\"url(#clip140)\" d=\"M 0 0 M144.617 763.499 L152.255 763.499 L152.255 737.134 L143.945 738.8 L143.945 734.541 L152.209 732.874 L156.885 732.874 L156.885 763.499 L164.524 763.499 L164.524 767.434 L144.617 767.434 L144.617 763.499 Z\" fill=\"#000000\" fill-rule=\"evenodd\" fill-opacity=\"1\" /><path clip-path=\"url(#clip140)\" d=\"M 0 0 M179.593 735.953 Q175.982 735.953 174.153 739.518 Q172.348 743.06 172.348 750.189 Q172.348 757.296 174.153 760.86 Q175.982 764.402 179.593 764.402 Q183.227 764.402 185.033 760.86 Q186.862 757.296 186.862 750.189 Q186.862 743.06 185.033 739.518 Q183.227 735.953 179.593 735.953 M179.593 732.249 Q185.403 732.249 188.459 736.856 Q191.538 741.439 191.538 750.189 Q191.538 758.916 188.459 763.522 Q185.403 768.106 179.593 768.106 Q173.783 768.106 170.704 763.522 Q167.649 758.916 167.649 750.189 Q167.649 741.439 170.704 736.856 Q173.783 732.249 179.593 732.249 Z\" fill=\"#000000\" fill-rule=\"evenodd\" fill-opacity=\"1\" /><path clip-path=\"url(#clip140)\" d=\"M 0 0 M153.042 510.56 L165.519 510.56 L165.519 514.356 L153.042 514.356 L153.042 510.56 Z\" fill=\"#000000\" fill-rule=\"evenodd\" fill-opacity=\"1\" /><path clip-path=\"url(#clip140)\" d=\"M 0 0 M170.635 490.884 L188.991 490.884 L188.991 494.819 L174.917 494.819 L174.917 503.292 Q175.936 502.944 176.954 502.782 Q177.973 502.597 178.991 502.597 Q184.778 502.597 188.158 505.768 Q191.538 508.94 191.538 514.356 Q191.538 519.935 188.065 523.037 Q184.593 526.116 178.274 526.116 Q176.098 526.116 173.829 525.745 Q171.584 525.375 169.177 524.634 L169.177 519.935 Q171.26 521.069 173.482 521.625 Q175.704 522.18 178.181 522.18 Q182.186 522.18 184.524 520.074 Q186.862 517.967 186.862 514.356 Q186.862 510.745 184.524 508.639 Q182.186 506.532 178.181 506.532 Q176.306 506.532 174.431 506.949 Q172.579 507.366 170.635 508.245 L170.635 490.884 Z\" fill=\"#000000\" fill-rule=\"evenodd\" fill-opacity=\"1\" /><path clip-path=\"url(#clip140)\" d=\"M 0 0 M179.593 251.973 Q175.982 251.973 174.153 255.538 Q172.348 259.079 172.348 266.209 Q172.348 273.315 174.153 276.88 Q175.982 280.422 179.593 280.422 Q183.227 280.422 185.033 276.88 Q186.862 273.315 186.862 266.209 Q186.862 259.079 185.033 255.538 Q183.227 251.973 179.593 251.973 M179.593 248.269 Q185.403 248.269 188.459 252.875 Q191.538 257.459 191.538 266.209 Q191.538 274.936 188.459 279.542 Q185.403 284.125 179.593 284.125 Q173.783 284.125 170.704 279.542 Q167.649 274.936 167.649 266.209 Q167.649 257.459 170.704 252.875 Q173.783 248.269 179.593 248.269 Z\" fill=\"#000000\" fill-rule=\"evenodd\" fill-opacity=\"1\" /><path clip-path=\"url(#clip140)\" d=\"M 0 0 M1229.91 1510.27 L1229.91 1520.4 L1241.97 1520.4 L1241.97 1524.95 L1229.91 1524.95 L1229.91 1544.3 Q1229.91 1548.66 1231.09 1549.9 Q1232.3 1551.14 1235.96 1551.14 L1241.97 1551.14 L1241.97 1556.04 L1235.96 1556.04 Q1229.18 1556.04 1226.6 1553.53 Q1224.02 1550.98 1224.02 1544.3 L1224.02 1524.95 L1219.73 1524.95 L1219.73 1520.4 L1224.02 1520.4 L1224.02 1510.27 L1229.91 1510.27 Z\" fill=\"#000000\" fill-rule=\"evenodd\" fill-opacity=\"1\" /><path clip-path=\"url(#clip140)\" d=\"M 0 0 M1248.12 1520.4 L1253.97 1520.4 L1253.97 1556.04 L1248.12 1556.04 L1248.12 1520.4 M1248.12 1506.52 L1253.97 1506.52 L1253.97 1513.93 L1248.12 1513.93 L1248.12 1506.52 Z\" fill=\"#000000\" fill-rule=\"evenodd\" fill-opacity=\"1\" /><path clip-path=\"url(#clip140)\" d=\"M 0 0 M1287.87 1527.24 Q1290.07 1523.29 1293.12 1521.41 Q1296.18 1519.54 1300.32 1519.54 Q1305.89 1519.54 1308.91 1523.45 Q1311.93 1527.33 1311.93 1534.53 L1311.93 1556.04 L1306.04 1556.04 L1306.04 1534.72 Q1306.04 1529.59 1304.23 1527.11 Q1302.42 1524.63 1298.69 1524.63 Q1294.14 1524.63 1291.5 1527.65 Q1288.86 1530.68 1288.86 1535.9 L1288.86 1556.04 L1282.97 1556.04 L1282.97 1534.72 Q1282.97 1529.56 1281.15 1527.11 Q1279.34 1524.63 1275.55 1524.63 Q1271.07 1524.63 1268.42 1527.68 Q1265.78 1530.71 1265.78 1535.9 L1265.78 1556.04 L1259.89 1556.04 L1259.89 1520.4 L1265.78 1520.4 L1265.78 1525.93 Q1267.79 1522.66 1270.59 1521.1 Q1273.39 1519.54 1277.24 1519.54 Q1281.12 1519.54 1283.83 1521.51 Q1286.57 1523.48 1287.87 1527.24 Z\" fill=\"#000000\" fill-rule=\"evenodd\" fill-opacity=\"1\" /><path clip-path=\"url(#clip140)\" d=\"M 0 0 M1348.57 1536.76 L1348.57 1539.62 L1321.64 1539.62 Q1322.02 1545.67 1325.27 1548.85 Q1328.55 1552 1334.37 1552 Q1337.75 1552 1340.9 1551.17 Q1344.08 1550.35 1347.2 1548.69 L1347.2 1554.23 Q1344.05 1555.57 1340.74 1556.27 Q1337.43 1556.97 1334.02 1556.97 Q1325.49 1556.97 1320.49 1552 Q1315.53 1547.04 1315.53 1538.57 Q1315.53 1529.82 1320.24 1524.69 Q1324.98 1519.54 1333 1519.54 Q1340.2 1519.54 1344.37 1524.18 Q1348.57 1528.8 1348.57 1536.76 M1342.71 1535.04 Q1342.65 1530.23 1340.01 1527.37 Q1337.4 1524.5 1333.07 1524.5 Q1328.17 1524.5 1325.21 1527.27 Q1322.28 1530.04 1321.83 1535.07 L1342.71 1535.04 Z\" fill=\"#000000\" fill-rule=\"evenodd\" fill-opacity=\"1\" /><path clip-path=\"url(#clip140)\" d=\"M 0 0 M40.4842 1022.78 L40.4842 1016.35 L82.5933 1016.35 L82.5933 993.214 L88.0042 993.214 L88.0042 1022.78 L40.4842 1022.78 Z\" fill=\"#000000\" fill-rule=\"evenodd\" fill-opacity=\"1\" /><path clip-path=\"url(#clip140)\" d=\"M 0 0 M91.3143 978.223 Q97.68 980.705 99.6216 983.061 Q101.563 985.416 101.563 989.363 L101.563 994.042 L96.6615 994.042 L96.6615 990.604 Q96.6615 988.185 95.5157 986.848 Q94.3699 985.512 90.1048 983.888 L87.4312 982.838 L52.3562 997.256 L52.3562 991.05 L80.238 979.91 L52.3562 968.77 L52.3562 962.563 L91.3143 978.223 Z\" fill=\"#000000\" fill-rule=\"evenodd\" fill-opacity=\"1\" /><path clip-path=\"url(#clip140)\" d=\"M 0 0 M70.0847 940.22 Q70.0847 947.317 71.7079 950.055 Q73.3312 952.792 77.2461 952.792 Q80.3653 952.792 82.2114 950.755 Q84.0256 948.686 84.0256 945.153 Q84.0256 940.283 80.5881 937.355 Q77.1188 934.395 71.3897 934.395 L70.0847 934.395 L70.0847 940.22 M67.6657 928.538 L88.0042 928.538 L88.0042 934.395 L82.5933 934.395 Q85.8398 936.4 87.3994 939.392 Q88.9272 942.384 88.9272 946.713 Q88.9272 952.187 85.8716 955.434 Q82.7843 958.648 77.6281 958.648 Q71.6125 958.648 68.5569 954.638 Q65.5014 950.596 65.5014 942.607 L65.5014 934.395 L64.9285 934.395 Q60.8862 934.395 58.6901 937.069 Q56.4621 939.71 56.4621 944.516 Q56.4621 947.572 57.1941 950.468 Q57.9262 953.365 59.3903 956.038 L53.9795 956.038 Q52.7381 952.824 52.1334 949.8 Q51.4968 946.776 51.4968 943.912 Q51.4968 936.177 55.5072 932.358 Q59.5176 928.538 67.6657 928.538 Z\" fill=\"#000000\" fill-rule=\"evenodd\" fill-opacity=\"1\" /><path clip-path=\"url(#clip140)\" d=\"M 0 0 M82.657 916.73 L101.563 916.73 L101.563 922.618 L52.3562 922.618 L52.3562 916.73 L57.7671 916.73 Q54.5842 914.884 53.0564 912.083 Q51.4968 909.25 51.4968 905.335 Q51.4968 898.842 56.6531 894.8 Q61.8093 890.726 70.212 890.726 Q78.6147 890.726 83.771 894.8 Q88.9272 898.842 88.9272 905.335 Q88.9272 909.25 87.3994 912.083 Q85.8398 914.884 82.657 916.73 M70.212 896.805 Q63.7508 896.805 60.0905 899.479 Q56.3984 902.121 56.3984 906.768 Q56.3984 911.415 60.0905 914.088 Q63.7508 916.73 70.212 916.73 Q76.6732 916.73 80.3653 914.088 Q84.0256 911.415 84.0256 906.768 Q84.0256 902.121 80.3653 899.479 Q76.6732 896.805 70.212 896.805 Z\" fill=\"#000000\" fill-rule=\"evenodd\" fill-opacity=\"1\" /><path clip-path=\"url(#clip140)\" d=\"M 0 0 M73.9359 885.188 L52.3562 885.188 L52.3562 879.332 L73.7131 879.332 Q78.7739 879.332 81.3202 877.358 Q83.8346 875.385 83.8346 871.438 Q83.8346 866.696 80.8109 863.958 Q77.7872 861.189 72.5673 861.189 L52.3562 861.189 L52.3562 855.333 L88.0042 855.333 L88.0042 861.189 L82.5296 861.189 Q85.7762 863.322 87.3676 866.155 Q88.9272 868.955 88.9272 872.679 Q88.9272 878.822 85.1078 882.005 Q81.2883 885.188 73.9359 885.188 M51.4968 870.451 L51.4968 870.451 Z\" fill=\"#000000\" fill-rule=\"evenodd\" fill-opacity=\"1\" /><path clip-path=\"url(#clip140)\" d=\"M 0 0 M66.4881 819.558 L88.0042 819.558 L88.0042 825.414 L66.679 825.414 Q61.6183 825.414 59.1038 827.387 Q56.5894 829.361 56.5894 833.308 Q56.5894 838.05 59.6131 840.787 Q62.6368 843.524 67.8567 843.524 L88.0042 843.524 L88.0042 849.413 L52.3562 849.413 L52.3562 843.524 L57.8944 843.524 Q54.6797 841.424 53.0883 838.591 Q51.4968 835.726 51.4968 832.003 Q51.4968 825.86 55.3163 822.709 Q59.1038 819.558 66.4881 819.558 Z\" fill=\"#000000\" fill-rule=\"evenodd\" fill-opacity=\"1\" /><path clip-path=\"url(#clip140)\" d=\"M 0 0 M56.4621 799.601 Q56.4621 804.312 60.1542 807.049 Q63.8145 809.786 70.212 809.786 Q76.6095 809.786 80.3017 807.081 Q83.9619 804.344 83.9619 799.601 Q83.9619 794.922 80.2698 792.185 Q76.5777 789.448 70.212 789.448 Q63.8781 789.448 60.186 792.185 Q56.4621 794.922 56.4621 799.601 M51.4968 799.601 Q51.4968 791.962 56.4621 787.602 Q61.4273 783.241 70.212 783.241 Q78.9649 783.241 83.9619 787.602 Q88.9272 791.962 88.9272 799.601 Q88.9272 807.272 83.9619 811.632 Q78.9649 815.961 70.212 815.961 Q61.4273 815.961 56.4621 811.632 Q51.4968 807.272 51.4968 799.601 Z\" fill=\"#000000\" fill-rule=\"evenodd\" fill-opacity=\"1\" /><path clip-path=\"url(#clip140)\" d=\"M 0 0 M52.3562 781.3 L52.3562 775.093 L82.275 763.953 L52.3562 752.813 L52.3562 746.607 L88.0042 759.975 L88.0042 767.932 L52.3562 781.3 Z\" fill=\"#000000\" fill-rule=\"evenodd\" fill-opacity=\"1\" /><path clip-path=\"url(#clip140)\" d=\"M 0 0 M68.7161 689.252 L71.5806 689.252 L71.5806 716.179 Q77.6281 715.797 80.8109 712.55 Q83.9619 709.272 83.9619 703.447 Q83.9619 700.073 83.1344 696.922 Q82.3069 693.739 80.6518 690.62 L86.1899 690.62 Q87.5267 693.771 88.227 697.081 Q88.9272 700.392 88.9272 703.797 Q88.9272 712.327 83.9619 717.324 Q78.9967 722.29 70.5303 722.29 Q61.7774 722.29 56.6531 717.579 Q51.4968 712.837 51.4968 704.816 Q51.4968 697.622 56.1438 693.453 Q60.7589 689.252 68.7161 689.252 M66.9973 695.108 Q62.1912 695.172 59.3266 697.813 Q56.4621 700.423 56.4621 704.752 Q56.4621 709.654 59.2312 712.614 Q62.0002 715.542 67.0292 715.988 L66.9973 695.108 Z\" fill=\"#000000\" fill-rule=\"evenodd\" fill-opacity=\"1\" /><path clip-path=\"url(#clip140)\" d=\"M 0 0 M52.3562 654.622 L69.7028 667.513 L88.0042 653.954 L88.0042 660.861 L73.9996 671.237 L88.0042 681.613 L88.0042 688.52 L69.3526 674.674 L52.3562 687.342 L52.3562 680.435 L65.0558 670.982 L52.3562 661.529 L52.3562 654.622 Z\" fill=\"#000000\" fill-rule=\"evenodd\" fill-opacity=\"1\" /><path clip-path=\"url(#clip140)\" d=\"M 0 0 M82.657 642.145 L101.563 642.145 L101.563 648.034 L52.3562 648.034 L52.3562 642.145 L57.7671 642.145 Q54.5842 640.299 53.0564 637.498 Q51.4968 634.666 51.4968 630.751 Q51.4968 624.258 56.6531 620.215 Q61.8093 616.141 70.212 616.141 Q78.6147 616.141 83.771 620.215 Q88.9272 624.258 88.9272 630.751 Q88.9272 634.666 87.3994 637.498 Q85.8398 640.299 82.657 642.145 M70.212 622.221 Q63.7508 622.221 60.0905 624.894 Q56.3984 627.536 56.3984 632.183 Q56.3984 636.83 60.0905 639.504 Q63.7508 642.145 70.212 642.145 Q76.6732 642.145 80.3653 639.504 Q84.0256 636.83 84.0256 632.183 Q84.0256 627.536 80.3653 624.894 Q76.6732 622.221 70.212 622.221 Z\" fill=\"#000000\" fill-rule=\"evenodd\" fill-opacity=\"1\" /><path clip-path=\"url(#clip140)\" d=\"M 0 0 M56.4621 596.185 Q56.4621 600.896 60.1542 603.633 Q63.8145 606.37 70.212 606.37 Q76.6095 606.37 80.3017 603.665 Q83.9619 600.927 83.9619 596.185 Q83.9619 591.506 80.2698 588.769 Q76.5777 586.032 70.212 586.032 Q63.8781 586.032 60.186 588.769 Q56.4621 591.506 56.4621 596.185 M51.4968 596.185 Q51.4968 588.546 56.4621 584.186 Q61.4273 579.825 70.212 579.825 Q78.9649 579.825 83.9619 584.186 Q88.9272 588.546 88.9272 596.185 Q88.9272 603.856 83.9619 608.216 Q78.9649 612.545 70.212 612.545 Q61.4273 612.545 56.4621 608.216 Q51.4968 603.856 51.4968 596.185 Z\" fill=\"#000000\" fill-rule=\"evenodd\" fill-opacity=\"1\" /><path clip-path=\"url(#clip140)\" d=\"M 0 0 M66.4881 544.05 L88.0042 544.05 L88.0042 549.906 L66.679 549.906 Q61.6183 549.906 59.1038 551.88 Q56.5894 553.853 56.5894 557.8 Q56.5894 562.542 59.6131 565.279 Q62.6368 568.017 67.8567 568.017 L88.0042 568.017 L88.0042 573.905 L52.3562 573.905 L52.3562 568.017 L57.8944 568.017 Q54.6797 565.916 53.0883 563.083 Q51.4968 560.219 51.4968 556.495 Q51.4968 550.352 55.3163 547.201 Q59.1038 544.05 66.4881 544.05 Z\" fill=\"#000000\" fill-rule=\"evenodd\" fill-opacity=\"1\" /><path clip-path=\"url(#clip140)\" d=\"M 0 0 M68.7161 507.415 L71.5806 507.415 L71.5806 534.342 Q77.6281 533.96 80.8109 530.714 Q83.9619 527.435 83.9619 521.611 Q83.9619 518.237 83.1344 515.086 Q82.3069 511.903 80.6518 508.784 L86.1899 508.784 Q87.5267 511.935 88.227 515.245 Q88.9272 518.555 88.9272 521.961 Q88.9272 530.491 83.9619 535.488 Q78.9967 540.453 70.5303 540.453 Q61.7774 540.453 56.6531 535.743 Q51.4968 531 51.4968 522.979 Q51.4968 515.786 56.1438 511.617 Q60.7589 507.415 68.7161 507.415 M66.9973 513.272 Q62.1912 513.335 59.3266 515.977 Q56.4621 518.587 56.4621 522.916 Q56.4621 527.817 59.2312 530.777 Q62.0002 533.706 67.0292 534.151 L66.9973 513.272 Z\" fill=\"#000000\" fill-rule=\"evenodd\" fill-opacity=\"1\" /><path clip-path=\"url(#clip140)\" d=\"M 0 0 M66.4881 471.64 L88.0042 471.64 L88.0042 477.496 L66.679 477.496 Q61.6183 477.496 59.1038 479.47 Q56.5894 481.443 56.5894 485.39 Q56.5894 490.132 59.6131 492.87 Q62.6368 495.607 67.8567 495.607 L88.0042 495.607 L88.0042 501.495 L52.3562 501.495 L52.3562 495.607 L57.8944 495.607 Q54.6797 493.506 53.0883 490.673 Q51.4968 487.809 51.4968 484.085 Q51.4968 477.942 55.3163 474.791 Q59.1038 471.64 66.4881 471.64 Z\" fill=\"#000000\" fill-rule=\"evenodd\" fill-opacity=\"1\" /><path clip-path=\"url(#clip140)\" d=\"M 0 0 M42.2347 459.704 L52.3562 459.704 L52.3562 447.641 L56.9077 447.641 L56.9077 459.704 L76.2594 459.704 Q80.6199 459.704 81.8613 458.527 Q83.1026 457.317 83.1026 453.657 L83.1026 447.641 L88.0042 447.641 L88.0042 453.657 Q88.0042 460.436 85.4897 463.014 Q82.9434 465.592 76.2594 465.592 L56.9077 465.592 L56.9077 469.889 L52.3562 469.889 L52.3562 465.592 L42.2347 465.592 L42.2347 459.704 Z\" fill=\"#000000\" fill-rule=\"evenodd\" fill-opacity=\"1\" /><polyline clip-path=\"url(#clip142)\" style=\"stroke:#009af9; stroke-width:4; stroke-opacity:1; fill:none\" points=\"\n",
       "  276.025,266.174 296.391,244.206 316.757,170.913 337.123,228.434 357.489,138.717 377.855,193.884 398.221,161.95 418.588,86.1857 438.954,156.785 459.32,167.378 \n",
       "  479.686,183.213 500.052,190.899 520.418,197.535 540.784,190.514 561.15,203.805 581.516,179.808 601.882,169.041 622.249,192.609 642.615,196.831 662.981,196.644 \n",
       "  683.347,173.31 703.713,185.069 724.079,195.453 744.445,198.467 764.811,188.461 785.177,177.261 805.543,191.79 825.91,195.723 846.276,196.622 866.642,180.577 \n",
       "  887.008,171.735 907.374,188.307 927.74,188.167 948.106,191.864 968.472,194.422 988.838,193.726 1009.2,184.683 1029.57,192.794 1049.94,185.904 1070.3,185.348 \n",
       "  1090.67,191.992 1111.03,194.517 1131.4,192.182 1151.77,181.236 1172.13,189.076 1192.5,193.762 1212.87,194.413 1233.23,188.008 1253.6,184.022 1273.96,191.384 \n",
       "  1294.33,193.4 1314.7,193.039 1335.06,183.642 1355.43,185.201 1375.79,191.841 1396.16,191.74 1416.53,190.817 1436.89,189.989 1457.26,191.804 1477.62,182.706 \n",
       "  1497.99,183.11 1518.36,189.782 1538.72,189.547 1559.09,191.711 1579.46,192.889 1599.82,190.824 1620.19,189.766 1640.55,191.755 1660.92,183.652 1681.29,172.949 \n",
       "  1701.65,161.741 1722.02,151.189 1742.38,161.138 1762.75,165.169 1783.12,165.637 1803.48,167.175 1823.85,167.519 1844.21,169.029 1864.58,169.252 1884.95,170.763 \n",
       "  1905.31,170.89 1925.68,172.368 1946.04,172.411 1966.41,173.936 1986.78,173.781 2007.14,175.512 2027.51,174.893 2047.88,177.173 2068.24,175.455 2088.61,178.711 \n",
       "  2108.97,174.822 2129.34,178.378 2149.71,181.463 2170.07,181.45 2190.44,179.906 2210.8,176.478 2231.17,180.778 2251.54,182.123 2271.9,182.644 2292.27,178.485 \n",
       "  \n",
       "  \"/>\n",
       "<polyline clip-path=\"url(#clip142)\" style=\"stroke:#e26f46; stroke-width:4; stroke-opacity:1; fill:none\" points=\"\n",
       "  276.025,266.174 296.391,793.399 316.757,504.142 337.123,436.117 357.489,425.756 377.855,382.925 398.221,374.082 418.588,376.872 438.954,358.247 459.32,339.072 \n",
       "  479.686,332.954 500.052,307.333 520.418,311.846 540.784,300.976 561.15,297.814 581.516,309.142 601.882,306.392 622.249,299.083 642.615,283.882 662.981,293.863 \n",
       "  683.347,299.431 703.713,295.841 724.079,283.83 744.445,283.044 764.811,290.878 785.177,290.06 805.543,288.545 825.91,275.83 846.276,283.307 866.642,289.532 \n",
       "  887.008,289.375 907.374,286.058 927.74,283.754 948.106,282.937 968.472,275.706 988.838,281.282 1009.2,282.276 1029.57,281.19 1049.94,282.128 1070.3,280.841 \n",
       "  1090.67,278.863 1111.03,273.675 1131.4,279.295 1151.77,281.872 1172.13,280.565 1192.5,273.244 1212.87,275.632 1233.23,279.241 1253.6,278.698 1273.96,277.514 \n",
       "  1294.33,271.588 1314.7,276.287 1335.06,279.423 1355.43,278.784 1375.79,274.469 1396.16,274.905 1416.53,275.898 1436.89,274.004 1457.26,275.643 1477.62,278.315 \n",
       "  1497.99,278.013 1518.36,275.244 1538.72,276.066 1559.09,273.538 1579.46,272.331 1599.82,274.798 1620.19,273.519 1640.55,274.465 1660.92,276.992 1681.29,279.66 \n",
       "  1701.65,282.21 1722.02,284.178 1742.38,283.281 1762.75,282.646 1783.12,282.2 1803.48,281.56 1823.85,281.186 1844.21,280.558 1864.58,280.268 1884.95,279.609 \n",
       "  1905.31,279.374 1925.68,278.699 1946.04,278.505 1966.41,277.77 1986.78,277.632 2007.14,276.787 2027.51,276.723 2047.88,275.704 2068.24,275.763 2088.61,274.75 \n",
       "  2108.97,275.368 2129.34,274.742 2149.71,270.122 2170.07,270.873 2190.44,272.715 2210.8,273.012 2231.17,272.584 2251.54,269.237 2271.9,271.2 2292.27,272.798 \n",
       "  \n",
       "  \"/>\n",
       "<polyline clip-path=\"url(#clip142)\" style=\"stroke:#3da44d; stroke-width:4; stroke-opacity:1; fill:none\" points=\"\n",
       "  276.025,266.174 296.391,772.819 316.757,1138.91 337.123,1147.32 357.489,1251.88 377.855,1236.78 398.221,1280.92 418.588,1357.42 438.954,1301.46 459.32,1310.96 \n",
       "  479.686,1301.02 500.052,1318.49 520.418,1307.02 540.784,1326.21 561.15,1314.34 581.516,1328.52 601.882,1341.94 622.249,1325.22 642.615,1336.41 662.981,1326.82 \n",
       "  683.347,1345.56 703.713,1336.49 724.079,1338.64 744.445,1335.8 764.811,1338.49 785.177,1350.38 805.543,1337.14 825.91,1346.17 846.276,1337.43 866.642,1347.95 \n",
       "  887.008,1356.8 907.374,1343.49 927.74,1345.74 948.106,1342.9 968.472,1347.49 988.838,1342.56 1009.2,1350.93 1029.57,1343.52 1049.94,1349.95 1070.3,1351.46 \n",
       "  1090.67,1346.97 1111.03,1349.56 1131.4,1346.13 1151.77,1355.02 1172.13,1348.19 1192.5,1350.84 1212.87,1347.59 1233.23,1350.82 1253.6,1355.02 1273.96,1348.96 \n",
       "  1294.33,1352.86 1314.7,1348.55 1335.06,1355 1355.43,1353.86 1375.79,1351.78 1396.16,1351.04 1416.53,1351.22 1436.89,1353.92 1457.26,1350.32 1477.62,1357.23 \n",
       "  1497.99,1356.94 1518.36,1352.95 1538.72,1352.27 1559.09,1352.82 1579.46,1352.51 1599.82,1352.3 1620.19,1354.63 1640.55,1351.56 1660.92,1357.57 1681.29,1366.16 \n",
       "  1701.65,1375.17 1722.02,1384.24 1742.38,1374.86 1762.75,1371.25 1783.12,1371.23 1803.48,1370.34 1823.85,1370.16 1844.21,1369.29 1864.58,1369.34 1884.95,1368.32 \n",
       "  1905.31,1368.41 1925.68,1367.59 1946.04,1367.64 1966.41,1366.85 1986.78,1367.05 2007.14,1366.18 2027.51,1366.77 2047.88,1365.53 2068.24,1367.15 2088.61,1364.88 \n",
       "  2108.97,1368.31 2129.34,1365.19 2149.71,1366.88 2170.07,1365.97 2190.44,1365.8 2210.8,1369.02 2231.17,1365.06 2251.54,1367.12 2271.9,1364.52 2292.27,1367.27 \n",
       "  \n",
       "  \"/>\n",
       "<path clip-path=\"url(#clip140)\" d=\"\n",
       "M1989.16 372.684 L2280.76 372.684 L2280.76 130.764 L1989.16 130.764  Z\n",
       "  \" fill=\"#ffffff\" fill-rule=\"evenodd\" fill-opacity=\"1\"/>\n",
       "<polyline clip-path=\"url(#clip140)\" style=\"stroke:#000000; stroke-width:4; stroke-opacity:1; fill:none\" points=\"\n",
       "  1989.16,372.684 2280.76,372.684 2280.76,130.764 1989.16,130.764 1989.16,372.684 \n",
       "  \"/>\n",
       "<polyline clip-path=\"url(#clip140)\" style=\"stroke:#009af9; stroke-width:4; stroke-opacity:1; fill:none\" points=\"\n",
       "  2013.16,191.244 2157.16,191.244 \n",
       "  \"/>\n",
       "<path clip-path=\"url(#clip140)\" d=\"M 0 0 M2195 210.931 Q2193.2 215.561 2191.48 216.973 Q2189.77 218.385 2186.9 218.385 L2183.5 218.385 L2183.5 214.82 L2186 214.82 Q2187.76 214.82 2188.73 213.987 Q2189.7 213.154 2190.88 210.052 L2191.65 208.107 L2181.16 182.598 L2185.67 182.598 L2193.77 202.876 L2201.88 182.598 L2206.39 182.598 L2195 210.931 Z\" fill=\"#000000\" fill-rule=\"evenodd\" fill-opacity=\"1\" /><path clip-path=\"url(#clip140)\" d=\"M 0 0 M2212.27 204.589 L2219.91 204.589 L2219.91 178.223 L2211.6 179.89 L2211.6 175.631 L2219.86 173.964 L2224.54 173.964 L2224.54 204.589 L2232.18 204.589 L2232.18 208.524 L2212.27 208.524 L2212.27 204.589 Z\" fill=\"#000000\" fill-rule=\"evenodd\" fill-opacity=\"1\" /><polyline clip-path=\"url(#clip140)\" style=\"stroke:#e26f46; stroke-width:4; stroke-opacity:1; fill:none\" points=\"\n",
       "  2013.16,251.724 2157.16,251.724 \n",
       "  \"/>\n",
       "<path clip-path=\"url(#clip140)\" d=\"M 0 0 M2195 271.411 Q2193.2 276.041 2191.48 277.453 Q2189.77 278.865 2186.9 278.865 L2183.5 278.865 L2183.5 275.3 L2186 275.3 Q2187.76 275.3 2188.73 274.467 Q2189.7 273.634 2190.88 270.532 L2191.65 268.587 L2181.16 243.078 L2185.67 243.078 L2193.77 263.356 L2201.88 243.078 L2206.39 243.078 L2195 271.411 Z\" fill=\"#000000\" fill-rule=\"evenodd\" fill-opacity=\"1\" /><path clip-path=\"url(#clip140)\" d=\"M 0 0 M2215.49 265.069 L2231.81 265.069 L2231.81 269.004 L2209.86 269.004 L2209.86 265.069 Q2212.52 262.314 2217.11 257.685 Q2221.71 253.032 2222.89 251.689 Q2225.14 249.166 2226.02 247.43 Q2226.92 245.671 2226.92 243.981 Q2226.92 241.226 2224.98 239.49 Q2223.06 237.754 2219.96 237.754 Q2217.76 237.754 2215.3 238.518 Q2212.87 239.282 2210.09 240.833 L2210.09 236.111 Q2212.92 234.976 2215.37 234.398 Q2217.83 233.819 2219.86 233.819 Q2225.23 233.819 2228.43 236.504 Q2231.62 239.189 2231.62 243.68 Q2231.62 245.81 2230.81 247.731 Q2230.02 249.629 2227.92 252.222 Q2227.34 252.893 2224.24 256.111 Q2221.14 259.305 2215.49 265.069 Z\" fill=\"#000000\" fill-rule=\"evenodd\" fill-opacity=\"1\" /><polyline clip-path=\"url(#clip140)\" style=\"stroke:#3da44d; stroke-width:4; stroke-opacity:1; fill:none\" points=\"\n",
       "  2013.16,312.204 2157.16,312.204 \n",
       "  \"/>\n",
       "<path clip-path=\"url(#clip140)\" d=\"M 0 0 M2195 331.891 Q2193.2 336.521 2191.48 337.933 Q2189.77 339.345 2186.9 339.345 L2183.5 339.345 L2183.5 335.78 L2186 335.78 Q2187.76 335.78 2188.73 334.947 Q2189.7 334.114 2190.88 331.012 L2191.65 329.067 L2181.16 303.558 L2185.67 303.558 L2193.77 323.836 L2201.88 303.558 L2206.39 303.558 L2195 331.891 Z\" fill=\"#000000\" fill-rule=\"evenodd\" fill-opacity=\"1\" /><path clip-path=\"url(#clip140)\" d=\"M 0 0 M2225.63 310.85 Q2228.98 311.568 2230.86 313.836 Q2232.76 316.105 2232.76 319.438 Q2232.76 324.554 2229.24 327.354 Q2225.72 330.155 2219.24 330.155 Q2217.06 330.155 2214.75 329.716 Q2212.46 329.299 2210 328.442 L2210 323.929 Q2211.95 325.063 2214.26 325.642 Q2216.58 326.22 2219.1 326.22 Q2223.5 326.22 2225.79 324.484 Q2228.1 322.748 2228.1 319.438 Q2228.1 316.382 2225.95 314.669 Q2223.82 312.933 2220 312.933 L2215.97 312.933 L2215.97 309.091 L2220.19 309.091 Q2223.64 309.091 2225.46 307.725 Q2227.29 306.336 2227.29 303.743 Q2227.29 301.081 2225.39 299.669 Q2223.52 298.234 2220 298.234 Q2218.08 298.234 2215.88 298.651 Q2213.68 299.068 2211.04 299.947 L2211.04 295.781 Q2213.71 295.04 2216.02 294.669 Q2218.36 294.299 2220.42 294.299 Q2225.74 294.299 2228.84 296.73 Q2231.95 299.137 2231.95 303.257 Q2231.95 306.128 2230.3 308.118 Q2228.66 310.086 2225.63 310.85 Z\" fill=\"#000000\" fill-rule=\"evenodd\" fill-opacity=\"1\" /></svg>\n"
      ]
     },
     "execution_count": 110,
     "metadata": {},
     "output_type": "execute_result"
    }
   ],
   "source": [
    "@time let\n",
    "    u0 = [19.,20.,50.]\n",
    "    p = [16.,45.92,4]\n",
    "    integrator = my_tangent_integrator(lorenz!, lorenz_jac!, u0, p)\n",
    "\n",
    "    dt = 0.001\n",
    "    t_max = 20\n",
    "    lse = lyap_qr_time_series(integrator, t_max, dt; \n",
    "        t_pre_iter=0, \n",
    "        t_save=t_max/100,\n",
    "        t_renormalize=1*dt,\n",
    "        lyapunov_count=length(u0)\n",
    "    )\n",
    "    \n",
    "    @show lse.lyapunov[:,end]\n",
    "    plot(lse)\n",
    "end"
   ]
  },
  {
   "cell_type": "markdown",
   "metadata": {},
   "source": [
    "# Using the Julia Ecosystem\n",
    "\n"
   ]
  },
  {
   "cell_type": "markdown",
   "metadata": {},
   "source": [
    "In this section we will exchange our very simple ODE integration functions with highly optimized Julia packages. "
   ]
  },
  {
   "cell_type": "code",
   "execution_count": 50,
   "metadata": {},
   "outputs": [],
   "source": [
    "using DifferentialEquations     # this might take some time to load (or precompile)\n",
    "using DynamicalSystems\n",
    "\n",
    "using DynamicalSystemsBase:_tannorm"
   ]
  },
  {
   "cell_type": "markdown",
   "metadata": {},
   "source": [
    "Again, we recommend playing around with the parameters. Other integration methods can be found at https://docs.sciml.ai/stable/solvers/ode_solve/. "
   ]
  },
  {
   "cell_type": "code",
   "execution_count": 114,
   "metadata": {},
   "outputs": [
    {
     "name": "stdout",
     "output_type": "stream",
     "text": [
      "lse.lyapunov[:, end] = [1.4834564585606713, 0.005469818549109973, -22.38082591434415]\n",
      "  2.695548 seconds (4.36 M allocations: 198.011 MiB, 15.53% gc time)\n"
     ]
    },
    {
     "data": {
      "image/svg+xml": [
       "<?xml version=\"1.0\" encoding=\"utf-8\"?>\n",
       "<svg xmlns=\"http://www.w3.org/2000/svg\" xmlns:xlink=\"http://www.w3.org/1999/xlink\" width=\"600\" height=\"400\" viewBox=\"0 0 2400 1600\">\n",
       "<defs>\n",
       "  <clipPath id=\"clip220\">\n",
       "    <rect x=\"0\" y=\"0\" width=\"2400\" height=\"1600\"/>\n",
       "  </clipPath>\n",
       "</defs>\n",
       "<path clip-path=\"url(#clip220)\" d=\"\n",
       "M0 1600 L2400 1600 L2400 0 L0 0  Z\n",
       "  \" fill=\"#ffffff\" fill-rule=\"evenodd\" fill-opacity=\"1\"/>\n",
       "<defs>\n",
       "  <clipPath id=\"clip221\">\n",
       "    <rect x=\"480\" y=\"0\" width=\"1681\" height=\"1600\"/>\n",
       "  </clipPath>\n",
       "</defs>\n",
       "<path clip-path=\"url(#clip220)\" d=\"\n",
       "M215.538 1423.18 L2352.76 1423.18 L2352.76 47.2441 L215.538 47.2441  Z\n",
       "  \" fill=\"#ffffff\" fill-rule=\"evenodd\" fill-opacity=\"1\"/>\n",
       "<defs>\n",
       "  <clipPath id=\"clip222\">\n",
       "    <rect x=\"215\" y=\"47\" width=\"2138\" height=\"1377\"/>\n",
       "  </clipPath>\n",
       "</defs>\n",
       "<polyline clip-path=\"url(#clip222)\" style=\"stroke:#000000; stroke-width:2; stroke-opacity:0.1; fill:none\" points=\"\n",
       "  273.988,1423.18 273.988,47.2441 \n",
       "  \"/>\n",
       "<polyline clip-path=\"url(#clip222)\" style=\"stroke:#000000; stroke-width:2; stroke-opacity:0.1; fill:none\" points=\"\n",
       "  783.141,1423.18 783.141,47.2441 \n",
       "  \"/>\n",
       "<polyline clip-path=\"url(#clip222)\" style=\"stroke:#000000; stroke-width:2; stroke-opacity:0.1; fill:none\" points=\"\n",
       "  1292.29,1423.18 1292.29,47.2441 \n",
       "  \"/>\n",
       "<polyline clip-path=\"url(#clip222)\" style=\"stroke:#000000; stroke-width:2; stroke-opacity:0.1; fill:none\" points=\"\n",
       "  1801.45,1423.18 1801.45,47.2441 \n",
       "  \"/>\n",
       "<polyline clip-path=\"url(#clip222)\" style=\"stroke:#000000; stroke-width:2; stroke-opacity:0.1; fill:none\" points=\"\n",
       "  2310.6,1423.18 2310.6,47.2441 \n",
       "  \"/>\n",
       "<polyline clip-path=\"url(#clip222)\" style=\"stroke:#000000; stroke-width:2; stroke-opacity:0.1; fill:none\" points=\"\n",
       "  215.538,1256.74 2352.76,1256.74 \n",
       "  \"/>\n",
       "<polyline clip-path=\"url(#clip222)\" style=\"stroke:#000000; stroke-width:2; stroke-opacity:0.1; fill:none\" points=\"\n",
       "  215.538,992.38 2352.76,992.38 \n",
       "  \"/>\n",
       "<polyline clip-path=\"url(#clip222)\" style=\"stroke:#000000; stroke-width:2; stroke-opacity:0.1; fill:none\" points=\"\n",
       "  215.538,728.023 2352.76,728.023 \n",
       "  \"/>\n",
       "<polyline clip-path=\"url(#clip222)\" style=\"stroke:#000000; stroke-width:2; stroke-opacity:0.1; fill:none\" points=\"\n",
       "  215.538,463.666 2352.76,463.666 \n",
       "  \"/>\n",
       "<polyline clip-path=\"url(#clip222)\" style=\"stroke:#000000; stroke-width:2; stroke-opacity:0.1; fill:none\" points=\"\n",
       "  215.538,199.309 2352.76,199.309 \n",
       "  \"/>\n",
       "<polyline clip-path=\"url(#clip220)\" style=\"stroke:#000000; stroke-width:4; stroke-opacity:1; fill:none\" points=\"\n",
       "  215.538,1423.18 2352.76,1423.18 \n",
       "  \"/>\n",
       "<polyline clip-path=\"url(#clip220)\" style=\"stroke:#000000; stroke-width:4; stroke-opacity:1; fill:none\" points=\"\n",
       "  215.538,1423.18 215.538,47.2441 \n",
       "  \"/>\n",
       "<polyline clip-path=\"url(#clip220)\" style=\"stroke:#000000; stroke-width:4; stroke-opacity:1; fill:none\" points=\"\n",
       "  273.988,1423.18 273.988,1406.67 \n",
       "  \"/>\n",
       "<polyline clip-path=\"url(#clip220)\" style=\"stroke:#000000; stroke-width:4; stroke-opacity:1; fill:none\" points=\"\n",
       "  783.141,1423.18 783.141,1406.67 \n",
       "  \"/>\n",
       "<polyline clip-path=\"url(#clip220)\" style=\"stroke:#000000; stroke-width:4; stroke-opacity:1; fill:none\" points=\"\n",
       "  1292.29,1423.18 1292.29,1406.67 \n",
       "  \"/>\n",
       "<polyline clip-path=\"url(#clip220)\" style=\"stroke:#000000; stroke-width:4; stroke-opacity:1; fill:none\" points=\"\n",
       "  1801.45,1423.18 1801.45,1406.67 \n",
       "  \"/>\n",
       "<polyline clip-path=\"url(#clip220)\" style=\"stroke:#000000; stroke-width:4; stroke-opacity:1; fill:none\" points=\"\n",
       "  2310.6,1423.18 2310.6,1406.67 \n",
       "  \"/>\n",
       "<polyline clip-path=\"url(#clip220)\" style=\"stroke:#000000; stroke-width:4; stroke-opacity:1; fill:none\" points=\"\n",
       "  215.538,1256.74 241.184,1256.74 \n",
       "  \"/>\n",
       "<polyline clip-path=\"url(#clip220)\" style=\"stroke:#000000; stroke-width:4; stroke-opacity:1; fill:none\" points=\"\n",
       "  215.538,992.38 241.184,992.38 \n",
       "  \"/>\n",
       "<polyline clip-path=\"url(#clip220)\" style=\"stroke:#000000; stroke-width:4; stroke-opacity:1; fill:none\" points=\"\n",
       "  215.538,728.023 241.184,728.023 \n",
       "  \"/>\n",
       "<polyline clip-path=\"url(#clip220)\" style=\"stroke:#000000; stroke-width:4; stroke-opacity:1; fill:none\" points=\"\n",
       "  215.538,463.666 241.184,463.666 \n",
       "  \"/>\n",
       "<polyline clip-path=\"url(#clip220)\" style=\"stroke:#000000; stroke-width:4; stroke-opacity:1; fill:none\" points=\"\n",
       "  215.538,199.309 241.184,199.309 \n",
       "  \"/>\n",
       "<path clip-path=\"url(#clip220)\" d=\"M 0 0 M273.988 1445.17 Q270.377 1445.17 268.549 1448.74 Q266.743 1452.28 266.743 1459.41 Q266.743 1466.51 268.549 1470.08 Q270.377 1473.62 273.988 1473.62 Q277.623 1473.62 279.428 1470.08 Q281.257 1466.51 281.257 1459.41 Q281.257 1452.28 279.428 1448.74 Q277.623 1445.17 273.988 1445.17 M273.988 1441.47 Q279.798 1441.47 282.854 1446.07 Q285.933 1450.66 285.933 1459.41 Q285.933 1468.13 282.854 1472.74 Q279.798 1477.32 273.988 1477.32 Q268.178 1477.32 265.099 1472.74 Q262.044 1468.13 262.044 1459.41 Q262.044 1450.66 265.099 1446.07 Q268.178 1441.47 273.988 1441.47 Z\" fill=\"#000000\" fill-rule=\"evenodd\" fill-opacity=\"1\" /><path clip-path=\"url(#clip220)\" d=\"M 0 0 M764.784 1472.72 L781.104 1472.72 L781.104 1476.65 L759.159 1476.65 L759.159 1472.72 Q761.821 1469.96 766.405 1465.33 Q771.011 1460.68 772.192 1459.34 Q774.437 1456.81 775.317 1455.08 Q776.219 1453.32 776.219 1451.63 Q776.219 1448.87 774.275 1447.14 Q772.354 1445.4 769.252 1445.4 Q767.053 1445.4 764.599 1446.17 Q762.169 1446.93 759.391 1448.48 L759.391 1443.76 Q762.215 1442.62 764.669 1442.05 Q767.122 1441.47 769.159 1441.47 Q774.53 1441.47 777.724 1444.15 Q780.919 1446.84 780.919 1451.33 Q780.919 1453.46 780.108 1455.38 Q779.321 1457.28 777.215 1459.87 Q776.636 1460.54 773.534 1463.76 Q770.432 1466.95 764.784 1472.72 Z\" fill=\"#000000\" fill-rule=\"evenodd\" fill-opacity=\"1\" /><path clip-path=\"url(#clip220)\" d=\"M 0 0 M786.219 1442.09 L804.576 1442.09 L804.576 1446.03 L790.502 1446.03 L790.502 1454.5 Q791.52 1454.15 792.539 1453.99 Q793.557 1453.8 794.576 1453.8 Q800.363 1453.8 803.742 1456.98 Q807.122 1460.15 807.122 1465.56 Q807.122 1471.14 803.65 1474.24 Q800.178 1477.32 793.858 1477.32 Q791.682 1477.32 789.414 1476.95 Q787.168 1476.58 784.761 1475.84 L784.761 1471.14 Q786.844 1472.28 789.067 1472.83 Q791.289 1473.39 793.766 1473.39 Q797.77 1473.39 800.108 1471.28 Q802.446 1469.18 802.446 1465.56 Q802.446 1461.95 800.108 1459.85 Q797.77 1457.74 793.766 1457.74 Q791.891 1457.74 790.016 1458.16 Q788.164 1458.57 786.219 1459.45 L786.219 1442.09 Z\" fill=\"#000000\" fill-rule=\"evenodd\" fill-opacity=\"1\" /><path clip-path=\"url(#clip220)\" d=\"M 0 0 M1269.06 1442.09 L1287.42 1442.09 L1287.42 1446.03 L1273.35 1446.03 L1273.35 1454.5 Q1274.37 1454.15 1275.38 1453.99 Q1276.4 1453.8 1277.42 1453.8 Q1283.21 1453.8 1286.59 1456.98 Q1289.97 1460.15 1289.97 1465.56 Q1289.97 1471.14 1286.49 1474.24 Q1283.02 1477.32 1276.7 1477.32 Q1274.53 1477.32 1272.26 1476.95 Q1270.01 1476.58 1267.61 1475.84 L1267.61 1471.14 Q1269.69 1472.28 1271.91 1472.83 Q1274.13 1473.39 1276.61 1473.39 Q1280.62 1473.39 1282.95 1471.28 Q1285.29 1469.18 1285.29 1465.56 Q1285.29 1461.95 1282.95 1459.85 Q1280.62 1457.74 1276.61 1457.74 Q1274.74 1457.74 1272.86 1458.16 Q1271.01 1458.57 1269.06 1459.45 L1269.06 1442.09 Z\" fill=\"#000000\" fill-rule=\"evenodd\" fill-opacity=\"1\" /><path clip-path=\"url(#clip220)\" d=\"M 0 0 M1305.04 1445.17 Q1301.43 1445.17 1299.6 1448.74 Q1297.79 1452.28 1297.79 1459.41 Q1297.79 1466.51 1299.6 1470.08 Q1301.43 1473.62 1305.04 1473.62 Q1308.67 1473.62 1310.48 1470.08 Q1312.3 1466.51 1312.3 1459.41 Q1312.3 1452.28 1310.48 1448.74 Q1308.67 1445.17 1305.04 1445.17 M1305.04 1441.47 Q1310.85 1441.47 1313.9 1446.07 Q1316.98 1450.66 1316.98 1459.41 Q1316.98 1468.13 1313.9 1472.74 Q1310.85 1477.32 1305.04 1477.32 Q1299.23 1477.32 1296.15 1472.74 Q1293.09 1468.13 1293.09 1459.41 Q1293.09 1450.66 1296.15 1446.07 Q1299.23 1441.47 1305.04 1441.47 Z\" fill=\"#000000\" fill-rule=\"evenodd\" fill-opacity=\"1\" /><path clip-path=\"url(#clip220)\" d=\"M 0 0 M1777.33 1442.09 L1799.55 1442.09 L1799.55 1444.08 L1787 1476.65 L1782.12 1476.65 L1793.92 1446.03 L1777.33 1446.03 L1777.33 1442.09 Z\" fill=\"#000000\" fill-rule=\"evenodd\" fill-opacity=\"1\" /><path clip-path=\"url(#clip220)\" d=\"M 0 0 M1804.66 1442.09 L1823.02 1442.09 L1823.02 1446.03 L1808.95 1446.03 L1808.95 1454.5 Q1809.96 1454.15 1810.98 1453.99 Q1812 1453.8 1813.02 1453.8 Q1818.81 1453.8 1822.19 1456.98 Q1825.57 1460.15 1825.57 1465.56 Q1825.57 1471.14 1822.09 1474.24 Q1818.62 1477.32 1812.3 1477.32 Q1810.13 1477.32 1807.86 1476.95 Q1805.61 1476.58 1803.2 1475.84 L1803.2 1471.14 Q1805.29 1472.28 1807.51 1472.83 Q1809.73 1473.39 1812.21 1473.39 Q1816.21 1473.39 1818.55 1471.28 Q1820.89 1469.18 1820.89 1465.56 Q1820.89 1461.95 1818.55 1459.85 Q1816.21 1457.74 1812.21 1457.74 Q1810.33 1457.74 1808.46 1458.16 Q1806.61 1458.57 1804.66 1459.45 L1804.66 1442.09 Z\" fill=\"#000000\" fill-rule=\"evenodd\" fill-opacity=\"1\" /><path clip-path=\"url(#clip220)\" d=\"M 0 0 M2273.97 1472.72 L2281.61 1472.72 L2281.61 1446.35 L2273.3 1448.02 L2273.3 1443.76 L2281.56 1442.09 L2286.23 1442.09 L2286.23 1472.72 L2293.87 1472.72 L2293.87 1476.65 L2273.97 1476.65 L2273.97 1472.72 Z\" fill=\"#000000\" fill-rule=\"evenodd\" fill-opacity=\"1\" /><path clip-path=\"url(#clip220)\" d=\"M 0 0 M2308.94 1445.17 Q2305.33 1445.17 2303.5 1448.74 Q2301.7 1452.28 2301.7 1459.41 Q2301.7 1466.51 2303.5 1470.08 Q2305.33 1473.62 2308.94 1473.62 Q2312.58 1473.62 2314.38 1470.08 Q2316.21 1466.51 2316.21 1459.41 Q2316.21 1452.28 2314.38 1448.74 Q2312.58 1445.17 2308.94 1445.17 M2308.94 1441.47 Q2314.75 1441.47 2317.81 1446.07 Q2320.89 1450.66 2320.89 1459.41 Q2320.89 1468.13 2317.81 1472.74 Q2314.75 1477.32 2308.94 1477.32 Q2303.13 1477.32 2300.05 1472.74 Q2297 1468.13 2297 1459.41 Q2297 1450.66 2300.05 1446.07 Q2303.13 1441.47 2308.94 1441.47 Z\" fill=\"#000000\" fill-rule=\"evenodd\" fill-opacity=\"1\" /><path clip-path=\"url(#clip220)\" d=\"M 0 0 M2335.96 1445.17 Q2332.35 1445.17 2330.52 1448.74 Q2328.71 1452.28 2328.71 1459.41 Q2328.71 1466.51 2330.52 1470.08 Q2332.35 1473.62 2335.96 1473.62 Q2339.59 1473.62 2341.4 1470.08 Q2343.23 1466.51 2343.23 1459.41 Q2343.23 1452.28 2341.4 1448.74 Q2339.59 1445.17 2335.96 1445.17 M2335.96 1441.47 Q2341.77 1441.47 2344.82 1446.07 Q2347.9 1450.66 2347.9 1459.41 Q2347.9 1468.13 2344.82 1472.74 Q2341.77 1477.32 2335.96 1477.32 Q2330.15 1477.32 2327.07 1472.74 Q2324.01 1468.13 2324.01 1459.41 Q2324.01 1450.66 2327.07 1446.07 Q2330.15 1441.47 2335.96 1441.47 Z\" fill=\"#000000\" fill-rule=\"evenodd\" fill-opacity=\"1\" /><path clip-path=\"url(#clip220)\" d=\"M 0 0 M126.631 1259.13 L139.107 1259.13 L139.107 1262.93 L126.631 1262.93 L126.631 1259.13 Z\" fill=\"#000000\" fill-rule=\"evenodd\" fill-opacity=\"1\" /><path clip-path=\"url(#clip220)\" d=\"M 0 0 M148.204 1270.08 L164.524 1270.08 L164.524 1274.02 L142.58 1274.02 L142.58 1270.08 Q145.242 1267.33 149.825 1262.7 Q154.431 1258.04 155.612 1256.7 Q157.857 1254.18 158.737 1252.44 Q159.64 1250.68 159.64 1248.99 Q159.64 1246.24 157.695 1244.5 Q155.774 1242.77 152.672 1242.77 Q150.473 1242.77 148.019 1243.53 Q145.589 1244.29 142.811 1245.85 L142.811 1241.12 Q145.635 1239.99 148.089 1239.41 Q150.542 1238.83 152.579 1238.83 Q157.95 1238.83 161.144 1241.52 Q164.339 1244.2 164.339 1248.69 Q164.339 1250.82 163.528 1252.74 Q162.741 1254.64 160.635 1257.23 Q160.056 1257.91 156.954 1261.12 Q153.853 1264.32 148.204 1270.08 Z\" fill=\"#000000\" fill-rule=\"evenodd\" fill-opacity=\"1\" /><path clip-path=\"url(#clip220)\" d=\"M 0 0 M179.593 1242.54 Q175.982 1242.54 174.153 1246.1 Q172.348 1249.64 172.348 1256.77 Q172.348 1263.88 174.153 1267.44 Q175.982 1270.98 179.593 1270.98 Q183.227 1270.98 185.033 1267.44 Q186.862 1263.88 186.862 1256.77 Q186.862 1249.64 185.033 1246.1 Q183.227 1242.54 179.593 1242.54 M179.593 1238.83 Q185.403 1238.83 188.459 1243.44 Q191.538 1248.02 191.538 1256.77 Q191.538 1265.5 188.459 1270.1 Q185.403 1274.69 179.593 1274.69 Q173.783 1274.69 170.704 1270.1 Q167.649 1265.5 167.649 1256.77 Q167.649 1248.02 170.704 1243.44 Q173.783 1238.83 179.593 1238.83 Z\" fill=\"#000000\" fill-rule=\"evenodd\" fill-opacity=\"1\" /><path clip-path=\"url(#clip220)\" d=\"M 0 0 M127.256 994.775 L139.732 994.775 L139.732 998.572 L127.256 998.572 L127.256 994.775 Z\" fill=\"#000000\" fill-rule=\"evenodd\" fill-opacity=\"1\" /><path clip-path=\"url(#clip220)\" d=\"M 0 0 M145.612 1005.72 L153.251 1005.72 L153.251 979.359 L144.941 981.025 L144.941 976.766 L153.204 975.1 L157.88 975.1 L157.88 1005.72 L165.519 1005.72 L165.519 1009.66 L145.612 1009.66 L145.612 1005.72 Z\" fill=\"#000000\" fill-rule=\"evenodd\" fill-opacity=\"1\" /><path clip-path=\"url(#clip220)\" d=\"M 0 0 M170.635 975.1 L188.991 975.1 L188.991 979.035 L174.917 979.035 L174.917 987.507 Q175.936 987.16 176.954 986.998 Q177.973 986.812 178.991 986.812 Q184.778 986.812 188.158 989.984 Q191.538 993.155 191.538 998.572 Q191.538 1004.15 188.065 1007.25 Q184.593 1010.33 178.274 1010.33 Q176.098 1010.33 173.829 1009.96 Q171.584 1009.59 169.177 1008.85 L169.177 1004.15 Q171.26 1005.28 173.482 1005.84 Q175.704 1006.4 178.181 1006.4 Q182.186 1006.4 184.524 1004.29 Q186.862 1002.18 186.862 998.572 Q186.862 994.961 184.524 992.854 Q182.186 990.748 178.181 990.748 Q176.306 990.748 174.431 991.164 Q172.579 991.581 170.635 992.461 L170.635 975.1 Z\" fill=\"#000000\" fill-rule=\"evenodd\" fill-opacity=\"1\" /><path clip-path=\"url(#clip220)\" d=\"M 0 0 M126.26 730.419 L138.737 730.419 L138.737 734.215 L126.26 734.215 L126.26 730.419 Z\" fill=\"#000000\" fill-rule=\"evenodd\" fill-opacity=\"1\" /><path clip-path=\"url(#clip220)\" d=\"M 0 0 M144.617 741.368 L152.255 741.368 L152.255 715.002 L143.945 716.669 L143.945 712.409 L152.209 710.743 L156.885 710.743 L156.885 741.368 L164.524 741.368 L164.524 745.303 L144.617 745.303 L144.617 741.368 Z\" fill=\"#000000\" fill-rule=\"evenodd\" fill-opacity=\"1\" /><path clip-path=\"url(#clip220)\" d=\"M 0 0 M179.593 713.821 Q175.982 713.821 174.153 717.386 Q172.348 720.928 172.348 728.057 Q172.348 735.164 174.153 738.729 Q175.982 742.27 179.593 742.27 Q183.227 742.27 185.033 738.729 Q186.862 735.164 186.862 728.057 Q186.862 720.928 185.033 717.386 Q183.227 713.821 179.593 713.821 M179.593 710.118 Q185.403 710.118 188.459 714.724 Q191.538 719.307 191.538 728.057 Q191.538 736.784 188.459 741.391 Q185.403 745.974 179.593 745.974 Q173.783 745.974 170.704 741.391 Q167.649 736.784 167.649 728.057 Q167.649 719.307 170.704 714.724 Q173.783 710.118 179.593 710.118 Z\" fill=\"#000000\" fill-rule=\"evenodd\" fill-opacity=\"1\" /><path clip-path=\"url(#clip220)\" d=\"M 0 0 M153.042 466.062 L165.519 466.062 L165.519 469.858 L153.042 469.858 L153.042 466.062 Z\" fill=\"#000000\" fill-rule=\"evenodd\" fill-opacity=\"1\" /><path clip-path=\"url(#clip220)\" d=\"M 0 0 M170.635 446.386 L188.991 446.386 L188.991 450.321 L174.917 450.321 L174.917 458.793 Q175.936 458.446 176.954 458.284 Q177.973 458.099 178.991 458.099 Q184.778 458.099 188.158 461.27 Q191.538 464.441 191.538 469.858 Q191.538 475.437 188.065 478.538 Q184.593 481.617 178.274 481.617 Q176.098 481.617 173.829 481.247 Q171.584 480.876 169.177 480.136 L169.177 475.437 Q171.26 476.571 173.482 477.126 Q175.704 477.682 178.181 477.682 Q182.186 477.682 184.524 475.575 Q186.862 473.469 186.862 469.858 Q186.862 466.247 184.524 464.14 Q182.186 462.034 178.181 462.034 Q176.306 462.034 174.431 462.451 Q172.579 462.867 170.635 463.747 L170.635 446.386 Z\" fill=\"#000000\" fill-rule=\"evenodd\" fill-opacity=\"1\" /><path clip-path=\"url(#clip220)\" d=\"M 0 0 M179.593 185.108 Q175.982 185.108 174.153 188.672 Q172.348 192.214 172.348 199.344 Q172.348 206.45 174.153 210.015 Q175.982 213.557 179.593 213.557 Q183.227 213.557 185.033 210.015 Q186.862 206.45 186.862 199.344 Q186.862 192.214 185.033 188.672 Q183.227 185.108 179.593 185.108 M179.593 181.404 Q185.403 181.404 188.459 186.01 Q191.538 190.594 191.538 199.344 Q191.538 208.07 188.459 212.677 Q185.403 217.26 179.593 217.26 Q173.783 217.26 170.704 212.677 Q167.649 208.07 167.649 199.344 Q167.649 190.594 170.704 186.01 Q173.783 181.404 179.593 181.404 Z\" fill=\"#000000\" fill-rule=\"evenodd\" fill-opacity=\"1\" /><path clip-path=\"url(#clip220)\" d=\"M 0 0 M1229.91 1510.27 L1229.91 1520.4 L1241.97 1520.4 L1241.97 1524.95 L1229.91 1524.95 L1229.91 1544.3 Q1229.91 1548.66 1231.09 1549.9 Q1232.3 1551.14 1235.96 1551.14 L1241.97 1551.14 L1241.97 1556.04 L1235.96 1556.04 Q1229.18 1556.04 1226.6 1553.53 Q1224.02 1550.98 1224.02 1544.3 L1224.02 1524.95 L1219.73 1524.95 L1219.73 1520.4 L1224.02 1520.4 L1224.02 1510.27 L1229.91 1510.27 Z\" fill=\"#000000\" fill-rule=\"evenodd\" fill-opacity=\"1\" /><path clip-path=\"url(#clip220)\" d=\"M 0 0 M1248.12 1520.4 L1253.97 1520.4 L1253.97 1556.04 L1248.12 1556.04 L1248.12 1520.4 M1248.12 1506.52 L1253.97 1506.52 L1253.97 1513.93 L1248.12 1513.93 L1248.12 1506.52 Z\" fill=\"#000000\" fill-rule=\"evenodd\" fill-opacity=\"1\" /><path clip-path=\"url(#clip220)\" d=\"M 0 0 M1287.87 1527.24 Q1290.07 1523.29 1293.12 1521.41 Q1296.18 1519.54 1300.32 1519.54 Q1305.89 1519.54 1308.91 1523.45 Q1311.93 1527.33 1311.93 1534.53 L1311.93 1556.04 L1306.04 1556.04 L1306.04 1534.72 Q1306.04 1529.59 1304.23 1527.11 Q1302.42 1524.63 1298.69 1524.63 Q1294.14 1524.63 1291.5 1527.65 Q1288.86 1530.68 1288.86 1535.9 L1288.86 1556.04 L1282.97 1556.04 L1282.97 1534.72 Q1282.97 1529.56 1281.15 1527.11 Q1279.34 1524.63 1275.55 1524.63 Q1271.07 1524.63 1268.42 1527.68 Q1265.78 1530.71 1265.78 1535.9 L1265.78 1556.04 L1259.89 1556.04 L1259.89 1520.4 L1265.78 1520.4 L1265.78 1525.93 Q1267.79 1522.66 1270.59 1521.1 Q1273.39 1519.54 1277.24 1519.54 Q1281.12 1519.54 1283.83 1521.51 Q1286.57 1523.48 1287.87 1527.24 Z\" fill=\"#000000\" fill-rule=\"evenodd\" fill-opacity=\"1\" /><path clip-path=\"url(#clip220)\" d=\"M 0 0 M1348.57 1536.76 L1348.57 1539.62 L1321.64 1539.62 Q1322.02 1545.67 1325.27 1548.85 Q1328.55 1552 1334.37 1552 Q1337.75 1552 1340.9 1551.17 Q1344.08 1550.35 1347.2 1548.69 L1347.2 1554.23 Q1344.05 1555.57 1340.74 1556.27 Q1337.43 1556.97 1334.02 1556.97 Q1325.49 1556.97 1320.49 1552 Q1315.53 1547.04 1315.53 1538.57 Q1315.53 1529.82 1320.24 1524.69 Q1324.98 1519.54 1333 1519.54 Q1340.2 1519.54 1344.37 1524.18 Q1348.57 1528.8 1348.57 1536.76 M1342.71 1535.04 Q1342.65 1530.23 1340.01 1527.37 Q1337.4 1524.5 1333.07 1524.5 Q1328.17 1524.5 1325.21 1527.27 Q1322.28 1530.04 1321.83 1535.07 L1342.71 1535.04 Z\" fill=\"#000000\" fill-rule=\"evenodd\" fill-opacity=\"1\" /><path clip-path=\"url(#clip220)\" d=\"M 0 0 M40.4842 1022.78 L40.4842 1016.35 L82.5933 1016.35 L82.5933 993.214 L88.0042 993.214 L88.0042 1022.78 L40.4842 1022.78 Z\" fill=\"#000000\" fill-rule=\"evenodd\" fill-opacity=\"1\" /><path clip-path=\"url(#clip220)\" d=\"M 0 0 M91.3143 978.223 Q97.68 980.705 99.6216 983.061 Q101.563 985.416 101.563 989.363 L101.563 994.042 L96.6615 994.042 L96.6615 990.604 Q96.6615 988.185 95.5157 986.848 Q94.3699 985.512 90.1048 983.888 L87.4312 982.838 L52.3562 997.256 L52.3562 991.05 L80.238 979.91 L52.3562 968.77 L52.3562 962.563 L91.3143 978.223 Z\" fill=\"#000000\" fill-rule=\"evenodd\" fill-opacity=\"1\" /><path clip-path=\"url(#clip220)\" d=\"M 0 0 M70.0847 940.22 Q70.0847 947.317 71.7079 950.055 Q73.3312 952.792 77.2461 952.792 Q80.3653 952.792 82.2114 950.755 Q84.0256 948.686 84.0256 945.153 Q84.0256 940.283 80.5881 937.355 Q77.1188 934.395 71.3897 934.395 L70.0847 934.395 L70.0847 940.22 M67.6657 928.538 L88.0042 928.538 L88.0042 934.395 L82.5933 934.395 Q85.8398 936.4 87.3994 939.392 Q88.9272 942.384 88.9272 946.713 Q88.9272 952.187 85.8716 955.434 Q82.7843 958.648 77.6281 958.648 Q71.6125 958.648 68.5569 954.638 Q65.5014 950.596 65.5014 942.607 L65.5014 934.395 L64.9285 934.395 Q60.8862 934.395 58.6901 937.069 Q56.4621 939.71 56.4621 944.516 Q56.4621 947.572 57.1941 950.468 Q57.9262 953.365 59.3903 956.038 L53.9795 956.038 Q52.7381 952.824 52.1334 949.8 Q51.4968 946.776 51.4968 943.912 Q51.4968 936.177 55.5072 932.358 Q59.5176 928.538 67.6657 928.538 Z\" fill=\"#000000\" fill-rule=\"evenodd\" fill-opacity=\"1\" /><path clip-path=\"url(#clip220)\" d=\"M 0 0 M82.657 916.73 L101.563 916.73 L101.563 922.618 L52.3562 922.618 L52.3562 916.73 L57.7671 916.73 Q54.5842 914.884 53.0564 912.083 Q51.4968 909.25 51.4968 905.335 Q51.4968 898.842 56.6531 894.8 Q61.8093 890.726 70.212 890.726 Q78.6147 890.726 83.771 894.8 Q88.9272 898.842 88.9272 905.335 Q88.9272 909.25 87.3994 912.083 Q85.8398 914.884 82.657 916.73 M70.212 896.805 Q63.7508 896.805 60.0905 899.479 Q56.3984 902.121 56.3984 906.768 Q56.3984 911.415 60.0905 914.088 Q63.7508 916.73 70.212 916.73 Q76.6732 916.73 80.3653 914.088 Q84.0256 911.415 84.0256 906.768 Q84.0256 902.121 80.3653 899.479 Q76.6732 896.805 70.212 896.805 Z\" fill=\"#000000\" fill-rule=\"evenodd\" fill-opacity=\"1\" /><path clip-path=\"url(#clip220)\" d=\"M 0 0 M73.9359 885.188 L52.3562 885.188 L52.3562 879.332 L73.7131 879.332 Q78.7739 879.332 81.3202 877.358 Q83.8346 875.385 83.8346 871.438 Q83.8346 866.696 80.8109 863.958 Q77.7872 861.189 72.5673 861.189 L52.3562 861.189 L52.3562 855.333 L88.0042 855.333 L88.0042 861.189 L82.5296 861.189 Q85.7762 863.322 87.3676 866.155 Q88.9272 868.955 88.9272 872.679 Q88.9272 878.822 85.1078 882.005 Q81.2883 885.188 73.9359 885.188 M51.4968 870.451 L51.4968 870.451 Z\" fill=\"#000000\" fill-rule=\"evenodd\" fill-opacity=\"1\" /><path clip-path=\"url(#clip220)\" d=\"M 0 0 M66.4881 819.558 L88.0042 819.558 L88.0042 825.414 L66.679 825.414 Q61.6183 825.414 59.1038 827.387 Q56.5894 829.361 56.5894 833.308 Q56.5894 838.05 59.6131 840.787 Q62.6368 843.524 67.8567 843.524 L88.0042 843.524 L88.0042 849.413 L52.3562 849.413 L52.3562 843.524 L57.8944 843.524 Q54.6797 841.424 53.0883 838.591 Q51.4968 835.726 51.4968 832.003 Q51.4968 825.86 55.3163 822.709 Q59.1038 819.558 66.4881 819.558 Z\" fill=\"#000000\" fill-rule=\"evenodd\" fill-opacity=\"1\" /><path clip-path=\"url(#clip220)\" d=\"M 0 0 M56.4621 799.601 Q56.4621 804.312 60.1542 807.049 Q63.8145 809.786 70.212 809.786 Q76.6095 809.786 80.3017 807.081 Q83.9619 804.344 83.9619 799.601 Q83.9619 794.922 80.2698 792.185 Q76.5777 789.448 70.212 789.448 Q63.8781 789.448 60.186 792.185 Q56.4621 794.922 56.4621 799.601 M51.4968 799.601 Q51.4968 791.962 56.4621 787.602 Q61.4273 783.241 70.212 783.241 Q78.9649 783.241 83.9619 787.602 Q88.9272 791.962 88.9272 799.601 Q88.9272 807.272 83.9619 811.632 Q78.9649 815.961 70.212 815.961 Q61.4273 815.961 56.4621 811.632 Q51.4968 807.272 51.4968 799.601 Z\" fill=\"#000000\" fill-rule=\"evenodd\" fill-opacity=\"1\" /><path clip-path=\"url(#clip220)\" d=\"M 0 0 M52.3562 781.3 L52.3562 775.093 L82.275 763.953 L52.3562 752.813 L52.3562 746.607 L88.0042 759.975 L88.0042 767.932 L52.3562 781.3 Z\" fill=\"#000000\" fill-rule=\"evenodd\" fill-opacity=\"1\" /><path clip-path=\"url(#clip220)\" d=\"M 0 0 M68.7161 689.252 L71.5806 689.252 L71.5806 716.179 Q77.6281 715.797 80.8109 712.55 Q83.9619 709.272 83.9619 703.447 Q83.9619 700.073 83.1344 696.922 Q82.3069 693.739 80.6518 690.62 L86.1899 690.62 Q87.5267 693.771 88.227 697.081 Q88.9272 700.392 88.9272 703.797 Q88.9272 712.327 83.9619 717.324 Q78.9967 722.29 70.5303 722.29 Q61.7774 722.29 56.6531 717.579 Q51.4968 712.837 51.4968 704.816 Q51.4968 697.622 56.1438 693.453 Q60.7589 689.252 68.7161 689.252 M66.9973 695.108 Q62.1912 695.172 59.3266 697.813 Q56.4621 700.423 56.4621 704.752 Q56.4621 709.654 59.2312 712.614 Q62.0002 715.542 67.0292 715.988 L66.9973 695.108 Z\" fill=\"#000000\" fill-rule=\"evenodd\" fill-opacity=\"1\" /><path clip-path=\"url(#clip220)\" d=\"M 0 0 M52.3562 654.622 L69.7028 667.513 L88.0042 653.954 L88.0042 660.861 L73.9996 671.237 L88.0042 681.613 L88.0042 688.52 L69.3526 674.674 L52.3562 687.342 L52.3562 680.435 L65.0558 670.982 L52.3562 661.529 L52.3562 654.622 Z\" fill=\"#000000\" fill-rule=\"evenodd\" fill-opacity=\"1\" /><path clip-path=\"url(#clip220)\" d=\"M 0 0 M82.657 642.145 L101.563 642.145 L101.563 648.034 L52.3562 648.034 L52.3562 642.145 L57.7671 642.145 Q54.5842 640.299 53.0564 637.498 Q51.4968 634.666 51.4968 630.751 Q51.4968 624.258 56.6531 620.215 Q61.8093 616.141 70.212 616.141 Q78.6147 616.141 83.771 620.215 Q88.9272 624.258 88.9272 630.751 Q88.9272 634.666 87.3994 637.498 Q85.8398 640.299 82.657 642.145 M70.212 622.221 Q63.7508 622.221 60.0905 624.894 Q56.3984 627.536 56.3984 632.183 Q56.3984 636.83 60.0905 639.504 Q63.7508 642.145 70.212 642.145 Q76.6732 642.145 80.3653 639.504 Q84.0256 636.83 84.0256 632.183 Q84.0256 627.536 80.3653 624.894 Q76.6732 622.221 70.212 622.221 Z\" fill=\"#000000\" fill-rule=\"evenodd\" fill-opacity=\"1\" /><path clip-path=\"url(#clip220)\" d=\"M 0 0 M56.4621 596.185 Q56.4621 600.896 60.1542 603.633 Q63.8145 606.37 70.212 606.37 Q76.6095 606.37 80.3017 603.665 Q83.9619 600.927 83.9619 596.185 Q83.9619 591.506 80.2698 588.769 Q76.5777 586.032 70.212 586.032 Q63.8781 586.032 60.186 588.769 Q56.4621 591.506 56.4621 596.185 M51.4968 596.185 Q51.4968 588.546 56.4621 584.186 Q61.4273 579.825 70.212 579.825 Q78.9649 579.825 83.9619 584.186 Q88.9272 588.546 88.9272 596.185 Q88.9272 603.856 83.9619 608.216 Q78.9649 612.545 70.212 612.545 Q61.4273 612.545 56.4621 608.216 Q51.4968 603.856 51.4968 596.185 Z\" fill=\"#000000\" fill-rule=\"evenodd\" fill-opacity=\"1\" /><path clip-path=\"url(#clip220)\" d=\"M 0 0 M66.4881 544.05 L88.0042 544.05 L88.0042 549.906 L66.679 549.906 Q61.6183 549.906 59.1038 551.88 Q56.5894 553.853 56.5894 557.8 Q56.5894 562.542 59.6131 565.279 Q62.6368 568.017 67.8567 568.017 L88.0042 568.017 L88.0042 573.905 L52.3562 573.905 L52.3562 568.017 L57.8944 568.017 Q54.6797 565.916 53.0883 563.083 Q51.4968 560.219 51.4968 556.495 Q51.4968 550.352 55.3163 547.201 Q59.1038 544.05 66.4881 544.05 Z\" fill=\"#000000\" fill-rule=\"evenodd\" fill-opacity=\"1\" /><path clip-path=\"url(#clip220)\" d=\"M 0 0 M68.7161 507.415 L71.5806 507.415 L71.5806 534.342 Q77.6281 533.96 80.8109 530.714 Q83.9619 527.435 83.9619 521.611 Q83.9619 518.237 83.1344 515.086 Q82.3069 511.903 80.6518 508.784 L86.1899 508.784 Q87.5267 511.935 88.227 515.245 Q88.9272 518.555 88.9272 521.961 Q88.9272 530.491 83.9619 535.488 Q78.9967 540.453 70.5303 540.453 Q61.7774 540.453 56.6531 535.743 Q51.4968 531 51.4968 522.979 Q51.4968 515.786 56.1438 511.617 Q60.7589 507.415 68.7161 507.415 M66.9973 513.272 Q62.1912 513.335 59.3266 515.977 Q56.4621 518.587 56.4621 522.916 Q56.4621 527.817 59.2312 530.777 Q62.0002 533.706 67.0292 534.151 L66.9973 513.272 Z\" fill=\"#000000\" fill-rule=\"evenodd\" fill-opacity=\"1\" /><path clip-path=\"url(#clip220)\" d=\"M 0 0 M66.4881 471.64 L88.0042 471.64 L88.0042 477.496 L66.679 477.496 Q61.6183 477.496 59.1038 479.47 Q56.5894 481.443 56.5894 485.39 Q56.5894 490.132 59.6131 492.87 Q62.6368 495.607 67.8567 495.607 L88.0042 495.607 L88.0042 501.495 L52.3562 501.495 L52.3562 495.607 L57.8944 495.607 Q54.6797 493.506 53.0883 490.673 Q51.4968 487.809 51.4968 484.085 Q51.4968 477.942 55.3163 474.791 Q59.1038 471.64 66.4881 471.64 Z\" fill=\"#000000\" fill-rule=\"evenodd\" fill-opacity=\"1\" /><path clip-path=\"url(#clip220)\" d=\"M 0 0 M42.2347 459.704 L52.3562 459.704 L52.3562 447.641 L56.9077 447.641 L56.9077 459.704 L76.2594 459.704 Q80.6199 459.704 81.8613 458.527 Q83.1026 457.317 83.1026 453.657 L83.1026 447.641 L88.0042 447.641 L88.0042 453.657 Q88.0042 460.436 85.4897 463.014 Q82.9434 465.592 76.2594 465.592 L56.9077 465.592 L56.9077 469.889 L52.3562 469.889 L52.3562 465.592 L42.2347 465.592 L42.2347 459.704 Z\" fill=\"#000000\" fill-rule=\"evenodd\" fill-opacity=\"1\" /><polyline clip-path=\"url(#clip222)\" style=\"stroke:#009af9; stroke-width:4; stroke-opacity:1; fill:none\" points=\"\n",
       "  276.025,199.309 296.391,97.5346 316.757,141.406 337.123,106.955 357.489,127.367 377.855,112.375 398.221,86.1857 418.588,115.854 438.954,112.679 459.32,117.384 \n",
       "  479.686,102.776 500.052,116.267 520.418,117.948 540.784,112.785 561.15,118.791 581.516,121.67 601.882,119.394 622.249,120.398 642.615,115.487 662.981,120.041 \n",
       "  683.347,113.627 703.713,122.197 724.079,118.68 744.445,121.4 764.811,119.245 785.177,117.755 805.543,121.478 825.91,120.454 846.276,116.511 866.642,119.732 \n",
       "  887.008,116.102 907.374,119.392 927.74,119.98 948.106,120.645 968.472,120.073 988.838,120.618 1009.2,117.519 1029.57,119.815 1049.94,121.894 1070.3,120.154 \n",
       "  1090.67,120.034 1111.03,121.167 1131.4,117.517 1151.77,121.56 1172.13,119.83 1192.5,119.72 1212.87,121.507 1233.23,122.619 1253.6,120.739 1273.96,121.554 \n",
       "  1294.33,122.001 1314.7,120.049 1335.06,117.774 1355.43,121.042 1375.79,122.721 1396.16,120.411 1416.53,121.971 1436.89,122.756 1457.26,121.713 1477.62,121.537 \n",
       "  1497.99,120.932 1518.36,121.796 1538.72,122.045 1559.09,121.699 1579.46,120.454 1599.82,122.089 1620.19,121.908 1640.55,119.375 1660.92,121.322 1681.29,120.589 \n",
       "  1701.65,121.049 1722.02,121.467 1742.38,120.9 1762.75,120.886 1783.12,121.616 1803.48,120.876 1823.85,121.592 1844.21,119.672 1864.58,121.417 1884.95,121.763 \n",
       "  1905.31,120.194 1925.68,121.011 1946.04,120.911 1966.41,121.715 1986.78,121.282 2007.14,120.021 2027.51,121.5 2047.88,118.783 2068.24,120.875 2088.61,121.615 \n",
       "  2108.97,122.081 2129.34,121.908 2149.71,121.951 2170.07,121.621 2190.44,121.687 2210.8,121.038 2231.17,121.468 2251.54,120.561 2271.9,121.074 2292.27,120.877 \n",
       "  \n",
       "  \"/>\n",
       "<polyline clip-path=\"url(#clip222)\" style=\"stroke:#e26f46; stroke-width:4; stroke-opacity:1; fill:none\" points=\"\n",
       "  276.025,199.309 296.391,318.036 316.757,238.924 337.123,244.501 357.489,224.889 377.855,230.321 398.221,230.136 418.588,217.014 438.954,220.425 459.32,214.767 \n",
       "  479.686,219.124 500.052,213.384 520.418,211.37 540.784,212.004 561.15,208.922 581.516,205.546 601.882,206.36 622.249,204.295 642.615,207.237 662.981,204.079 \n",
       "  683.347,206.666 703.713,202.801 724.079,204.078 744.445,201.79 764.811,203.627 785.177,203.888 805.543,200.212 825.91,201.894 846.276,203.413 866.642,202.333 \n",
       "  887.008,202.485 907.374,201.929 927.74,201.251 948.106,200.551 968.472,201.101 988.838,200.618 1009.2,202.042 1029.57,201.195 1049.94,198.939 1070.3,200.502 \n",
       "  1090.67,200.664 1111.03,200.114 1131.4,200.085 1151.77,199.546 1172.13,200.293 1192.5,200.859 1212.87,199.835 1233.23,198.792 1253.6,199.516 1273.96,198.679 \n",
       "  1294.33,198.508 1314.7,199.907 1335.06,200.388 1355.43,199.993 1375.79,198.467 1396.16,199.495 1416.53,198.833 1436.89,198.488 1457.26,199.048 1477.62,199.105 \n",
       "  1497.99,199.381 1518.36,199.195 1538.72,198.489 1559.09,198.955 1579.46,198.727 1599.82,198.302 1620.19,198.556 1640.55,199.172 1660.92,198.84 1681.29,199.326 \n",
       "  1701.65,199.139 1722.02,199.116 1742.38,199.432 1762.75,199.185 1783.12,198.554 1803.48,199.362 1823.85,198.519 1844.21,199.058 1864.58,198.445 1884.95,198.144 \n",
       "  1905.31,199.458 1925.68,199.166 1946.04,199.307 1966.41,198.64 1986.78,198.395 2007.14,199.246 2027.51,198.216 2047.88,199.44 2068.24,199.183 2088.61,198.523 \n",
       "  2108.97,197.534 2129.34,197.766 2149.71,198.136 2170.07,198.428 2190.44,198.485 2210.8,198.521 2231.17,198.233 2251.54,198.963 2271.9,198.925 2292.27,199.02 \n",
       "  \n",
       "  \"/>\n",
       "<polyline clip-path=\"url(#clip222)\" style=\"stroke:#3da44d; stroke-width:4; stroke-opacity:1; fill:none\" points=\"\n",
       "  276.025,199.309 296.391,1288.2 316.757,1259.68 337.123,1308.31 357.489,1351.43 377.855,1360.22 398.221,1366.62 418.588,1369.61 438.954,1369.7 459.32,1356.68 \n",
       "  479.686,1368.31 500.052,1373.22 520.418,1364.15 540.784,1377.76 561.15,1374.41 581.516,1366.82 601.882,1376.04 622.249,1377.09 642.615,1371.82 662.981,1377.74 \n",
       "  683.347,1375.21 703.713,1371.42 724.079,1378.99 744.445,1372.85 764.811,1373.58 785.177,1380.2 805.543,1374.98 825.91,1379.59 846.276,1381.94 866.642,1375.17 \n",
       "  887.008,1383.38 907.374,1376.51 927.74,1376.93 948.106,1380.72 968.472,1377.12 988.838,1377.43 1009.2,1382.39 1029.57,1380.99 1049.94,1381.22 1070.3,1378 \n",
       "  1090.67,1377.95 1111.03,1380.8 1131.4,1381.64 1151.77,1378.34 1172.13,1382.01 1192.5,1378.53 1212.87,1380.88 1233.23,1380.99 1253.6,1379.56 1273.96,1382.08 \n",
       "  1294.33,1379.53 1314.7,1379.84 1335.06,1384.24 1355.43,1378.96 1375.79,1378.71 1396.16,1382.44 1416.53,1379.24 1436.89,1378.79 1457.26,1379.55 1477.62,1381.78 \n",
       "  1497.99,1380.19 1518.36,1379.39 1538.72,1382 1559.09,1379.69 1579.46,1383.25 1599.82,1382.06 1620.19,1380.03 1640.55,1382.15 1660.92,1382.31 1681.29,1382.57 \n",
       "  1701.65,1380.41 1722.02,1381.9 1742.38,1382.11 1762.75,1382.32 1783.12,1380.51 1803.48,1382.09 1823.85,1382.23 1844.21,1382.12 1864.58,1382.44 1884.95,1380.82 \n",
       "  1905.31,1380.99 1925.68,1382.1 1946.04,1382.05 1966.41,1380.37 1986.78,1382.58 2007.14,1381.61 2027.51,1380.99 2047.88,1384.06 2068.24,1380.84 2088.61,1380.64 \n",
       "  2108.97,1382.66 2129.34,1381.4 2149.71,1382.25 2170.07,1380.83 2190.44,1380.76 2210.8,1382.87 2231.17,1381.53 2251.54,1382.98 2271.9,1382.52 2292.27,1382.61 \n",
       "  \n",
       "  \"/>\n",
       "<path clip-path=\"url(#clip220)\" d=\"\n",
       "M1989.16 372.684 L2280.76 372.684 L2280.76 130.764 L1989.16 130.764  Z\n",
       "  \" fill=\"#ffffff\" fill-rule=\"evenodd\" fill-opacity=\"1\"/>\n",
       "<polyline clip-path=\"url(#clip220)\" style=\"stroke:#000000; stroke-width:4; stroke-opacity:1; fill:none\" points=\"\n",
       "  1989.16,372.684 2280.76,372.684 2280.76,130.764 1989.16,130.764 1989.16,372.684 \n",
       "  \"/>\n",
       "<polyline clip-path=\"url(#clip220)\" style=\"stroke:#009af9; stroke-width:4; stroke-opacity:1; fill:none\" points=\"\n",
       "  2013.16,191.244 2157.16,191.244 \n",
       "  \"/>\n",
       "<path clip-path=\"url(#clip220)\" d=\"M 0 0 M2195 210.931 Q2193.2 215.561 2191.48 216.973 Q2189.77 218.385 2186.9 218.385 L2183.5 218.385 L2183.5 214.82 L2186 214.82 Q2187.76 214.82 2188.73 213.987 Q2189.7 213.154 2190.88 210.052 L2191.65 208.107 L2181.16 182.598 L2185.67 182.598 L2193.77 202.876 L2201.88 182.598 L2206.39 182.598 L2195 210.931 Z\" fill=\"#000000\" fill-rule=\"evenodd\" fill-opacity=\"1\" /><path clip-path=\"url(#clip220)\" d=\"M 0 0 M2212.27 204.589 L2219.91 204.589 L2219.91 178.223 L2211.6 179.89 L2211.6 175.631 L2219.86 173.964 L2224.54 173.964 L2224.54 204.589 L2232.18 204.589 L2232.18 208.524 L2212.27 208.524 L2212.27 204.589 Z\" fill=\"#000000\" fill-rule=\"evenodd\" fill-opacity=\"1\" /><polyline clip-path=\"url(#clip220)\" style=\"stroke:#e26f46; stroke-width:4; stroke-opacity:1; fill:none\" points=\"\n",
       "  2013.16,251.724 2157.16,251.724 \n",
       "  \"/>\n",
       "<path clip-path=\"url(#clip220)\" d=\"M 0 0 M2195 271.411 Q2193.2 276.041 2191.48 277.453 Q2189.77 278.865 2186.9 278.865 L2183.5 278.865 L2183.5 275.3 L2186 275.3 Q2187.76 275.3 2188.73 274.467 Q2189.7 273.634 2190.88 270.532 L2191.65 268.587 L2181.16 243.078 L2185.67 243.078 L2193.77 263.356 L2201.88 243.078 L2206.39 243.078 L2195 271.411 Z\" fill=\"#000000\" fill-rule=\"evenodd\" fill-opacity=\"1\" /><path clip-path=\"url(#clip220)\" d=\"M 0 0 M2215.49 265.069 L2231.81 265.069 L2231.81 269.004 L2209.86 269.004 L2209.86 265.069 Q2212.52 262.314 2217.11 257.685 Q2221.71 253.032 2222.89 251.689 Q2225.14 249.166 2226.02 247.43 Q2226.92 245.671 2226.92 243.981 Q2226.92 241.226 2224.98 239.49 Q2223.06 237.754 2219.96 237.754 Q2217.76 237.754 2215.3 238.518 Q2212.87 239.282 2210.09 240.833 L2210.09 236.111 Q2212.92 234.976 2215.37 234.398 Q2217.83 233.819 2219.86 233.819 Q2225.23 233.819 2228.43 236.504 Q2231.62 239.189 2231.62 243.68 Q2231.62 245.81 2230.81 247.731 Q2230.02 249.629 2227.92 252.222 Q2227.34 252.893 2224.24 256.111 Q2221.14 259.305 2215.49 265.069 Z\" fill=\"#000000\" fill-rule=\"evenodd\" fill-opacity=\"1\" /><polyline clip-path=\"url(#clip220)\" style=\"stroke:#3da44d; stroke-width:4; stroke-opacity:1; fill:none\" points=\"\n",
       "  2013.16,312.204 2157.16,312.204 \n",
       "  \"/>\n",
       "<path clip-path=\"url(#clip220)\" d=\"M 0 0 M2195 331.891 Q2193.2 336.521 2191.48 337.933 Q2189.77 339.345 2186.9 339.345 L2183.5 339.345 L2183.5 335.78 L2186 335.78 Q2187.76 335.78 2188.73 334.947 Q2189.7 334.114 2190.88 331.012 L2191.65 329.067 L2181.16 303.558 L2185.67 303.558 L2193.77 323.836 L2201.88 303.558 L2206.39 303.558 L2195 331.891 Z\" fill=\"#000000\" fill-rule=\"evenodd\" fill-opacity=\"1\" /><path clip-path=\"url(#clip220)\" d=\"M 0 0 M2225.63 310.85 Q2228.98 311.568 2230.86 313.836 Q2232.76 316.105 2232.76 319.438 Q2232.76 324.554 2229.24 327.354 Q2225.72 330.155 2219.24 330.155 Q2217.06 330.155 2214.75 329.716 Q2212.46 329.299 2210 328.442 L2210 323.929 Q2211.95 325.063 2214.26 325.642 Q2216.58 326.22 2219.1 326.22 Q2223.5 326.22 2225.79 324.484 Q2228.1 322.748 2228.1 319.438 Q2228.1 316.382 2225.95 314.669 Q2223.82 312.933 2220 312.933 L2215.97 312.933 L2215.97 309.091 L2220.19 309.091 Q2223.64 309.091 2225.46 307.725 Q2227.29 306.336 2227.29 303.743 Q2227.29 301.081 2225.39 299.669 Q2223.52 298.234 2220 298.234 Q2218.08 298.234 2215.88 298.651 Q2213.68 299.068 2211.04 299.947 L2211.04 295.781 Q2213.71 295.04 2216.02 294.669 Q2218.36 294.299 2220.42 294.299 Q2225.74 294.299 2228.84 296.73 Q2231.95 299.137 2231.95 303.257 Q2231.95 306.128 2230.3 308.118 Q2228.66 310.086 2225.63 310.85 Z\" fill=\"#000000\" fill-rule=\"evenodd\" fill-opacity=\"1\" /></svg>\n"
      ]
     },
     "execution_count": 114,
     "metadata": {},
     "output_type": "execute_result"
    }
   ],
   "source": [
    "@time let\n",
    "    u0 = [19.,20.,50.]\n",
    "    p = [16.,45.92,4]\n",
    "    \n",
    "    # the setup is the same as in the tangent integrator we defined before\n",
    "    rng = MersenneTwister(42)\n",
    "    w0 = rand(rng, length(u0), length(u0))\n",
    "    w0 = Array(qr(w0).Q)\n",
    "    \n",
    "    f! = lorenz!\n",
    "    jac! = lorenz_jac!\n",
    "    \n",
    "    J = zeros(size(w0))\n",
    "    \n",
    "    function F!(du,u,p,t)\n",
    "        uv = @view u[:, 1]\n",
    "        f!(view(du,:,1),uv ,p,t)\n",
    "        jac!(J, uv,p,t)\n",
    "        mul!((@view du[:, 2:end]), J, (@view u[:, 2:end]))\n",
    "    end\n",
    "    \n",
    "    # define and initial value problem of the variational equations\n",
    "    # with initial value hcat(u0, w0) and the parameters p.\n",
    "    # (0, Inf) sets the time span.\n",
    "    ode_problem = ODEProblem(F!, hcat(u0, w0), (0., Inf), p)\n",
    "    \n",
    "    # define the integrator object similar to what we implemented earlier\n",
    "    #\n",
    "    # Tsit5 is an adaptive 5/4 Runge-Kutta method with efficient interpolation\n",
    "    # between timesteps.\n",
    "    #\n",
    "    # The estimated error just needs to be calculated for the solution of the actual\n",
    "    # system, not the tangent space\n",
    "    integrator = init(ode_problem, Tsit5(); norm=_tannorm, save_everystep = false)\n",
    "\n",
    "    dt = 0.1\n",
    "    t_max = 100\n",
    "    lse = lyap_qr_time_series(integrator, t_max, dt; \n",
    "        t_pre_iter=0, \n",
    "        t_save=t_max/100,\n",
    "        t_renormalize=dt,\n",
    "        lyapunov_count=length(u0)\n",
    "    )\n",
    "    \n",
    "    @show lse.lyapunov[:,end]\n",
    "    plot(lse)\n",
    "end"
   ]
  },
  {
   "cell_type": "markdown",
   "metadata": {},
   "source": [
    "### Utilizing symbolic and auto-differentiation"
   ]
  },
  {
   "cell_type": "markdown",
   "metadata": {},
   "source": [
    "Once we defined an ordinary differential equation $\\frac{d}{dt}x=f(x,t)$, its tangent space $Df$ is defined as well. So, if we could teach our program how to differentiate, there would be no need to define the Jacobian by hand. \n",
    "\n",
    "Additionally, imagine that our ODE is stiff. Then we need implicit methods to efficiently solve it (for a long time). Most stiff methods require access to the Jacobian of the variational equations. Let us think about defining the Jacobian of the Lorenz system by hand. The Lorenz system is 3-dimension, so its Jacobian is 9-dimensional and hence the variational equations are 9-dimension as well. The Jacobian of the variational equations now has 9x9=81 dimensions. So the Jacobian of the variational equations of a 3-dimensional system is already 81-dimensional. We really, do not want define this by hand, especially for higher dimensional systems.\n",
    "\n",
    "Luckily, nearly all of Julias numerical functions are compatible with auto-differentiation. Try to change the explicit algorithm `Tsit5()` to an implicit one, e.g. `Rosenbrock23()`. The solver tries to auto-differentiate the code\n",
    "```\n",
    "J = zeros(size(w0))\n",
    "    \n",
    "function F!(du,u,p,t)\n",
    "    uv = @view u[:, 1]\n",
    "    f!(view(du,:,1),uv ,p,t)\n",
    "    jac!(J, uv,p,t)\n",
    "    mul!((@view du[:, 2:end]), J, (@view u[:, 2:end]))\n",
    "end\n",
    "```\n",
    "But it will fail because the cache `J`, as we implemented it, is not compatible with dual numbers, the underlying mathematical framework of auto-differention. We could do the following:\n",
    " - calculate the Jacobian with auto-differentiation and make the cache compatible with dual numbers\n",
    " - calculate the Jacobian and the Jacobian of the variational equations symbolically\n",
    "\n",
    "We will choose the second approach as it is less technical and more flexible."
   ]
  },
  {
   "cell_type": "code",
   "execution_count": 117,
   "metadata": {},
   "outputs": [],
   "source": [
    "using ModelingToolkit"
   ]
  },
  {
   "cell_type": "markdown",
   "metadata": {},
   "source": [
    "First we define the right hand side of the Lorenz system symbolically in the language of `ModelingTolkit`."
   ]
  },
  {
   "cell_type": "code",
   "execution_count": 126,
   "metadata": {},
   "outputs": [
    {
     "data": {
      "text/plain": [
       "3-element Array{Operation,1}:\n",
       "         σ * (x₂(t) - x₁(t))\n",
       " x₁(t) * (ρ - x₃(t)) - x₂(t)\n",
       "   x₁(t) * x₂(t) - β * x₃(t)"
      ]
     },
     "execution_count": 126,
     "metadata": {},
     "output_type": "execute_result"
    }
   ],
   "source": [
    "# define parameters used in our ODE\n",
    "@parameters t \n",
    "@parameters σ ρ β\n",
    "\n",
    "# define our variables\n",
    "@variables x[1:3](t)\n",
    "\n",
    "# define the time derivative\n",
    "@derivatives dt'~t\n",
    "\n",
    "lorenz = [\n",
    "        σ*(x[2]-x[1]),\n",
    "        x[1]*(ρ-x[3])-x[2],\n",
    "        x[1]*x[2] - β*x[3]\n",
    "    ]"
   ]
  },
  {
   "cell_type": "markdown",
   "metadata": {},
   "source": [
    "Then we symbolically calculate the Jacobian of the Lorenz system."
   ]
  },
  {
   "cell_type": "code",
   "execution_count": 127,
   "metadata": {},
   "outputs": [
    {
     "data": {
      "text/plain": [
       "3×3 Array{Expression,2}:\n",
       "            -1σ             σ  Constant(0)\n",
       " -1 * x₃(t) + ρ  Constant(-1)   -1 * x₁(t)\n",
       "          x₂(t)         x₁(t)          -1β"
      ]
     },
     "execution_count": 127,
     "metadata": {},
     "output_type": "execute_result"
    }
   ],
   "source": [
    "# define the variables\n",
    "@variables w[1:3,1:3](t)\n",
    "lorenz_jac = expand_derivatives.(calculate_jacobian(lorenz, x))"
   ]
  },
  {
   "cell_type": "markdown",
   "metadata": {},
   "source": [
    "We can check that the symbolically calculated Jacobian of the Lorenz system is indeed coincides with the one we defined at the beginning of this notebook by hand."
   ]
  },
  {
   "cell_type": "code",
   "execution_count": 128,
   "metadata": {},
   "outputs": [],
   "source": [
    "# TODO"
   ]
  },
  {
   "cell_type": "markdown",
   "metadata": {},
   "source": [
    "Now we define the right hand side of the variational equations "
   ]
  },
  {
   "cell_type": "code",
   "execution_count": 130,
   "metadata": {},
   "outputs": [
    {
     "data": {
      "text/plain": [
       "12-element Array{Operation,1}:\n",
       "                                             σ * (x₂(t) + -1 * x₁(t))\n",
       "                                     x₁(t) * (-1 * x₃(t) + ρ) - x₂(t)\n",
       "                                            x₁(t) * x₂(t) - x₃(t) * β\n",
       "                        ((-1σ) * w₁ˏ₁(t) + σ * w₂ˏ₁(t)) + 0 * w₃ˏ₁(t)\n",
       " ((-1 * x₃(t) + ρ) * w₁ˏ₁(t) + -1 * w₂ˏ₁(t)) + (-1 * x₁(t)) * w₃ˏ₁(t)\n",
       "                (x₂(t) * w₁ˏ₁(t) + x₁(t) * w₂ˏ₁(t)) + (-1β) * w₃ˏ₁(t)\n",
       "                        ((-1σ) * w₁ˏ₂(t) + σ * w₂ˏ₂(t)) + 0 * w₃ˏ₂(t)\n",
       " ((-1 * x₃(t) + ρ) * w₁ˏ₂(t) + -1 * w₂ˏ₂(t)) + (-1 * x₁(t)) * w₃ˏ₂(t)\n",
       "                (x₂(t) * w₁ˏ₂(t) + x₁(t) * w₂ˏ₂(t)) + (-1β) * w₃ˏ₂(t)\n",
       "                        ((-1σ) * w₁ˏ₃(t) + σ * w₂ˏ₃(t)) + 0 * w₃ˏ₃(t)\n",
       " ((-1 * x₃(t) + ρ) * w₁ˏ₃(t) + -1 * w₂ˏ₃(t)) + (-1 * x₁(t)) * w₃ˏ₃(t)\n",
       "                (x₂(t) * w₁ˏ₃(t) + x₁(t) * w₂ˏ₃(t)) + (-1β) * w₃ˏ₃(t)"
      ]
     },
     "execution_count": 130,
     "metadata": {},
     "output_type": "execute_result"
    }
   ],
   "source": [
    "lorenz_tangent = let\n",
    "    # define the tangent system, i.e. Leorentz system + its jacobian\n",
    "    # This is the rhs we want to evolve\n",
    "    \n",
    "    vcat(lorenz..., lorenz_jac*w...) # note the *w\n",
    "end"
   ]
  },
  {
   "cell_type": "markdown",
   "metadata": {},
   "source": [
    "and define the variational equations"
   ]
  },
  {
   "cell_type": "code",
   "execution_count": 136,
   "metadata": {},
   "outputs": [
    {
     "data": {
      "text/plain": [
       "12-element Array{Equation,1}:\n",
       " Equation(derivative(x₁(t), t), σ * (x₂(t) + -1 * x₁(t)))\n",
       " Equation(derivative(x₂(t), t), x₁(t) * (-1 * x₃(t) + ρ) - x₂(t))\n",
       " Equation(derivative(x₃(t), t), x₁(t) * x₂(t) - x₃(t) * β)\n",
       " Equation(derivative(w₁ˏ₁(t), t), ((-1σ) * w₁ˏ₁(t) + σ * w₂ˏ₁(t)) + 0 * w₃ˏ₁(t))\n",
       " Equation(derivative(w₂ˏ₁(t), t), ((-1 * x₃(t) + ρ) * w₁ˏ₁(t) + -1 * w₂ˏ₁(t)) + (-1 * x₁(t)) * w₃ˏ₁(t))\n",
       " Equation(derivative(w₃ˏ₁(t), t), (x₂(t) * w₁ˏ₁(t) + x₁(t) * w₂ˏ₁(t)) + (-1β) * w₃ˏ₁(t))\n",
       " Equation(derivative(w₁ˏ₂(t), t), ((-1σ) * w₁ˏ₂(t) + σ * w₂ˏ₂(t)) + 0 * w₃ˏ₂(t))\n",
       " Equation(derivative(w₂ˏ₂(t), t), ((-1 * x₃(t) + ρ) * w₁ˏ₂(t) + -1 * w₂ˏ₂(t)) + (-1 * x₁(t)) * w₃ˏ₂(t))\n",
       " Equation(derivative(w₃ˏ₂(t), t), (x₂(t) * w₁ˏ₂(t) + x₁(t) * w₂ˏ₂(t)) + (-1β) * w₃ˏ₂(t))\n",
       " Equation(derivative(w₁ˏ₃(t), t), ((-1σ) * w₁ˏ₃(t) + σ * w₂ˏ₃(t)) + 0 * w₃ˏ₃(t))\n",
       " Equation(derivative(w₂ˏ₃(t), t), ((-1 * x₃(t) + ρ) * w₁ˏ₃(t) + -1 * w₂ˏ₃(t)) + (-1 * x₁(t)) * w₃ˏ₃(t))\n",
       " Equation(derivative(w₃ˏ₃(t), t), (x₂(t) * w₁ˏ₃(t) + x₁(t) * w₂ˏ₃(t)) + (-1β) * w₃ˏ₃(t))"
      ]
     },
     "execution_count": 136,
     "metadata": {},
     "output_type": "execute_result"
    }
   ],
   "source": [
    "y = vcat(x..., w...)\n",
    "@assert length(y) == length(lorenz_tangent)\n",
    "\n",
    "variational_equations = Equation[]\n",
    "for i in 1:length(y)\n",
    "    push!(variational_equations, dt(y[i]) ~ lorenz_tangent[i])\n",
    "end\n",
    "variational_equations"
   ]
  },
  {
   "cell_type": "code",
   "execution_count": 158,
   "metadata": {},
   "outputs": [
    {
     "name": "stdout",
     "output_type": "stream",
     "text": [
      "  3.932036 seconds (7.61 M allocations: 300.960 MiB, 1.73% gc time)\n"
     ]
    },
    {
     "data": {
      "text/plain": [
       "t: 0.0\n",
       "u: 3×4 Array{Float64,2}:\n",
       " 19.0  -0.761116    0.368551   0.533734\n",
       " 20.0  -0.648124   -0.400116  -0.647952\n",
       " 50.0  -0.0252479  -0.839093   0.543402"
      ]
     },
     "execution_count": 158,
     "metadata": {},
     "output_type": "execute_result"
    }
   ],
   "source": [
    "@time modeling_toolkit_integrator = let\n",
    "    u0 = [19.,20.,50.]\n",
    "    p = [16.,45.92,4]\n",
    "    \n",
    "    # the setup is the same as in the tangent integrator we defined before\n",
    "    rng = MersenneTwister(42)\n",
    "    w0 = rand(rng, length(u0), length(u0))\n",
    "    w0 = Array(qr(w0).Q)\n",
    "    \n",
    "    # define an ODESystem and an ODEFunction\n",
    "    ode_system = ODESystem(variational_equations)\n",
    "    ode_function = ODEFunction(ode_system, y, [σ, ρ, β]; jac=true)\n",
    "\n",
    "    # define the ODEProblem with parameters\n",
    "    ode_problem = ODEProblem(ode_function, hcat(u0, w0), (0., Inf), p)\n",
    "    \n",
    "    # create the integrator\n",
    "    integrator = init(ode_problem, Rosenbrock23(); norm=_tannorm, save_everystep = false) \n",
    "    \n",
    "end"
   ]
  },
  {
   "cell_type": "markdown",
   "metadata": {},
   "source": [
    "Now, we put everything together. "
   ]
  },
  {
   "cell_type": "code",
   "execution_count": 159,
   "metadata": {},
   "outputs": [
    {
     "name": "stdout",
     "output_type": "stream",
     "text": [
      "lse.lyapunov[:, end] = [1.4880146206090141, -0.22626019769684472, -22.124219328828115]\n",
      "  1.085679 seconds (651.50 k allocations: 29.523 MiB)\n"
     ]
    },
    {
     "data": {
      "image/svg+xml": [
       "<?xml version=\"1.0\" encoding=\"utf-8\"?>\n",
       "<svg xmlns=\"http://www.w3.org/2000/svg\" xmlns:xlink=\"http://www.w3.org/1999/xlink\" width=\"600\" height=\"400\" viewBox=\"0 0 2400 1600\">\n",
       "<defs>\n",
       "  <clipPath id=\"clip620\">\n",
       "    <rect x=\"0\" y=\"0\" width=\"2400\" height=\"1600\"/>\n",
       "  </clipPath>\n",
       "</defs>\n",
       "<path clip-path=\"url(#clip620)\" d=\"\n",
       "M0 1600 L2400 1600 L2400 0 L0 0  Z\n",
       "  \" fill=\"#ffffff\" fill-rule=\"evenodd\" fill-opacity=\"1\"/>\n",
       "<defs>\n",
       "  <clipPath id=\"clip621\">\n",
       "    <rect x=\"480\" y=\"0\" width=\"1681\" height=\"1600\"/>\n",
       "  </clipPath>\n",
       "</defs>\n",
       "<path clip-path=\"url(#clip620)\" d=\"\n",
       "M215.538 1423.18 L2352.76 1423.18 L2352.76 47.2441 L215.538 47.2441  Z\n",
       "  \" fill=\"#ffffff\" fill-rule=\"evenodd\" fill-opacity=\"1\"/>\n",
       "<defs>\n",
       "  <clipPath id=\"clip622\">\n",
       "    <rect x=\"215\" y=\"47\" width=\"2138\" height=\"1377\"/>\n",
       "  </clipPath>\n",
       "</defs>\n",
       "<polyline clip-path=\"url(#clip622)\" style=\"stroke:#000000; stroke-width:2; stroke-opacity:0.1; fill:none\" points=\"\n",
       "  255.659,1423.18 255.659,47.2441 \n",
       "  \"/>\n",
       "<polyline clip-path=\"url(#clip622)\" style=\"stroke:#000000; stroke-width:2; stroke-opacity:0.1; fill:none\" points=\"\n",
       "  764.811,1423.18 764.811,47.2441 \n",
       "  \"/>\n",
       "<polyline clip-path=\"url(#clip622)\" style=\"stroke:#000000; stroke-width:2; stroke-opacity:0.1; fill:none\" points=\"\n",
       "  1273.96,1423.18 1273.96,47.2441 \n",
       "  \"/>\n",
       "<polyline clip-path=\"url(#clip622)\" style=\"stroke:#000000; stroke-width:2; stroke-opacity:0.1; fill:none\" points=\"\n",
       "  1783.12,1423.18 1783.12,47.2441 \n",
       "  \"/>\n",
       "<polyline clip-path=\"url(#clip622)\" style=\"stroke:#000000; stroke-width:2; stroke-opacity:0.1; fill:none\" points=\"\n",
       "  2292.27,1423.18 2292.27,47.2441 \n",
       "  \"/>\n",
       "<polyline clip-path=\"url(#clip622)\" style=\"stroke:#000000; stroke-width:2; stroke-opacity:0.1; fill:none\" points=\"\n",
       "  215.538,1252.18 2352.76,1252.18 \n",
       "  \"/>\n",
       "<polyline clip-path=\"url(#clip622)\" style=\"stroke:#000000; stroke-width:2; stroke-opacity:0.1; fill:none\" points=\"\n",
       "  215.538,993.208 2352.76,993.208 \n",
       "  \"/>\n",
       "<polyline clip-path=\"url(#clip622)\" style=\"stroke:#000000; stroke-width:2; stroke-opacity:0.1; fill:none\" points=\"\n",
       "  215.538,734.238 2352.76,734.238 \n",
       "  \"/>\n",
       "<polyline clip-path=\"url(#clip622)\" style=\"stroke:#000000; stroke-width:2; stroke-opacity:0.1; fill:none\" points=\"\n",
       "  215.538,475.268 2352.76,475.268 \n",
       "  \"/>\n",
       "<polyline clip-path=\"url(#clip622)\" style=\"stroke:#000000; stroke-width:2; stroke-opacity:0.1; fill:none\" points=\"\n",
       "  215.538,216.298 2352.76,216.298 \n",
       "  \"/>\n",
       "<polyline clip-path=\"url(#clip620)\" style=\"stroke:#000000; stroke-width:4; stroke-opacity:1; fill:none\" points=\"\n",
       "  215.538,1423.18 2352.76,1423.18 \n",
       "  \"/>\n",
       "<polyline clip-path=\"url(#clip620)\" style=\"stroke:#000000; stroke-width:4; stroke-opacity:1; fill:none\" points=\"\n",
       "  215.538,1423.18 215.538,47.2441 \n",
       "  \"/>\n",
       "<polyline clip-path=\"url(#clip620)\" style=\"stroke:#000000; stroke-width:4; stroke-opacity:1; fill:none\" points=\"\n",
       "  255.659,1423.18 255.659,1406.67 \n",
       "  \"/>\n",
       "<polyline clip-path=\"url(#clip620)\" style=\"stroke:#000000; stroke-width:4; stroke-opacity:1; fill:none\" points=\"\n",
       "  764.811,1423.18 764.811,1406.67 \n",
       "  \"/>\n",
       "<polyline clip-path=\"url(#clip620)\" style=\"stroke:#000000; stroke-width:4; stroke-opacity:1; fill:none\" points=\"\n",
       "  1273.96,1423.18 1273.96,1406.67 \n",
       "  \"/>\n",
       "<polyline clip-path=\"url(#clip620)\" style=\"stroke:#000000; stroke-width:4; stroke-opacity:1; fill:none\" points=\"\n",
       "  1783.12,1423.18 1783.12,1406.67 \n",
       "  \"/>\n",
       "<polyline clip-path=\"url(#clip620)\" style=\"stroke:#000000; stroke-width:4; stroke-opacity:1; fill:none\" points=\"\n",
       "  2292.27,1423.18 2292.27,1406.67 \n",
       "  \"/>\n",
       "<polyline clip-path=\"url(#clip620)\" style=\"stroke:#000000; stroke-width:4; stroke-opacity:1; fill:none\" points=\"\n",
       "  215.538,1252.18 241.184,1252.18 \n",
       "  \"/>\n",
       "<polyline clip-path=\"url(#clip620)\" style=\"stroke:#000000; stroke-width:4; stroke-opacity:1; fill:none\" points=\"\n",
       "  215.538,993.208 241.184,993.208 \n",
       "  \"/>\n",
       "<polyline clip-path=\"url(#clip620)\" style=\"stroke:#000000; stroke-width:4; stroke-opacity:1; fill:none\" points=\"\n",
       "  215.538,734.238 241.184,734.238 \n",
       "  \"/>\n",
       "<polyline clip-path=\"url(#clip620)\" style=\"stroke:#000000; stroke-width:4; stroke-opacity:1; fill:none\" points=\"\n",
       "  215.538,475.268 241.184,475.268 \n",
       "  \"/>\n",
       "<polyline clip-path=\"url(#clip620)\" style=\"stroke:#000000; stroke-width:4; stroke-opacity:1; fill:none\" points=\"\n",
       "  215.538,216.298 241.184,216.298 \n",
       "  \"/>\n",
       "<path clip-path=\"url(#clip620)\" d=\"M 0 0 M237.175 1445.17 Q233.564 1445.17 231.735 1448.74 Q229.93 1452.28 229.93 1459.41 Q229.93 1466.51 231.735 1470.08 Q233.564 1473.62 237.175 1473.62 Q240.809 1473.62 242.615 1470.08 Q244.444 1466.51 244.444 1459.41 Q244.444 1452.28 242.615 1448.74 Q240.809 1445.17 237.175 1445.17 M237.175 1441.47 Q242.985 1441.47 246.041 1446.07 Q249.119 1450.66 249.119 1459.41 Q249.119 1468.13 246.041 1472.74 Q242.985 1477.32 237.175 1477.32 Q231.365 1477.32 228.286 1472.74 Q225.231 1468.13 225.231 1459.41 Q225.231 1450.66 228.286 1446.07 Q231.365 1441.47 237.175 1441.47 Z\" fill=\"#000000\" fill-rule=\"evenodd\" fill-opacity=\"1\" /><path clip-path=\"url(#clip620)\" d=\"M 0 0 M254.189 1470.77 L259.073 1470.77 L259.073 1476.65 L254.189 1476.65 L254.189 1470.77 Z\" fill=\"#000000\" fill-rule=\"evenodd\" fill-opacity=\"1\" /><path clip-path=\"url(#clip620)\" d=\"M 0 0 M274.142 1445.17 Q270.531 1445.17 268.703 1448.74 Q266.897 1452.28 266.897 1459.41 Q266.897 1466.51 268.703 1470.08 Q270.531 1473.62 274.142 1473.62 Q277.777 1473.62 279.582 1470.08 Q281.411 1466.51 281.411 1459.41 Q281.411 1452.28 279.582 1448.74 Q277.777 1445.17 274.142 1445.17 M274.142 1441.47 Q279.953 1441.47 283.008 1446.07 Q286.087 1450.66 286.087 1459.41 Q286.087 1468.13 283.008 1472.74 Q279.953 1477.32 274.142 1477.32 Q268.332 1477.32 265.254 1472.74 Q262.198 1468.13 262.198 1459.41 Q262.198 1450.66 265.254 1446.07 Q268.332 1441.47 274.142 1441.47 Z\" fill=\"#000000\" fill-rule=\"evenodd\" fill-opacity=\"1\" /><path clip-path=\"url(#clip620)\" d=\"M 0 0 M741.478 1472.72 L757.797 1472.72 L757.797 1476.65 L735.853 1476.65 L735.853 1472.72 Q738.515 1469.96 743.098 1465.33 Q747.705 1460.68 748.885 1459.34 Q751.131 1456.81 752.01 1455.08 Q752.913 1453.32 752.913 1451.63 Q752.913 1448.87 750.969 1447.14 Q749.047 1445.4 745.946 1445.4 Q743.747 1445.4 741.293 1446.17 Q738.862 1446.93 736.085 1448.48 L736.085 1443.76 Q738.909 1442.62 741.362 1442.05 Q743.816 1441.47 745.853 1441.47 Q751.223 1441.47 754.418 1444.15 Q757.612 1446.84 757.612 1451.33 Q757.612 1453.46 756.802 1455.38 Q756.015 1457.28 753.909 1459.87 Q753.33 1460.54 750.228 1463.76 Q747.126 1466.95 741.478 1472.72 Z\" fill=\"#000000\" fill-rule=\"evenodd\" fill-opacity=\"1\" /><path clip-path=\"url(#clip620)\" d=\"M 0 0 M762.867 1470.77 L767.751 1470.77 L767.751 1476.65 L762.867 1476.65 L762.867 1470.77 Z\" fill=\"#000000\" fill-rule=\"evenodd\" fill-opacity=\"1\" /><path clip-path=\"url(#clip620)\" d=\"M 0 0 M772.867 1442.09 L791.223 1442.09 L791.223 1446.03 L777.149 1446.03 L777.149 1454.5 Q778.168 1454.15 779.186 1453.99 Q780.205 1453.8 781.223 1453.8 Q787.01 1453.8 790.39 1456.98 Q793.769 1460.15 793.769 1465.56 Q793.769 1471.14 790.297 1474.24 Q786.825 1477.32 780.506 1477.32 Q778.33 1477.32 776.061 1476.95 Q773.816 1476.58 771.408 1475.84 L771.408 1471.14 Q773.492 1472.28 775.714 1472.83 Q777.936 1473.39 780.413 1473.39 Q784.418 1473.39 786.756 1471.28 Q789.094 1469.18 789.094 1465.56 Q789.094 1461.95 786.756 1459.85 Q784.418 1457.74 780.413 1457.74 Q778.538 1457.74 776.663 1458.16 Q774.811 1458.57 772.867 1459.45 L772.867 1442.09 Z\" fill=\"#000000\" fill-rule=\"evenodd\" fill-opacity=\"1\" /><path clip-path=\"url(#clip620)\" d=\"M 0 0 M1245.76 1442.09 L1264.11 1442.09 L1264.11 1446.03 L1250.04 1446.03 L1250.04 1454.5 Q1251.06 1454.15 1252.08 1453.99 Q1253.1 1453.8 1254.11 1453.8 Q1259.9 1453.8 1263.28 1456.98 Q1266.66 1460.15 1266.66 1465.56 Q1266.66 1471.14 1263.19 1474.24 Q1259.72 1477.32 1253.4 1477.32 Q1251.22 1477.32 1248.95 1476.95 Q1246.71 1476.58 1244.3 1475.84 L1244.3 1471.14 Q1246.38 1472.28 1248.61 1472.83 Q1250.83 1473.39 1253.3 1473.39 Q1257.31 1473.39 1259.65 1471.28 Q1261.98 1469.18 1261.98 1465.56 Q1261.98 1461.95 1259.65 1459.85 Q1257.31 1457.74 1253.3 1457.74 Q1251.43 1457.74 1249.55 1458.16 Q1247.7 1458.57 1245.76 1459.45 L1245.76 1442.09 Z\" fill=\"#000000\" fill-rule=\"evenodd\" fill-opacity=\"1\" /><path clip-path=\"url(#clip620)\" d=\"M 0 0 M1271.73 1470.77 L1276.61 1470.77 L1276.61 1476.65 L1271.73 1476.65 L1271.73 1470.77 Z\" fill=\"#000000\" fill-rule=\"evenodd\" fill-opacity=\"1\" /><path clip-path=\"url(#clip620)\" d=\"M 0 0 M1291.68 1445.17 Q1288.07 1445.17 1286.24 1448.74 Q1284.44 1452.28 1284.44 1459.41 Q1284.44 1466.51 1286.24 1470.08 Q1288.07 1473.62 1291.68 1473.62 Q1295.32 1473.62 1297.12 1470.08 Q1298.95 1466.51 1298.95 1459.41 Q1298.95 1452.28 1297.12 1448.74 Q1295.32 1445.17 1291.68 1445.17 M1291.68 1441.47 Q1297.49 1441.47 1300.55 1446.07 Q1303.63 1450.66 1303.63 1459.41 Q1303.63 1468.13 1300.55 1472.74 Q1297.49 1477.32 1291.68 1477.32 Q1285.87 1477.32 1282.79 1472.74 Q1279.74 1468.13 1279.74 1459.41 Q1279.74 1450.66 1282.79 1446.07 Q1285.87 1441.47 1291.68 1441.47 Z\" fill=\"#000000\" fill-rule=\"evenodd\" fill-opacity=\"1\" /><path clip-path=\"url(#clip620)\" d=\"M 0 0 M1754.02 1442.09 L1776.24 1442.09 L1776.24 1444.08 L1763.69 1476.65 L1758.81 1476.65 L1770.62 1446.03 L1754.02 1446.03 L1754.02 1442.09 Z\" fill=\"#000000\" fill-rule=\"evenodd\" fill-opacity=\"1\" /><path clip-path=\"url(#clip620)\" d=\"M 0 0 M1781.31 1470.77 L1786.19 1470.77 L1786.19 1476.65 L1781.31 1476.65 L1781.31 1470.77 Z\" fill=\"#000000\" fill-rule=\"evenodd\" fill-opacity=\"1\" /><path clip-path=\"url(#clip620)\" d=\"M 0 0 M1791.31 1442.09 L1809.67 1442.09 L1809.67 1446.03 L1795.59 1446.03 L1795.59 1454.5 Q1796.61 1454.15 1797.63 1453.99 Q1798.65 1453.8 1799.67 1453.8 Q1805.45 1453.8 1808.83 1456.98 Q1812.21 1460.15 1812.21 1465.56 Q1812.21 1471.14 1808.74 1474.24 Q1805.27 1477.32 1798.95 1477.32 Q1796.77 1477.32 1794.5 1476.95 Q1792.26 1476.58 1789.85 1475.84 L1789.85 1471.14 Q1791.94 1472.28 1794.16 1472.83 Q1796.38 1473.39 1798.86 1473.39 Q1802.86 1473.39 1805.2 1471.28 Q1807.54 1469.18 1807.54 1465.56 Q1807.54 1461.95 1805.2 1459.85 Q1802.86 1457.74 1798.86 1457.74 Q1796.98 1457.74 1795.11 1458.16 Q1793.25 1458.57 1791.31 1459.45 L1791.31 1442.09 Z\" fill=\"#000000\" fill-rule=\"evenodd\" fill-opacity=\"1\" /><path clip-path=\"url(#clip620)\" d=\"M 0 0 M2250.66 1472.72 L2258.3 1472.72 L2258.3 1446.35 L2249.99 1448.02 L2249.99 1443.76 L2258.25 1442.09 L2262.93 1442.09 L2262.93 1472.72 L2270.57 1472.72 L2270.57 1476.65 L2250.66 1476.65 L2250.66 1472.72 Z\" fill=\"#000000\" fill-rule=\"evenodd\" fill-opacity=\"1\" /><path clip-path=\"url(#clip620)\" d=\"M 0 0 M2285.64 1445.17 Q2282.03 1445.17 2280.2 1448.74 Q2278.39 1452.28 2278.39 1459.41 Q2278.39 1466.51 2280.2 1470.08 Q2282.03 1473.62 2285.64 1473.62 Q2289.27 1473.62 2291.08 1470.08 Q2292.91 1466.51 2292.91 1459.41 Q2292.91 1452.28 2291.08 1448.74 Q2289.27 1445.17 2285.64 1445.17 M2285.64 1441.47 Q2291.45 1441.47 2294.5 1446.07 Q2297.58 1450.66 2297.58 1459.41 Q2297.58 1468.13 2294.5 1472.74 Q2291.45 1477.32 2285.64 1477.32 Q2279.83 1477.32 2276.75 1472.74 Q2273.69 1468.13 2273.69 1459.41 Q2273.69 1450.66 2276.75 1446.07 Q2279.83 1441.47 2285.64 1441.47 Z\" fill=\"#000000\" fill-rule=\"evenodd\" fill-opacity=\"1\" /><path clip-path=\"url(#clip620)\" d=\"M 0 0 M2302.65 1470.77 L2307.53 1470.77 L2307.53 1476.65 L2302.65 1476.65 L2302.65 1470.77 Z\" fill=\"#000000\" fill-rule=\"evenodd\" fill-opacity=\"1\" /><path clip-path=\"url(#clip620)\" d=\"M 0 0 M2322.6 1445.17 Q2318.99 1445.17 2317.16 1448.74 Q2315.36 1452.28 2315.36 1459.41 Q2315.36 1466.51 2317.16 1470.08 Q2318.99 1473.62 2322.6 1473.62 Q2326.24 1473.62 2328.04 1470.08 Q2329.87 1466.51 2329.87 1459.41 Q2329.87 1452.28 2328.04 1448.74 Q2326.24 1445.17 2322.6 1445.17 M2322.6 1441.47 Q2328.41 1441.47 2331.47 1446.07 Q2334.55 1450.66 2334.55 1459.41 Q2334.55 1468.13 2331.47 1472.74 Q2328.41 1477.32 2322.6 1477.32 Q2316.79 1477.32 2313.72 1472.74 Q2310.66 1468.13 2310.66 1459.41 Q2310.66 1450.66 2313.72 1446.07 Q2316.79 1441.47 2322.6 1441.47 Z\" fill=\"#000000\" fill-rule=\"evenodd\" fill-opacity=\"1\" /><path clip-path=\"url(#clip620)\" d=\"M 0 0 M126.631 1254.57 L139.107 1254.57 L139.107 1258.37 L126.631 1258.37 L126.631 1254.57 Z\" fill=\"#000000\" fill-rule=\"evenodd\" fill-opacity=\"1\" /><path clip-path=\"url(#clip620)\" d=\"M 0 0 M148.204 1265.52 L164.524 1265.52 L164.524 1269.46 L142.58 1269.46 L142.58 1265.52 Q145.242 1262.77 149.825 1258.14 Q154.431 1253.49 155.612 1252.14 Q157.857 1249.62 158.737 1247.88 Q159.64 1246.12 159.64 1244.43 Q159.64 1241.68 157.695 1239.94 Q155.774 1238.21 152.672 1238.21 Q150.473 1238.21 148.019 1238.97 Q145.589 1239.74 142.811 1241.29 L142.811 1236.56 Q145.635 1235.43 148.089 1234.85 Q150.542 1234.27 152.579 1234.27 Q157.95 1234.27 161.144 1236.96 Q164.339 1239.64 164.339 1244.13 Q164.339 1246.26 163.528 1248.18 Q162.741 1250.08 160.635 1252.68 Q160.056 1253.35 156.954 1256.56 Q153.853 1259.76 148.204 1265.52 Z\" fill=\"#000000\" fill-rule=\"evenodd\" fill-opacity=\"1\" /><path clip-path=\"url(#clip620)\" d=\"M 0 0 M179.593 1237.98 Q175.982 1237.98 174.153 1241.54 Q172.348 1245.08 172.348 1252.21 Q172.348 1259.32 174.153 1262.88 Q175.982 1266.43 179.593 1266.43 Q183.227 1266.43 185.033 1262.88 Q186.862 1259.32 186.862 1252.21 Q186.862 1245.08 185.033 1241.54 Q183.227 1237.98 179.593 1237.98 M179.593 1234.27 Q185.403 1234.27 188.459 1238.88 Q191.538 1243.46 191.538 1252.21 Q191.538 1260.94 188.459 1265.55 Q185.403 1270.13 179.593 1270.13 Q173.783 1270.13 170.704 1265.55 Q167.649 1260.94 167.649 1252.21 Q167.649 1243.46 170.704 1238.88 Q173.783 1234.27 179.593 1234.27 Z\" fill=\"#000000\" fill-rule=\"evenodd\" fill-opacity=\"1\" /><path clip-path=\"url(#clip620)\" d=\"M 0 0 M127.256 995.604 L139.732 995.604 L139.732 999.4 L127.256 999.4 L127.256 995.604 Z\" fill=\"#000000\" fill-rule=\"evenodd\" fill-opacity=\"1\" /><path clip-path=\"url(#clip620)\" d=\"M 0 0 M145.612 1006.55 L153.251 1006.55 L153.251 980.187 L144.941 981.854 L144.941 977.595 L153.204 975.928 L157.88 975.928 L157.88 1006.55 L165.519 1006.55 L165.519 1010.49 L145.612 1010.49 L145.612 1006.55 Z\" fill=\"#000000\" fill-rule=\"evenodd\" fill-opacity=\"1\" /><path clip-path=\"url(#clip620)\" d=\"M 0 0 M170.635 975.928 L188.991 975.928 L188.991 979.863 L174.917 979.863 L174.917 988.335 Q175.936 987.988 176.954 987.826 Q177.973 987.641 178.991 987.641 Q184.778 987.641 188.158 990.812 Q191.538 993.983 191.538 999.4 Q191.538 1004.98 188.065 1008.08 Q184.593 1011.16 178.274 1011.16 Q176.098 1011.16 173.829 1010.79 Q171.584 1010.42 169.177 1009.68 L169.177 1004.98 Q171.26 1006.11 173.482 1006.67 Q175.704 1007.22 178.181 1007.22 Q182.186 1007.22 184.524 1005.12 Q186.862 1003.01 186.862 999.4 Q186.862 995.789 184.524 993.682 Q182.186 991.576 178.181 991.576 Q176.306 991.576 174.431 991.993 Q172.579 992.409 170.635 993.289 L170.635 975.928 Z\" fill=\"#000000\" fill-rule=\"evenodd\" fill-opacity=\"1\" /><path clip-path=\"url(#clip620)\" d=\"M 0 0 M126.26 736.634 L138.737 736.634 L138.737 740.43 L126.26 740.43 L126.26 736.634 Z\" fill=\"#000000\" fill-rule=\"evenodd\" fill-opacity=\"1\" /><path clip-path=\"url(#clip620)\" d=\"M 0 0 M144.617 747.583 L152.255 747.583 L152.255 721.217 L143.945 722.884 L143.945 718.625 L152.209 716.958 L156.885 716.958 L156.885 747.583 L164.524 747.583 L164.524 751.518 L144.617 751.518 L144.617 747.583 Z\" fill=\"#000000\" fill-rule=\"evenodd\" fill-opacity=\"1\" /><path clip-path=\"url(#clip620)\" d=\"M 0 0 M179.593 720.037 Q175.982 720.037 174.153 723.602 Q172.348 727.143 172.348 734.273 Q172.348 741.379 174.153 744.944 Q175.982 748.486 179.593 748.486 Q183.227 748.486 185.033 744.944 Q186.862 741.379 186.862 734.273 Q186.862 727.143 185.033 723.602 Q183.227 720.037 179.593 720.037 M179.593 716.333 Q185.403 716.333 188.459 720.939 Q191.538 725.523 191.538 734.273 Q191.538 743 188.459 747.606 Q185.403 752.189 179.593 752.189 Q173.783 752.189 170.704 747.606 Q167.649 743 167.649 734.273 Q167.649 725.523 170.704 720.939 Q173.783 716.333 179.593 716.333 Z\" fill=\"#000000\" fill-rule=\"evenodd\" fill-opacity=\"1\" /><path clip-path=\"url(#clip620)\" d=\"M 0 0 M153.042 477.664 L165.519 477.664 L165.519 481.46 L153.042 481.46 L153.042 477.664 Z\" fill=\"#000000\" fill-rule=\"evenodd\" fill-opacity=\"1\" /><path clip-path=\"url(#clip620)\" d=\"M 0 0 M170.635 457.988 L188.991 457.988 L188.991 461.923 L174.917 461.923 L174.917 470.395 Q175.936 470.048 176.954 469.886 Q177.973 469.701 178.991 469.701 Q184.778 469.701 188.158 472.872 Q191.538 476.044 191.538 481.46 Q191.538 487.039 188.065 490.141 Q184.593 493.219 178.274 493.219 Q176.098 493.219 173.829 492.849 Q171.584 492.479 169.177 491.738 L169.177 487.039 Q171.26 488.173 173.482 488.729 Q175.704 489.284 178.181 489.284 Q182.186 489.284 184.524 487.178 Q186.862 485.071 186.862 481.46 Q186.862 477.849 184.524 475.743 Q182.186 473.636 178.181 473.636 Q176.306 473.636 174.431 474.053 Q172.579 474.47 170.635 475.349 L170.635 457.988 Z\" fill=\"#000000\" fill-rule=\"evenodd\" fill-opacity=\"1\" /><path clip-path=\"url(#clip620)\" d=\"M 0 0 M179.593 202.097 Q175.982 202.097 174.153 205.662 Q172.348 209.203 172.348 216.333 Q172.348 223.439 174.153 227.004 Q175.982 230.546 179.593 230.546 Q183.227 230.546 185.033 227.004 Q186.862 223.439 186.862 216.333 Q186.862 209.203 185.033 205.662 Q183.227 202.097 179.593 202.097 M179.593 198.393 Q185.403 198.393 188.459 203 Q191.538 207.583 191.538 216.333 Q191.538 225.06 188.459 229.666 Q185.403 234.25 179.593 234.25 Q173.783 234.25 170.704 229.666 Q167.649 225.06 167.649 216.333 Q167.649 207.583 170.704 203 Q173.783 198.393 179.593 198.393 Z\" fill=\"#000000\" fill-rule=\"evenodd\" fill-opacity=\"1\" /><path clip-path=\"url(#clip620)\" d=\"M 0 0 M1229.91 1510.27 L1229.91 1520.4 L1241.97 1520.4 L1241.97 1524.95 L1229.91 1524.95 L1229.91 1544.3 Q1229.91 1548.66 1231.09 1549.9 Q1232.3 1551.14 1235.96 1551.14 L1241.97 1551.14 L1241.97 1556.04 L1235.96 1556.04 Q1229.18 1556.04 1226.6 1553.53 Q1224.02 1550.98 1224.02 1544.3 L1224.02 1524.95 L1219.73 1524.95 L1219.73 1520.4 L1224.02 1520.4 L1224.02 1510.27 L1229.91 1510.27 Z\" fill=\"#000000\" fill-rule=\"evenodd\" fill-opacity=\"1\" /><path clip-path=\"url(#clip620)\" d=\"M 0 0 M1248.12 1520.4 L1253.97 1520.4 L1253.97 1556.04 L1248.12 1556.04 L1248.12 1520.4 M1248.12 1506.52 L1253.97 1506.52 L1253.97 1513.93 L1248.12 1513.93 L1248.12 1506.52 Z\" fill=\"#000000\" fill-rule=\"evenodd\" fill-opacity=\"1\" /><path clip-path=\"url(#clip620)\" d=\"M 0 0 M1287.87 1527.24 Q1290.07 1523.29 1293.12 1521.41 Q1296.18 1519.54 1300.32 1519.54 Q1305.89 1519.54 1308.91 1523.45 Q1311.93 1527.33 1311.93 1534.53 L1311.93 1556.04 L1306.04 1556.04 L1306.04 1534.72 Q1306.04 1529.59 1304.23 1527.11 Q1302.42 1524.63 1298.69 1524.63 Q1294.14 1524.63 1291.5 1527.65 Q1288.86 1530.68 1288.86 1535.9 L1288.86 1556.04 L1282.97 1556.04 L1282.97 1534.72 Q1282.97 1529.56 1281.15 1527.11 Q1279.34 1524.63 1275.55 1524.63 Q1271.07 1524.63 1268.42 1527.68 Q1265.78 1530.71 1265.78 1535.9 L1265.78 1556.04 L1259.89 1556.04 L1259.89 1520.4 L1265.78 1520.4 L1265.78 1525.93 Q1267.79 1522.66 1270.59 1521.1 Q1273.39 1519.54 1277.24 1519.54 Q1281.12 1519.54 1283.83 1521.51 Q1286.57 1523.48 1287.87 1527.24 Z\" fill=\"#000000\" fill-rule=\"evenodd\" fill-opacity=\"1\" /><path clip-path=\"url(#clip620)\" d=\"M 0 0 M1348.57 1536.76 L1348.57 1539.62 L1321.64 1539.62 Q1322.02 1545.67 1325.27 1548.85 Q1328.55 1552 1334.37 1552 Q1337.75 1552 1340.9 1551.17 Q1344.08 1550.35 1347.2 1548.69 L1347.2 1554.23 Q1344.05 1555.57 1340.74 1556.27 Q1337.43 1556.97 1334.02 1556.97 Q1325.49 1556.97 1320.49 1552 Q1315.53 1547.04 1315.53 1538.57 Q1315.53 1529.82 1320.24 1524.69 Q1324.98 1519.54 1333 1519.54 Q1340.2 1519.54 1344.37 1524.18 Q1348.57 1528.8 1348.57 1536.76 M1342.71 1535.04 Q1342.65 1530.23 1340.01 1527.37 Q1337.4 1524.5 1333.07 1524.5 Q1328.17 1524.5 1325.21 1527.27 Q1322.28 1530.04 1321.83 1535.07 L1342.71 1535.04 Z\" fill=\"#000000\" fill-rule=\"evenodd\" fill-opacity=\"1\" /><path clip-path=\"url(#clip620)\" d=\"M 0 0 M40.4842 1022.78 L40.4842 1016.35 L82.5933 1016.35 L82.5933 993.214 L88.0042 993.214 L88.0042 1022.78 L40.4842 1022.78 Z\" fill=\"#000000\" fill-rule=\"evenodd\" fill-opacity=\"1\" /><path clip-path=\"url(#clip620)\" d=\"M 0 0 M91.3143 978.223 Q97.68 980.705 99.6216 983.061 Q101.563 985.416 101.563 989.363 L101.563 994.042 L96.6615 994.042 L96.6615 990.604 Q96.6615 988.185 95.5157 986.848 Q94.3699 985.512 90.1048 983.888 L87.4312 982.838 L52.3562 997.256 L52.3562 991.05 L80.238 979.91 L52.3562 968.77 L52.3562 962.563 L91.3143 978.223 Z\" fill=\"#000000\" fill-rule=\"evenodd\" fill-opacity=\"1\" /><path clip-path=\"url(#clip620)\" d=\"M 0 0 M70.0847 940.22 Q70.0847 947.317 71.7079 950.055 Q73.3312 952.792 77.2461 952.792 Q80.3653 952.792 82.2114 950.755 Q84.0256 948.686 84.0256 945.153 Q84.0256 940.283 80.5881 937.355 Q77.1188 934.395 71.3897 934.395 L70.0847 934.395 L70.0847 940.22 M67.6657 928.538 L88.0042 928.538 L88.0042 934.395 L82.5933 934.395 Q85.8398 936.4 87.3994 939.392 Q88.9272 942.384 88.9272 946.713 Q88.9272 952.187 85.8716 955.434 Q82.7843 958.648 77.6281 958.648 Q71.6125 958.648 68.5569 954.638 Q65.5014 950.596 65.5014 942.607 L65.5014 934.395 L64.9285 934.395 Q60.8862 934.395 58.6901 937.069 Q56.4621 939.71 56.4621 944.516 Q56.4621 947.572 57.1941 950.468 Q57.9262 953.365 59.3903 956.038 L53.9795 956.038 Q52.7381 952.824 52.1334 949.8 Q51.4968 946.776 51.4968 943.912 Q51.4968 936.177 55.5072 932.358 Q59.5176 928.538 67.6657 928.538 Z\" fill=\"#000000\" fill-rule=\"evenodd\" fill-opacity=\"1\" /><path clip-path=\"url(#clip620)\" d=\"M 0 0 M82.657 916.73 L101.563 916.73 L101.563 922.618 L52.3562 922.618 L52.3562 916.73 L57.7671 916.73 Q54.5842 914.884 53.0564 912.083 Q51.4968 909.25 51.4968 905.335 Q51.4968 898.842 56.6531 894.8 Q61.8093 890.726 70.212 890.726 Q78.6147 890.726 83.771 894.8 Q88.9272 898.842 88.9272 905.335 Q88.9272 909.25 87.3994 912.083 Q85.8398 914.884 82.657 916.73 M70.212 896.805 Q63.7508 896.805 60.0905 899.479 Q56.3984 902.121 56.3984 906.768 Q56.3984 911.415 60.0905 914.088 Q63.7508 916.73 70.212 916.73 Q76.6732 916.73 80.3653 914.088 Q84.0256 911.415 84.0256 906.768 Q84.0256 902.121 80.3653 899.479 Q76.6732 896.805 70.212 896.805 Z\" fill=\"#000000\" fill-rule=\"evenodd\" fill-opacity=\"1\" /><path clip-path=\"url(#clip620)\" d=\"M 0 0 M73.9359 885.188 L52.3562 885.188 L52.3562 879.332 L73.7131 879.332 Q78.7739 879.332 81.3202 877.358 Q83.8346 875.385 83.8346 871.438 Q83.8346 866.696 80.8109 863.958 Q77.7872 861.189 72.5673 861.189 L52.3562 861.189 L52.3562 855.333 L88.0042 855.333 L88.0042 861.189 L82.5296 861.189 Q85.7762 863.322 87.3676 866.155 Q88.9272 868.955 88.9272 872.679 Q88.9272 878.822 85.1078 882.005 Q81.2883 885.188 73.9359 885.188 M51.4968 870.451 L51.4968 870.451 Z\" fill=\"#000000\" fill-rule=\"evenodd\" fill-opacity=\"1\" /><path clip-path=\"url(#clip620)\" d=\"M 0 0 M66.4881 819.558 L88.0042 819.558 L88.0042 825.414 L66.679 825.414 Q61.6183 825.414 59.1038 827.387 Q56.5894 829.361 56.5894 833.308 Q56.5894 838.05 59.6131 840.787 Q62.6368 843.524 67.8567 843.524 L88.0042 843.524 L88.0042 849.413 L52.3562 849.413 L52.3562 843.524 L57.8944 843.524 Q54.6797 841.424 53.0883 838.591 Q51.4968 835.726 51.4968 832.003 Q51.4968 825.86 55.3163 822.709 Q59.1038 819.558 66.4881 819.558 Z\" fill=\"#000000\" fill-rule=\"evenodd\" fill-opacity=\"1\" /><path clip-path=\"url(#clip620)\" d=\"M 0 0 M56.4621 799.601 Q56.4621 804.312 60.1542 807.049 Q63.8145 809.786 70.212 809.786 Q76.6095 809.786 80.3017 807.081 Q83.9619 804.344 83.9619 799.601 Q83.9619 794.922 80.2698 792.185 Q76.5777 789.448 70.212 789.448 Q63.8781 789.448 60.186 792.185 Q56.4621 794.922 56.4621 799.601 M51.4968 799.601 Q51.4968 791.962 56.4621 787.602 Q61.4273 783.241 70.212 783.241 Q78.9649 783.241 83.9619 787.602 Q88.9272 791.962 88.9272 799.601 Q88.9272 807.272 83.9619 811.632 Q78.9649 815.961 70.212 815.961 Q61.4273 815.961 56.4621 811.632 Q51.4968 807.272 51.4968 799.601 Z\" fill=\"#000000\" fill-rule=\"evenodd\" fill-opacity=\"1\" /><path clip-path=\"url(#clip620)\" d=\"M 0 0 M52.3562 781.3 L52.3562 775.093 L82.275 763.953 L52.3562 752.813 L52.3562 746.607 L88.0042 759.975 L88.0042 767.932 L52.3562 781.3 Z\" fill=\"#000000\" fill-rule=\"evenodd\" fill-opacity=\"1\" /><path clip-path=\"url(#clip620)\" d=\"M 0 0 M68.7161 689.252 L71.5806 689.252 L71.5806 716.179 Q77.6281 715.797 80.8109 712.55 Q83.9619 709.272 83.9619 703.447 Q83.9619 700.073 83.1344 696.922 Q82.3069 693.739 80.6518 690.62 L86.1899 690.62 Q87.5267 693.771 88.227 697.081 Q88.9272 700.392 88.9272 703.797 Q88.9272 712.327 83.9619 717.324 Q78.9967 722.29 70.5303 722.29 Q61.7774 722.29 56.6531 717.579 Q51.4968 712.837 51.4968 704.816 Q51.4968 697.622 56.1438 693.453 Q60.7589 689.252 68.7161 689.252 M66.9973 695.108 Q62.1912 695.172 59.3266 697.813 Q56.4621 700.423 56.4621 704.752 Q56.4621 709.654 59.2312 712.614 Q62.0002 715.542 67.0292 715.988 L66.9973 695.108 Z\" fill=\"#000000\" fill-rule=\"evenodd\" fill-opacity=\"1\" /><path clip-path=\"url(#clip620)\" d=\"M 0 0 M52.3562 654.622 L69.7028 667.513 L88.0042 653.954 L88.0042 660.861 L73.9996 671.237 L88.0042 681.613 L88.0042 688.52 L69.3526 674.674 L52.3562 687.342 L52.3562 680.435 L65.0558 670.982 L52.3562 661.529 L52.3562 654.622 Z\" fill=\"#000000\" fill-rule=\"evenodd\" fill-opacity=\"1\" /><path clip-path=\"url(#clip620)\" d=\"M 0 0 M82.657 642.145 L101.563 642.145 L101.563 648.034 L52.3562 648.034 L52.3562 642.145 L57.7671 642.145 Q54.5842 640.299 53.0564 637.498 Q51.4968 634.666 51.4968 630.751 Q51.4968 624.258 56.6531 620.215 Q61.8093 616.141 70.212 616.141 Q78.6147 616.141 83.771 620.215 Q88.9272 624.258 88.9272 630.751 Q88.9272 634.666 87.3994 637.498 Q85.8398 640.299 82.657 642.145 M70.212 622.221 Q63.7508 622.221 60.0905 624.894 Q56.3984 627.536 56.3984 632.183 Q56.3984 636.83 60.0905 639.504 Q63.7508 642.145 70.212 642.145 Q76.6732 642.145 80.3653 639.504 Q84.0256 636.83 84.0256 632.183 Q84.0256 627.536 80.3653 624.894 Q76.6732 622.221 70.212 622.221 Z\" fill=\"#000000\" fill-rule=\"evenodd\" fill-opacity=\"1\" /><path clip-path=\"url(#clip620)\" d=\"M 0 0 M56.4621 596.185 Q56.4621 600.896 60.1542 603.633 Q63.8145 606.37 70.212 606.37 Q76.6095 606.37 80.3017 603.665 Q83.9619 600.927 83.9619 596.185 Q83.9619 591.506 80.2698 588.769 Q76.5777 586.032 70.212 586.032 Q63.8781 586.032 60.186 588.769 Q56.4621 591.506 56.4621 596.185 M51.4968 596.185 Q51.4968 588.546 56.4621 584.186 Q61.4273 579.825 70.212 579.825 Q78.9649 579.825 83.9619 584.186 Q88.9272 588.546 88.9272 596.185 Q88.9272 603.856 83.9619 608.216 Q78.9649 612.545 70.212 612.545 Q61.4273 612.545 56.4621 608.216 Q51.4968 603.856 51.4968 596.185 Z\" fill=\"#000000\" fill-rule=\"evenodd\" fill-opacity=\"1\" /><path clip-path=\"url(#clip620)\" d=\"M 0 0 M66.4881 544.05 L88.0042 544.05 L88.0042 549.906 L66.679 549.906 Q61.6183 549.906 59.1038 551.88 Q56.5894 553.853 56.5894 557.8 Q56.5894 562.542 59.6131 565.279 Q62.6368 568.017 67.8567 568.017 L88.0042 568.017 L88.0042 573.905 L52.3562 573.905 L52.3562 568.017 L57.8944 568.017 Q54.6797 565.916 53.0883 563.083 Q51.4968 560.219 51.4968 556.495 Q51.4968 550.352 55.3163 547.201 Q59.1038 544.05 66.4881 544.05 Z\" fill=\"#000000\" fill-rule=\"evenodd\" fill-opacity=\"1\" /><path clip-path=\"url(#clip620)\" d=\"M 0 0 M68.7161 507.415 L71.5806 507.415 L71.5806 534.342 Q77.6281 533.96 80.8109 530.714 Q83.9619 527.435 83.9619 521.611 Q83.9619 518.237 83.1344 515.086 Q82.3069 511.903 80.6518 508.784 L86.1899 508.784 Q87.5267 511.935 88.227 515.245 Q88.9272 518.555 88.9272 521.961 Q88.9272 530.491 83.9619 535.488 Q78.9967 540.453 70.5303 540.453 Q61.7774 540.453 56.6531 535.743 Q51.4968 531 51.4968 522.979 Q51.4968 515.786 56.1438 511.617 Q60.7589 507.415 68.7161 507.415 M66.9973 513.272 Q62.1912 513.335 59.3266 515.977 Q56.4621 518.587 56.4621 522.916 Q56.4621 527.817 59.2312 530.777 Q62.0002 533.706 67.0292 534.151 L66.9973 513.272 Z\" fill=\"#000000\" fill-rule=\"evenodd\" fill-opacity=\"1\" /><path clip-path=\"url(#clip620)\" d=\"M 0 0 M66.4881 471.64 L88.0042 471.64 L88.0042 477.496 L66.679 477.496 Q61.6183 477.496 59.1038 479.47 Q56.5894 481.443 56.5894 485.39 Q56.5894 490.132 59.6131 492.87 Q62.6368 495.607 67.8567 495.607 L88.0042 495.607 L88.0042 501.495 L52.3562 501.495 L52.3562 495.607 L57.8944 495.607 Q54.6797 493.506 53.0883 490.673 Q51.4968 487.809 51.4968 484.085 Q51.4968 477.942 55.3163 474.791 Q59.1038 471.64 66.4881 471.64 Z\" fill=\"#000000\" fill-rule=\"evenodd\" fill-opacity=\"1\" /><path clip-path=\"url(#clip620)\" d=\"M 0 0 M42.2347 459.704 L52.3562 459.704 L52.3562 447.641 L56.9077 447.641 L56.9077 459.704 L76.2594 459.704 Q80.6199 459.704 81.8613 458.527 Q83.1026 457.317 83.1026 453.657 L83.1026 447.641 L88.0042 447.641 L88.0042 453.657 Q88.0042 460.436 85.4897 463.014 Q82.9434 465.592 76.2594 465.592 L56.9077 465.592 L56.9077 469.889 L52.3562 469.889 L52.3562 465.592 L42.2347 465.592 L42.2347 459.704 Z\" fill=\"#000000\" fill-rule=\"evenodd\" fill-opacity=\"1\" /><polyline clip-path=\"url(#clip622)\" style=\"stroke:#009af9; stroke-width:4; stroke-opacity:1; fill:none\" points=\"\n",
       "  276.025,216.298 296.391,176.814 316.757,189.047 337.123,143.771 357.489,158.337 377.855,167.903 398.221,174.976 418.588,111.072 438.954,122.554 459.32,159.178 \n",
       "  479.686,164.287 500.052,86.1857 520.418,95.8235 540.784,138.472 561.15,143.57 581.516,125.662 601.882,130.805 622.249,131.229 642.615,135.611 662.981,141.559 \n",
       "  683.347,141.559 703.713,145.31 724.079,147.252 744.445,150.317 764.811,137.578 785.177,140.65 805.543,89.2154 825.91,93.7099 846.276,112.943 866.642,116.65 \n",
       "  887.008,125.201 907.374,128.018 927.74,133.808 948.106,136.308 968.472,142.098 988.838,144.239 1009.2,145.306 1029.57,145.306 1049.94,147.193 1070.3,137.056 \n",
       "  1090.67,139.052 1111.03,148.145 1131.4,149.806 1151.77,127.409 1172.13,129.387 1192.5,125.797 1212.87,127.769 1233.23,141.804 1253.6,143.39 1273.96,145.285 \n",
       "  1294.33,146.76 1314.7,138.462 1335.06,139.911 1355.43,122.75 1375.79,124.471 1396.16,138.193 1416.53,139.618 1436.89,139.618 1457.26,144.032 1477.62,145.315 \n",
       "  1497.99,144.322 1518.36,145.484 1538.72,129.14 1559.09,130.497 1579.46,133.374 1599.82,134.789 1620.19,140.013 1640.55,141.156 1660.92,144.653 1681.29,145.677 \n",
       "  1701.65,137.027 1722.02,138.181 1742.38,118.688 1762.75,120.085 1783.12,129.802 1803.48,130.994 1823.85,132.611 1844.21,133.734 1864.58,133.734 1884.95,136.725 \n",
       "  1905.31,137.78 1925.68,139.431 1946.04,140.373 1966.41,141.224 1986.78,142.148 2007.14,136.904 2027.51,137.842 2047.88,142.268 2068.24,143.154 2088.61,131.877 \n",
       "  2108.97,132.86 2129.34,130.883 2149.71,131.842 2170.07,139.85 2190.44,140.672 2210.8,140.259 2231.17,141.105 2251.54,141.105 2271.9,138.401 2292.27,139.228 \n",
       "  \n",
       "  \"/>\n",
       "<polyline clip-path=\"url(#clip622)\" style=\"stroke:#e26f46; stroke-width:4; stroke-opacity:1; fill:none\" points=\"\n",
       "  276.025,216.298 296.391,745.87 316.757,581.795 337.123,441.84 357.489,396.542 377.855,402.304 398.221,375.121 418.588,358.113 438.954,342.639 459.32,332.946 \n",
       "  479.686,322.513 500.052,334.7 520.418,325.93 540.784,311.723 561.15,305.472 581.516,286.595 601.882,282.606 622.249,273.55 642.615,270.601 662.981,269.327 \n",
       "  683.347,269.327 703.713,266.666 724.079,254.685 744.445,252.981 764.811,266.178 785.177,264.232 805.543,276.351 825.91,274.227 846.276,270.82 866.642,268.864 \n",
       "  887.008,259.381 907.374,258.049 927.74,258.964 948.106,257.671 968.472,240.088 988.838,239.402 1009.2,246.045 1029.57,246.045 1049.94,245.254 1070.3,241.513 \n",
       "  1090.67,240.878 1111.03,240.385 1131.4,239.798 1151.77,248.551 1172.13,247.833 1192.5,247.513 1212.87,246.832 1233.23,237.474 1253.6,237.023 1273.96,231.085 \n",
       "  1294.33,230.778 1314.7,239.514 1335.06,239.082 1355.43,241.095 1375.79,240.638 1396.16,239.303 1416.53,238.883 1436.89,238.883 1457.26,225.51 1477.62,225.347 \n",
       "  1497.99,233.278 1518.36,233.004 1538.72,238.211 1559.09,237.869 1579.46,236.859 1599.82,236.509 1620.19,230.305 1640.55,230.095 1660.92,226.176 1681.29,226.035 \n",
       "  1701.65,233.843 1722.02,233.588 1742.38,238.285 1762.75,237.97 1783.12,236.858 1803.48,236.574 1823.85,233.322 1844.21,233.094 1864.58,233.094 1884.95,233.473 \n",
       "  1905.31,233.245 1925.68,226.253 1946.04,226.131 1966.41,229.369 1986.78,229.208 2007.14,227.777 2027.51,227.641 2047.88,228.066 2068.24,227.926 2088.61,232.126 \n",
       "  2108.97,231.941 2129.34,232.088 2149.71,231.911 2170.07,226.344 2190.44,226.236 2210.8,225.622 2231.17,225.519 2251.54,225.519 2271.9,228.143 2292.27,228.017 \n",
       "  \n",
       "  \"/>\n",
       "<polyline clip-path=\"url(#clip622)\" style=\"stroke:#3da44d; stroke-width:4; stroke-opacity:1; fill:none\" points=\"\n",
       "  276.025,216.298 296.391,817.205 316.757,631.028 337.123,1155.16 357.489,966.597 377.855,1170.06 398.221,1030.68 418.588,1271.4 438.954,1156.27 459.32,1248.1 \n",
       "  479.686,1155.81 500.052,1319.83 520.418,1238.09 540.784,1290.1 561.15,1219.75 581.516,1328.86 601.882,1265.72 622.249,1336.13 642.615,1278.44 662.981,1330.28 \n",
       "  683.347,1330.28 703.713,1274.38 724.079,1339.06 744.445,1289.22 764.811,1337.26 785.177,1293.52 805.543,1375.64 825.91,1334.64 846.276,1357.21 866.642,1316.28 \n",
       "  887.008,1356.47 907.374,1321.21 927.74,1348.13 948.106,1313.83 968.472,1358.8 988.838,1325.83 1009.2,1349.5 1029.57,1349.5 1049.94,1319.39 1070.3,1362.44 \n",
       "  1090.67,1333.56 1111.03,1352.31 1131.4,1324.63 1151.77,1365.23 1172.13,1339.65 1192.5,1367.78 1212.87,1342.69 1233.23,1361.81 1253.6,1337.42 1273.96,1364.63 \n",
       "  1294.33,1340.78 1314.7,1363.09 1335.06,1341.74 1355.43,1377.29 1375.79,1355.94 1396.16,1363.52 1416.53,1342.59 1436.89,1342.59 1457.26,1371.51 1477.62,1350.99 \n",
       "  1497.99,1363.33 1518.36,1344.82 1538.72,1373.74 1559.09,1355.71 1579.46,1370.78 1599.82,1351.08 1620.19,1370.81 1640.55,1353.51 1660.92,1370.22 1681.29,1353.73 \n",
       "  1701.65,1370.2 1722.02,1353.4 1742.38,1384.24 1762.75,1367.52 1783.12,1374.45 1803.48,1358.49 1823.85,1375.19 1844.21,1359.64 1864.58,1359.64 1884.95,1370.86 \n",
       "  1905.31,1355.56 1925.68,1375.39 1946.04,1361.18 1966.41,1370.42 1986.78,1356.22 2007.14,1376.38 2027.51,1362.68 2047.88,1370.65 2068.24,1356.84 2088.61,1377.12 \n",
       "  2108.97,1363.61 2129.34,1378.1 2149.71,1365.06 2170.07,1374.87 2190.44,1362.41 2210.8,1375.13 2231.17,1362.23 2251.54,1362.23 2271.9,1374.5 2292.27,1362.2 \n",
       "  \n",
       "  \"/>\n",
       "<path clip-path=\"url(#clip620)\" d=\"\n",
       "M1989.16 372.684 L2280.76 372.684 L2280.76 130.764 L1989.16 130.764  Z\n",
       "  \" fill=\"#ffffff\" fill-rule=\"evenodd\" fill-opacity=\"1\"/>\n",
       "<polyline clip-path=\"url(#clip620)\" style=\"stroke:#000000; stroke-width:4; stroke-opacity:1; fill:none\" points=\"\n",
       "  1989.16,372.684 2280.76,372.684 2280.76,130.764 1989.16,130.764 1989.16,372.684 \n",
       "  \"/>\n",
       "<polyline clip-path=\"url(#clip620)\" style=\"stroke:#009af9; stroke-width:4; stroke-opacity:1; fill:none\" points=\"\n",
       "  2013.16,191.244 2157.16,191.244 \n",
       "  \"/>\n",
       "<path clip-path=\"url(#clip620)\" d=\"M 0 0 M2195 210.931 Q2193.2 215.561 2191.48 216.973 Q2189.77 218.385 2186.9 218.385 L2183.5 218.385 L2183.5 214.82 L2186 214.82 Q2187.76 214.82 2188.73 213.987 Q2189.7 213.154 2190.88 210.052 L2191.65 208.107 L2181.16 182.598 L2185.67 182.598 L2193.77 202.876 L2201.88 182.598 L2206.39 182.598 L2195 210.931 Z\" fill=\"#000000\" fill-rule=\"evenodd\" fill-opacity=\"1\" /><path clip-path=\"url(#clip620)\" d=\"M 0 0 M2212.27 204.589 L2219.91 204.589 L2219.91 178.223 L2211.6 179.89 L2211.6 175.631 L2219.86 173.964 L2224.54 173.964 L2224.54 204.589 L2232.18 204.589 L2232.18 208.524 L2212.27 208.524 L2212.27 204.589 Z\" fill=\"#000000\" fill-rule=\"evenodd\" fill-opacity=\"1\" /><polyline clip-path=\"url(#clip620)\" style=\"stroke:#e26f46; stroke-width:4; stroke-opacity:1; fill:none\" points=\"\n",
       "  2013.16,251.724 2157.16,251.724 \n",
       "  \"/>\n",
       "<path clip-path=\"url(#clip620)\" d=\"M 0 0 M2195 271.411 Q2193.2 276.041 2191.48 277.453 Q2189.77 278.865 2186.9 278.865 L2183.5 278.865 L2183.5 275.3 L2186 275.3 Q2187.76 275.3 2188.73 274.467 Q2189.7 273.634 2190.88 270.532 L2191.65 268.587 L2181.16 243.078 L2185.67 243.078 L2193.77 263.356 L2201.88 243.078 L2206.39 243.078 L2195 271.411 Z\" fill=\"#000000\" fill-rule=\"evenodd\" fill-opacity=\"1\" /><path clip-path=\"url(#clip620)\" d=\"M 0 0 M2215.49 265.069 L2231.81 265.069 L2231.81 269.004 L2209.86 269.004 L2209.86 265.069 Q2212.52 262.314 2217.11 257.685 Q2221.71 253.032 2222.89 251.689 Q2225.14 249.166 2226.02 247.43 Q2226.92 245.671 2226.92 243.981 Q2226.92 241.226 2224.98 239.49 Q2223.06 237.754 2219.96 237.754 Q2217.76 237.754 2215.3 238.518 Q2212.87 239.282 2210.09 240.833 L2210.09 236.111 Q2212.92 234.976 2215.37 234.398 Q2217.83 233.819 2219.86 233.819 Q2225.23 233.819 2228.43 236.504 Q2231.62 239.189 2231.62 243.68 Q2231.62 245.81 2230.81 247.731 Q2230.02 249.629 2227.92 252.222 Q2227.34 252.893 2224.24 256.111 Q2221.14 259.305 2215.49 265.069 Z\" fill=\"#000000\" fill-rule=\"evenodd\" fill-opacity=\"1\" /><polyline clip-path=\"url(#clip620)\" style=\"stroke:#3da44d; stroke-width:4; stroke-opacity:1; fill:none\" points=\"\n",
       "  2013.16,312.204 2157.16,312.204 \n",
       "  \"/>\n",
       "<path clip-path=\"url(#clip620)\" d=\"M 0 0 M2195 331.891 Q2193.2 336.521 2191.48 337.933 Q2189.77 339.345 2186.9 339.345 L2183.5 339.345 L2183.5 335.78 L2186 335.78 Q2187.76 335.78 2188.73 334.947 Q2189.7 334.114 2190.88 331.012 L2191.65 329.067 L2181.16 303.558 L2185.67 303.558 L2193.77 323.836 L2201.88 303.558 L2206.39 303.558 L2195 331.891 Z\" fill=\"#000000\" fill-rule=\"evenodd\" fill-opacity=\"1\" /><path clip-path=\"url(#clip620)\" d=\"M 0 0 M2225.63 310.85 Q2228.98 311.568 2230.86 313.836 Q2232.76 316.105 2232.76 319.438 Q2232.76 324.554 2229.24 327.354 Q2225.72 330.155 2219.24 330.155 Q2217.06 330.155 2214.75 329.716 Q2212.46 329.299 2210 328.442 L2210 323.929 Q2211.95 325.063 2214.26 325.642 Q2216.58 326.22 2219.1 326.22 Q2223.5 326.22 2225.79 324.484 Q2228.1 322.748 2228.1 319.438 Q2228.1 316.382 2225.95 314.669 Q2223.82 312.933 2220 312.933 L2215.97 312.933 L2215.97 309.091 L2220.19 309.091 Q2223.64 309.091 2225.46 307.725 Q2227.29 306.336 2227.29 303.743 Q2227.29 301.081 2225.39 299.669 Q2223.52 298.234 2220 298.234 Q2218.08 298.234 2215.88 298.651 Q2213.68 299.068 2211.04 299.947 L2211.04 295.781 Q2213.71 295.04 2216.02 294.669 Q2218.36 294.299 2220.42 294.299 Q2225.74 294.299 2228.84 296.73 Q2231.95 299.137 2231.95 303.257 Q2231.95 306.128 2230.3 308.118 Q2228.66 310.086 2225.63 310.85 Z\" fill=\"#000000\" fill-rule=\"evenodd\" fill-opacity=\"1\" /></svg>\n"
      ]
     },
     "execution_count": 159,
     "metadata": {},
     "output_type": "execute_result"
    }
   ],
   "source": [
    "@time let\n",
    "    \n",
    "    dt = 0.1\n",
    "    t_max = 10\n",
    "    lse = lyap_qr_time_series(modeling_toolkit_integrator, t_max, dt; \n",
    "        t_pre_iter=0, \n",
    "        t_save=t_max/100,\n",
    "        t_renormalize=dt,\n",
    "        lyapunov_count=3\n",
    "    )\n",
    "    \n",
    "    @show lse.lyapunov[:,end]\n",
    "    plot(lse)\n",
    "end"
   ]
  },
  {
   "cell_type": "code",
   "execution_count": null,
   "metadata": {},
   "outputs": [],
   "source": []
  },
  {
   "cell_type": "code",
   "execution_count": null,
   "metadata": {},
   "outputs": [],
   "source": []
  }
 ],
 "metadata": {
  "kernelspec": {
   "display_name": "Julia 1.4.1",
   "language": "julia",
   "name": "julia-1.4"
  },
  "language_info": {
   "file_extension": ".jl",
   "mimetype": "application/julia",
   "name": "julia",
   "version": "1.4.1"
  }
 },
 "nbformat": 4,
 "nbformat_minor": 2
}
