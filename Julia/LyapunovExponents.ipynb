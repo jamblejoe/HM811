{
 "cells": [
  {
   "cell_type": "markdown",
   "metadata": {},
   "source": [
    "# Calculating Lyapunov Exponents"
   ]
  },
  {
   "cell_type": "markdown",
   "metadata": {},
   "source": [
    "In this notebook we will investigate a method for quantifying chaos in dynamical systems: Lyapunov exponents. We will numerically solve the Lorenz system, a toy example to study chaotic behaviour, and calculate its Lyapunov exponents. We will do this in two ways. First, we will define some basic functions to solve ordinary differential equations and a function to calculate a timeseries of Lyapunov exponents. This will allow us to calculate Lyapunov exponents of the Lorenz system. Second, we will replace the basic ODE solving functions by Julia's ecosystem and demonstrate how easy it is to write high level but very fast code in Julia.\n",
    "\n",
    "I tried to provide as much help for readers not familiar with Julia, but with other high level languages, such as python, c++, java, etc. It should be possible for them to understand the content in this notebook."
   ]
  },
  {
   "cell_type": "markdown",
   "metadata": {},
   "source": [
    "This notebook's content is as follows:\n",
    " - solve the Lorenz system with a simple ODE solver\n",
    " - calculate Lyapunov timeseries utilizing the simple solvers\n",
    " - swap the simple methods for Julia packages\n"
   ]
  },
  {
   "cell_type": "markdown",
   "metadata": {},
   "source": [
    "First of all we will activate the enviroment in the Project.toml file and instantiate it. This allows us to use exactly the packages and versions we defined there. This helps making results reproducible."
   ]
  },
  {
   "cell_type": "code",
   "execution_count": 1,
   "metadata": {},
   "outputs": [
    {
     "name": "stderr",
     "output_type": "stream",
     "text": [
      "\u001b[32m\u001b[1m Activating\u001b[22m\u001b[39m environment at `C:\\Users\\Goran\\MEGA\\modules\\HM811\\projects\\Julia\\Project.toml`\n"
     ]
    }
   ],
   "source": [
    "import Pkg\n",
    "Pkg.activate(\".\")             # This activates the enviromnent in this folder\n",
    "Pkg.instantiate()             # Downloads all the packages in the Project.toml and all dependencies in the Manifest.toml.\n",
    "                              # Then builds necessary binaries."
   ]
  },
  {
   "cell_type": "markdown",
   "metadata": {},
   "source": [
    "The packages in the Project.toml can by added by executing the following cell. If we do not specify a version of the packages, the newest releases will be added."
   ]
  },
  {
   "cell_type": "raw",
   "metadata": {},
   "source": [
    "Pkg.add(\"Plots\")              # Needed for plotting\n",
    "Pkg.add(\"RecipesBase\")        # Lightweight plotting interface\n",
    "Pkg.add(\"LinearAlgebra\")\n",
    "Pkg.add(\"Random\")\n",
    "\n",
    "Pkg.add(\"DifferentialEquations\") # Enormous Differential Equation package\n",
    "Pkg.add(\"DynamicalSystems\")      # Collection of useful tools, e.g. calculating Lyapunov exponents\n",
    "Pkg.add(\"DynamicalSystemsBase\")\n",
    "\n",
    "Pkg.add(\"ModelingToolkit\")       # Toolkit for symbolic calculations"
   ]
  },
  {
   "cell_type": "markdown",
   "metadata": {},
   "source": [
    "If we wanted to update packages, we can do this with"
   ]
  },
  {
   "cell_type": "raw",
   "metadata": {},
   "source": [
    "Pkg.update()"
   ]
  },
  {
   "cell_type": "markdown",
   "metadata": {},
   "source": [
    "Now that we have our packages downloaded and binaries (if the package depence on some) are build we can start using them. The first time we use a package it might need precompilation. Packages are just a collection of Julia functions (rarely some constants) and these need to be compiled when loaded. The compiled functions will be stored on the harddrive and can be loaded without compilation the next time, as long as the version of the package does not change. We first load some minimal packages and a package for plotting."
   ]
  },
  {
   "cell_type": "code",
   "execution_count": 2,
   "metadata": {},
   "outputs": [],
   "source": [
    "using Plots\n",
    "using LinearAlgebra\n",
    "using Random"
   ]
  },
  {
   "cell_type": "markdown",
   "metadata": {},
   "source": [
    "We will overload methods from other packages right from the start to reuse code. But we have to exactly specify, which methods we want to overload - so we do not accidently overload methods we did not want or are not aware of. Julia would throw an error then. This needs to be done, outside the development of packages, rarely, but here we want to first do everything from scratch and after that use the Julia ecosystem."
   ]
  },
  {
   "cell_type": "code",
   "execution_count": 3,
   "metadata": {},
   "outputs": [],
   "source": [
    "import RecipesBase.plot\n",
    "import DifferentialEquations.step!\n",
    "import DifferentialEquations.solve\n",
    "import DynamicalSystemsBase.get_deviations\n",
    "import DynamicalSystemsBase.set_deviations!"
   ]
  },
  {
   "cell_type": "markdown",
   "metadata": {},
   "source": [
    "## Solve the Lorenz systems"
   ]
  },
  {
   "cell_type": "markdown",
   "metadata": {},
   "source": [
    "The Lorenz system is a system of ordinary differential equations first studied by Edward Lorenz in the 1960's. It is a \"simple\" system which exhibits chaotic behaviour for certain parameter and initial value combinations. It is a simple model for atmospheric convection. The ODE is given by\n",
    "\n",
    "\\begin{align}\n",
    "\\frac{d}{dt} x &= \\sigma (y - x), \\\\\n",
    "\\frac{d}{dt} y &= x (\\rho - z) - y, \\\\\n",
    "\\frac{d}{dt} z &= x y - \\beta z.\n",
    "\\end{align}\n",
    "\n",
    "Below we see the Julia code. It is an inplace update of the dynamical equations. The \"!\" is just a convention in Julia marking that the function will override its first argument(s)."
   ]
  },
  {
   "cell_type": "code",
   "execution_count": 4,
   "metadata": {},
   "outputs": [
    {
     "data": {
      "text/plain": [
       "lorenz! (generic function with 1 method)"
      ]
     },
     "execution_count": 4,
     "metadata": {},
     "output_type": "execute_result"
    }
   ],
   "source": [
    "function lorenz!(du,u,p,t)\n",
    "    σ = p[1]\n",
    "    ρ = p[2]\n",
    "    β = p[3]\n",
    "\n",
    "    du[1] = σ*(u[2]-u[1])\n",
    "    du[2] = u[1]*(ρ-u[3])-u[2]\n",
    "    du[3] = u[1]*u[2]-β*u[3]\n",
    "    nothing\n",
    "end"
   ]
  },
  {
   "cell_type": "markdown",
   "metadata": {},
   "source": [
    "By default, functions in Julia return the result of the last statement. If we explicitly want to return nothing, we just state `nothing` at the end of the function. If we put `nothing` at the end of a cell, then we prevent any output."
   ]
  },
  {
   "cell_type": "markdown",
   "metadata": {},
   "source": [
    "We want to solve this ODE for different parameters and initial conditions. We define (very C-like) an integrator struct and a function \"step!\" and \"solve\". The function \"step!\" calculates the solution to the initial value problem for the next time step and the function \"solve\" is a convience function, which uses \"step!\" to compute a solution for an initial value problem."
   ]
  },
  {
   "cell_type": "code",
   "execution_count": 5,
   "metadata": {},
   "outputs": [],
   "source": [
    "mutable struct MyIntegrator\n",
    "    f!                 # right hand side of ODE\n",
    "    du::AbstractArray  # infinitesimal deviation cache\n",
    "    u::AbstractArray   # current state\n",
    "    p::AbstractArray   # additional parameters\n",
    "    t::Real            # current time steps\n",
    "end\n",
    "\n",
    "my_integrator(f!, u0, p) = MyIntegrator(\n",
    "        f!,               # f!\n",
    "        zeros(size(u0)),  # du\n",
    "        u0,               # u\n",
    "        p,                # p\n",
    "        0.0,              # t\n",
    "    )\n",
    "    \n",
    "\n",
    "function step!(integrator::MyIntegrator, dt::Real)\n",
    "    du = integrator.du\n",
    "    u = integrator.u\n",
    "    p = integrator.p\n",
    "        \n",
    "    integrator.f!(du, u, p, dt)\n",
    "    u .+= dt .* du \n",
    "    integrator.t += dt\n",
    "        \n",
    "    nothing\n",
    "end\n",
    "\n",
    "function solve(integrator::MyIntegrator, t::Real, dt::Real)\n",
    "    \n",
    "    t0 = integrator.t\n",
    "    t0 >= t && throw(\"t must be greater then integrator.t\")\n",
    "    ts = range(t0, t;step=dt)\n",
    "    us = zeros(size(integrator.u)..., length(ts))\n",
    "    us[:,1] = integrator.u    # us[:,1] denotes the 1. column of us\n",
    "                              # the 1. row would be us[1,:]\n",
    "    for i in 2:length(ts)\n",
    "        step!(integrator, dt)\n",
    "        us[:,i] = integrator.u\n",
    "    end\n",
    "    \n",
    "    return ts, us\n",
    "end\n",
    "nothing"
   ]
  },
  {
   "cell_type": "markdown",
   "metadata": {},
   "source": [
    "The dot syntax in `u .+= dt .* du` is a shortcut for loop fusion. The `...` syntax \"unpacks\" an array, e.g. `f([1,2]...)` for a function f taking two arguments is equivalent to `f(1,2)`. "
   ]
  },
  {
   "cell_type": "markdown",
   "metadata": {},
   "source": [
    "Next, we solve the Lorenz system for the initial value $x=19$, $y=20$ and $z=50$ and chose $\\sigma=16$, $\\rho=45.92$ and $\\beta=4$. With this choice of parameters the dynamical system will have the typical attractor and the trajectory settles quickly to this attractor. One can play around with other parameters too. Two more interesting parameter triples are given later. In the rest of this notebook, we will stick to the chosen initial value and parameters. The first runtime can be comparetively long, because Julia has to compile functions the first time they are called. Run a couple of more times to see the actual runtime."
   ]
  },
  {
   "cell_type": "code",
   "execution_count": 6,
   "metadata": {},
   "outputs": [
    {
     "name": "stdout",
     "output_type": "stream",
     "text": [
      "  0.476450 seconds (863.86 k allocations: 41.871 MiB, 5.02% gc time)\n"
     ]
    },
    {
     "data": {
      "text/plain": [
       "(0.0:0.01:20.0, [19.0 19.16 … 5.224589854795961 5.431639199701373; 20.0 19.0248 … 6.518648260454787 7.16871371854596; 50.0 51.8 … 32.2298930141062 31.28126992922751])"
      ]
     },
     "execution_count": 6,
     "metadata": {},
     "output_type": "execute_result"
    }
   ],
   "source": [
    "lorenz_solution = @time let\n",
    "    u0 = [19.,20.,50.] # initial value\n",
    "    p = [16.,45.92,4]  # parameters\n",
    "    integrator = my_integrator(lorenz!, u0, p) # creates the integrator struct\n",
    "    solve(integrator, 20., 0.01)               # solves the system\n",
    "end"
   ]
  },
  {
   "cell_type": "markdown",
   "metadata": {},
   "source": [
    "We plot the solution in 3D. This functionality is in `Plots.jl`. It may take some time for the first run."
   ]
  },
  {
   "cell_type": "code",
   "execution_count": 7,
   "metadata": {},
   "outputs": [
    {
     "name": "stderr",
     "output_type": "stream",
     "text": [
      "┌ Info: Saved animation to \n",
      "│   fn = C:\\Users\\Goran\\MEGA\\modules\\HM811\\projects\\Julia\\lorenz.gif\n",
      "└ @ Plots C:\\Users\\Goran\\.julia\\packages\\Plots\\V8QVi\\src\\animation.jl:104\n"
     ]
    },
    {
     "data": {
      "text/html": [
       "<img src=\"data:image/gif;base64,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\" />"
      ],
      "text/plain": [
       "Plots.AnimatedGif(\"C:\\\\Users\\\\Goran\\\\MEGA\\\\modules\\\\HM811\\\\projects\\\\Julia\\\\lorenz.gif\")"
      ]
     },
     "execution_count": 7,
     "metadata": {},
     "output_type": "execute_result"
    }
   ],
   "source": [
    "let\n",
    "    t = lorenz_solution[1]\n",
    "    u = lorenz_solution[2]\n",
    "    \n",
    "    # initialize a 3D plot with 1 empty series\n",
    "    plt = plot3d(\n",
    "        1,\n",
    "        xlim = (-42, 42),\n",
    "        ylim = (-30, 30),\n",
    "        zlim = (0, 100),\n",
    "        title = \"Lorenz Attractor\",\n",
    "        marker = 2,\n",
    "        xlabel=\"x\",\n",
    "        ylabel=\"y\",\n",
    "        zlabel=\"z\",\n",
    "    )\n",
    "\n",
    "    # build an animated gif by pushing new points to the plot, saving every 5th frame\n",
    "    anim = @animate for i=1:length(t)\n",
    "        x = u[1,i]\n",
    "        y = u[2,i]\n",
    "        z = u[3,i]\n",
    "        push!(plt, x, y, z)\n",
    "        end every 5\n",
    "    gif(anim, \"lorenz.gif\", fps = 15)\n",
    "end"
   ]
  },
  {
   "cell_type": "markdown",
   "metadata": {},
   "source": [
    "## Calculate Lyapunov exponents"
   ]
  },
  {
   "cell_type": "markdown",
   "metadata": {},
   "source": [
    "Now that we have numerical integration and solving ordinary differential equations set up, we can focus on calculating Lyapunov exponents. We rewrite the Lorenz equations as \n",
    "\\begin{align}\n",
    "    \\frac{d}{dt} x &= f(x, t),\n",
    "\\end{align}\n",
    "where $x\\in\\mathbb{R}^3$ and\n",
    "\\begin{align}\n",
    "    f(x_1,t) &= \\sigma (x_2 - x_1), \\\\\n",
    "    f(x_2,t) &= x (\\rho - x_3) - x_2, \\\\\n",
    "    f(x_3,t) &= x_1 x_2 - \\beta x_3. \n",
    "\\end{align}\n",
    "\n",
    "The maximal Lyapunov exponent of an initial state is the exponential time dependence of the difference between the intial state and a(n) (infinitesimal) small deviation to that state. If $x$ is the initial state and $u$ is the small deviation then $\\lambda$ such that\n",
    "\\begin{align}\n",
    "    \\|u(t)\\| \\sim e^{\\lambda t} \\|u(0)\\|,\n",
    "\\end{align}\n",
    "where the time evolution of $u$ is given by the ordinary differential equation, is the maximal Lyapunov exponent. The above similarity should become exact for $t\\to\\infty$. Mathematically rigorous this reads\n",
    "\\begin{align}\n",
    "    \\lambda = \\lim_{\\|u\\|\\to 0}\\lim_{t\\to\\infty} \\frac{1}{t} \\frac{\\|u(t)\\|}{\\|u\\|}\n",
    "\\end{align}\n",
    "\n",
    "Denote the solution to the above ODE for the initial value $x(0)$ at time $t$ as $\\Phi(x(0),t)$. Then time evolution of $u$ is given by\n",
    "\\begin{align}\n",
    "    \\frac{\\|u(t)\\|}{\\|u(0)\\|}\n",
    "    = \\frac{\\|x(t) + u(t) - x(t)\\|}{\\|u(0)\\|}\n",
    "    = \\frac{\\|\\Phi(x(0) + u(0),t) - \\Phi(x(0),t)\\|}{\\|u(0)\\|}\n",
    "    \\to \\|D_x\\Phi(x(0), t) \\cdot u(0)\\|,\n",
    "\\end{align}\n",
    "for $u(0)\\to 0$, $D_x$ denotes the derivative with respect to the first component of $\\Phi$. Now, $D_x\\Phi$ is the solution of a differential equation as well as\n",
    "\\begin{align}\n",
    "    \\frac{d}{dt}D_x\\Phi(x,t) \n",
    "    = D_x f(\\Phi(x,t),t) \n",
    "    = (D_x f)(\\Phi(x,t)) \\cdot D_x\\Phi(x,t),\n",
    "\\end{align}\n",
    "the so called variational equations. To obtain the Lyapunov exponents we have to solve these variational equations, denoting $D_x\\Phi(x,t) = Y$ and $D_xf=Df$,\n",
    "\\begin{align}\n",
    "    \\frac{d}{dt} x &= f(x, t) \\\\\n",
    "    \\frac{d}{dt} Y &= Df(x,t) * Y,\n",
    "\\end{align}\n",
    "where $Df$ denotes the Jacobian matrix of $f$. We already have defined $f=$ `lorenz!` and will now define $Df=$ `lorenz_jac!`. We can not only calculate the maximal Lyapunov exponent with this method, but the whole Lyapunov spectrum. We will not go into further detail, but imagine swapping the infinitesimal deviation vector $u$ with an orthogonal matrix, representing the basis of the whole tangent space."
   ]
  },
  {
   "cell_type": "code",
   "execution_count": 8,
   "metadata": {},
   "outputs": [
    {
     "data": {
      "text/plain": [
       "lorenz_jac! (generic function with 1 method)"
      ]
     },
     "execution_count": 8,
     "metadata": {},
     "output_type": "execute_result"
    }
   ],
   "source": [
    "function lorenz_jac!(J,u,p,t)\n",
    "\n",
    "    σ = p[1]\n",
    "    ρ = p[2]\n",
    "    β = p[3]\n",
    "\n",
    "    J[1,1] = -σ\n",
    "    J[1,2] = σ\n",
    "    J[1,3] = 0\n",
    "    J[2,1] = ρ-u[3]\n",
    "    J[2,2] = -1\n",
    "    J[2,3] = -u[1]\n",
    "    J[3,1] = u[2]\n",
    "    J[3,2] = u[1]\n",
    "    J[3,3] = -β\n",
    "    nothing\n",
    "end"
   ]
  },
  {
   "cell_type": "markdown",
   "metadata": {},
   "source": [
    "We define the integrator struct for solving the variational equations. The `@view` makro is a short form for the `view` function, which returns non memory allocating slices of an array."
   ]
  },
  {
   "cell_type": "code",
   "execution_count": 9,
   "metadata": {},
   "outputs": [
    {
     "data": {
      "text/plain": [
       "my_tangent_integrator (generic function with 1 method)"
      ]
     },
     "execution_count": 9,
     "metadata": {},
     "output_type": "execute_result"
    }
   ],
   "source": [
    "function my_tangent_integrator(\n",
    "                f!, \n",
    "                jac!, \n",
    "                u0::Vector{<:Real},\n",
    "                p::AbstractVector;\n",
    "                seed::Integer=42)\n",
    "    \n",
    "    rng = MersenneTwister(seed)\n",
    "    \n",
    "    # initialize w0 with a random, orthogonal matrix\n",
    "    w0 = rand(rng, length(u0), length(u0))\n",
    "    w0 = Array(qr(w0).Q)\n",
    "    \n",
    "    # define cache for Jacobian calculation, as we are\n",
    "    # calcuating in place\n",
    "    J = zeros(size(w0))\n",
    "    \n",
    "    # this is the right hand side of the variational equations\n",
    "    # the out of place version would look like\n",
    "    # function tangent(u,p,t)\n",
    "    #    du = f(u,p,t)\n",
    "    #    J = jac(u,p,t)\n",
    "    #    hcat(du, J)\n",
    "    # end\n",
    "    function tangent!(du,u,p,t)\n",
    "        uv = @view u[:, 1]\n",
    "        f!(view(du,:,1),uv ,p,t)\n",
    "        jac!(J, uv,p,t)\n",
    "        mul!((@view du[:, 2:end]), J, (@view u[:, 2:end]))\n",
    "        nothing\n",
    "    end\n",
    "    \n",
    "    \n",
    "    u0 = hcat(u0, w0)    # hcat concatenates columnwise\n",
    "    integ = my_integrator(tangent!, u0, p)\n",
    "\n",
    "    return integ\n",
    "end\n"
   ]
  },
  {
   "cell_type": "markdown",
   "metadata": {},
   "source": [
    "We define some convenience functions to get and set the tangent space spanning $Y$. We want a setter function as well, as we will renormalize $Y$ while solving the variational equations to prevent numerical overflow due to exponential growth of the entries of $Y$, if the corresponding dynamical system is chaotic."
   ]
  },
  {
   "cell_type": "code",
   "execution_count": 10,
   "metadata": {},
   "outputs": [
    {
     "data": {
      "text/plain": [
       "set_deviations! (generic function with 5 methods)"
      ]
     },
     "execution_count": 10,
     "metadata": {},
     "output_type": "execute_result"
    }
   ],
   "source": [
    "get_deviations(integ) = @view integ.u[:, 2:end]\n",
    "set_deviations!(integ, Q)  = (integ.u[:, 2:end] .= Q)"
   ]
  },
  {
   "cell_type": "markdown",
   "metadata": {},
   "source": [
    "Now we will define the most important function - the function calculating a timeseries of Lyapunov exponents. The timeseries allows us later to visually observe sufficient convergence. This function was used (slightly modified) in one of my projects on chaos in classical systems."
   ]
  },
  {
   "cell_type": "code",
   "execution_count": 11,
   "metadata": {},
   "outputs": [
    {
     "data": {
      "text/plain": [
       "_lyap_step_qr!"
      ]
     },
     "execution_count": 11,
     "metadata": {},
     "output_type": "execute_result"
    }
   ],
   "source": [
    "struct LyapunovExponentSolution\n",
    "    t::AbstractArray\n",
    "    u::AbstractArray\n",
    "    lyapunov::AbstractArray\n",
    "end\n",
    "\n",
    "LSE = LyapunovExponentSolution\n",
    "\n",
    "\"\"\"\n",
    "    Calculates time series Lyapunov exponents.\n",
    "    t_max is the maximum time \n",
    "    dt is the stepsize, not necessarily of the integrator,\n",
    "    but \n",
    "\"\"\"\n",
    "function lyap_qr_time_series(integ, t_max::Real, dt::Real; \n",
    "        t_pre_iter::Real=0, \n",
    "        t_save::Real=dt,\n",
    "        t_renormalize::Real=dt,\n",
    "        lyapunov_count::Integer=1\n",
    "    )\n",
    "\n",
    "    @assert length(integ.u) >= lyapunov_count \"Can not calculate more Lyapunov exponents than the systems dimension: $dim\"\n",
    "\n",
    "    last_t_renormalized = integ.t\n",
    "\n",
    "    # Pre iterate the system\n",
    "    while integ.t < t_pre_iter\n",
    "        # as long as we do not have to renormalize, we do not do it\n",
    "        if integ.t - last_t_renormalized < t_renormalize\n",
    "            step!(integ)\n",
    "        else\n",
    "            _lyap_step_qr!(integ, dt)\n",
    "            last_t_renormalized = integ.t\n",
    "        end\n",
    "    end\n",
    "\n",
    "    \n",
    "    t0 = integ.t\n",
    "    ts = range(t0+dt; stop=t_max, step=t_save)    # timesteps\n",
    "    us = zeros(size(integ.u[:,1])..., length(ts)) # solution of the system at the corresponding timesteps\n",
    "    lyapunovs = zeros(lyapunov_count, length(ts)) # Lyapunov exponents at the corresponding timesteps\n",
    "    lyap_tmp = zeros(lyapunov_count)              # cache\n",
    "     \n",
    "    for i in 1:length(ts)\n",
    "        # we integrate the system up to the next saving time\n",
    "        while integ.t < ts[i]\n",
    "            # as long as we do not have to renormalize, we do not do it\n",
    "            if integ.t - last_t_renormalized < t_renormalize\n",
    "                step!(integ, dt)\n",
    "            else\n",
    "                R = _lyap_step_qr!(integ, dt)\n",
    "                \n",
    "                # we accumulate the exponential growth of the deviation vectors\n",
    "                for j in 1:lyapunov_count\n",
    "                    lyap_tmp[j] += log(abs(R[j,j]))\n",
    "                end\n",
    "                last_t_renormalized = integ.t\n",
    "            end\n",
    "        end\n",
    "        \n",
    "        # save the systems state and the calculated Lyapunov exponents\n",
    "        us[:,i] = integ.u[:,1]\n",
    "        lyapunovs[:,i] = lyap_tmp ./ (integ.t-t0)\n",
    "    end\n",
    "    \n",
    "    lse = LyapunovExponentSolution(\n",
    "        ts,\n",
    "        us,\n",
    "        lyapunovs\n",
    "    )\n",
    "    \n",
    "    return lse\n",
    "end\n",
    "\n",
    "\"\"\"\n",
    "    Evolves the system for dt time and renormalizes the tangent space.\n",
    "\"\"\"\n",
    "function _lyap_step_qr!(integ, dt)\n",
    "    # Evolve the the coupled system and get the tangent vectors\n",
    "    step!(integ, dt)\n",
    "    w = get_deviations(integ)\n",
    "\n",
    "    # Orthonormalize the tangent vectors\n",
    "    F = qr(w)\n",
    "    w = Matrix(F.Q)\n",
    "\n",
    "    # Reinitialize the tangent vectors with the normalized ones\n",
    "    set_deviations!(integ, w)\n",
    "\n",
    "    return Matrix(F.R)\n",
    "end\n",
    "\n"
   ]
  },
  {
   "cell_type": "markdown",
   "metadata": {},
   "source": [
    "Now, everything comes together and we can use our ODE solvers, the tangent integrator and our Lyapunov exponent timeseries function to calculate the timeseries of Lyapunov exponents. Again, the first time the following code block is run, function compilation will dominate the runtime. Run the cell multiple times to time the calculation takes without compilation."
   ]
  },
  {
   "cell_type": "code",
   "execution_count": 12,
   "metadata": {},
   "outputs": [
    {
     "name": "stdout",
     "output_type": "stream",
     "text": [
      "  1.673564 seconds (5.68 M allocations: 255.904 MiB, 4.25% gc time)\n"
     ]
    },
    {
     "data": {
      "text/plain": [
       "LyapunovExponentSolution(0.001:0.1:9.901, [19.016 12.385696823686619 … -5.2518935240543865 -13.568795691641062; 19.90248 6.108653322257634 … -8.316908035896379 -21.370269038780975; 50.18 50.92691479969765 … 30.759860771841222 31.965483563562383], [0.0 -1.6447966930995148 … 1.5454928523475424 1.5243791843778287; 0.0 -13.016800340076676 … -0.23589821590404067 -0.16585816793391753; 0.0 -5.657290703962748 … -22.364476289427312 -22.405526685764357])"
      ]
     },
     "execution_count": 12,
     "metadata": {},
     "output_type": "execute_result"
    }
   ],
   "source": [
    "lse = @time let\n",
    "    u0 = [19.,20.,50.]\n",
    "    p = [16.,45.92,4]\n",
    "    integrator = my_tangent_integrator(lorenz!, lorenz_jac!, u0, p)\n",
    "\n",
    "    dt = 0.001\n",
    "    t_max = 10\n",
    "    lyap_qr_time_series(integrator, t_max, dt; \n",
    "        t_pre_iter=0, \n",
    "        t_save=t_max/100,\n",
    "        t_renormalize=10*dt,\n",
    "        lyapunov_count=length(u0)\n",
    "    )\n",
    "end"
   ]
  },
  {
   "cell_type": "markdown",
   "metadata": {},
   "source": [
    "At the beginning of the notebook we imported from RecipesBase the plot method. We did this so we can define a plotting function for the `LyapunovExponentSolution` struct, besides there being multiple `plot` methods defined in `Plots` already. Multiple dispatch is one of Julia's most characterizing design choices."
   ]
  },
  {
   "cell_type": "markdown",
   "metadata": {},
   "source": [
    "The first time we call the `plot` method, it shows how many methods with the same name are defined."
   ]
  },
  {
   "cell_type": "code",
   "execution_count": 13,
   "metadata": {},
   "outputs": [
    {
     "data": {
      "text/plain": [
       "plot (generic function with 3 methods)"
      ]
     },
     "execution_count": 13,
     "metadata": {},
     "output_type": "execute_result"
    }
   ],
   "source": [
    "plot"
   ]
  },
  {
   "cell_type": "code",
   "execution_count": 14,
   "metadata": {},
   "outputs": [
    {
     "data": {
      "text/plain": [
       "plot (generic function with 4 methods)"
      ]
     },
     "execution_count": 14,
     "metadata": {},
     "output_type": "execute_result"
    }
   ],
   "source": [
    "function plot(lse::LyapunovExponentSolution, args...;kwargs...)\n",
    "    plot(lse.t, transpose(lse.lyapunov), args...;kwargs...)\n",
    "    plot!(\n",
    "        xlabel=\"time\",\n",
    "        ylabel=\"Lyapunov exponent\",\n",
    "    )\n",
    "end"
   ]
  },
  {
   "cell_type": "markdown",
   "metadata": {},
   "source": [
    "The next time we call `plot` the number of methods should have increased by one."
   ]
  },
  {
   "cell_type": "code",
   "execution_count": 15,
   "metadata": {},
   "outputs": [
    {
     "data": {
      "text/plain": [
       "plot (generic function with 4 methods)"
      ]
     },
     "execution_count": 15,
     "metadata": {},
     "output_type": "execute_result"
    }
   ],
   "source": [
    "plot"
   ]
  },
  {
   "cell_type": "markdown",
   "metadata": {},
   "source": [
    "In the plot below we see the calculated Lyapunov exponent for increasing time the system is evolved. The longer one integrates the variational equations the better the estimate for the Lyapunov exponents should become. The actual Lyapunov exponents of the Lorenz system are, with an error of $0.00008$:\n",
    " - $\\approx 1.50255$\n",
    " - 0\n",
    " - $\\approx -22.50255$\n",
    " \n",
    "Altough we only used a (non-symplectic) first order method to integrate the system and the tangent space, we obtain surprisingly good convergence.\n",
    "\n",
    "For other parameter choices\n",
    "\\begin{align}\n",
    "    \\sigma &= 16 \\\\\n",
    "    \\rho &= 40 \\\\\n",
    "    \\beta &= 4\n",
    "\\end{align}\n",
    "and\n",
    "\\begin{align}\n",
    "    \\sigma &= 10 \\\\\n",
    "    \\rho &= 28 \\\\\n",
    "    \\beta &= 8/3\n",
    "\\end{align}\n",
    "the actual Lyapunov exponents are with an error of $0.0006$\n",
    " - $\\approx 1.37446$\n",
    " - 0 \n",
    " - $\\approx -22.37446$\n",
    " \n",
    "and with an error of $0.00007$\n",
    " - $\\approx 0.90566$ \n",
    " - 0\n",
    " - $\\approx -14.57233$\n"
   ]
  },
  {
   "cell_type": "code",
   "execution_count": 16,
   "metadata": {},
   "outputs": [
    {
     "name": "stdout",
     "output_type": "stream",
     "text": [
      "lse.lyapunov[:, end] = [1.5243791843778287, -0.16585816793391753, -22.405526685764357]\n"
     ]
    },
    {
     "data": {
      "image/svg+xml": [
       "<?xml version=\"1.0\" encoding=\"utf-8\"?>\n",
       "<svg xmlns=\"http://www.w3.org/2000/svg\" xmlns:xlink=\"http://www.w3.org/1999/xlink\" width=\"600\" height=\"400\" viewBox=\"0 0 2400 1600\">\n",
       "<defs>\n",
       "  <clipPath id=\"clip030\">\n",
       "    <rect x=\"0\" y=\"0\" width=\"2400\" height=\"1600\"/>\n",
       "  </clipPath>\n",
       "</defs>\n",
       "<path clip-path=\"url(#clip030)\" d=\"\n",
       "M0 1600 L2400 1600 L2400 0 L0 0  Z\n",
       "  \" fill=\"#ffffff\" fill-rule=\"evenodd\" fill-opacity=\"1\"/>\n",
       "<defs>\n",
       "  <clipPath id=\"clip031\">\n",
       "    <rect x=\"480\" y=\"0\" width=\"1681\" height=\"1600\"/>\n",
       "  </clipPath>\n",
       "</defs>\n",
       "<path clip-path=\"url(#clip030)\" d=\"\n",
       "M215.538 1423.18 L2352.76 1423.18 L2352.76 47.2441 L215.538 47.2441  Z\n",
       "  \" fill=\"#ffffff\" fill-rule=\"evenodd\" fill-opacity=\"1\"/>\n",
       "<defs>\n",
       "  <clipPath id=\"clip032\">\n",
       "    <rect x=\"215\" y=\"47\" width=\"2138\" height=\"1377\"/>\n",
       "  </clipPath>\n",
       "</defs>\n",
       "<polyline clip-path=\"url(#clip032)\" style=\"stroke:#000000; stroke-width:2; stroke-opacity:0.1; fill:none\" points=\"\n",
       "  275.821,1423.18 275.821,47.2441 \n",
       "  \"/>\n",
       "<polyline clip-path=\"url(#clip032)\" style=\"stroke:#000000; stroke-width:2; stroke-opacity:0.1; fill:none\" points=\"\n",
       "  784.974,1423.18 784.974,47.2441 \n",
       "  \"/>\n",
       "<polyline clip-path=\"url(#clip032)\" style=\"stroke:#000000; stroke-width:2; stroke-opacity:0.1; fill:none\" points=\"\n",
       "  1294.13,1423.18 1294.13,47.2441 \n",
       "  \"/>\n",
       "<polyline clip-path=\"url(#clip032)\" style=\"stroke:#000000; stroke-width:2; stroke-opacity:0.1; fill:none\" points=\"\n",
       "  1803.28,1423.18 1803.28,47.2441 \n",
       "  \"/>\n",
       "<polyline clip-path=\"url(#clip032)\" style=\"stroke:#000000; stroke-width:2; stroke-opacity:0.1; fill:none\" points=\"\n",
       "  2312.43,1423.18 2312.43,47.2441 \n",
       "  \"/>\n",
       "<polyline clip-path=\"url(#clip032)\" style=\"stroke:#000000; stroke-width:2; stroke-opacity:0.1; fill:none\" points=\"\n",
       "  215.538,1259.23 2352.76,1259.23 \n",
       "  \"/>\n",
       "<polyline clip-path=\"url(#clip032)\" style=\"stroke:#000000; stroke-width:2; stroke-opacity:0.1; fill:none\" points=\"\n",
       "  215.538,1011.91 2352.76,1011.91 \n",
       "  \"/>\n",
       "<polyline clip-path=\"url(#clip032)\" style=\"stroke:#000000; stroke-width:2; stroke-opacity:0.1; fill:none\" points=\"\n",
       "  215.538,764.595 2352.76,764.595 \n",
       "  \"/>\n",
       "<polyline clip-path=\"url(#clip032)\" style=\"stroke:#000000; stroke-width:2; stroke-opacity:0.1; fill:none\" points=\"\n",
       "  215.538,517.279 2352.76,517.279 \n",
       "  \"/>\n",
       "<polyline clip-path=\"url(#clip032)\" style=\"stroke:#000000; stroke-width:2; stroke-opacity:0.1; fill:none\" points=\"\n",
       "  215.538,269.963 2352.76,269.963 \n",
       "  \"/>\n",
       "<polyline clip-path=\"url(#clip030)\" style=\"stroke:#000000; stroke-width:4; stroke-opacity:1; fill:none\" points=\"\n",
       "  215.538,1423.18 2352.76,1423.18 \n",
       "  \"/>\n",
       "<polyline clip-path=\"url(#clip030)\" style=\"stroke:#000000; stroke-width:4; stroke-opacity:1; fill:none\" points=\"\n",
       "  215.538,1423.18 215.538,47.2441 \n",
       "  \"/>\n",
       "<polyline clip-path=\"url(#clip030)\" style=\"stroke:#000000; stroke-width:4; stroke-opacity:1; fill:none\" points=\"\n",
       "  275.821,1423.18 275.821,1406.67 \n",
       "  \"/>\n",
       "<polyline clip-path=\"url(#clip030)\" style=\"stroke:#000000; stroke-width:4; stroke-opacity:1; fill:none\" points=\"\n",
       "  784.974,1423.18 784.974,1406.67 \n",
       "  \"/>\n",
       "<polyline clip-path=\"url(#clip030)\" style=\"stroke:#000000; stroke-width:4; stroke-opacity:1; fill:none\" points=\"\n",
       "  1294.13,1423.18 1294.13,1406.67 \n",
       "  \"/>\n",
       "<polyline clip-path=\"url(#clip030)\" style=\"stroke:#000000; stroke-width:4; stroke-opacity:1; fill:none\" points=\"\n",
       "  1803.28,1423.18 1803.28,1406.67 \n",
       "  \"/>\n",
       "<polyline clip-path=\"url(#clip030)\" style=\"stroke:#000000; stroke-width:4; stroke-opacity:1; fill:none\" points=\"\n",
       "  2312.43,1423.18 2312.43,1406.67 \n",
       "  \"/>\n",
       "<polyline clip-path=\"url(#clip030)\" style=\"stroke:#000000; stroke-width:4; stroke-opacity:1; fill:none\" points=\"\n",
       "  215.538,1259.23 241.184,1259.23 \n",
       "  \"/>\n",
       "<polyline clip-path=\"url(#clip030)\" style=\"stroke:#000000; stroke-width:4; stroke-opacity:1; fill:none\" points=\"\n",
       "  215.538,1011.91 241.184,1011.91 \n",
       "  \"/>\n",
       "<polyline clip-path=\"url(#clip030)\" style=\"stroke:#000000; stroke-width:4; stroke-opacity:1; fill:none\" points=\"\n",
       "  215.538,764.595 241.184,764.595 \n",
       "  \"/>\n",
       "<polyline clip-path=\"url(#clip030)\" style=\"stroke:#000000; stroke-width:4; stroke-opacity:1; fill:none\" points=\"\n",
       "  215.538,517.279 241.184,517.279 \n",
       "  \"/>\n",
       "<polyline clip-path=\"url(#clip030)\" style=\"stroke:#000000; stroke-width:4; stroke-opacity:1; fill:none\" points=\"\n",
       "  215.538,269.963 241.184,269.963 \n",
       "  \"/>\n",
       "<path clip-path=\"url(#clip030)\" d=\"M 0 0 M257.338 1445.17 Q253.726 1445.17 251.898 1448.74 Q250.092 1452.28 250.092 1459.41 Q250.092 1466.51 251.898 1470.08 Q253.726 1473.62 257.338 1473.62 Q260.972 1473.62 262.777 1470.08 Q264.606 1466.51 264.606 1459.41 Q264.606 1452.28 262.777 1448.74 Q260.972 1445.17 257.338 1445.17 M257.338 1441.47 Q263.148 1441.47 266.203 1446.07 Q269.282 1450.66 269.282 1459.41 Q269.282 1468.13 266.203 1472.74 Q263.148 1477.32 257.338 1477.32 Q251.527 1477.32 248.449 1472.74 Q245.393 1468.13 245.393 1459.41 Q245.393 1450.66 248.449 1446.07 Q251.527 1441.47 257.338 1441.47 Z\" fill=\"#000000\" fill-rule=\"evenodd\" fill-opacity=\"1\" /><path clip-path=\"url(#clip030)\" d=\"M 0 0 M274.351 1470.77 L279.236 1470.77 L279.236 1476.65 L274.351 1476.65 L274.351 1470.77 Z\" fill=\"#000000\" fill-rule=\"evenodd\" fill-opacity=\"1\" /><path clip-path=\"url(#clip030)\" d=\"M 0 0 M294.305 1445.17 Q290.694 1445.17 288.865 1448.74 Q287.06 1452.28 287.06 1459.41 Q287.06 1466.51 288.865 1470.08 Q290.694 1473.62 294.305 1473.62 Q297.939 1473.62 299.745 1470.08 Q301.573 1466.51 301.573 1459.41 Q301.573 1452.28 299.745 1448.74 Q297.939 1445.17 294.305 1445.17 M294.305 1441.47 Q300.115 1441.47 303.171 1446.07 Q306.249 1450.66 306.249 1459.41 Q306.249 1468.13 303.171 1472.74 Q300.115 1477.32 294.305 1477.32 Q288.495 1477.32 285.416 1472.74 Q282.361 1468.13 282.361 1459.41 Q282.361 1450.66 285.416 1446.07 Q288.495 1441.47 294.305 1441.47 Z\" fill=\"#000000\" fill-rule=\"evenodd\" fill-opacity=\"1\" /><path clip-path=\"url(#clip030)\" d=\"M 0 0 M761.64 1472.72 L777.96 1472.72 L777.96 1476.65 L756.016 1476.65 L756.016 1472.72 Q758.678 1469.96 763.261 1465.33 Q767.867 1460.68 769.048 1459.34 Q771.293 1456.81 772.173 1455.08 Q773.076 1453.32 773.076 1451.63 Q773.076 1448.87 771.131 1447.14 Q769.21 1445.4 766.108 1445.4 Q763.909 1445.4 761.455 1446.17 Q759.025 1446.93 756.247 1448.48 L756.247 1443.76 Q759.071 1442.62 761.525 1442.05 Q763.978 1441.47 766.015 1441.47 Q771.386 1441.47 774.58 1444.15 Q777.775 1446.84 777.775 1451.33 Q777.775 1453.46 776.964 1455.38 Q776.177 1457.28 774.071 1459.87 Q773.492 1460.54 770.39 1463.76 Q767.289 1466.95 761.64 1472.72 Z\" fill=\"#000000\" fill-rule=\"evenodd\" fill-opacity=\"1\" /><path clip-path=\"url(#clip030)\" d=\"M 0 0 M783.029 1470.77 L787.913 1470.77 L787.913 1476.65 L783.029 1476.65 L783.029 1470.77 Z\" fill=\"#000000\" fill-rule=\"evenodd\" fill-opacity=\"1\" /><path clip-path=\"url(#clip030)\" d=\"M 0 0 M793.029 1442.09 L811.386 1442.09 L811.386 1446.03 L797.312 1446.03 L797.312 1454.5 Q798.33 1454.15 799.349 1453.99 Q800.367 1453.8 801.386 1453.8 Q807.173 1453.8 810.552 1456.98 Q813.932 1460.15 813.932 1465.56 Q813.932 1471.14 810.46 1474.24 Q806.987 1477.32 800.668 1477.32 Q798.492 1477.32 796.224 1476.95 Q793.978 1476.58 791.571 1475.84 L791.571 1471.14 Q793.654 1472.28 795.876 1472.83 Q798.099 1473.39 800.575 1473.39 Q804.58 1473.39 806.918 1471.28 Q809.256 1469.18 809.256 1465.56 Q809.256 1461.95 806.918 1459.85 Q804.58 1457.74 800.575 1457.74 Q798.7 1457.74 796.825 1458.16 Q794.974 1458.57 793.029 1459.45 L793.029 1442.09 Z\" fill=\"#000000\" fill-rule=\"evenodd\" fill-opacity=\"1\" /><path clip-path=\"url(#clip030)\" d=\"M 0 0 M1265.92 1442.09 L1284.28 1442.09 L1284.28 1446.03 L1270.2 1446.03 L1270.2 1454.5 Q1271.22 1454.15 1272.24 1453.99 Q1273.26 1453.8 1274.28 1453.8 Q1280.06 1453.8 1283.44 1456.98 Q1286.82 1460.15 1286.82 1465.56 Q1286.82 1471.14 1283.35 1474.24 Q1279.88 1477.32 1273.56 1477.32 Q1271.38 1477.32 1269.11 1476.95 Q1266.87 1476.58 1264.46 1475.84 L1264.46 1471.14 Q1266.55 1472.28 1268.77 1472.83 Q1270.99 1473.39 1273.47 1473.39 Q1277.47 1473.39 1279.81 1471.28 Q1282.15 1469.18 1282.15 1465.56 Q1282.15 1461.95 1279.81 1459.85 Q1277.47 1457.74 1273.47 1457.74 Q1271.59 1457.74 1269.72 1458.16 Q1267.86 1458.57 1265.92 1459.45 L1265.92 1442.09 Z\" fill=\"#000000\" fill-rule=\"evenodd\" fill-opacity=\"1\" /><path clip-path=\"url(#clip030)\" d=\"M 0 0 M1291.89 1470.77 L1296.78 1470.77 L1296.78 1476.65 L1291.89 1476.65 L1291.89 1470.77 Z\" fill=\"#000000\" fill-rule=\"evenodd\" fill-opacity=\"1\" /><path clip-path=\"url(#clip030)\" d=\"M 0 0 M1311.85 1445.17 Q1308.23 1445.17 1306.41 1448.74 Q1304.6 1452.28 1304.6 1459.41 Q1304.6 1466.51 1306.41 1470.08 Q1308.23 1473.62 1311.85 1473.62 Q1315.48 1473.62 1317.29 1470.08 Q1319.11 1466.51 1319.11 1459.41 Q1319.11 1452.28 1317.29 1448.74 Q1315.48 1445.17 1311.85 1445.17 M1311.85 1441.47 Q1317.66 1441.47 1320.71 1446.07 Q1323.79 1450.66 1323.79 1459.41 Q1323.79 1468.13 1320.71 1472.74 Q1317.66 1477.32 1311.85 1477.32 Q1306.04 1477.32 1302.96 1472.74 Q1299.9 1468.13 1299.9 1459.41 Q1299.9 1450.66 1302.96 1446.07 Q1306.04 1441.47 1311.85 1441.47 Z\" fill=\"#000000\" fill-rule=\"evenodd\" fill-opacity=\"1\" /><path clip-path=\"url(#clip030)\" d=\"M 0 0 M1774.18 1442.09 L1796.4 1442.09 L1796.4 1444.08 L1783.86 1476.65 L1778.97 1476.65 L1790.78 1446.03 L1774.18 1446.03 L1774.18 1442.09 Z\" fill=\"#000000\" fill-rule=\"evenodd\" fill-opacity=\"1\" /><path clip-path=\"url(#clip030)\" d=\"M 0 0 M1801.47 1470.77 L1806.36 1470.77 L1806.36 1476.65 L1801.47 1476.65 L1801.47 1470.77 Z\" fill=\"#000000\" fill-rule=\"evenodd\" fill-opacity=\"1\" /><path clip-path=\"url(#clip030)\" d=\"M 0 0 M1811.47 1442.09 L1829.83 1442.09 L1829.83 1446.03 L1815.76 1446.03 L1815.76 1454.5 Q1816.77 1454.15 1817.79 1453.99 Q1818.81 1453.8 1819.83 1453.8 Q1825.62 1453.8 1829 1456.98 Q1832.38 1460.15 1832.38 1465.56 Q1832.38 1471.14 1828.9 1474.24 Q1825.43 1477.32 1819.11 1477.32 Q1816.94 1477.32 1814.67 1476.95 Q1812.42 1476.58 1810.01 1475.84 L1810.01 1471.14 Q1812.1 1472.28 1814.32 1472.83 Q1816.54 1473.39 1819.02 1473.39 Q1823.02 1473.39 1825.36 1471.28 Q1827.7 1469.18 1827.7 1465.56 Q1827.7 1461.95 1825.36 1459.85 Q1823.02 1457.74 1819.02 1457.74 Q1817.14 1457.74 1815.27 1458.16 Q1813.42 1458.57 1811.47 1459.45 L1811.47 1442.09 Z\" fill=\"#000000\" fill-rule=\"evenodd\" fill-opacity=\"1\" /><path clip-path=\"url(#clip030)\" d=\"M 0 0 M2270.82 1472.72 L2278.46 1472.72 L2278.46 1446.35 L2270.15 1448.02 L2270.15 1443.76 L2278.42 1442.09 L2283.09 1442.09 L2283.09 1472.72 L2290.73 1472.72 L2290.73 1476.65 L2270.82 1476.65 L2270.82 1472.72 Z\" fill=\"#000000\" fill-rule=\"evenodd\" fill-opacity=\"1\" /><path clip-path=\"url(#clip030)\" d=\"M 0 0 M2305.8 1445.17 Q2302.19 1445.17 2300.36 1448.74 Q2298.55 1452.28 2298.55 1459.41 Q2298.55 1466.51 2300.36 1470.08 Q2302.19 1473.62 2305.8 1473.62 Q2309.43 1473.62 2311.24 1470.08 Q2313.07 1466.51 2313.07 1459.41 Q2313.07 1452.28 2311.24 1448.74 Q2309.43 1445.17 2305.8 1445.17 M2305.8 1441.47 Q2311.61 1441.47 2314.66 1446.07 Q2317.74 1450.66 2317.74 1459.41 Q2317.74 1468.13 2314.66 1472.74 Q2311.61 1477.32 2305.8 1477.32 Q2299.99 1477.32 2296.91 1472.74 Q2293.85 1468.13 2293.85 1459.41 Q2293.85 1450.66 2296.91 1446.07 Q2299.99 1441.47 2305.8 1441.47 Z\" fill=\"#000000\" fill-rule=\"evenodd\" fill-opacity=\"1\" /><path clip-path=\"url(#clip030)\" d=\"M 0 0 M2322.81 1470.77 L2327.7 1470.77 L2327.7 1476.65 L2322.81 1476.65 L2322.81 1470.77 Z\" fill=\"#000000\" fill-rule=\"evenodd\" fill-opacity=\"1\" /><path clip-path=\"url(#clip030)\" d=\"M 0 0 M2342.77 1445.17 Q2339.16 1445.17 2337.33 1448.74 Q2335.52 1452.28 2335.52 1459.41 Q2335.52 1466.51 2337.33 1470.08 Q2339.16 1473.62 2342.77 1473.62 Q2346.4 1473.62 2348.21 1470.08 Q2350.03 1466.51 2350.03 1459.41 Q2350.03 1452.28 2348.21 1448.74 Q2346.4 1445.17 2342.77 1445.17 M2342.77 1441.47 Q2348.58 1441.47 2351.63 1446.07 Q2354.71 1450.66 2354.71 1459.41 Q2354.71 1468.13 2351.63 1472.74 Q2348.58 1477.32 2342.77 1477.32 Q2336.96 1477.32 2333.88 1472.74 Q2330.82 1468.13 2330.82 1459.41 Q2330.82 1450.66 2333.88 1446.07 Q2336.96 1441.47 2342.77 1441.47 Z\" fill=\"#000000\" fill-rule=\"evenodd\" fill-opacity=\"1\" /><path clip-path=\"url(#clip030)\" d=\"M 0 0 M126.631 1261.62 L139.107 1261.62 L139.107 1265.42 L126.631 1265.42 L126.631 1261.62 Z\" fill=\"#000000\" fill-rule=\"evenodd\" fill-opacity=\"1\" /><path clip-path=\"url(#clip030)\" d=\"M 0 0 M148.204 1272.57 L164.524 1272.57 L164.524 1276.51 L142.58 1276.51 L142.58 1272.57 Q145.242 1269.82 149.825 1265.19 Q154.431 1260.53 155.612 1259.19 Q157.857 1256.67 158.737 1254.93 Q159.64 1253.17 159.64 1251.48 Q159.64 1248.73 157.695 1246.99 Q155.774 1245.26 152.672 1245.26 Q150.473 1245.26 148.019 1246.02 Q145.589 1246.78 142.811 1248.33 L142.811 1243.61 Q145.635 1242.48 148.089 1241.9 Q150.542 1241.32 152.579 1241.32 Q157.95 1241.32 161.144 1244.01 Q164.339 1246.69 164.339 1251.18 Q164.339 1253.31 163.528 1255.23 Q162.741 1257.13 160.635 1259.72 Q160.056 1260.39 156.954 1263.61 Q153.853 1266.81 148.204 1272.57 Z\" fill=\"#000000\" fill-rule=\"evenodd\" fill-opacity=\"1\" /><path clip-path=\"url(#clip030)\" d=\"M 0 0 M179.593 1245.02 Q175.982 1245.02 174.153 1248.59 Q172.348 1252.13 172.348 1259.26 Q172.348 1266.37 174.153 1269.93 Q175.982 1273.47 179.593 1273.47 Q183.227 1273.47 185.033 1269.93 Q186.862 1266.37 186.862 1259.26 Q186.862 1252.13 185.033 1248.59 Q183.227 1245.02 179.593 1245.02 M179.593 1241.32 Q185.403 1241.32 188.459 1245.93 Q191.538 1250.51 191.538 1259.26 Q191.538 1267.99 188.459 1272.59 Q185.403 1277.18 179.593 1277.18 Q173.783 1277.18 170.704 1272.59 Q167.649 1267.99 167.649 1259.26 Q167.649 1250.51 170.704 1245.93 Q173.783 1241.32 179.593 1241.32 Z\" fill=\"#000000\" fill-rule=\"evenodd\" fill-opacity=\"1\" /><path clip-path=\"url(#clip030)\" d=\"M 0 0 M127.256 1014.31 L139.732 1014.31 L139.732 1018.1 L127.256 1018.1 L127.256 1014.31 Z\" fill=\"#000000\" fill-rule=\"evenodd\" fill-opacity=\"1\" /><path clip-path=\"url(#clip030)\" d=\"M 0 0 M145.612 1025.26 L153.251 1025.26 L153.251 998.89 L144.941 1000.56 L144.941 996.297 L153.204 994.63 L157.88 994.63 L157.88 1025.26 L165.519 1025.26 L165.519 1029.19 L145.612 1029.19 L145.612 1025.26 Z\" fill=\"#000000\" fill-rule=\"evenodd\" fill-opacity=\"1\" /><path clip-path=\"url(#clip030)\" d=\"M 0 0 M170.635 994.63 L188.991 994.63 L188.991 998.565 L174.917 998.565 L174.917 1007.04 Q175.936 1006.69 176.954 1006.53 Q177.973 1006.34 178.991 1006.34 Q184.778 1006.34 188.158 1009.51 Q191.538 1012.69 191.538 1018.1 Q191.538 1023.68 188.065 1026.78 Q184.593 1029.86 178.274 1029.86 Q176.098 1029.86 173.829 1029.49 Q171.584 1029.12 169.177 1028.38 L169.177 1023.68 Q171.26 1024.82 173.482 1025.37 Q175.704 1025.93 178.181 1025.93 Q182.186 1025.93 184.524 1023.82 Q186.862 1021.71 186.862 1018.1 Q186.862 1014.49 184.524 1012.38 Q182.186 1010.28 178.181 1010.28 Q176.306 1010.28 174.431 1010.7 Q172.579 1011.11 170.635 1011.99 L170.635 994.63 Z\" fill=\"#000000\" fill-rule=\"evenodd\" fill-opacity=\"1\" /><path clip-path=\"url(#clip030)\" d=\"M 0 0 M126.26 766.99 L138.737 766.99 L138.737 770.787 L126.26 770.787 L126.26 766.99 Z\" fill=\"#000000\" fill-rule=\"evenodd\" fill-opacity=\"1\" /><path clip-path=\"url(#clip030)\" d=\"M 0 0 M144.617 777.939 L152.255 777.939 L152.255 751.574 L143.945 753.241 L143.945 748.981 L152.209 747.315 L156.885 747.315 L156.885 777.939 L164.524 777.939 L164.524 781.875 L144.617 781.875 L144.617 777.939 Z\" fill=\"#000000\" fill-rule=\"evenodd\" fill-opacity=\"1\" /><path clip-path=\"url(#clip030)\" d=\"M 0 0 M179.593 750.393 Q175.982 750.393 174.153 753.958 Q172.348 757.5 172.348 764.629 Q172.348 771.736 174.153 775.301 Q175.982 778.842 179.593 778.842 Q183.227 778.842 185.033 775.301 Q186.862 771.736 186.862 764.629 Q186.862 757.5 185.033 753.958 Q183.227 750.393 179.593 750.393 M179.593 746.69 Q185.403 746.69 188.459 751.296 Q191.538 755.879 191.538 764.629 Q191.538 773.356 188.459 777.963 Q185.403 782.546 179.593 782.546 Q173.783 782.546 170.704 777.963 Q167.649 773.356 167.649 764.629 Q167.649 755.879 170.704 751.296 Q173.783 746.69 179.593 746.69 Z\" fill=\"#000000\" fill-rule=\"evenodd\" fill-opacity=\"1\" /><path clip-path=\"url(#clip030)\" d=\"M 0 0 M153.042 519.675 L165.519 519.675 L165.519 523.471 L153.042 523.471 L153.042 519.675 Z\" fill=\"#000000\" fill-rule=\"evenodd\" fill-opacity=\"1\" /><path clip-path=\"url(#clip030)\" d=\"M 0 0 M170.635 499.999 L188.991 499.999 L188.991 503.934 L174.917 503.934 L174.917 512.406 Q175.936 512.059 176.954 511.897 Q177.973 511.712 178.991 511.712 Q184.778 511.712 188.158 514.883 Q191.538 518.054 191.538 523.471 Q191.538 529.05 188.065 532.152 Q184.593 535.23 178.274 535.23 Q176.098 535.23 173.829 534.86 Q171.584 534.49 169.177 533.749 L169.177 529.05 Q171.26 530.184 173.482 530.74 Q175.704 531.295 178.181 531.295 Q182.186 531.295 184.524 529.189 Q186.862 527.082 186.862 523.471 Q186.862 519.86 184.524 517.754 Q182.186 515.647 178.181 515.647 Q176.306 515.647 174.431 516.064 Q172.579 516.48 170.635 517.36 L170.635 499.999 Z\" fill=\"#000000\" fill-rule=\"evenodd\" fill-opacity=\"1\" /><path clip-path=\"url(#clip030)\" d=\"M 0 0 M179.593 255.762 Q175.982 255.762 174.153 259.327 Q172.348 262.868 172.348 269.998 Q172.348 277.105 174.153 280.669 Q175.982 284.211 179.593 284.211 Q183.227 284.211 185.033 280.669 Q186.862 277.105 186.862 269.998 Q186.862 262.868 185.033 259.327 Q183.227 255.762 179.593 255.762 M179.593 252.058 Q185.403 252.058 188.459 256.665 Q191.538 261.248 191.538 269.998 Q191.538 278.725 188.459 283.331 Q185.403 287.915 179.593 287.915 Q173.783 287.915 170.704 283.331 Q167.649 278.725 167.649 269.998 Q167.649 261.248 170.704 256.665 Q173.783 252.058 179.593 252.058 Z\" fill=\"#000000\" fill-rule=\"evenodd\" fill-opacity=\"1\" /><path clip-path=\"url(#clip030)\" d=\"M 0 0 M1229.91 1510.27 L1229.91 1520.4 L1241.97 1520.4 L1241.97 1524.95 L1229.91 1524.95 L1229.91 1544.3 Q1229.91 1548.66 1231.09 1549.9 Q1232.3 1551.14 1235.96 1551.14 L1241.97 1551.14 L1241.97 1556.04 L1235.96 1556.04 Q1229.18 1556.04 1226.6 1553.53 Q1224.02 1550.98 1224.02 1544.3 L1224.02 1524.95 L1219.73 1524.95 L1219.73 1520.4 L1224.02 1520.4 L1224.02 1510.27 L1229.91 1510.27 Z\" fill=\"#000000\" fill-rule=\"evenodd\" fill-opacity=\"1\" /><path clip-path=\"url(#clip030)\" d=\"M 0 0 M1248.12 1520.4 L1253.97 1520.4 L1253.97 1556.04 L1248.12 1556.04 L1248.12 1520.4 M1248.12 1506.52 L1253.97 1506.52 L1253.97 1513.93 L1248.12 1513.93 L1248.12 1506.52 Z\" fill=\"#000000\" fill-rule=\"evenodd\" fill-opacity=\"1\" /><path clip-path=\"url(#clip030)\" d=\"M 0 0 M1287.87 1527.24 Q1290.07 1523.29 1293.12 1521.41 Q1296.18 1519.54 1300.32 1519.54 Q1305.89 1519.54 1308.91 1523.45 Q1311.93 1527.33 1311.93 1534.53 L1311.93 1556.04 L1306.04 1556.04 L1306.04 1534.72 Q1306.04 1529.59 1304.23 1527.11 Q1302.42 1524.63 1298.69 1524.63 Q1294.14 1524.63 1291.5 1527.65 Q1288.86 1530.68 1288.86 1535.9 L1288.86 1556.04 L1282.97 1556.04 L1282.97 1534.72 Q1282.97 1529.56 1281.15 1527.11 Q1279.34 1524.63 1275.55 1524.63 Q1271.07 1524.63 1268.42 1527.68 Q1265.78 1530.71 1265.78 1535.9 L1265.78 1556.04 L1259.89 1556.04 L1259.89 1520.4 L1265.78 1520.4 L1265.78 1525.93 Q1267.79 1522.66 1270.59 1521.1 Q1273.39 1519.54 1277.24 1519.54 Q1281.12 1519.54 1283.83 1521.51 Q1286.57 1523.48 1287.87 1527.24 Z\" fill=\"#000000\" fill-rule=\"evenodd\" fill-opacity=\"1\" /><path clip-path=\"url(#clip030)\" d=\"M 0 0 M1348.57 1536.76 L1348.57 1539.62 L1321.64 1539.62 Q1322.02 1545.67 1325.27 1548.85 Q1328.55 1552 1334.37 1552 Q1337.75 1552 1340.9 1551.17 Q1344.08 1550.35 1347.2 1548.69 L1347.2 1554.23 Q1344.05 1555.57 1340.74 1556.27 Q1337.43 1556.97 1334.02 1556.97 Q1325.49 1556.97 1320.49 1552 Q1315.53 1547.04 1315.53 1538.57 Q1315.53 1529.82 1320.24 1524.69 Q1324.98 1519.54 1333 1519.54 Q1340.2 1519.54 1344.37 1524.18 Q1348.57 1528.8 1348.57 1536.76 M1342.71 1535.04 Q1342.65 1530.23 1340.01 1527.37 Q1337.4 1524.5 1333.07 1524.5 Q1328.17 1524.5 1325.21 1527.27 Q1322.28 1530.04 1321.83 1535.07 L1342.71 1535.04 Z\" fill=\"#000000\" fill-rule=\"evenodd\" fill-opacity=\"1\" /><path clip-path=\"url(#clip030)\" d=\"M 0 0 M40.4842 1022.78 L40.4842 1016.35 L82.5933 1016.35 L82.5933 993.214 L88.0042 993.214 L88.0042 1022.78 L40.4842 1022.78 Z\" fill=\"#000000\" fill-rule=\"evenodd\" fill-opacity=\"1\" /><path clip-path=\"url(#clip030)\" d=\"M 0 0 M91.3143 978.223 Q97.68 980.705 99.6216 983.061 Q101.563 985.416 101.563 989.363 L101.563 994.042 L96.6615 994.042 L96.6615 990.604 Q96.6615 988.185 95.5157 986.848 Q94.3699 985.512 90.1048 983.888 L87.4312 982.838 L52.3562 997.256 L52.3562 991.05 L80.238 979.91 L52.3562 968.77 L52.3562 962.563 L91.3143 978.223 Z\" fill=\"#000000\" fill-rule=\"evenodd\" fill-opacity=\"1\" /><path clip-path=\"url(#clip030)\" d=\"M 0 0 M70.0847 940.22 Q70.0847 947.317 71.7079 950.055 Q73.3312 952.792 77.2461 952.792 Q80.3653 952.792 82.2114 950.755 Q84.0256 948.686 84.0256 945.153 Q84.0256 940.283 80.5881 937.355 Q77.1188 934.395 71.3897 934.395 L70.0847 934.395 L70.0847 940.22 M67.6657 928.538 L88.0042 928.538 L88.0042 934.395 L82.5933 934.395 Q85.8398 936.4 87.3994 939.392 Q88.9272 942.384 88.9272 946.713 Q88.9272 952.187 85.8716 955.434 Q82.7843 958.648 77.6281 958.648 Q71.6125 958.648 68.5569 954.638 Q65.5014 950.596 65.5014 942.607 L65.5014 934.395 L64.9285 934.395 Q60.8862 934.395 58.6901 937.069 Q56.4621 939.71 56.4621 944.516 Q56.4621 947.572 57.1941 950.468 Q57.9262 953.365 59.3903 956.038 L53.9795 956.038 Q52.7381 952.824 52.1334 949.8 Q51.4968 946.776 51.4968 943.912 Q51.4968 936.177 55.5072 932.358 Q59.5176 928.538 67.6657 928.538 Z\" fill=\"#000000\" fill-rule=\"evenodd\" fill-opacity=\"1\" /><path clip-path=\"url(#clip030)\" d=\"M 0 0 M82.657 916.73 L101.563 916.73 L101.563 922.618 L52.3562 922.618 L52.3562 916.73 L57.7671 916.73 Q54.5842 914.884 53.0564 912.083 Q51.4968 909.25 51.4968 905.335 Q51.4968 898.842 56.6531 894.8 Q61.8093 890.726 70.212 890.726 Q78.6147 890.726 83.771 894.8 Q88.9272 898.842 88.9272 905.335 Q88.9272 909.25 87.3994 912.083 Q85.8398 914.884 82.657 916.73 M70.212 896.805 Q63.7508 896.805 60.0905 899.479 Q56.3984 902.121 56.3984 906.768 Q56.3984 911.415 60.0905 914.088 Q63.7508 916.73 70.212 916.73 Q76.6732 916.73 80.3653 914.088 Q84.0256 911.415 84.0256 906.768 Q84.0256 902.121 80.3653 899.479 Q76.6732 896.805 70.212 896.805 Z\" fill=\"#000000\" fill-rule=\"evenodd\" fill-opacity=\"1\" /><path clip-path=\"url(#clip030)\" d=\"M 0 0 M73.9359 885.188 L52.3562 885.188 L52.3562 879.332 L73.7131 879.332 Q78.7739 879.332 81.3202 877.358 Q83.8346 875.385 83.8346 871.438 Q83.8346 866.696 80.8109 863.958 Q77.7872 861.189 72.5673 861.189 L52.3562 861.189 L52.3562 855.333 L88.0042 855.333 L88.0042 861.189 L82.5296 861.189 Q85.7762 863.322 87.3676 866.155 Q88.9272 868.955 88.9272 872.679 Q88.9272 878.822 85.1078 882.005 Q81.2883 885.188 73.9359 885.188 M51.4968 870.451 L51.4968 870.451 Z\" fill=\"#000000\" fill-rule=\"evenodd\" fill-opacity=\"1\" /><path clip-path=\"url(#clip030)\" d=\"M 0 0 M66.4881 819.558 L88.0042 819.558 L88.0042 825.414 L66.679 825.414 Q61.6183 825.414 59.1038 827.387 Q56.5894 829.361 56.5894 833.308 Q56.5894 838.05 59.6131 840.787 Q62.6368 843.524 67.8567 843.524 L88.0042 843.524 L88.0042 849.413 L52.3562 849.413 L52.3562 843.524 L57.8944 843.524 Q54.6797 841.424 53.0883 838.591 Q51.4968 835.726 51.4968 832.003 Q51.4968 825.86 55.3163 822.709 Q59.1038 819.558 66.4881 819.558 Z\" fill=\"#000000\" fill-rule=\"evenodd\" fill-opacity=\"1\" /><path clip-path=\"url(#clip030)\" d=\"M 0 0 M56.4621 799.601 Q56.4621 804.312 60.1542 807.049 Q63.8145 809.786 70.212 809.786 Q76.6095 809.786 80.3017 807.081 Q83.9619 804.344 83.9619 799.601 Q83.9619 794.922 80.2698 792.185 Q76.5777 789.448 70.212 789.448 Q63.8781 789.448 60.186 792.185 Q56.4621 794.922 56.4621 799.601 M51.4968 799.601 Q51.4968 791.962 56.4621 787.602 Q61.4273 783.241 70.212 783.241 Q78.9649 783.241 83.9619 787.602 Q88.9272 791.962 88.9272 799.601 Q88.9272 807.272 83.9619 811.632 Q78.9649 815.961 70.212 815.961 Q61.4273 815.961 56.4621 811.632 Q51.4968 807.272 51.4968 799.601 Z\" fill=\"#000000\" fill-rule=\"evenodd\" fill-opacity=\"1\" /><path clip-path=\"url(#clip030)\" d=\"M 0 0 M52.3562 781.3 L52.3562 775.093 L82.275 763.953 L52.3562 752.813 L52.3562 746.607 L88.0042 759.975 L88.0042 767.932 L52.3562 781.3 Z\" fill=\"#000000\" fill-rule=\"evenodd\" fill-opacity=\"1\" /><path clip-path=\"url(#clip030)\" d=\"M 0 0 M68.7161 689.252 L71.5806 689.252 L71.5806 716.179 Q77.6281 715.797 80.8109 712.55 Q83.9619 709.272 83.9619 703.447 Q83.9619 700.073 83.1344 696.922 Q82.3069 693.739 80.6518 690.62 L86.1899 690.62 Q87.5267 693.771 88.227 697.081 Q88.9272 700.392 88.9272 703.797 Q88.9272 712.327 83.9619 717.324 Q78.9967 722.29 70.5303 722.29 Q61.7774 722.29 56.6531 717.579 Q51.4968 712.837 51.4968 704.816 Q51.4968 697.622 56.1438 693.453 Q60.7589 689.252 68.7161 689.252 M66.9973 695.108 Q62.1912 695.172 59.3266 697.813 Q56.4621 700.423 56.4621 704.752 Q56.4621 709.654 59.2312 712.614 Q62.0002 715.542 67.0292 715.988 L66.9973 695.108 Z\" fill=\"#000000\" fill-rule=\"evenodd\" fill-opacity=\"1\" /><path clip-path=\"url(#clip030)\" d=\"M 0 0 M52.3562 654.622 L69.7028 667.513 L88.0042 653.954 L88.0042 660.861 L73.9996 671.237 L88.0042 681.613 L88.0042 688.52 L69.3526 674.674 L52.3562 687.342 L52.3562 680.435 L65.0558 670.982 L52.3562 661.529 L52.3562 654.622 Z\" fill=\"#000000\" fill-rule=\"evenodd\" fill-opacity=\"1\" /><path clip-path=\"url(#clip030)\" d=\"M 0 0 M82.657 642.145 L101.563 642.145 L101.563 648.034 L52.3562 648.034 L52.3562 642.145 L57.7671 642.145 Q54.5842 640.299 53.0564 637.498 Q51.4968 634.666 51.4968 630.751 Q51.4968 624.258 56.6531 620.215 Q61.8093 616.141 70.212 616.141 Q78.6147 616.141 83.771 620.215 Q88.9272 624.258 88.9272 630.751 Q88.9272 634.666 87.3994 637.498 Q85.8398 640.299 82.657 642.145 M70.212 622.221 Q63.7508 622.221 60.0905 624.894 Q56.3984 627.536 56.3984 632.183 Q56.3984 636.83 60.0905 639.504 Q63.7508 642.145 70.212 642.145 Q76.6732 642.145 80.3653 639.504 Q84.0256 636.83 84.0256 632.183 Q84.0256 627.536 80.3653 624.894 Q76.6732 622.221 70.212 622.221 Z\" fill=\"#000000\" fill-rule=\"evenodd\" fill-opacity=\"1\" /><path clip-path=\"url(#clip030)\" d=\"M 0 0 M56.4621 596.185 Q56.4621 600.896 60.1542 603.633 Q63.8145 606.37 70.212 606.37 Q76.6095 606.37 80.3017 603.665 Q83.9619 600.927 83.9619 596.185 Q83.9619 591.506 80.2698 588.769 Q76.5777 586.032 70.212 586.032 Q63.8781 586.032 60.186 588.769 Q56.4621 591.506 56.4621 596.185 M51.4968 596.185 Q51.4968 588.546 56.4621 584.186 Q61.4273 579.825 70.212 579.825 Q78.9649 579.825 83.9619 584.186 Q88.9272 588.546 88.9272 596.185 Q88.9272 603.856 83.9619 608.216 Q78.9649 612.545 70.212 612.545 Q61.4273 612.545 56.4621 608.216 Q51.4968 603.856 51.4968 596.185 Z\" fill=\"#000000\" fill-rule=\"evenodd\" fill-opacity=\"1\" /><path clip-path=\"url(#clip030)\" d=\"M 0 0 M66.4881 544.05 L88.0042 544.05 L88.0042 549.906 L66.679 549.906 Q61.6183 549.906 59.1038 551.88 Q56.5894 553.853 56.5894 557.8 Q56.5894 562.542 59.6131 565.279 Q62.6368 568.017 67.8567 568.017 L88.0042 568.017 L88.0042 573.905 L52.3562 573.905 L52.3562 568.017 L57.8944 568.017 Q54.6797 565.916 53.0883 563.083 Q51.4968 560.219 51.4968 556.495 Q51.4968 550.352 55.3163 547.201 Q59.1038 544.05 66.4881 544.05 Z\" fill=\"#000000\" fill-rule=\"evenodd\" fill-opacity=\"1\" /><path clip-path=\"url(#clip030)\" d=\"M 0 0 M68.7161 507.415 L71.5806 507.415 L71.5806 534.342 Q77.6281 533.96 80.8109 530.714 Q83.9619 527.435 83.9619 521.611 Q83.9619 518.237 83.1344 515.086 Q82.3069 511.903 80.6518 508.784 L86.1899 508.784 Q87.5267 511.935 88.227 515.245 Q88.9272 518.555 88.9272 521.961 Q88.9272 530.491 83.9619 535.488 Q78.9967 540.453 70.5303 540.453 Q61.7774 540.453 56.6531 535.743 Q51.4968 531 51.4968 522.979 Q51.4968 515.786 56.1438 511.617 Q60.7589 507.415 68.7161 507.415 M66.9973 513.272 Q62.1912 513.335 59.3266 515.977 Q56.4621 518.587 56.4621 522.916 Q56.4621 527.817 59.2312 530.777 Q62.0002 533.706 67.0292 534.151 L66.9973 513.272 Z\" fill=\"#000000\" fill-rule=\"evenodd\" fill-opacity=\"1\" /><path clip-path=\"url(#clip030)\" d=\"M 0 0 M66.4881 471.64 L88.0042 471.64 L88.0042 477.496 L66.679 477.496 Q61.6183 477.496 59.1038 479.47 Q56.5894 481.443 56.5894 485.39 Q56.5894 490.132 59.6131 492.87 Q62.6368 495.607 67.8567 495.607 L88.0042 495.607 L88.0042 501.495 L52.3562 501.495 L52.3562 495.607 L57.8944 495.607 Q54.6797 493.506 53.0883 490.673 Q51.4968 487.809 51.4968 484.085 Q51.4968 477.942 55.3163 474.791 Q59.1038 471.64 66.4881 471.64 Z\" fill=\"#000000\" fill-rule=\"evenodd\" fill-opacity=\"1\" /><path clip-path=\"url(#clip030)\" d=\"M 0 0 M42.2347 459.704 L52.3562 459.704 L52.3562 447.641 L56.9077 447.641 L56.9077 459.704 L76.2594 459.704 Q80.6199 459.704 81.8613 458.527 Q83.1026 457.317 83.1026 453.657 L83.1026 447.641 L88.0042 447.641 L88.0042 453.657 Q88.0042 460.436 85.4897 463.014 Q82.9434 465.592 76.2594 465.592 L56.9077 465.592 L56.9077 469.889 L52.3562 469.889 L52.3562 465.592 L42.2347 465.592 L42.2347 459.704 Z\" fill=\"#000000\" fill-rule=\"evenodd\" fill-opacity=\"1\" /><polyline clip-path=\"url(#clip032)\" style=\"stroke:#009af9; stroke-width:4; stroke-opacity:1; fill:none\" points=\"\n",
       "  276.025,269.963 296.391,351.32 316.757,249.94 337.123,164.478 357.489,171.938 377.855,207.892 398.221,232.328 418.588,185.529 438.954,141.403 459.32,156.076 \n",
       "  479.686,194.205 500.052,200.607 520.418,165.612 540.784,121.761 561.15,86.1857 581.516,109.813 601.882,156.247 622.249,178.069 642.615,169.119 662.981,176.92 \n",
       "  683.347,185.123 703.713,195.492 724.079,193.964 744.445,196.462 764.811,199.88 785.177,197.31 805.543,192.636 825.91,198.412 846.276,206.355 866.642,198.226 \n",
       "  887.008,182.532 907.374,167.429 927.74,170.601 948.106,186.708 968.472,194.563 988.838,200.97 1009.2,199.067 1029.57,202.231 1049.94,199.003 1070.3,188.469 \n",
       "  1090.67,176.191 1111.03,174.491 1131.4,187.074 1151.77,193.887 1172.13,197.615 1192.5,198.612 1212.87,200.789 1233.23,199.131 1253.6,191.244 1273.96,181.121 \n",
       "  1294.33,178.904 1314.7,187.341 1335.06,193.859 1355.43,195.191 1375.79,197.956 1396.16,199.959 1416.53,198.933 1436.89,192.452 1457.26,182.842 1477.62,173.143 \n",
       "  1497.99,173.207 1518.36,183.357 1538.72,190.135 1559.09,190.322 1579.46,190.122 1599.82,192.234 1620.19,194.018 1640.55,196.137 1660.92,196.631 1681.29,198.218 \n",
       "  1701.65,196.132 1722.02,190.795 1742.38,186.737 1762.75,189.616 1783.12,194.876 1803.48,194.154 1823.85,187.851 1844.21,183.59 1864.58,187.3 1884.95,193.062 \n",
       "  1905.31,194.167 1925.68,195.339 1946.04,196.729 1966.41,197.62 1986.78,194.687 2007.14,188.352 2027.51,183.262 2047.88,184.833 2068.24,191.168 2088.61,193.627 \n",
       "  2108.97,195.874 2129.34,195.521 2149.71,196.642 2170.07,195.2 2190.44,190.077 2210.8,185.281 2231.17,185.858 2251.54,191.32 2271.9,193.518 2292.27,194.563 \n",
       "  \n",
       "  \"/>\n",
       "<polyline clip-path=\"url(#clip032)\" style=\"stroke:#e26f46; stroke-width:4; stroke-opacity:1; fill:none\" points=\"\n",
       "  276.025,269.963 296.391,913.815 316.757,806.534 337.123,658.085 357.489,514.632 377.855,461.646 398.221,442.775 418.588,444.85 438.954,433.502 459.32,399.307 \n",
       "  479.686,389.551 500.052,377.13 520.418,379.603 540.784,385.438 561.15,383.188 581.516,372.591 601.882,364.406 622.249,344.992 642.615,344.558 662.981,340.792 \n",
       "  683.347,338.298 703.713,320.308 724.079,311.629 744.445,312.692 764.811,316.592 785.177,313.719 805.543,305.65 825.91,298.552 846.276,301.723 866.642,308.799 \n",
       "  887.008,313.644 907.374,315.63 927.74,311.038 948.106,310.126 968.472,304.293 988.838,289.286 1009.2,287.976 1029.57,293.096 1049.94,298.218 1070.3,301.591 \n",
       "  1090.67,303.872 1111.03,300.314 1131.4,300.283 1151.77,297.412 1172.13,288.235 1192.5,283.193 1212.87,286.927 1233.23,291.878 1253.6,295.006 1273.96,297.179 \n",
       "  1294.33,294.505 1314.7,294.549 1335.06,293.088 1355.43,287.842 1375.79,279.812 1396.16,281.937 1416.53,287.428 1436.89,290.826 1457.26,293.741 1477.62,295.622 \n",
       "  1497.99,293.627 1518.36,293.582 1538.72,290.7 1559.09,287.883 1579.46,287.864 1599.82,289.459 1620.19,287.096 1640.55,281.418 1660.92,279.678 1681.29,282.338 \n",
       "  1701.65,285.309 1722.02,287.036 1742.38,286.595 1762.75,285.222 1783.12,285.29 1803.48,285.145 1823.85,286.281 1844.21,285.803 1864.58,284.946 1884.95,284.997 \n",
       "  1905.31,283.027 1925.68,278.674 1946.04,277.63 1966.41,280.647 1986.78,283.233 2007.14,285.383 2027.51,286.038 2047.88,284.74 2068.24,284.671 2088.61,282.487 \n",
       "  2108.97,277.49 2129.34,277.049 2149.71,279.543 2170.07,281.539 2190.44,283.318 2210.8,284.122 2231.17,282.726 2251.54,282.888 2271.9,281.632 2292.27,278.167 \n",
       "  \n",
       "  \"/>\n",
       "<polyline clip-path=\"url(#clip032)\" style=\"stroke:#3da44d; stroke-width:4; stroke-opacity:1; fill:none\" points=\"\n",
       "  276.025,269.963 296.391,549.791 316.757,777.142 337.123,1020.45 357.489,1156 377.855,1168.71 398.221,1165.19 418.588,1211.85 438.954,1268.71 459.32,1285.85 \n",
       "  479.686,1256.23 500.052,1270.99 520.418,1301.97 540.784,1339.07 561.15,1384.24 581.516,1365.78 601.882,1325.03 622.249,1328.33 642.615,1335.24 662.981,1328.33 \n",
       "  683.347,1327.03 703.713,1333.16 724.079,1341.64 744.445,1340.99 764.811,1331.95 785.177,1336.31 805.543,1352.82 825.91,1351.86 846.276,1339.02 866.642,1343.52 \n",
       "  887.008,1353.67 907.374,1366.04 927.74,1369.21 948.106,1352.54 968.472,1349.66 988.838,1361.1 1009.2,1362.75 1029.57,1352.98 1049.94,1353.61 1070.3,1360.2 \n",
       "  1090.67,1369.68 1111.03,1374.33 1131.4,1363.84 1151.77,1359.88 1172.13,1365.4 1192.5,1369.02 1212.87,1362.48 1233.23,1359.12 1253.6,1364.05 1273.96,1372.22 \n",
       "  1294.33,1376.89 1314.7,1367.78 1335.06,1362.7 1355.43,1366.73 1375.79,1373.94 1396.16,1369.19 1416.53,1364.6 1436.89,1367.8 1457.26,1374.73 1477.62,1382.74 \n",
       "  1497.99,1384.04 1518.36,1373.56 1538.72,1369.63 1559.09,1372.2 1579.46,1372.03 1599.82,1369.82 1620.19,1370.38 1640.55,1373.93 1660.92,1374.81 1681.29,1370.23 \n",
       "  1701.65,1369.32 1722.02,1373.04 1742.38,1377.51 1762.75,1375.48 1783.12,1370 1803.48,1370.93 1823.85,1377.79 1844.21,1382.47 1864.58,1379.06 1884.95,1373.13 \n",
       "  1905.31,1374.03 1925.68,1376.8 1946.04,1377.2 1966.41,1372.72 1986.78,1372.72 2007.14,1378.16 2027.51,1382.27 2047.88,1381.17 2068.24,1375.79 2088.61,1375.17 \n",
       "  2108.97,1377.58 2129.34,1379.09 2149.71,1374.91 2170.07,1374.01 2190.44,1378.48 2210.8,1382.2 2231.17,1382.33 2251.54,1377.44 2271.9,1376.18 2292.27,1378.21 \n",
       "  \n",
       "  \"/>\n",
       "<path clip-path=\"url(#clip030)\" d=\"\n",
       "M1989.16 372.684 L2280.76 372.684 L2280.76 130.764 L1989.16 130.764  Z\n",
       "  \" fill=\"#ffffff\" fill-rule=\"evenodd\" fill-opacity=\"1\"/>\n",
       "<polyline clip-path=\"url(#clip030)\" style=\"stroke:#000000; stroke-width:4; stroke-opacity:1; fill:none\" points=\"\n",
       "  1989.16,372.684 2280.76,372.684 2280.76,130.764 1989.16,130.764 1989.16,372.684 \n",
       "  \"/>\n",
       "<polyline clip-path=\"url(#clip030)\" style=\"stroke:#009af9; stroke-width:4; stroke-opacity:1; fill:none\" points=\"\n",
       "  2013.16,191.244 2157.16,191.244 \n",
       "  \"/>\n",
       "<path clip-path=\"url(#clip030)\" d=\"M 0 0 M2195 210.931 Q2193.2 215.561 2191.48 216.973 Q2189.77 218.385 2186.9 218.385 L2183.5 218.385 L2183.5 214.82 L2186 214.82 Q2187.76 214.82 2188.73 213.987 Q2189.7 213.154 2190.88 210.052 L2191.65 208.107 L2181.16 182.598 L2185.67 182.598 L2193.77 202.876 L2201.88 182.598 L2206.39 182.598 L2195 210.931 Z\" fill=\"#000000\" fill-rule=\"evenodd\" fill-opacity=\"1\" /><path clip-path=\"url(#clip030)\" d=\"M 0 0 M2212.27 204.589 L2219.91 204.589 L2219.91 178.223 L2211.6 179.89 L2211.6 175.631 L2219.86 173.964 L2224.54 173.964 L2224.54 204.589 L2232.18 204.589 L2232.18 208.524 L2212.27 208.524 L2212.27 204.589 Z\" fill=\"#000000\" fill-rule=\"evenodd\" fill-opacity=\"1\" /><polyline clip-path=\"url(#clip030)\" style=\"stroke:#e26f46; stroke-width:4; stroke-opacity:1; fill:none\" points=\"\n",
       "  2013.16,251.724 2157.16,251.724 \n",
       "  \"/>\n",
       "<path clip-path=\"url(#clip030)\" d=\"M 0 0 M2195 271.411 Q2193.2 276.041 2191.48 277.453 Q2189.77 278.865 2186.9 278.865 L2183.5 278.865 L2183.5 275.3 L2186 275.3 Q2187.76 275.3 2188.73 274.467 Q2189.7 273.634 2190.88 270.532 L2191.65 268.587 L2181.16 243.078 L2185.67 243.078 L2193.77 263.356 L2201.88 243.078 L2206.39 243.078 L2195 271.411 Z\" fill=\"#000000\" fill-rule=\"evenodd\" fill-opacity=\"1\" /><path clip-path=\"url(#clip030)\" d=\"M 0 0 M2215.49 265.069 L2231.81 265.069 L2231.81 269.004 L2209.86 269.004 L2209.86 265.069 Q2212.52 262.314 2217.11 257.685 Q2221.71 253.032 2222.89 251.689 Q2225.14 249.166 2226.02 247.43 Q2226.92 245.671 2226.92 243.981 Q2226.92 241.226 2224.98 239.49 Q2223.06 237.754 2219.96 237.754 Q2217.76 237.754 2215.3 238.518 Q2212.87 239.282 2210.09 240.833 L2210.09 236.111 Q2212.92 234.976 2215.37 234.398 Q2217.83 233.819 2219.86 233.819 Q2225.23 233.819 2228.43 236.504 Q2231.62 239.189 2231.62 243.68 Q2231.62 245.81 2230.81 247.731 Q2230.02 249.629 2227.92 252.222 Q2227.34 252.893 2224.24 256.111 Q2221.14 259.305 2215.49 265.069 Z\" fill=\"#000000\" fill-rule=\"evenodd\" fill-opacity=\"1\" /><polyline clip-path=\"url(#clip030)\" style=\"stroke:#3da44d; stroke-width:4; stroke-opacity:1; fill:none\" points=\"\n",
       "  2013.16,312.204 2157.16,312.204 \n",
       "  \"/>\n",
       "<path clip-path=\"url(#clip030)\" d=\"M 0 0 M2195 331.891 Q2193.2 336.521 2191.48 337.933 Q2189.77 339.345 2186.9 339.345 L2183.5 339.345 L2183.5 335.78 L2186 335.78 Q2187.76 335.78 2188.73 334.947 Q2189.7 334.114 2190.88 331.012 L2191.65 329.067 L2181.16 303.558 L2185.67 303.558 L2193.77 323.836 L2201.88 303.558 L2206.39 303.558 L2195 331.891 Z\" fill=\"#000000\" fill-rule=\"evenodd\" fill-opacity=\"1\" /><path clip-path=\"url(#clip030)\" d=\"M 0 0 M2225.63 310.85 Q2228.98 311.568 2230.86 313.836 Q2232.76 316.105 2232.76 319.438 Q2232.76 324.554 2229.24 327.354 Q2225.72 330.155 2219.24 330.155 Q2217.06 330.155 2214.75 329.716 Q2212.46 329.299 2210 328.442 L2210 323.929 Q2211.95 325.063 2214.26 325.642 Q2216.58 326.22 2219.1 326.22 Q2223.5 326.22 2225.79 324.484 Q2228.1 322.748 2228.1 319.438 Q2228.1 316.382 2225.95 314.669 Q2223.82 312.933 2220 312.933 L2215.97 312.933 L2215.97 309.091 L2220.19 309.091 Q2223.64 309.091 2225.46 307.725 Q2227.29 306.336 2227.29 303.743 Q2227.29 301.081 2225.39 299.669 Q2223.52 298.234 2220 298.234 Q2218.08 298.234 2215.88 298.651 Q2213.68 299.068 2211.04 299.947 L2211.04 295.781 Q2213.71 295.04 2216.02 294.669 Q2218.36 294.299 2220.42 294.299 Q2225.74 294.299 2228.84 296.73 Q2231.95 299.137 2231.95 303.257 Q2231.95 306.128 2230.3 308.118 Q2228.66 310.086 2225.63 310.85 Z\" fill=\"#000000\" fill-rule=\"evenodd\" fill-opacity=\"1\" /></svg>\n"
      ]
     },
     "execution_count": 16,
     "metadata": {},
     "output_type": "execute_result"
    }
   ],
   "source": [
    "@show lse.lyapunov[:,end]\n",
    "plot(lse)"
   ]
  },
  {
   "cell_type": "markdown",
   "metadata": {},
   "source": [
    "The next cell wraps the calculation of the Lyapunov exponents and the plotting. We encourage the reader to play around with the parameters and see how the result changes."
   ]
  },
  {
   "cell_type": "code",
   "execution_count": 17,
   "metadata": {},
   "outputs": [
    {
     "name": "stdout",
     "output_type": "stream",
     "text": [
      "lse.lyapunov[:, end] = [1.8118244751558523, -0.13685467926037476, -22.750828809973147]\n",
      "  0.092361 seconds (644.74 k allocations: 24.350 MiB)\n"
     ]
    },
    {
     "data": {
      "image/svg+xml": [
       "<?xml version=\"1.0\" encoding=\"utf-8\"?>\n",
       "<svg xmlns=\"http://www.w3.org/2000/svg\" xmlns:xlink=\"http://www.w3.org/1999/xlink\" width=\"600\" height=\"400\" viewBox=\"0 0 2400 1600\">\n",
       "<defs>\n",
       "  <clipPath id=\"clip070\">\n",
       "    <rect x=\"0\" y=\"0\" width=\"2400\" height=\"1600\"/>\n",
       "  </clipPath>\n",
       "</defs>\n",
       "<path clip-path=\"url(#clip070)\" d=\"\n",
       "M0 1600 L2400 1600 L2400 0 L0 0  Z\n",
       "  \" fill=\"#ffffff\" fill-rule=\"evenodd\" fill-opacity=\"1\"/>\n",
       "<defs>\n",
       "  <clipPath id=\"clip071\">\n",
       "    <rect x=\"480\" y=\"0\" width=\"1681\" height=\"1600\"/>\n",
       "  </clipPath>\n",
       "</defs>\n",
       "<path clip-path=\"url(#clip070)\" d=\"\n",
       "M215.538 1423.18 L2352.76 1423.18 L2352.76 47.2441 L215.538 47.2441  Z\n",
       "  \" fill=\"#ffffff\" fill-rule=\"evenodd\" fill-opacity=\"1\"/>\n",
       "<defs>\n",
       "  <clipPath id=\"clip072\">\n",
       "    <rect x=\"215\" y=\"47\" width=\"2138\" height=\"1377\"/>\n",
       "  </clipPath>\n",
       "</defs>\n",
       "<polyline clip-path=\"url(#clip072)\" style=\"stroke:#000000; stroke-width:2; stroke-opacity:0.1; fill:none\" points=\"\n",
       "  275.923,1423.18 275.923,47.2441 \n",
       "  \"/>\n",
       "<polyline clip-path=\"url(#clip072)\" style=\"stroke:#000000; stroke-width:2; stroke-opacity:0.1; fill:none\" points=\"\n",
       "  785.076,1423.18 785.076,47.2441 \n",
       "  \"/>\n",
       "<polyline clip-path=\"url(#clip072)\" style=\"stroke:#000000; stroke-width:2; stroke-opacity:0.1; fill:none\" points=\"\n",
       "  1294.23,1423.18 1294.23,47.2441 \n",
       "  \"/>\n",
       "<polyline clip-path=\"url(#clip072)\" style=\"stroke:#000000; stroke-width:2; stroke-opacity:0.1; fill:none\" points=\"\n",
       "  1803.38,1423.18 1803.38,47.2441 \n",
       "  \"/>\n",
       "<polyline clip-path=\"url(#clip072)\" style=\"stroke:#000000; stroke-width:2; stroke-opacity:0.1; fill:none\" points=\"\n",
       "  2312.53,1423.18 2312.53,47.2441 \n",
       "  \"/>\n",
       "<polyline clip-path=\"url(#clip072)\" style=\"stroke:#000000; stroke-width:2; stroke-opacity:0.1; fill:none\" points=\"\n",
       "  215.538,1234.13 2352.76,1234.13 \n",
       "  \"/>\n",
       "<polyline clip-path=\"url(#clip072)\" style=\"stroke:#000000; stroke-width:2; stroke-opacity:0.1; fill:none\" points=\"\n",
       "  215.538,992.145 2352.76,992.145 \n",
       "  \"/>\n",
       "<polyline clip-path=\"url(#clip072)\" style=\"stroke:#000000; stroke-width:2; stroke-opacity:0.1; fill:none\" points=\"\n",
       "  215.538,750.154 2352.76,750.154 \n",
       "  \"/>\n",
       "<polyline clip-path=\"url(#clip072)\" style=\"stroke:#000000; stroke-width:2; stroke-opacity:0.1; fill:none\" points=\"\n",
       "  215.538,508.164 2352.76,508.164 \n",
       "  \"/>\n",
       "<polyline clip-path=\"url(#clip072)\" style=\"stroke:#000000; stroke-width:2; stroke-opacity:0.1; fill:none\" points=\"\n",
       "  215.538,266.174 2352.76,266.174 \n",
       "  \"/>\n",
       "<polyline clip-path=\"url(#clip070)\" style=\"stroke:#000000; stroke-width:4; stroke-opacity:1; fill:none\" points=\"\n",
       "  215.538,1423.18 2352.76,1423.18 \n",
       "  \"/>\n",
       "<polyline clip-path=\"url(#clip070)\" style=\"stroke:#000000; stroke-width:4; stroke-opacity:1; fill:none\" points=\"\n",
       "  215.538,1423.18 215.538,47.2441 \n",
       "  \"/>\n",
       "<polyline clip-path=\"url(#clip070)\" style=\"stroke:#000000; stroke-width:4; stroke-opacity:1; fill:none\" points=\"\n",
       "  275.923,1423.18 275.923,1406.67 \n",
       "  \"/>\n",
       "<polyline clip-path=\"url(#clip070)\" style=\"stroke:#000000; stroke-width:4; stroke-opacity:1; fill:none\" points=\"\n",
       "  785.076,1423.18 785.076,1406.67 \n",
       "  \"/>\n",
       "<polyline clip-path=\"url(#clip070)\" style=\"stroke:#000000; stroke-width:4; stroke-opacity:1; fill:none\" points=\"\n",
       "  1294.23,1423.18 1294.23,1406.67 \n",
       "  \"/>\n",
       "<polyline clip-path=\"url(#clip070)\" style=\"stroke:#000000; stroke-width:4; stroke-opacity:1; fill:none\" points=\"\n",
       "  1803.38,1423.18 1803.38,1406.67 \n",
       "  \"/>\n",
       "<polyline clip-path=\"url(#clip070)\" style=\"stroke:#000000; stroke-width:4; stroke-opacity:1; fill:none\" points=\"\n",
       "  2312.53,1423.18 2312.53,1406.67 \n",
       "  \"/>\n",
       "<polyline clip-path=\"url(#clip070)\" style=\"stroke:#000000; stroke-width:4; stroke-opacity:1; fill:none\" points=\"\n",
       "  215.538,1234.13 241.184,1234.13 \n",
       "  \"/>\n",
       "<polyline clip-path=\"url(#clip070)\" style=\"stroke:#000000; stroke-width:4; stroke-opacity:1; fill:none\" points=\"\n",
       "  215.538,992.145 241.184,992.145 \n",
       "  \"/>\n",
       "<polyline clip-path=\"url(#clip070)\" style=\"stroke:#000000; stroke-width:4; stroke-opacity:1; fill:none\" points=\"\n",
       "  215.538,750.154 241.184,750.154 \n",
       "  \"/>\n",
       "<polyline clip-path=\"url(#clip070)\" style=\"stroke:#000000; stroke-width:4; stroke-opacity:1; fill:none\" points=\"\n",
       "  215.538,508.164 241.184,508.164 \n",
       "  \"/>\n",
       "<polyline clip-path=\"url(#clip070)\" style=\"stroke:#000000; stroke-width:4; stroke-opacity:1; fill:none\" points=\"\n",
       "  215.538,266.174 241.184,266.174 \n",
       "  \"/>\n",
       "<path clip-path=\"url(#clip070)\" d=\"M 0 0 M275.923 1445.17 Q272.312 1445.17 270.483 1448.74 Q268.678 1452.28 268.678 1459.41 Q268.678 1466.51 270.483 1470.08 Q272.312 1473.62 275.923 1473.62 Q279.557 1473.62 281.363 1470.08 Q283.192 1466.51 283.192 1459.41 Q283.192 1452.28 281.363 1448.74 Q279.557 1445.17 275.923 1445.17 M275.923 1441.47 Q281.733 1441.47 284.789 1446.07 Q287.867 1450.66 287.867 1459.41 Q287.867 1468.13 284.789 1472.74 Q281.733 1477.32 275.923 1477.32 Q270.113 1477.32 267.034 1472.74 Q263.979 1468.13 263.979 1459.41 Q263.979 1450.66 267.034 1446.07 Q270.113 1441.47 275.923 1441.47 Z\" fill=\"#000000\" fill-rule=\"evenodd\" fill-opacity=\"1\" /><path clip-path=\"url(#clip070)\" d=\"M 0 0 M775.353 1442.09 L793.71 1442.09 L793.71 1446.03 L779.636 1446.03 L779.636 1454.5 Q780.654 1454.15 781.673 1453.99 Q782.691 1453.8 783.71 1453.8 Q789.497 1453.8 792.876 1456.98 Q796.256 1460.15 796.256 1465.56 Q796.256 1471.14 792.784 1474.24 Q789.312 1477.32 782.992 1477.32 Q780.816 1477.32 778.548 1476.95 Q776.302 1476.58 773.895 1475.84 L773.895 1471.14 Q775.978 1472.28 778.201 1472.83 Q780.423 1473.39 782.9 1473.39 Q786.904 1473.39 789.242 1471.28 Q791.58 1469.18 791.58 1465.56 Q791.58 1461.95 789.242 1459.85 Q786.904 1457.74 782.9 1457.74 Q781.025 1457.74 779.15 1458.16 Q777.298 1458.57 775.353 1459.45 L775.353 1442.09 Z\" fill=\"#000000\" fill-rule=\"evenodd\" fill-opacity=\"1\" /><path clip-path=\"url(#clip070)\" d=\"M 0 0 M1271.1 1472.72 L1278.74 1472.72 L1278.74 1446.35 L1270.43 1448.02 L1270.43 1443.76 L1278.7 1442.09 L1283.37 1442.09 L1283.37 1472.72 L1291.01 1472.72 L1291.01 1476.65 L1271.1 1476.65 L1271.1 1472.72 Z\" fill=\"#000000\" fill-rule=\"evenodd\" fill-opacity=\"1\" /><path clip-path=\"url(#clip070)\" d=\"M 0 0 M1306.08 1445.17 Q1302.47 1445.17 1300.64 1448.74 Q1298.83 1452.28 1298.83 1459.41 Q1298.83 1466.51 1300.64 1470.08 Q1302.47 1473.62 1306.08 1473.62 Q1309.71 1473.62 1311.52 1470.08 Q1313.35 1466.51 1313.35 1459.41 Q1313.35 1452.28 1311.52 1448.74 Q1309.71 1445.17 1306.08 1445.17 M1306.08 1441.47 Q1311.89 1441.47 1314.95 1446.07 Q1318.02 1450.66 1318.02 1459.41 Q1318.02 1468.13 1314.95 1472.74 Q1311.89 1477.32 1306.08 1477.32 Q1300.27 1477.32 1297.19 1472.74 Q1294.14 1468.13 1294.14 1459.41 Q1294.14 1450.66 1297.19 1446.07 Q1300.27 1441.47 1306.08 1441.47 Z\" fill=\"#000000\" fill-rule=\"evenodd\" fill-opacity=\"1\" /><path clip-path=\"url(#clip070)\" d=\"M 0 0 M1780.75 1472.72 L1788.39 1472.72 L1788.39 1446.35 L1780.08 1448.02 L1780.08 1443.76 L1788.35 1442.09 L1793.02 1442.09 L1793.02 1472.72 L1800.66 1472.72 L1800.66 1476.65 L1780.75 1476.65 L1780.75 1472.72 Z\" fill=\"#000000\" fill-rule=\"evenodd\" fill-opacity=\"1\" /><path clip-path=\"url(#clip070)\" d=\"M 0 0 M1805.78 1442.09 L1824.13 1442.09 L1824.13 1446.03 L1810.06 1446.03 L1810.06 1454.5 Q1811.08 1454.15 1812.1 1453.99 Q1813.11 1453.8 1814.13 1453.8 Q1819.92 1453.8 1823.3 1456.98 Q1826.68 1460.15 1826.68 1465.56 Q1826.68 1471.14 1823.21 1474.24 Q1819.73 1477.32 1813.42 1477.32 Q1811.24 1477.32 1808.97 1476.95 Q1806.73 1476.58 1804.32 1475.84 L1804.32 1471.14 Q1806.4 1472.28 1808.62 1472.83 Q1810.85 1473.39 1813.32 1473.39 Q1817.33 1473.39 1819.67 1471.28 Q1822 1469.18 1822 1465.56 Q1822 1461.95 1819.67 1459.85 Q1817.33 1457.74 1813.32 1457.74 Q1811.45 1457.74 1809.57 1458.16 Q1807.72 1458.57 1805.78 1459.45 L1805.78 1442.09 Z\" fill=\"#000000\" fill-rule=\"evenodd\" fill-opacity=\"1\" /><path clip-path=\"url(#clip070)\" d=\"M 0 0 M2293.68 1472.72 L2310 1472.72 L2310 1476.65 L2288.05 1476.65 L2288.05 1472.72 Q2290.72 1469.96 2295.3 1465.33 Q2299.91 1460.68 2301.09 1459.34 Q2303.33 1456.81 2304.21 1455.08 Q2305.11 1453.32 2305.11 1451.63 Q2305.11 1448.87 2303.17 1447.14 Q2301.25 1445.4 2298.15 1445.4 Q2295.95 1445.4 2293.49 1446.17 Q2291.06 1446.93 2288.29 1448.48 L2288.29 1443.76 Q2291.11 1442.62 2293.56 1442.05 Q2296.02 1441.47 2298.05 1441.47 Q2303.42 1441.47 2306.62 1444.15 Q2309.81 1446.84 2309.81 1451.33 Q2309.81 1453.46 2309 1455.38 Q2308.22 1457.28 2306.11 1459.87 Q2305.53 1460.54 2302.43 1463.76 Q2299.33 1466.95 2293.68 1472.72 Z\" fill=\"#000000\" fill-rule=\"evenodd\" fill-opacity=\"1\" /><path clip-path=\"url(#clip070)\" d=\"M 0 0 M2325.07 1445.17 Q2321.46 1445.17 2319.63 1448.74 Q2317.82 1452.28 2317.82 1459.41 Q2317.82 1466.51 2319.63 1470.08 Q2321.46 1473.62 2325.07 1473.62 Q2328.7 1473.62 2330.51 1470.08 Q2332.34 1466.51 2332.34 1459.41 Q2332.34 1452.28 2330.51 1448.74 Q2328.7 1445.17 2325.07 1445.17 M2325.07 1441.47 Q2330.88 1441.47 2333.93 1446.07 Q2337.01 1450.66 2337.01 1459.41 Q2337.01 1468.13 2333.93 1472.74 Q2330.88 1477.32 2325.07 1477.32 Q2319.26 1477.32 2316.18 1472.74 Q2313.12 1468.13 2313.12 1459.41 Q2313.12 1450.66 2316.18 1446.07 Q2319.26 1441.47 2325.07 1441.47 Z\" fill=\"#000000\" fill-rule=\"evenodd\" fill-opacity=\"1\" /><path clip-path=\"url(#clip070)\" d=\"M 0 0 M126.631 1236.53 L139.107 1236.53 L139.107 1240.33 L126.631 1240.33 L126.631 1236.53 Z\" fill=\"#000000\" fill-rule=\"evenodd\" fill-opacity=\"1\" /><path clip-path=\"url(#clip070)\" d=\"M 0 0 M148.204 1247.48 L164.524 1247.48 L164.524 1251.41 L142.58 1251.41 L142.58 1247.48 Q145.242 1244.72 149.825 1240.1 Q154.431 1235.44 155.612 1234.1 Q157.857 1231.58 158.737 1229.84 Q159.64 1228.08 159.64 1226.39 Q159.64 1223.64 157.695 1221.9 Q155.774 1220.16 152.672 1220.16 Q150.473 1220.16 148.019 1220.93 Q145.589 1221.69 142.811 1223.24 L142.811 1218.52 Q145.635 1217.39 148.089 1216.81 Q150.542 1216.23 152.579 1216.23 Q157.95 1216.23 161.144 1218.91 Q164.339 1221.6 164.339 1226.09 Q164.339 1228.22 163.528 1230.14 Q162.741 1232.04 160.635 1234.63 Q160.056 1235.3 156.954 1238.52 Q153.853 1241.72 148.204 1247.48 Z\" fill=\"#000000\" fill-rule=\"evenodd\" fill-opacity=\"1\" /><path clip-path=\"url(#clip070)\" d=\"M 0 0 M179.593 1219.93 Q175.982 1219.93 174.153 1223.5 Q172.348 1227.04 172.348 1234.17 Q172.348 1241.28 174.153 1244.84 Q175.982 1248.38 179.593 1248.38 Q183.227 1248.38 185.033 1244.84 Q186.862 1241.28 186.862 1234.17 Q186.862 1227.04 185.033 1223.5 Q183.227 1219.93 179.593 1219.93 M179.593 1216.23 Q185.403 1216.23 188.459 1220.84 Q191.538 1225.42 191.538 1234.17 Q191.538 1242.9 188.459 1247.5 Q185.403 1252.09 179.593 1252.09 Q173.783 1252.09 170.704 1247.5 Q167.649 1242.9 167.649 1234.17 Q167.649 1225.42 170.704 1220.84 Q173.783 1216.23 179.593 1216.23 Z\" fill=\"#000000\" fill-rule=\"evenodd\" fill-opacity=\"1\" /><path clip-path=\"url(#clip070)\" d=\"M 0 0 M127.256 994.54 L139.732 994.54 L139.732 998.337 L127.256 998.337 L127.256 994.54 Z\" fill=\"#000000\" fill-rule=\"evenodd\" fill-opacity=\"1\" /><path clip-path=\"url(#clip070)\" d=\"M 0 0 M145.612 1005.49 L153.251 1005.49 L153.251 979.124 L144.941 980.79 L144.941 976.531 L153.204 974.865 L157.88 974.865 L157.88 1005.49 L165.519 1005.49 L165.519 1009.42 L145.612 1009.42 L145.612 1005.49 Z\" fill=\"#000000\" fill-rule=\"evenodd\" fill-opacity=\"1\" /><path clip-path=\"url(#clip070)\" d=\"M 0 0 M170.635 974.865 L188.991 974.865 L188.991 978.8 L174.917 978.8 L174.917 987.272 Q175.936 986.925 176.954 986.763 Q177.973 986.577 178.991 986.577 Q184.778 986.577 188.158 989.749 Q191.538 992.92 191.538 998.337 Q191.538 1003.92 188.065 1007.02 Q184.593 1010.1 178.274 1010.1 Q176.098 1010.1 173.829 1009.73 Q171.584 1009.36 169.177 1008.61 L169.177 1003.92 Q171.26 1005.05 173.482 1005.61 Q175.704 1006.16 178.181 1006.16 Q182.186 1006.16 184.524 1004.05 Q186.862 1001.95 186.862 998.337 Q186.862 994.726 184.524 992.619 Q182.186 990.513 178.181 990.513 Q176.306 990.513 174.431 990.929 Q172.579 991.346 170.635 992.226 L170.635 974.865 Z\" fill=\"#000000\" fill-rule=\"evenodd\" fill-opacity=\"1\" /><path clip-path=\"url(#clip070)\" d=\"M 0 0 M126.26 752.55 L138.737 752.55 L138.737 756.346 L126.26 756.346 L126.26 752.55 Z\" fill=\"#000000\" fill-rule=\"evenodd\" fill-opacity=\"1\" /><path clip-path=\"url(#clip070)\" d=\"M 0 0 M144.617 763.499 L152.255 763.499 L152.255 737.134 L143.945 738.8 L143.945 734.541 L152.209 732.874 L156.885 732.874 L156.885 763.499 L164.524 763.499 L164.524 767.434 L144.617 767.434 L144.617 763.499 Z\" fill=\"#000000\" fill-rule=\"evenodd\" fill-opacity=\"1\" /><path clip-path=\"url(#clip070)\" d=\"M 0 0 M179.593 735.953 Q175.982 735.953 174.153 739.518 Q172.348 743.06 172.348 750.189 Q172.348 757.296 174.153 760.86 Q175.982 764.402 179.593 764.402 Q183.227 764.402 185.033 760.86 Q186.862 757.296 186.862 750.189 Q186.862 743.06 185.033 739.518 Q183.227 735.953 179.593 735.953 M179.593 732.249 Q185.403 732.249 188.459 736.856 Q191.538 741.439 191.538 750.189 Q191.538 758.916 188.459 763.522 Q185.403 768.106 179.593 768.106 Q173.783 768.106 170.704 763.522 Q167.649 758.916 167.649 750.189 Q167.649 741.439 170.704 736.856 Q173.783 732.249 179.593 732.249 Z\" fill=\"#000000\" fill-rule=\"evenodd\" fill-opacity=\"1\" /><path clip-path=\"url(#clip070)\" d=\"M 0 0 M153.042 510.56 L165.519 510.56 L165.519 514.356 L153.042 514.356 L153.042 510.56 Z\" fill=\"#000000\" fill-rule=\"evenodd\" fill-opacity=\"1\" /><path clip-path=\"url(#clip070)\" d=\"M 0 0 M170.635 490.884 L188.991 490.884 L188.991 494.819 L174.917 494.819 L174.917 503.292 Q175.936 502.944 176.954 502.782 Q177.973 502.597 178.991 502.597 Q184.778 502.597 188.158 505.768 Q191.538 508.94 191.538 514.356 Q191.538 519.935 188.065 523.037 Q184.593 526.116 178.274 526.116 Q176.098 526.116 173.829 525.745 Q171.584 525.375 169.177 524.634 L169.177 519.935 Q171.26 521.069 173.482 521.625 Q175.704 522.18 178.181 522.18 Q182.186 522.18 184.524 520.074 Q186.862 517.967 186.862 514.356 Q186.862 510.745 184.524 508.639 Q182.186 506.532 178.181 506.532 Q176.306 506.532 174.431 506.949 Q172.579 507.366 170.635 508.245 L170.635 490.884 Z\" fill=\"#000000\" fill-rule=\"evenodd\" fill-opacity=\"1\" /><path clip-path=\"url(#clip070)\" d=\"M 0 0 M179.593 251.973 Q175.982 251.973 174.153 255.538 Q172.348 259.079 172.348 266.209 Q172.348 273.315 174.153 276.88 Q175.982 280.422 179.593 280.422 Q183.227 280.422 185.033 276.88 Q186.862 273.315 186.862 266.209 Q186.862 259.079 185.033 255.538 Q183.227 251.973 179.593 251.973 M179.593 248.269 Q185.403 248.269 188.459 252.875 Q191.538 257.459 191.538 266.209 Q191.538 274.936 188.459 279.542 Q185.403 284.125 179.593 284.125 Q173.783 284.125 170.704 279.542 Q167.649 274.936 167.649 266.209 Q167.649 257.459 170.704 252.875 Q173.783 248.269 179.593 248.269 Z\" fill=\"#000000\" fill-rule=\"evenodd\" fill-opacity=\"1\" /><path clip-path=\"url(#clip070)\" d=\"M 0 0 M1229.91 1510.27 L1229.91 1520.4 L1241.97 1520.4 L1241.97 1524.95 L1229.91 1524.95 L1229.91 1544.3 Q1229.91 1548.66 1231.09 1549.9 Q1232.3 1551.14 1235.96 1551.14 L1241.97 1551.14 L1241.97 1556.04 L1235.96 1556.04 Q1229.18 1556.04 1226.6 1553.53 Q1224.02 1550.98 1224.02 1544.3 L1224.02 1524.95 L1219.73 1524.95 L1219.73 1520.4 L1224.02 1520.4 L1224.02 1510.27 L1229.91 1510.27 Z\" fill=\"#000000\" fill-rule=\"evenodd\" fill-opacity=\"1\" /><path clip-path=\"url(#clip070)\" d=\"M 0 0 M1248.12 1520.4 L1253.97 1520.4 L1253.97 1556.04 L1248.12 1556.04 L1248.12 1520.4 M1248.12 1506.52 L1253.97 1506.52 L1253.97 1513.93 L1248.12 1513.93 L1248.12 1506.52 Z\" fill=\"#000000\" fill-rule=\"evenodd\" fill-opacity=\"1\" /><path clip-path=\"url(#clip070)\" d=\"M 0 0 M1287.87 1527.24 Q1290.07 1523.29 1293.12 1521.41 Q1296.18 1519.54 1300.32 1519.54 Q1305.89 1519.54 1308.91 1523.45 Q1311.93 1527.33 1311.93 1534.53 L1311.93 1556.04 L1306.04 1556.04 L1306.04 1534.72 Q1306.04 1529.59 1304.23 1527.11 Q1302.42 1524.63 1298.69 1524.63 Q1294.14 1524.63 1291.5 1527.65 Q1288.86 1530.68 1288.86 1535.9 L1288.86 1556.04 L1282.97 1556.04 L1282.97 1534.72 Q1282.97 1529.56 1281.15 1527.11 Q1279.34 1524.63 1275.55 1524.63 Q1271.07 1524.63 1268.42 1527.68 Q1265.78 1530.71 1265.78 1535.9 L1265.78 1556.04 L1259.89 1556.04 L1259.89 1520.4 L1265.78 1520.4 L1265.78 1525.93 Q1267.79 1522.66 1270.59 1521.1 Q1273.39 1519.54 1277.24 1519.54 Q1281.12 1519.54 1283.83 1521.51 Q1286.57 1523.48 1287.87 1527.24 Z\" fill=\"#000000\" fill-rule=\"evenodd\" fill-opacity=\"1\" /><path clip-path=\"url(#clip070)\" d=\"M 0 0 M1348.57 1536.76 L1348.57 1539.62 L1321.64 1539.62 Q1322.02 1545.67 1325.27 1548.85 Q1328.55 1552 1334.37 1552 Q1337.75 1552 1340.9 1551.17 Q1344.08 1550.35 1347.2 1548.69 L1347.2 1554.23 Q1344.05 1555.57 1340.74 1556.27 Q1337.43 1556.97 1334.02 1556.97 Q1325.49 1556.97 1320.49 1552 Q1315.53 1547.04 1315.53 1538.57 Q1315.53 1529.82 1320.24 1524.69 Q1324.98 1519.54 1333 1519.54 Q1340.2 1519.54 1344.37 1524.18 Q1348.57 1528.8 1348.57 1536.76 M1342.71 1535.04 Q1342.65 1530.23 1340.01 1527.37 Q1337.4 1524.5 1333.07 1524.5 Q1328.17 1524.5 1325.21 1527.27 Q1322.28 1530.04 1321.83 1535.07 L1342.71 1535.04 Z\" fill=\"#000000\" fill-rule=\"evenodd\" fill-opacity=\"1\" /><path clip-path=\"url(#clip070)\" d=\"M 0 0 M40.4842 1022.78 L40.4842 1016.35 L82.5933 1016.35 L82.5933 993.214 L88.0042 993.214 L88.0042 1022.78 L40.4842 1022.78 Z\" fill=\"#000000\" fill-rule=\"evenodd\" fill-opacity=\"1\" /><path clip-path=\"url(#clip070)\" d=\"M 0 0 M91.3143 978.223 Q97.68 980.705 99.6216 983.061 Q101.563 985.416 101.563 989.363 L101.563 994.042 L96.6615 994.042 L96.6615 990.604 Q96.6615 988.185 95.5157 986.848 Q94.3699 985.512 90.1048 983.888 L87.4312 982.838 L52.3562 997.256 L52.3562 991.05 L80.238 979.91 L52.3562 968.77 L52.3562 962.563 L91.3143 978.223 Z\" fill=\"#000000\" fill-rule=\"evenodd\" fill-opacity=\"1\" /><path clip-path=\"url(#clip070)\" d=\"M 0 0 M70.0847 940.22 Q70.0847 947.317 71.7079 950.055 Q73.3312 952.792 77.2461 952.792 Q80.3653 952.792 82.2114 950.755 Q84.0256 948.686 84.0256 945.153 Q84.0256 940.283 80.5881 937.355 Q77.1188 934.395 71.3897 934.395 L70.0847 934.395 L70.0847 940.22 M67.6657 928.538 L88.0042 928.538 L88.0042 934.395 L82.5933 934.395 Q85.8398 936.4 87.3994 939.392 Q88.9272 942.384 88.9272 946.713 Q88.9272 952.187 85.8716 955.434 Q82.7843 958.648 77.6281 958.648 Q71.6125 958.648 68.5569 954.638 Q65.5014 950.596 65.5014 942.607 L65.5014 934.395 L64.9285 934.395 Q60.8862 934.395 58.6901 937.069 Q56.4621 939.71 56.4621 944.516 Q56.4621 947.572 57.1941 950.468 Q57.9262 953.365 59.3903 956.038 L53.9795 956.038 Q52.7381 952.824 52.1334 949.8 Q51.4968 946.776 51.4968 943.912 Q51.4968 936.177 55.5072 932.358 Q59.5176 928.538 67.6657 928.538 Z\" fill=\"#000000\" fill-rule=\"evenodd\" fill-opacity=\"1\" /><path clip-path=\"url(#clip070)\" d=\"M 0 0 M82.657 916.73 L101.563 916.73 L101.563 922.618 L52.3562 922.618 L52.3562 916.73 L57.7671 916.73 Q54.5842 914.884 53.0564 912.083 Q51.4968 909.25 51.4968 905.335 Q51.4968 898.842 56.6531 894.8 Q61.8093 890.726 70.212 890.726 Q78.6147 890.726 83.771 894.8 Q88.9272 898.842 88.9272 905.335 Q88.9272 909.25 87.3994 912.083 Q85.8398 914.884 82.657 916.73 M70.212 896.805 Q63.7508 896.805 60.0905 899.479 Q56.3984 902.121 56.3984 906.768 Q56.3984 911.415 60.0905 914.088 Q63.7508 916.73 70.212 916.73 Q76.6732 916.73 80.3653 914.088 Q84.0256 911.415 84.0256 906.768 Q84.0256 902.121 80.3653 899.479 Q76.6732 896.805 70.212 896.805 Z\" fill=\"#000000\" fill-rule=\"evenodd\" fill-opacity=\"1\" /><path clip-path=\"url(#clip070)\" d=\"M 0 0 M73.9359 885.188 L52.3562 885.188 L52.3562 879.332 L73.7131 879.332 Q78.7739 879.332 81.3202 877.358 Q83.8346 875.385 83.8346 871.438 Q83.8346 866.696 80.8109 863.958 Q77.7872 861.189 72.5673 861.189 L52.3562 861.189 L52.3562 855.333 L88.0042 855.333 L88.0042 861.189 L82.5296 861.189 Q85.7762 863.322 87.3676 866.155 Q88.9272 868.955 88.9272 872.679 Q88.9272 878.822 85.1078 882.005 Q81.2883 885.188 73.9359 885.188 M51.4968 870.451 L51.4968 870.451 Z\" fill=\"#000000\" fill-rule=\"evenodd\" fill-opacity=\"1\" /><path clip-path=\"url(#clip070)\" d=\"M 0 0 M66.4881 819.558 L88.0042 819.558 L88.0042 825.414 L66.679 825.414 Q61.6183 825.414 59.1038 827.387 Q56.5894 829.361 56.5894 833.308 Q56.5894 838.05 59.6131 840.787 Q62.6368 843.524 67.8567 843.524 L88.0042 843.524 L88.0042 849.413 L52.3562 849.413 L52.3562 843.524 L57.8944 843.524 Q54.6797 841.424 53.0883 838.591 Q51.4968 835.726 51.4968 832.003 Q51.4968 825.86 55.3163 822.709 Q59.1038 819.558 66.4881 819.558 Z\" fill=\"#000000\" fill-rule=\"evenodd\" fill-opacity=\"1\" /><path clip-path=\"url(#clip070)\" d=\"M 0 0 M56.4621 799.601 Q56.4621 804.312 60.1542 807.049 Q63.8145 809.786 70.212 809.786 Q76.6095 809.786 80.3017 807.081 Q83.9619 804.344 83.9619 799.601 Q83.9619 794.922 80.2698 792.185 Q76.5777 789.448 70.212 789.448 Q63.8781 789.448 60.186 792.185 Q56.4621 794.922 56.4621 799.601 M51.4968 799.601 Q51.4968 791.962 56.4621 787.602 Q61.4273 783.241 70.212 783.241 Q78.9649 783.241 83.9619 787.602 Q88.9272 791.962 88.9272 799.601 Q88.9272 807.272 83.9619 811.632 Q78.9649 815.961 70.212 815.961 Q61.4273 815.961 56.4621 811.632 Q51.4968 807.272 51.4968 799.601 Z\" fill=\"#000000\" fill-rule=\"evenodd\" fill-opacity=\"1\" /><path clip-path=\"url(#clip070)\" d=\"M 0 0 M52.3562 781.3 L52.3562 775.093 L82.275 763.953 L52.3562 752.813 L52.3562 746.607 L88.0042 759.975 L88.0042 767.932 L52.3562 781.3 Z\" fill=\"#000000\" fill-rule=\"evenodd\" fill-opacity=\"1\" /><path clip-path=\"url(#clip070)\" d=\"M 0 0 M68.7161 689.252 L71.5806 689.252 L71.5806 716.179 Q77.6281 715.797 80.8109 712.55 Q83.9619 709.272 83.9619 703.447 Q83.9619 700.073 83.1344 696.922 Q82.3069 693.739 80.6518 690.62 L86.1899 690.62 Q87.5267 693.771 88.227 697.081 Q88.9272 700.392 88.9272 703.797 Q88.9272 712.327 83.9619 717.324 Q78.9967 722.29 70.5303 722.29 Q61.7774 722.29 56.6531 717.579 Q51.4968 712.837 51.4968 704.816 Q51.4968 697.622 56.1438 693.453 Q60.7589 689.252 68.7161 689.252 M66.9973 695.108 Q62.1912 695.172 59.3266 697.813 Q56.4621 700.423 56.4621 704.752 Q56.4621 709.654 59.2312 712.614 Q62.0002 715.542 67.0292 715.988 L66.9973 695.108 Z\" fill=\"#000000\" fill-rule=\"evenodd\" fill-opacity=\"1\" /><path clip-path=\"url(#clip070)\" d=\"M 0 0 M52.3562 654.622 L69.7028 667.513 L88.0042 653.954 L88.0042 660.861 L73.9996 671.237 L88.0042 681.613 L88.0042 688.52 L69.3526 674.674 L52.3562 687.342 L52.3562 680.435 L65.0558 670.982 L52.3562 661.529 L52.3562 654.622 Z\" fill=\"#000000\" fill-rule=\"evenodd\" fill-opacity=\"1\" /><path clip-path=\"url(#clip070)\" d=\"M 0 0 M82.657 642.145 L101.563 642.145 L101.563 648.034 L52.3562 648.034 L52.3562 642.145 L57.7671 642.145 Q54.5842 640.299 53.0564 637.498 Q51.4968 634.666 51.4968 630.751 Q51.4968 624.258 56.6531 620.215 Q61.8093 616.141 70.212 616.141 Q78.6147 616.141 83.771 620.215 Q88.9272 624.258 88.9272 630.751 Q88.9272 634.666 87.3994 637.498 Q85.8398 640.299 82.657 642.145 M70.212 622.221 Q63.7508 622.221 60.0905 624.894 Q56.3984 627.536 56.3984 632.183 Q56.3984 636.83 60.0905 639.504 Q63.7508 642.145 70.212 642.145 Q76.6732 642.145 80.3653 639.504 Q84.0256 636.83 84.0256 632.183 Q84.0256 627.536 80.3653 624.894 Q76.6732 622.221 70.212 622.221 Z\" fill=\"#000000\" fill-rule=\"evenodd\" fill-opacity=\"1\" /><path clip-path=\"url(#clip070)\" d=\"M 0 0 M56.4621 596.185 Q56.4621 600.896 60.1542 603.633 Q63.8145 606.37 70.212 606.37 Q76.6095 606.37 80.3017 603.665 Q83.9619 600.927 83.9619 596.185 Q83.9619 591.506 80.2698 588.769 Q76.5777 586.032 70.212 586.032 Q63.8781 586.032 60.186 588.769 Q56.4621 591.506 56.4621 596.185 M51.4968 596.185 Q51.4968 588.546 56.4621 584.186 Q61.4273 579.825 70.212 579.825 Q78.9649 579.825 83.9619 584.186 Q88.9272 588.546 88.9272 596.185 Q88.9272 603.856 83.9619 608.216 Q78.9649 612.545 70.212 612.545 Q61.4273 612.545 56.4621 608.216 Q51.4968 603.856 51.4968 596.185 Z\" fill=\"#000000\" fill-rule=\"evenodd\" fill-opacity=\"1\" /><path clip-path=\"url(#clip070)\" d=\"M 0 0 M66.4881 544.05 L88.0042 544.05 L88.0042 549.906 L66.679 549.906 Q61.6183 549.906 59.1038 551.88 Q56.5894 553.853 56.5894 557.8 Q56.5894 562.542 59.6131 565.279 Q62.6368 568.017 67.8567 568.017 L88.0042 568.017 L88.0042 573.905 L52.3562 573.905 L52.3562 568.017 L57.8944 568.017 Q54.6797 565.916 53.0883 563.083 Q51.4968 560.219 51.4968 556.495 Q51.4968 550.352 55.3163 547.201 Q59.1038 544.05 66.4881 544.05 Z\" fill=\"#000000\" fill-rule=\"evenodd\" fill-opacity=\"1\" /><path clip-path=\"url(#clip070)\" d=\"M 0 0 M68.7161 507.415 L71.5806 507.415 L71.5806 534.342 Q77.6281 533.96 80.8109 530.714 Q83.9619 527.435 83.9619 521.611 Q83.9619 518.237 83.1344 515.086 Q82.3069 511.903 80.6518 508.784 L86.1899 508.784 Q87.5267 511.935 88.227 515.245 Q88.9272 518.555 88.9272 521.961 Q88.9272 530.491 83.9619 535.488 Q78.9967 540.453 70.5303 540.453 Q61.7774 540.453 56.6531 535.743 Q51.4968 531 51.4968 522.979 Q51.4968 515.786 56.1438 511.617 Q60.7589 507.415 68.7161 507.415 M66.9973 513.272 Q62.1912 513.335 59.3266 515.977 Q56.4621 518.587 56.4621 522.916 Q56.4621 527.817 59.2312 530.777 Q62.0002 533.706 67.0292 534.151 L66.9973 513.272 Z\" fill=\"#000000\" fill-rule=\"evenodd\" fill-opacity=\"1\" /><path clip-path=\"url(#clip070)\" d=\"M 0 0 M66.4881 471.64 L88.0042 471.64 L88.0042 477.496 L66.679 477.496 Q61.6183 477.496 59.1038 479.47 Q56.5894 481.443 56.5894 485.39 Q56.5894 490.132 59.6131 492.87 Q62.6368 495.607 67.8567 495.607 L88.0042 495.607 L88.0042 501.495 L52.3562 501.495 L52.3562 495.607 L57.8944 495.607 Q54.6797 493.506 53.0883 490.673 Q51.4968 487.809 51.4968 484.085 Q51.4968 477.942 55.3163 474.791 Q59.1038 471.64 66.4881 471.64 Z\" fill=\"#000000\" fill-rule=\"evenodd\" fill-opacity=\"1\" /><path clip-path=\"url(#clip070)\" d=\"M 0 0 M42.2347 459.704 L52.3562 459.704 L52.3562 447.641 L56.9077 447.641 L56.9077 459.704 L76.2594 459.704 Q80.6199 459.704 81.8613 458.527 Q83.1026 457.317 83.1026 453.657 L83.1026 447.641 L88.0042 447.641 L88.0042 453.657 Q88.0042 460.436 85.4897 463.014 Q82.9434 465.592 76.2594 465.592 L56.9077 465.592 L56.9077 469.889 L52.3562 469.889 L52.3562 465.592 L42.2347 465.592 L42.2347 459.704 Z\" fill=\"#000000\" fill-rule=\"evenodd\" fill-opacity=\"1\" /><polyline clip-path=\"url(#clip072)\" style=\"stroke:#009af9; stroke-width:4; stroke-opacity:1; fill:none\" points=\"\n",
       "  276.025,266.174 296.391,244.206 316.757,170.913 337.123,228.434 357.489,138.717 377.855,193.884 398.221,161.95 418.588,86.1857 438.954,156.785 459.32,167.378 \n",
       "  479.686,183.213 500.052,190.899 520.418,197.535 540.784,190.514 561.15,203.805 581.516,179.808 601.882,169.041 622.249,192.609 642.615,196.831 662.981,196.644 \n",
       "  683.347,173.31 703.713,185.069 724.079,195.453 744.445,198.467 764.811,188.461 785.177,177.261 805.543,191.79 825.91,195.723 846.276,196.622 866.642,180.577 \n",
       "  887.008,171.735 907.374,188.307 927.74,188.167 948.106,191.864 968.472,194.422 988.838,193.726 1009.2,184.683 1029.57,192.794 1049.94,185.904 1070.3,185.348 \n",
       "  1090.67,191.992 1111.03,194.517 1131.4,192.182 1151.77,181.236 1172.13,189.076 1192.5,193.762 1212.87,194.413 1233.23,188.008 1253.6,184.022 1273.96,191.384 \n",
       "  1294.33,193.4 1314.7,193.039 1335.06,183.642 1355.43,185.201 1375.79,191.841 1396.16,191.74 1416.53,190.817 1436.89,189.989 1457.26,191.804 1477.62,182.706 \n",
       "  1497.99,183.11 1518.36,189.782 1538.72,189.547 1559.09,191.711 1579.46,192.889 1599.82,190.824 1620.19,189.766 1640.55,191.755 1660.92,183.652 1681.29,172.949 \n",
       "  1701.65,161.741 1722.02,151.189 1742.38,161.138 1762.75,165.169 1783.12,165.637 1803.48,167.175 1823.85,167.519 1844.21,169.029 1864.58,169.252 1884.95,170.763 \n",
       "  1905.31,170.89 1925.68,172.368 1946.04,172.411 1966.41,173.936 1986.78,173.781 2007.14,175.512 2027.51,174.893 2047.88,177.173 2068.24,175.455 2088.61,178.711 \n",
       "  2108.97,174.822 2129.34,178.378 2149.71,181.463 2170.07,181.45 2190.44,179.906 2210.8,176.478 2231.17,180.778 2251.54,182.123 2271.9,182.644 2292.27,178.485 \n",
       "  \n",
       "  \"/>\n",
       "<polyline clip-path=\"url(#clip072)\" style=\"stroke:#e26f46; stroke-width:4; stroke-opacity:1; fill:none\" points=\"\n",
       "  276.025,266.174 296.391,793.399 316.757,504.142 337.123,436.117 357.489,425.756 377.855,382.925 398.221,374.082 418.588,376.872 438.954,358.247 459.32,339.072 \n",
       "  479.686,332.954 500.052,307.333 520.418,311.846 540.784,300.976 561.15,297.814 581.516,309.142 601.882,306.392 622.249,299.083 642.615,283.882 662.981,293.863 \n",
       "  683.347,299.431 703.713,295.841 724.079,283.83 744.445,283.044 764.811,290.878 785.177,290.06 805.543,288.545 825.91,275.83 846.276,283.307 866.642,289.532 \n",
       "  887.008,289.375 907.374,286.058 927.74,283.754 948.106,282.937 968.472,275.706 988.838,281.282 1009.2,282.276 1029.57,281.19 1049.94,282.128 1070.3,280.841 \n",
       "  1090.67,278.863 1111.03,273.675 1131.4,279.295 1151.77,281.872 1172.13,280.565 1192.5,273.244 1212.87,275.632 1233.23,279.241 1253.6,278.698 1273.96,277.514 \n",
       "  1294.33,271.588 1314.7,276.287 1335.06,279.423 1355.43,278.784 1375.79,274.469 1396.16,274.905 1416.53,275.898 1436.89,274.004 1457.26,275.643 1477.62,278.315 \n",
       "  1497.99,278.013 1518.36,275.244 1538.72,276.066 1559.09,273.538 1579.46,272.331 1599.82,274.798 1620.19,273.519 1640.55,274.465 1660.92,276.992 1681.29,279.66 \n",
       "  1701.65,282.21 1722.02,284.178 1742.38,283.281 1762.75,282.646 1783.12,282.2 1803.48,281.56 1823.85,281.186 1844.21,280.558 1864.58,280.268 1884.95,279.609 \n",
       "  1905.31,279.374 1925.68,278.699 1946.04,278.505 1966.41,277.77 1986.78,277.632 2007.14,276.787 2027.51,276.723 2047.88,275.704 2068.24,275.763 2088.61,274.75 \n",
       "  2108.97,275.368 2129.34,274.742 2149.71,270.122 2170.07,270.873 2190.44,272.715 2210.8,273.012 2231.17,272.584 2251.54,269.237 2271.9,271.2 2292.27,272.798 \n",
       "  \n",
       "  \"/>\n",
       "<polyline clip-path=\"url(#clip072)\" style=\"stroke:#3da44d; stroke-width:4; stroke-opacity:1; fill:none\" points=\"\n",
       "  276.025,266.174 296.391,772.819 316.757,1138.91 337.123,1147.32 357.489,1251.88 377.855,1236.78 398.221,1280.92 418.588,1357.42 438.954,1301.46 459.32,1310.96 \n",
       "  479.686,1301.02 500.052,1318.49 520.418,1307.02 540.784,1326.21 561.15,1314.34 581.516,1328.52 601.882,1341.94 622.249,1325.22 642.615,1336.41 662.981,1326.82 \n",
       "  683.347,1345.56 703.713,1336.49 724.079,1338.64 744.445,1335.8 764.811,1338.49 785.177,1350.38 805.543,1337.14 825.91,1346.17 846.276,1337.43 866.642,1347.95 \n",
       "  887.008,1356.8 907.374,1343.49 927.74,1345.74 948.106,1342.9 968.472,1347.49 988.838,1342.56 1009.2,1350.93 1029.57,1343.52 1049.94,1349.95 1070.3,1351.46 \n",
       "  1090.67,1346.97 1111.03,1349.56 1131.4,1346.13 1151.77,1355.02 1172.13,1348.19 1192.5,1350.84 1212.87,1347.59 1233.23,1350.82 1253.6,1355.02 1273.96,1348.96 \n",
       "  1294.33,1352.86 1314.7,1348.55 1335.06,1355 1355.43,1353.86 1375.79,1351.78 1396.16,1351.04 1416.53,1351.22 1436.89,1353.92 1457.26,1350.32 1477.62,1357.23 \n",
       "  1497.99,1356.94 1518.36,1352.95 1538.72,1352.27 1559.09,1352.82 1579.46,1352.51 1599.82,1352.3 1620.19,1354.63 1640.55,1351.56 1660.92,1357.57 1681.29,1366.16 \n",
       "  1701.65,1375.17 1722.02,1384.24 1742.38,1374.86 1762.75,1371.25 1783.12,1371.23 1803.48,1370.34 1823.85,1370.16 1844.21,1369.29 1864.58,1369.34 1884.95,1368.32 \n",
       "  1905.31,1368.41 1925.68,1367.59 1946.04,1367.64 1966.41,1366.85 1986.78,1367.05 2007.14,1366.18 2027.51,1366.77 2047.88,1365.53 2068.24,1367.15 2088.61,1364.88 \n",
       "  2108.97,1368.31 2129.34,1365.19 2149.71,1366.88 2170.07,1365.97 2190.44,1365.8 2210.8,1369.02 2231.17,1365.06 2251.54,1367.12 2271.9,1364.52 2292.27,1367.27 \n",
       "  \n",
       "  \"/>\n",
       "<path clip-path=\"url(#clip070)\" d=\"\n",
       "M1989.16 372.684 L2280.76 372.684 L2280.76 130.764 L1989.16 130.764  Z\n",
       "  \" fill=\"#ffffff\" fill-rule=\"evenodd\" fill-opacity=\"1\"/>\n",
       "<polyline clip-path=\"url(#clip070)\" style=\"stroke:#000000; stroke-width:4; stroke-opacity:1; fill:none\" points=\"\n",
       "  1989.16,372.684 2280.76,372.684 2280.76,130.764 1989.16,130.764 1989.16,372.684 \n",
       "  \"/>\n",
       "<polyline clip-path=\"url(#clip070)\" style=\"stroke:#009af9; stroke-width:4; stroke-opacity:1; fill:none\" points=\"\n",
       "  2013.16,191.244 2157.16,191.244 \n",
       "  \"/>\n",
       "<path clip-path=\"url(#clip070)\" d=\"M 0 0 M2195 210.931 Q2193.2 215.561 2191.48 216.973 Q2189.77 218.385 2186.9 218.385 L2183.5 218.385 L2183.5 214.82 L2186 214.82 Q2187.76 214.82 2188.73 213.987 Q2189.7 213.154 2190.88 210.052 L2191.65 208.107 L2181.16 182.598 L2185.67 182.598 L2193.77 202.876 L2201.88 182.598 L2206.39 182.598 L2195 210.931 Z\" fill=\"#000000\" fill-rule=\"evenodd\" fill-opacity=\"1\" /><path clip-path=\"url(#clip070)\" d=\"M 0 0 M2212.27 204.589 L2219.91 204.589 L2219.91 178.223 L2211.6 179.89 L2211.6 175.631 L2219.86 173.964 L2224.54 173.964 L2224.54 204.589 L2232.18 204.589 L2232.18 208.524 L2212.27 208.524 L2212.27 204.589 Z\" fill=\"#000000\" fill-rule=\"evenodd\" fill-opacity=\"1\" /><polyline clip-path=\"url(#clip070)\" style=\"stroke:#e26f46; stroke-width:4; stroke-opacity:1; fill:none\" points=\"\n",
       "  2013.16,251.724 2157.16,251.724 \n",
       "  \"/>\n",
       "<path clip-path=\"url(#clip070)\" d=\"M 0 0 M2195 271.411 Q2193.2 276.041 2191.48 277.453 Q2189.77 278.865 2186.9 278.865 L2183.5 278.865 L2183.5 275.3 L2186 275.3 Q2187.76 275.3 2188.73 274.467 Q2189.7 273.634 2190.88 270.532 L2191.65 268.587 L2181.16 243.078 L2185.67 243.078 L2193.77 263.356 L2201.88 243.078 L2206.39 243.078 L2195 271.411 Z\" fill=\"#000000\" fill-rule=\"evenodd\" fill-opacity=\"1\" /><path clip-path=\"url(#clip070)\" d=\"M 0 0 M2215.49 265.069 L2231.81 265.069 L2231.81 269.004 L2209.86 269.004 L2209.86 265.069 Q2212.52 262.314 2217.11 257.685 Q2221.71 253.032 2222.89 251.689 Q2225.14 249.166 2226.02 247.43 Q2226.92 245.671 2226.92 243.981 Q2226.92 241.226 2224.98 239.49 Q2223.06 237.754 2219.96 237.754 Q2217.76 237.754 2215.3 238.518 Q2212.87 239.282 2210.09 240.833 L2210.09 236.111 Q2212.92 234.976 2215.37 234.398 Q2217.83 233.819 2219.86 233.819 Q2225.23 233.819 2228.43 236.504 Q2231.62 239.189 2231.62 243.68 Q2231.62 245.81 2230.81 247.731 Q2230.02 249.629 2227.92 252.222 Q2227.34 252.893 2224.24 256.111 Q2221.14 259.305 2215.49 265.069 Z\" fill=\"#000000\" fill-rule=\"evenodd\" fill-opacity=\"1\" /><polyline clip-path=\"url(#clip070)\" style=\"stroke:#3da44d; stroke-width:4; stroke-opacity:1; fill:none\" points=\"\n",
       "  2013.16,312.204 2157.16,312.204 \n",
       "  \"/>\n",
       "<path clip-path=\"url(#clip070)\" d=\"M 0 0 M2195 331.891 Q2193.2 336.521 2191.48 337.933 Q2189.77 339.345 2186.9 339.345 L2183.5 339.345 L2183.5 335.78 L2186 335.78 Q2187.76 335.78 2188.73 334.947 Q2189.7 334.114 2190.88 331.012 L2191.65 329.067 L2181.16 303.558 L2185.67 303.558 L2193.77 323.836 L2201.88 303.558 L2206.39 303.558 L2195 331.891 Z\" fill=\"#000000\" fill-rule=\"evenodd\" fill-opacity=\"1\" /><path clip-path=\"url(#clip070)\" d=\"M 0 0 M2225.63 310.85 Q2228.98 311.568 2230.86 313.836 Q2232.76 316.105 2232.76 319.438 Q2232.76 324.554 2229.24 327.354 Q2225.72 330.155 2219.24 330.155 Q2217.06 330.155 2214.75 329.716 Q2212.46 329.299 2210 328.442 L2210 323.929 Q2211.95 325.063 2214.26 325.642 Q2216.58 326.22 2219.1 326.22 Q2223.5 326.22 2225.79 324.484 Q2228.1 322.748 2228.1 319.438 Q2228.1 316.382 2225.95 314.669 Q2223.82 312.933 2220 312.933 L2215.97 312.933 L2215.97 309.091 L2220.19 309.091 Q2223.64 309.091 2225.46 307.725 Q2227.29 306.336 2227.29 303.743 Q2227.29 301.081 2225.39 299.669 Q2223.52 298.234 2220 298.234 Q2218.08 298.234 2215.88 298.651 Q2213.68 299.068 2211.04 299.947 L2211.04 295.781 Q2213.71 295.04 2216.02 294.669 Q2218.36 294.299 2220.42 294.299 Q2225.74 294.299 2228.84 296.73 Q2231.95 299.137 2231.95 303.257 Q2231.95 306.128 2230.3 308.118 Q2228.66 310.086 2225.63 310.85 Z\" fill=\"#000000\" fill-rule=\"evenodd\" fill-opacity=\"1\" /></svg>\n"
      ]
     },
     "execution_count": 17,
     "metadata": {},
     "output_type": "execute_result"
    }
   ],
   "source": [
    "@time let\n",
    "    u0 = [19.,20.,50.]\n",
    "    p = [16.,45.92,4]\n",
    "    integrator = my_tangent_integrator(lorenz!, lorenz_jac!, u0, p)\n",
    "\n",
    "    dt = 0.001\n",
    "    t_max = 20\n",
    "    lse = lyap_qr_time_series(integrator, t_max, dt; \n",
    "        t_pre_iter=0, \n",
    "        t_save=t_max/100,\n",
    "        t_renormalize=1*dt,\n",
    "        lyapunov_count=length(u0)\n",
    "    )\n",
    "    \n",
    "    @show lse.lyapunov[:,end]\n",
    "    plot(lse)\n",
    "end"
   ]
  },
  {
   "cell_type": "markdown",
   "metadata": {},
   "source": [
    "# Using the Julia Ecosystem\n",
    "\n"
   ]
  },
  {
   "cell_type": "markdown",
   "metadata": {},
   "source": [
    "In this section we will exchange our very simple ODE integration functions with highly optimized Julia packages. "
   ]
  },
  {
   "cell_type": "code",
   "execution_count": 18,
   "metadata": {},
   "outputs": [],
   "source": [
    "using DifferentialEquations     # this might take some time to load (or precompile)\n",
    "using DynamicalSystems\n",
    "\n",
    "using DynamicalSystemsBase:_tannorm"
   ]
  },
  {
   "cell_type": "markdown",
   "metadata": {},
   "source": [
    "Following, we will reuse the code for calculating the Lyapunov timeseries, defining the variational equation update method as in the `tangent_integrator` function, but now using the functions `ODEProblem` and `init` to define the integrator, which we can use in `lyap_qr_time_series`. Again, we recommend playing around with the parameters. Other integration methods can be found at https://docs.sciml.ai/stable/solvers/ode_solve/. "
   ]
  },
  {
   "cell_type": "code",
   "execution_count": 19,
   "metadata": {},
   "outputs": [
    {
     "name": "stdout",
     "output_type": "stream",
     "text": [
      "lse.lyapunov[:, end] = [1.516068733717005, -0.013307037334181086, -22.488264328781014]\n",
      "  5.633398 seconds (16.62 M allocations: 796.315 MiB, 4.59% gc time)\n"
     ]
    },
    {
     "data": {
      "image/svg+xml": [
       "<?xml version=\"1.0\" encoding=\"utf-8\"?>\n",
       "<svg xmlns=\"http://www.w3.org/2000/svg\" xmlns:xlink=\"http://www.w3.org/1999/xlink\" width=\"600\" height=\"400\" viewBox=\"0 0 2400 1600\">\n",
       "<defs>\n",
       "  <clipPath id=\"clip110\">\n",
       "    <rect x=\"0\" y=\"0\" width=\"2400\" height=\"1600\"/>\n",
       "  </clipPath>\n",
       "</defs>\n",
       "<path clip-path=\"url(#clip110)\" d=\"\n",
       "M0 1600 L2400 1600 L2400 0 L0 0  Z\n",
       "  \" fill=\"#ffffff\" fill-rule=\"evenodd\" fill-opacity=\"1\"/>\n",
       "<defs>\n",
       "  <clipPath id=\"clip111\">\n",
       "    <rect x=\"480\" y=\"0\" width=\"1681\" height=\"1600\"/>\n",
       "  </clipPath>\n",
       "</defs>\n",
       "<path clip-path=\"url(#clip110)\" d=\"\n",
       "M215.538 1423.18 L2352.76 1423.18 L2352.76 47.2441 L215.538 47.2441  Z\n",
       "  \" fill=\"#ffffff\" fill-rule=\"evenodd\" fill-opacity=\"1\"/>\n",
       "<defs>\n",
       "  <clipPath id=\"clip112\">\n",
       "    <rect x=\"215\" y=\"47\" width=\"2138\" height=\"1377\"/>\n",
       "  </clipPath>\n",
       "</defs>\n",
       "<polyline clip-path=\"url(#clip112)\" style=\"stroke:#000000; stroke-width:2; stroke-opacity:0.1; fill:none\" points=\"\n",
       "  273.988,1423.18 273.988,47.2441 \n",
       "  \"/>\n",
       "<polyline clip-path=\"url(#clip112)\" style=\"stroke:#000000; stroke-width:2; stroke-opacity:0.1; fill:none\" points=\"\n",
       "  783.141,1423.18 783.141,47.2441 \n",
       "  \"/>\n",
       "<polyline clip-path=\"url(#clip112)\" style=\"stroke:#000000; stroke-width:2; stroke-opacity:0.1; fill:none\" points=\"\n",
       "  1292.29,1423.18 1292.29,47.2441 \n",
       "  \"/>\n",
       "<polyline clip-path=\"url(#clip112)\" style=\"stroke:#000000; stroke-width:2; stroke-opacity:0.1; fill:none\" points=\"\n",
       "  1801.45,1423.18 1801.45,47.2441 \n",
       "  \"/>\n",
       "<polyline clip-path=\"url(#clip112)\" style=\"stroke:#000000; stroke-width:2; stroke-opacity:0.1; fill:none\" points=\"\n",
       "  2310.6,1423.18 2310.6,47.2441 \n",
       "  \"/>\n",
       "<polyline clip-path=\"url(#clip112)\" style=\"stroke:#000000; stroke-width:2; stroke-opacity:0.1; fill:none\" points=\"\n",
       "  215.538,1252.01 2352.76,1252.01 \n",
       "  \"/>\n",
       "<polyline clip-path=\"url(#clip112)\" style=\"stroke:#000000; stroke-width:2; stroke-opacity:0.1; fill:none\" points=\"\n",
       "  215.538,989.029 2352.76,989.029 \n",
       "  \"/>\n",
       "<polyline clip-path=\"url(#clip112)\" style=\"stroke:#000000; stroke-width:2; stroke-opacity:0.1; fill:none\" points=\"\n",
       "  215.538,726.047 2352.76,726.047 \n",
       "  \"/>\n",
       "<polyline clip-path=\"url(#clip112)\" style=\"stroke:#000000; stroke-width:2; stroke-opacity:0.1; fill:none\" points=\"\n",
       "  215.538,463.066 2352.76,463.066 \n",
       "  \"/>\n",
       "<polyline clip-path=\"url(#clip112)\" style=\"stroke:#000000; stroke-width:2; stroke-opacity:0.1; fill:none\" points=\"\n",
       "  215.538,200.085 2352.76,200.085 \n",
       "  \"/>\n",
       "<polyline clip-path=\"url(#clip110)\" style=\"stroke:#000000; stroke-width:4; stroke-opacity:1; fill:none\" points=\"\n",
       "  215.538,1423.18 2352.76,1423.18 \n",
       "  \"/>\n",
       "<polyline clip-path=\"url(#clip110)\" style=\"stroke:#000000; stroke-width:4; stroke-opacity:1; fill:none\" points=\"\n",
       "  215.538,1423.18 215.538,47.2441 \n",
       "  \"/>\n",
       "<polyline clip-path=\"url(#clip110)\" style=\"stroke:#000000; stroke-width:4; stroke-opacity:1; fill:none\" points=\"\n",
       "  273.988,1423.18 273.988,1406.67 \n",
       "  \"/>\n",
       "<polyline clip-path=\"url(#clip110)\" style=\"stroke:#000000; stroke-width:4; stroke-opacity:1; fill:none\" points=\"\n",
       "  783.141,1423.18 783.141,1406.67 \n",
       "  \"/>\n",
       "<polyline clip-path=\"url(#clip110)\" style=\"stroke:#000000; stroke-width:4; stroke-opacity:1; fill:none\" points=\"\n",
       "  1292.29,1423.18 1292.29,1406.67 \n",
       "  \"/>\n",
       "<polyline clip-path=\"url(#clip110)\" style=\"stroke:#000000; stroke-width:4; stroke-opacity:1; fill:none\" points=\"\n",
       "  1801.45,1423.18 1801.45,1406.67 \n",
       "  \"/>\n",
       "<polyline clip-path=\"url(#clip110)\" style=\"stroke:#000000; stroke-width:4; stroke-opacity:1; fill:none\" points=\"\n",
       "  2310.6,1423.18 2310.6,1406.67 \n",
       "  \"/>\n",
       "<polyline clip-path=\"url(#clip110)\" style=\"stroke:#000000; stroke-width:4; stroke-opacity:1; fill:none\" points=\"\n",
       "  215.538,1252.01 241.184,1252.01 \n",
       "  \"/>\n",
       "<polyline clip-path=\"url(#clip110)\" style=\"stroke:#000000; stroke-width:4; stroke-opacity:1; fill:none\" points=\"\n",
       "  215.538,989.029 241.184,989.029 \n",
       "  \"/>\n",
       "<polyline clip-path=\"url(#clip110)\" style=\"stroke:#000000; stroke-width:4; stroke-opacity:1; fill:none\" points=\"\n",
       "  215.538,726.047 241.184,726.047 \n",
       "  \"/>\n",
       "<polyline clip-path=\"url(#clip110)\" style=\"stroke:#000000; stroke-width:4; stroke-opacity:1; fill:none\" points=\"\n",
       "  215.538,463.066 241.184,463.066 \n",
       "  \"/>\n",
       "<polyline clip-path=\"url(#clip110)\" style=\"stroke:#000000; stroke-width:4; stroke-opacity:1; fill:none\" points=\"\n",
       "  215.538,200.085 241.184,200.085 \n",
       "  \"/>\n",
       "<path clip-path=\"url(#clip110)\" d=\"M 0 0 M273.988 1445.17 Q270.377 1445.17 268.549 1448.74 Q266.743 1452.28 266.743 1459.41 Q266.743 1466.51 268.549 1470.08 Q270.377 1473.62 273.988 1473.62 Q277.623 1473.62 279.428 1470.08 Q281.257 1466.51 281.257 1459.41 Q281.257 1452.28 279.428 1448.74 Q277.623 1445.17 273.988 1445.17 M273.988 1441.47 Q279.798 1441.47 282.854 1446.07 Q285.933 1450.66 285.933 1459.41 Q285.933 1468.13 282.854 1472.74 Q279.798 1477.32 273.988 1477.32 Q268.178 1477.32 265.099 1472.74 Q262.044 1468.13 262.044 1459.41 Q262.044 1450.66 265.099 1446.07 Q268.178 1441.47 273.988 1441.47 Z\" fill=\"#000000\" fill-rule=\"evenodd\" fill-opacity=\"1\" /><path clip-path=\"url(#clip110)\" d=\"M 0 0 M764.784 1472.72 L781.104 1472.72 L781.104 1476.65 L759.159 1476.65 L759.159 1472.72 Q761.821 1469.96 766.405 1465.33 Q771.011 1460.68 772.192 1459.34 Q774.437 1456.81 775.317 1455.08 Q776.219 1453.32 776.219 1451.63 Q776.219 1448.87 774.275 1447.14 Q772.354 1445.4 769.252 1445.4 Q767.053 1445.4 764.599 1446.17 Q762.169 1446.93 759.391 1448.48 L759.391 1443.76 Q762.215 1442.62 764.669 1442.05 Q767.122 1441.47 769.159 1441.47 Q774.53 1441.47 777.724 1444.15 Q780.919 1446.84 780.919 1451.33 Q780.919 1453.46 780.108 1455.38 Q779.321 1457.28 777.215 1459.87 Q776.636 1460.54 773.534 1463.76 Q770.432 1466.95 764.784 1472.72 Z\" fill=\"#000000\" fill-rule=\"evenodd\" fill-opacity=\"1\" /><path clip-path=\"url(#clip110)\" d=\"M 0 0 M786.219 1442.09 L804.576 1442.09 L804.576 1446.03 L790.502 1446.03 L790.502 1454.5 Q791.52 1454.15 792.539 1453.99 Q793.557 1453.8 794.576 1453.8 Q800.363 1453.8 803.742 1456.98 Q807.122 1460.15 807.122 1465.56 Q807.122 1471.14 803.65 1474.24 Q800.178 1477.32 793.858 1477.32 Q791.682 1477.32 789.414 1476.95 Q787.168 1476.58 784.761 1475.84 L784.761 1471.14 Q786.844 1472.28 789.067 1472.83 Q791.289 1473.39 793.766 1473.39 Q797.77 1473.39 800.108 1471.28 Q802.446 1469.18 802.446 1465.56 Q802.446 1461.95 800.108 1459.85 Q797.77 1457.74 793.766 1457.74 Q791.891 1457.74 790.016 1458.16 Q788.164 1458.57 786.219 1459.45 L786.219 1442.09 Z\" fill=\"#000000\" fill-rule=\"evenodd\" fill-opacity=\"1\" /><path clip-path=\"url(#clip110)\" d=\"M 0 0 M1269.06 1442.09 L1287.42 1442.09 L1287.42 1446.03 L1273.35 1446.03 L1273.35 1454.5 Q1274.37 1454.15 1275.38 1453.99 Q1276.4 1453.8 1277.42 1453.8 Q1283.21 1453.8 1286.59 1456.98 Q1289.97 1460.15 1289.97 1465.56 Q1289.97 1471.14 1286.49 1474.24 Q1283.02 1477.32 1276.7 1477.32 Q1274.53 1477.32 1272.26 1476.95 Q1270.01 1476.58 1267.61 1475.84 L1267.61 1471.14 Q1269.69 1472.28 1271.91 1472.83 Q1274.13 1473.39 1276.61 1473.39 Q1280.62 1473.39 1282.95 1471.28 Q1285.29 1469.18 1285.29 1465.56 Q1285.29 1461.95 1282.95 1459.85 Q1280.62 1457.74 1276.61 1457.74 Q1274.74 1457.74 1272.86 1458.16 Q1271.01 1458.57 1269.06 1459.45 L1269.06 1442.09 Z\" fill=\"#000000\" fill-rule=\"evenodd\" fill-opacity=\"1\" /><path clip-path=\"url(#clip110)\" d=\"M 0 0 M1305.04 1445.17 Q1301.43 1445.17 1299.6 1448.74 Q1297.79 1452.28 1297.79 1459.41 Q1297.79 1466.51 1299.6 1470.08 Q1301.43 1473.62 1305.04 1473.62 Q1308.67 1473.62 1310.48 1470.08 Q1312.3 1466.51 1312.3 1459.41 Q1312.3 1452.28 1310.48 1448.74 Q1308.67 1445.17 1305.04 1445.17 M1305.04 1441.47 Q1310.85 1441.47 1313.9 1446.07 Q1316.98 1450.66 1316.98 1459.41 Q1316.98 1468.13 1313.9 1472.74 Q1310.85 1477.32 1305.04 1477.32 Q1299.23 1477.32 1296.15 1472.74 Q1293.09 1468.13 1293.09 1459.41 Q1293.09 1450.66 1296.15 1446.07 Q1299.23 1441.47 1305.04 1441.47 Z\" fill=\"#000000\" fill-rule=\"evenodd\" fill-opacity=\"1\" /><path clip-path=\"url(#clip110)\" d=\"M 0 0 M1777.33 1442.09 L1799.55 1442.09 L1799.55 1444.08 L1787 1476.65 L1782.12 1476.65 L1793.92 1446.03 L1777.33 1446.03 L1777.33 1442.09 Z\" fill=\"#000000\" fill-rule=\"evenodd\" fill-opacity=\"1\" /><path clip-path=\"url(#clip110)\" d=\"M 0 0 M1804.66 1442.09 L1823.02 1442.09 L1823.02 1446.03 L1808.95 1446.03 L1808.95 1454.5 Q1809.96 1454.15 1810.98 1453.99 Q1812 1453.8 1813.02 1453.8 Q1818.81 1453.8 1822.19 1456.98 Q1825.57 1460.15 1825.57 1465.56 Q1825.57 1471.14 1822.09 1474.24 Q1818.62 1477.32 1812.3 1477.32 Q1810.13 1477.32 1807.86 1476.95 Q1805.61 1476.58 1803.2 1475.84 L1803.2 1471.14 Q1805.29 1472.28 1807.51 1472.83 Q1809.73 1473.39 1812.21 1473.39 Q1816.21 1473.39 1818.55 1471.28 Q1820.89 1469.18 1820.89 1465.56 Q1820.89 1461.95 1818.55 1459.85 Q1816.21 1457.74 1812.21 1457.74 Q1810.33 1457.74 1808.46 1458.16 Q1806.61 1458.57 1804.66 1459.45 L1804.66 1442.09 Z\" fill=\"#000000\" fill-rule=\"evenodd\" fill-opacity=\"1\" /><path clip-path=\"url(#clip110)\" d=\"M 0 0 M2273.97 1472.72 L2281.61 1472.72 L2281.61 1446.35 L2273.3 1448.02 L2273.3 1443.76 L2281.56 1442.09 L2286.23 1442.09 L2286.23 1472.72 L2293.87 1472.72 L2293.87 1476.65 L2273.97 1476.65 L2273.97 1472.72 Z\" fill=\"#000000\" fill-rule=\"evenodd\" fill-opacity=\"1\" /><path clip-path=\"url(#clip110)\" d=\"M 0 0 M2308.94 1445.17 Q2305.33 1445.17 2303.5 1448.74 Q2301.7 1452.28 2301.7 1459.41 Q2301.7 1466.51 2303.5 1470.08 Q2305.33 1473.62 2308.94 1473.62 Q2312.58 1473.62 2314.38 1470.08 Q2316.21 1466.51 2316.21 1459.41 Q2316.21 1452.28 2314.38 1448.74 Q2312.58 1445.17 2308.94 1445.17 M2308.94 1441.47 Q2314.75 1441.47 2317.81 1446.07 Q2320.89 1450.66 2320.89 1459.41 Q2320.89 1468.13 2317.81 1472.74 Q2314.75 1477.32 2308.94 1477.32 Q2303.13 1477.32 2300.05 1472.74 Q2297 1468.13 2297 1459.41 Q2297 1450.66 2300.05 1446.07 Q2303.13 1441.47 2308.94 1441.47 Z\" fill=\"#000000\" fill-rule=\"evenodd\" fill-opacity=\"1\" /><path clip-path=\"url(#clip110)\" d=\"M 0 0 M2335.96 1445.17 Q2332.35 1445.17 2330.52 1448.74 Q2328.71 1452.28 2328.71 1459.41 Q2328.71 1466.51 2330.52 1470.08 Q2332.35 1473.62 2335.96 1473.62 Q2339.59 1473.62 2341.4 1470.08 Q2343.23 1466.51 2343.23 1459.41 Q2343.23 1452.28 2341.4 1448.74 Q2339.59 1445.17 2335.96 1445.17 M2335.96 1441.47 Q2341.77 1441.47 2344.82 1446.07 Q2347.9 1450.66 2347.9 1459.41 Q2347.9 1468.13 2344.82 1472.74 Q2341.77 1477.32 2335.96 1477.32 Q2330.15 1477.32 2327.07 1472.74 Q2324.01 1468.13 2324.01 1459.41 Q2324.01 1450.66 2327.07 1446.07 Q2330.15 1441.47 2335.96 1441.47 Z\" fill=\"#000000\" fill-rule=\"evenodd\" fill-opacity=\"1\" /><path clip-path=\"url(#clip110)\" d=\"M 0 0 M126.631 1254.41 L139.107 1254.41 L139.107 1258.2 L126.631 1258.2 L126.631 1254.41 Z\" fill=\"#000000\" fill-rule=\"evenodd\" fill-opacity=\"1\" /><path clip-path=\"url(#clip110)\" d=\"M 0 0 M148.204 1265.35 L164.524 1265.35 L164.524 1269.29 L142.58 1269.29 L142.58 1265.35 Q145.242 1262.6 149.825 1257.97 Q154.431 1253.32 155.612 1251.98 Q157.857 1249.45 158.737 1247.72 Q159.64 1245.96 159.64 1244.27 Q159.64 1241.51 157.695 1239.78 Q155.774 1238.04 152.672 1238.04 Q150.473 1238.04 148.019 1238.8 Q145.589 1239.57 142.811 1241.12 L142.811 1236.4 Q145.635 1235.26 148.089 1234.68 Q150.542 1234.1 152.579 1234.1 Q157.95 1234.1 161.144 1236.79 Q164.339 1239.48 164.339 1243.97 Q164.339 1246.1 163.528 1248.02 Q162.741 1249.91 160.635 1252.51 Q160.056 1253.18 156.954 1256.4 Q153.853 1259.59 148.204 1265.35 Z\" fill=\"#000000\" fill-rule=\"evenodd\" fill-opacity=\"1\" /><path clip-path=\"url(#clip110)\" d=\"M 0 0 M179.593 1237.81 Q175.982 1237.81 174.153 1241.37 Q172.348 1244.92 172.348 1252.04 Q172.348 1259.15 174.153 1262.72 Q175.982 1266.26 179.593 1266.26 Q183.227 1266.26 185.033 1262.72 Q186.862 1259.15 186.862 1252.04 Q186.862 1244.92 185.033 1241.37 Q183.227 1237.81 179.593 1237.81 M179.593 1234.1 Q185.403 1234.1 188.459 1238.71 Q191.538 1243.29 191.538 1252.04 Q191.538 1260.77 188.459 1265.38 Q185.403 1269.96 179.593 1269.96 Q173.783 1269.96 170.704 1265.38 Q167.649 1260.77 167.649 1252.04 Q167.649 1243.29 170.704 1238.71 Q173.783 1234.1 179.593 1234.1 Z\" fill=\"#000000\" fill-rule=\"evenodd\" fill-opacity=\"1\" /><path clip-path=\"url(#clip110)\" d=\"M 0 0 M127.256 991.424 L139.732 991.424 L139.732 995.221 L127.256 995.221 L127.256 991.424 Z\" fill=\"#000000\" fill-rule=\"evenodd\" fill-opacity=\"1\" /><path clip-path=\"url(#clip110)\" d=\"M 0 0 M145.612 1002.37 L153.251 1002.37 L153.251 976.008 L144.941 977.675 L144.941 973.415 L153.204 971.749 L157.88 971.749 L157.88 1002.37 L165.519 1002.37 L165.519 1006.31 L145.612 1006.31 L145.612 1002.37 Z\" fill=\"#000000\" fill-rule=\"evenodd\" fill-opacity=\"1\" /><path clip-path=\"url(#clip110)\" d=\"M 0 0 M170.635 971.749 L188.991 971.749 L188.991 975.684 L174.917 975.684 L174.917 984.156 Q175.936 983.809 176.954 983.647 Q177.973 983.462 178.991 983.462 Q184.778 983.462 188.158 986.633 Q191.538 989.804 191.538 995.221 Q191.538 1000.8 188.065 1003.9 Q184.593 1006.98 178.274 1006.98 Q176.098 1006.98 173.829 1006.61 Q171.584 1006.24 169.177 1005.5 L169.177 1000.8 Q171.26 1001.93 173.482 1002.49 Q175.704 1003.04 178.181 1003.04 Q182.186 1003.04 184.524 1000.94 Q186.862 998.832 186.862 995.221 Q186.862 991.61 184.524 989.503 Q182.186 987.397 178.181 987.397 Q176.306 987.397 174.431 987.813 Q172.579 988.23 170.635 989.11 L170.635 971.749 Z\" fill=\"#000000\" fill-rule=\"evenodd\" fill-opacity=\"1\" /><path clip-path=\"url(#clip110)\" d=\"M 0 0 M126.26 728.443 L138.737 728.443 L138.737 732.24 L126.26 732.24 L126.26 728.443 Z\" fill=\"#000000\" fill-rule=\"evenodd\" fill-opacity=\"1\" /><path clip-path=\"url(#clip110)\" d=\"M 0 0 M144.617 739.392 L152.255 739.392 L152.255 713.027 L143.945 714.693 L143.945 710.434 L152.209 708.767 L156.885 708.767 L156.885 739.392 L164.524 739.392 L164.524 743.327 L144.617 743.327 L144.617 739.392 Z\" fill=\"#000000\" fill-rule=\"evenodd\" fill-opacity=\"1\" /><path clip-path=\"url(#clip110)\" d=\"M 0 0 M179.593 711.846 Q175.982 711.846 174.153 715.411 Q172.348 718.953 172.348 726.082 Q172.348 733.189 174.153 736.753 Q175.982 740.295 179.593 740.295 Q183.227 740.295 185.033 736.753 Q186.862 733.189 186.862 726.082 Q186.862 718.953 185.033 715.411 Q183.227 711.846 179.593 711.846 M179.593 708.142 Q185.403 708.142 188.459 712.749 Q191.538 717.332 191.538 726.082 Q191.538 734.809 188.459 739.415 Q185.403 743.999 179.593 743.999 Q173.783 743.999 170.704 739.415 Q167.649 734.809 167.649 726.082 Q167.649 717.332 170.704 712.749 Q173.783 708.142 179.593 708.142 Z\" fill=\"#000000\" fill-rule=\"evenodd\" fill-opacity=\"1\" /><path clip-path=\"url(#clip110)\" d=\"M 0 0 M153.042 465.462 L165.519 465.462 L165.519 469.258 L153.042 469.258 L153.042 465.462 Z\" fill=\"#000000\" fill-rule=\"evenodd\" fill-opacity=\"1\" /><path clip-path=\"url(#clip110)\" d=\"M 0 0 M170.635 445.786 L188.991 445.786 L188.991 449.721 L174.917 449.721 L174.917 458.194 Q175.936 457.846 176.954 457.684 Q177.973 457.499 178.991 457.499 Q184.778 457.499 188.158 460.67 Q191.538 463.842 191.538 469.258 Q191.538 474.837 188.065 477.939 Q184.593 481.017 178.274 481.017 Q176.098 481.017 173.829 480.647 Q171.584 480.277 169.177 479.536 L169.177 474.837 Q171.26 475.971 173.482 476.527 Q175.704 477.082 178.181 477.082 Q182.186 477.082 184.524 474.976 Q186.862 472.869 186.862 469.258 Q186.862 465.647 184.524 463.541 Q182.186 461.434 178.181 461.434 Q176.306 461.434 174.431 461.851 Q172.579 462.268 170.635 463.147 L170.635 445.786 Z\" fill=\"#000000\" fill-rule=\"evenodd\" fill-opacity=\"1\" /><path clip-path=\"url(#clip110)\" d=\"M 0 0 M179.593 185.884 Q175.982 185.884 174.153 189.448 Q172.348 192.99 172.348 200.12 Q172.348 207.226 174.153 210.791 Q175.982 214.333 179.593 214.333 Q183.227 214.333 185.033 210.791 Q186.862 207.226 186.862 200.12 Q186.862 192.99 185.033 189.448 Q183.227 185.884 179.593 185.884 M179.593 182.18 Q185.403 182.18 188.459 186.786 Q191.538 191.37 191.538 200.12 Q191.538 208.846 188.459 213.453 Q185.403 218.036 179.593 218.036 Q173.783 218.036 170.704 213.453 Q167.649 208.846 167.649 200.12 Q167.649 191.37 170.704 186.786 Q173.783 182.18 179.593 182.18 Z\" fill=\"#000000\" fill-rule=\"evenodd\" fill-opacity=\"1\" /><path clip-path=\"url(#clip110)\" d=\"M 0 0 M1229.91 1510.27 L1229.91 1520.4 L1241.97 1520.4 L1241.97 1524.95 L1229.91 1524.95 L1229.91 1544.3 Q1229.91 1548.66 1231.09 1549.9 Q1232.3 1551.14 1235.96 1551.14 L1241.97 1551.14 L1241.97 1556.04 L1235.96 1556.04 Q1229.18 1556.04 1226.6 1553.53 Q1224.02 1550.98 1224.02 1544.3 L1224.02 1524.95 L1219.73 1524.95 L1219.73 1520.4 L1224.02 1520.4 L1224.02 1510.27 L1229.91 1510.27 Z\" fill=\"#000000\" fill-rule=\"evenodd\" fill-opacity=\"1\" /><path clip-path=\"url(#clip110)\" d=\"M 0 0 M1248.12 1520.4 L1253.97 1520.4 L1253.97 1556.04 L1248.12 1556.04 L1248.12 1520.4 M1248.12 1506.52 L1253.97 1506.52 L1253.97 1513.93 L1248.12 1513.93 L1248.12 1506.52 Z\" fill=\"#000000\" fill-rule=\"evenodd\" fill-opacity=\"1\" /><path clip-path=\"url(#clip110)\" d=\"M 0 0 M1287.87 1527.24 Q1290.07 1523.29 1293.12 1521.41 Q1296.18 1519.54 1300.32 1519.54 Q1305.89 1519.54 1308.91 1523.45 Q1311.93 1527.33 1311.93 1534.53 L1311.93 1556.04 L1306.04 1556.04 L1306.04 1534.72 Q1306.04 1529.59 1304.23 1527.11 Q1302.42 1524.63 1298.69 1524.63 Q1294.14 1524.63 1291.5 1527.65 Q1288.86 1530.68 1288.86 1535.9 L1288.86 1556.04 L1282.97 1556.04 L1282.97 1534.72 Q1282.97 1529.56 1281.15 1527.11 Q1279.34 1524.63 1275.55 1524.63 Q1271.07 1524.63 1268.42 1527.68 Q1265.78 1530.71 1265.78 1535.9 L1265.78 1556.04 L1259.89 1556.04 L1259.89 1520.4 L1265.78 1520.4 L1265.78 1525.93 Q1267.79 1522.66 1270.59 1521.1 Q1273.39 1519.54 1277.24 1519.54 Q1281.12 1519.54 1283.83 1521.51 Q1286.57 1523.48 1287.87 1527.24 Z\" fill=\"#000000\" fill-rule=\"evenodd\" fill-opacity=\"1\" /><path clip-path=\"url(#clip110)\" d=\"M 0 0 M1348.57 1536.76 L1348.57 1539.62 L1321.64 1539.62 Q1322.02 1545.67 1325.27 1548.85 Q1328.55 1552 1334.37 1552 Q1337.75 1552 1340.9 1551.17 Q1344.08 1550.35 1347.2 1548.69 L1347.2 1554.23 Q1344.05 1555.57 1340.74 1556.27 Q1337.43 1556.97 1334.02 1556.97 Q1325.49 1556.97 1320.49 1552 Q1315.53 1547.04 1315.53 1538.57 Q1315.53 1529.82 1320.24 1524.69 Q1324.98 1519.54 1333 1519.54 Q1340.2 1519.54 1344.37 1524.18 Q1348.57 1528.8 1348.57 1536.76 M1342.71 1535.04 Q1342.65 1530.23 1340.01 1527.37 Q1337.4 1524.5 1333.07 1524.5 Q1328.17 1524.5 1325.21 1527.27 Q1322.28 1530.04 1321.83 1535.07 L1342.71 1535.04 Z\" fill=\"#000000\" fill-rule=\"evenodd\" fill-opacity=\"1\" /><path clip-path=\"url(#clip110)\" d=\"M 0 0 M40.4842 1022.78 L40.4842 1016.35 L82.5933 1016.35 L82.5933 993.214 L88.0042 993.214 L88.0042 1022.78 L40.4842 1022.78 Z\" fill=\"#000000\" fill-rule=\"evenodd\" fill-opacity=\"1\" /><path clip-path=\"url(#clip110)\" d=\"M 0 0 M91.3143 978.223 Q97.68 980.705 99.6216 983.061 Q101.563 985.416 101.563 989.363 L101.563 994.042 L96.6615 994.042 L96.6615 990.604 Q96.6615 988.185 95.5157 986.848 Q94.3699 985.512 90.1048 983.888 L87.4312 982.838 L52.3562 997.256 L52.3562 991.05 L80.238 979.91 L52.3562 968.77 L52.3562 962.563 L91.3143 978.223 Z\" fill=\"#000000\" fill-rule=\"evenodd\" fill-opacity=\"1\" /><path clip-path=\"url(#clip110)\" d=\"M 0 0 M70.0847 940.22 Q70.0847 947.317 71.7079 950.055 Q73.3312 952.792 77.2461 952.792 Q80.3653 952.792 82.2114 950.755 Q84.0256 948.686 84.0256 945.153 Q84.0256 940.283 80.5881 937.355 Q77.1188 934.395 71.3897 934.395 L70.0847 934.395 L70.0847 940.22 M67.6657 928.538 L88.0042 928.538 L88.0042 934.395 L82.5933 934.395 Q85.8398 936.4 87.3994 939.392 Q88.9272 942.384 88.9272 946.713 Q88.9272 952.187 85.8716 955.434 Q82.7843 958.648 77.6281 958.648 Q71.6125 958.648 68.5569 954.638 Q65.5014 950.596 65.5014 942.607 L65.5014 934.395 L64.9285 934.395 Q60.8862 934.395 58.6901 937.069 Q56.4621 939.71 56.4621 944.516 Q56.4621 947.572 57.1941 950.468 Q57.9262 953.365 59.3903 956.038 L53.9795 956.038 Q52.7381 952.824 52.1334 949.8 Q51.4968 946.776 51.4968 943.912 Q51.4968 936.177 55.5072 932.358 Q59.5176 928.538 67.6657 928.538 Z\" fill=\"#000000\" fill-rule=\"evenodd\" fill-opacity=\"1\" /><path clip-path=\"url(#clip110)\" d=\"M 0 0 M82.657 916.73 L101.563 916.73 L101.563 922.618 L52.3562 922.618 L52.3562 916.73 L57.7671 916.73 Q54.5842 914.884 53.0564 912.083 Q51.4968 909.25 51.4968 905.335 Q51.4968 898.842 56.6531 894.8 Q61.8093 890.726 70.212 890.726 Q78.6147 890.726 83.771 894.8 Q88.9272 898.842 88.9272 905.335 Q88.9272 909.25 87.3994 912.083 Q85.8398 914.884 82.657 916.73 M70.212 896.805 Q63.7508 896.805 60.0905 899.479 Q56.3984 902.121 56.3984 906.768 Q56.3984 911.415 60.0905 914.088 Q63.7508 916.73 70.212 916.73 Q76.6732 916.73 80.3653 914.088 Q84.0256 911.415 84.0256 906.768 Q84.0256 902.121 80.3653 899.479 Q76.6732 896.805 70.212 896.805 Z\" fill=\"#000000\" fill-rule=\"evenodd\" fill-opacity=\"1\" /><path clip-path=\"url(#clip110)\" d=\"M 0 0 M73.9359 885.188 L52.3562 885.188 L52.3562 879.332 L73.7131 879.332 Q78.7739 879.332 81.3202 877.358 Q83.8346 875.385 83.8346 871.438 Q83.8346 866.696 80.8109 863.958 Q77.7872 861.189 72.5673 861.189 L52.3562 861.189 L52.3562 855.333 L88.0042 855.333 L88.0042 861.189 L82.5296 861.189 Q85.7762 863.322 87.3676 866.155 Q88.9272 868.955 88.9272 872.679 Q88.9272 878.822 85.1078 882.005 Q81.2883 885.188 73.9359 885.188 M51.4968 870.451 L51.4968 870.451 Z\" fill=\"#000000\" fill-rule=\"evenodd\" fill-opacity=\"1\" /><path clip-path=\"url(#clip110)\" d=\"M 0 0 M66.4881 819.558 L88.0042 819.558 L88.0042 825.414 L66.679 825.414 Q61.6183 825.414 59.1038 827.387 Q56.5894 829.361 56.5894 833.308 Q56.5894 838.05 59.6131 840.787 Q62.6368 843.524 67.8567 843.524 L88.0042 843.524 L88.0042 849.413 L52.3562 849.413 L52.3562 843.524 L57.8944 843.524 Q54.6797 841.424 53.0883 838.591 Q51.4968 835.726 51.4968 832.003 Q51.4968 825.86 55.3163 822.709 Q59.1038 819.558 66.4881 819.558 Z\" fill=\"#000000\" fill-rule=\"evenodd\" fill-opacity=\"1\" /><path clip-path=\"url(#clip110)\" d=\"M 0 0 M56.4621 799.601 Q56.4621 804.312 60.1542 807.049 Q63.8145 809.786 70.212 809.786 Q76.6095 809.786 80.3017 807.081 Q83.9619 804.344 83.9619 799.601 Q83.9619 794.922 80.2698 792.185 Q76.5777 789.448 70.212 789.448 Q63.8781 789.448 60.186 792.185 Q56.4621 794.922 56.4621 799.601 M51.4968 799.601 Q51.4968 791.962 56.4621 787.602 Q61.4273 783.241 70.212 783.241 Q78.9649 783.241 83.9619 787.602 Q88.9272 791.962 88.9272 799.601 Q88.9272 807.272 83.9619 811.632 Q78.9649 815.961 70.212 815.961 Q61.4273 815.961 56.4621 811.632 Q51.4968 807.272 51.4968 799.601 Z\" fill=\"#000000\" fill-rule=\"evenodd\" fill-opacity=\"1\" /><path clip-path=\"url(#clip110)\" d=\"M 0 0 M52.3562 781.3 L52.3562 775.093 L82.275 763.953 L52.3562 752.813 L52.3562 746.607 L88.0042 759.975 L88.0042 767.932 L52.3562 781.3 Z\" fill=\"#000000\" fill-rule=\"evenodd\" fill-opacity=\"1\" /><path clip-path=\"url(#clip110)\" d=\"M 0 0 M68.7161 689.252 L71.5806 689.252 L71.5806 716.179 Q77.6281 715.797 80.8109 712.55 Q83.9619 709.272 83.9619 703.447 Q83.9619 700.073 83.1344 696.922 Q82.3069 693.739 80.6518 690.62 L86.1899 690.62 Q87.5267 693.771 88.227 697.081 Q88.9272 700.392 88.9272 703.797 Q88.9272 712.327 83.9619 717.324 Q78.9967 722.29 70.5303 722.29 Q61.7774 722.29 56.6531 717.579 Q51.4968 712.837 51.4968 704.816 Q51.4968 697.622 56.1438 693.453 Q60.7589 689.252 68.7161 689.252 M66.9973 695.108 Q62.1912 695.172 59.3266 697.813 Q56.4621 700.423 56.4621 704.752 Q56.4621 709.654 59.2312 712.614 Q62.0002 715.542 67.0292 715.988 L66.9973 695.108 Z\" fill=\"#000000\" fill-rule=\"evenodd\" fill-opacity=\"1\" /><path clip-path=\"url(#clip110)\" d=\"M 0 0 M52.3562 654.622 L69.7028 667.513 L88.0042 653.954 L88.0042 660.861 L73.9996 671.237 L88.0042 681.613 L88.0042 688.52 L69.3526 674.674 L52.3562 687.342 L52.3562 680.435 L65.0558 670.982 L52.3562 661.529 L52.3562 654.622 Z\" fill=\"#000000\" fill-rule=\"evenodd\" fill-opacity=\"1\" /><path clip-path=\"url(#clip110)\" d=\"M 0 0 M82.657 642.145 L101.563 642.145 L101.563 648.034 L52.3562 648.034 L52.3562 642.145 L57.7671 642.145 Q54.5842 640.299 53.0564 637.498 Q51.4968 634.666 51.4968 630.751 Q51.4968 624.258 56.6531 620.215 Q61.8093 616.141 70.212 616.141 Q78.6147 616.141 83.771 620.215 Q88.9272 624.258 88.9272 630.751 Q88.9272 634.666 87.3994 637.498 Q85.8398 640.299 82.657 642.145 M70.212 622.221 Q63.7508 622.221 60.0905 624.894 Q56.3984 627.536 56.3984 632.183 Q56.3984 636.83 60.0905 639.504 Q63.7508 642.145 70.212 642.145 Q76.6732 642.145 80.3653 639.504 Q84.0256 636.83 84.0256 632.183 Q84.0256 627.536 80.3653 624.894 Q76.6732 622.221 70.212 622.221 Z\" fill=\"#000000\" fill-rule=\"evenodd\" fill-opacity=\"1\" /><path clip-path=\"url(#clip110)\" d=\"M 0 0 M56.4621 596.185 Q56.4621 600.896 60.1542 603.633 Q63.8145 606.37 70.212 606.37 Q76.6095 606.37 80.3017 603.665 Q83.9619 600.927 83.9619 596.185 Q83.9619 591.506 80.2698 588.769 Q76.5777 586.032 70.212 586.032 Q63.8781 586.032 60.186 588.769 Q56.4621 591.506 56.4621 596.185 M51.4968 596.185 Q51.4968 588.546 56.4621 584.186 Q61.4273 579.825 70.212 579.825 Q78.9649 579.825 83.9619 584.186 Q88.9272 588.546 88.9272 596.185 Q88.9272 603.856 83.9619 608.216 Q78.9649 612.545 70.212 612.545 Q61.4273 612.545 56.4621 608.216 Q51.4968 603.856 51.4968 596.185 Z\" fill=\"#000000\" fill-rule=\"evenodd\" fill-opacity=\"1\" /><path clip-path=\"url(#clip110)\" d=\"M 0 0 M66.4881 544.05 L88.0042 544.05 L88.0042 549.906 L66.679 549.906 Q61.6183 549.906 59.1038 551.88 Q56.5894 553.853 56.5894 557.8 Q56.5894 562.542 59.6131 565.279 Q62.6368 568.017 67.8567 568.017 L88.0042 568.017 L88.0042 573.905 L52.3562 573.905 L52.3562 568.017 L57.8944 568.017 Q54.6797 565.916 53.0883 563.083 Q51.4968 560.219 51.4968 556.495 Q51.4968 550.352 55.3163 547.201 Q59.1038 544.05 66.4881 544.05 Z\" fill=\"#000000\" fill-rule=\"evenodd\" fill-opacity=\"1\" /><path clip-path=\"url(#clip110)\" d=\"M 0 0 M68.7161 507.415 L71.5806 507.415 L71.5806 534.342 Q77.6281 533.96 80.8109 530.714 Q83.9619 527.435 83.9619 521.611 Q83.9619 518.237 83.1344 515.086 Q82.3069 511.903 80.6518 508.784 L86.1899 508.784 Q87.5267 511.935 88.227 515.245 Q88.9272 518.555 88.9272 521.961 Q88.9272 530.491 83.9619 535.488 Q78.9967 540.453 70.5303 540.453 Q61.7774 540.453 56.6531 535.743 Q51.4968 531 51.4968 522.979 Q51.4968 515.786 56.1438 511.617 Q60.7589 507.415 68.7161 507.415 M66.9973 513.272 Q62.1912 513.335 59.3266 515.977 Q56.4621 518.587 56.4621 522.916 Q56.4621 527.817 59.2312 530.777 Q62.0002 533.706 67.0292 534.151 L66.9973 513.272 Z\" fill=\"#000000\" fill-rule=\"evenodd\" fill-opacity=\"1\" /><path clip-path=\"url(#clip110)\" d=\"M 0 0 M66.4881 471.64 L88.0042 471.64 L88.0042 477.496 L66.679 477.496 Q61.6183 477.496 59.1038 479.47 Q56.5894 481.443 56.5894 485.39 Q56.5894 490.132 59.6131 492.87 Q62.6368 495.607 67.8567 495.607 L88.0042 495.607 L88.0042 501.495 L52.3562 501.495 L52.3562 495.607 L57.8944 495.607 Q54.6797 493.506 53.0883 490.673 Q51.4968 487.809 51.4968 484.085 Q51.4968 477.942 55.3163 474.791 Q59.1038 471.64 66.4881 471.64 Z\" fill=\"#000000\" fill-rule=\"evenodd\" fill-opacity=\"1\" /><path clip-path=\"url(#clip110)\" d=\"M 0 0 M42.2347 459.704 L52.3562 459.704 L52.3562 447.641 L56.9077 447.641 L56.9077 459.704 L76.2594 459.704 Q80.6199 459.704 81.8613 458.527 Q83.1026 457.317 83.1026 453.657 L83.1026 447.641 L88.0042 447.641 L88.0042 453.657 Q88.0042 460.436 85.4897 463.014 Q82.9434 465.592 76.2594 465.592 L56.9077 465.592 L56.9077 469.889 L52.3562 469.889 L52.3562 465.592 L42.2347 465.592 L42.2347 459.704 Z\" fill=\"#000000\" fill-rule=\"evenodd\" fill-opacity=\"1\" /><polyline clip-path=\"url(#clip112)\" style=\"stroke:#009af9; stroke-width:4; stroke-opacity:1; fill:none\" points=\"\n",
       "  276.025,200.085 296.391,138.489 316.757,133.835 337.123,86.1857 357.489,122.719 377.855,126.937 398.221,123.452 418.588,124.522 438.954,116.733 459.32,121.643 \n",
       "  479.686,118.644 500.052,123.719 520.418,122.602 540.784,120.522 561.15,123.224 581.516,117.708 601.882,120.571 622.249,123.617 642.615,120.461 662.981,115.768 \n",
       "  683.347,121.036 703.713,122.208 724.079,122.917 744.445,122.664 764.811,119.795 785.177,121.533 805.543,120.866 825.91,118.932 846.276,122.331 866.642,119.726 \n",
       "  887.008,121.11 907.374,118.902 927.74,119.615 948.106,121.479 968.472,120.56 988.838,117.851 1009.2,118.63 1029.57,119.026 1049.94,119.952 1070.3,120.78 \n",
       "  1090.67,121.126 1111.03,119.734 1131.4,120.762 1151.77,119.332 1172.13,120.772 1192.5,119.391 1212.87,120.397 1233.23,120.3 1253.6,120.141 1273.96,120.151 \n",
       "  1294.33,119.474 1314.7,120.283 1335.06,118.812 1355.43,120.186 1375.79,118.564 1396.16,120.282 1416.53,118.48 1436.89,119.792 1457.26,120.318 1477.62,119.664 \n",
       "  1497.99,120.556 1518.36,119.982 1538.72,119.622 1559.09,120.582 1579.46,120.419 1599.82,117.209 1620.19,120.197 1640.55,119.548 1660.92,120.058 1681.29,120.397 \n",
       "  1701.65,120.924 1722.02,119.831 1742.38,119.956 1762.75,120.639 1783.12,120.434 1803.48,118.998 1823.85,119.43 1844.21,119.796 1864.58,120.536 1884.95,117.569 \n",
       "  1905.31,119.811 1925.68,120.092 1946.04,120.361 1966.41,120.818 1986.78,120.82 2007.14,120.596 2027.51,118.882 2047.88,119.986 2068.24,119.942 2088.61,120.068 \n",
       "  2108.97,119.924 2129.34,120.821 2149.71,120.603 2170.07,120.501 2190.44,119.807 2210.8,120.326 2231.17,120.689 2251.54,120.505 2271.9,118.864 2292.27,120.345 \n",
       "  \n",
       "  \"/>\n",
       "<polyline clip-path=\"url(#clip112)\" style=\"stroke:#e26f46; stroke-width:4; stroke-opacity:1; fill:none\" points=\"\n",
       "  276.025,200.085 296.391,308.761 316.757,253.82 337.123,256.87 357.489,226.586 377.855,223.521 398.221,218.808 418.588,217.662 438.954,214.217 459.32,209.815 \n",
       "  479.686,212.873 500.052,210.518 520.418,210.729 540.784,207.612 561.15,205.827 581.516,209.152 601.882,207.518 622.249,204.48 642.615,206.29 662.981,208.962 \n",
       "  683.347,205.238 703.713,205.4 724.079,204.276 744.445,204.251 764.811,204.861 785.177,203.581 805.543,203.831 825.91,205.216 846.276,203.062 866.642,204.193 \n",
       "  887.008,202.725 907.374,204.211 927.74,204.219 948.106,202.902 968.472,203.555 988.838,204.454 1009.2,203.841 1029.57,203.599 1049.94,203.403 1070.3,201.793 \n",
       "  1090.67,201.233 1111.03,203.336 1131.4,202.762 1151.77,202.46 1172.13,201.314 1192.5,202.529 1212.87,202.463 1233.23,202.441 1253.6,202.453 1273.96,201.78 \n",
       "  1294.33,201.982 1314.7,201.623 1335.06,202.631 1355.43,202.019 1375.79,202.903 1396.16,202.084 1416.53,202.599 1436.89,201.863 1457.26,202.023 1477.62,202.396 \n",
       "  1497.99,201.87 1518.36,201.412 1538.72,202.047 1559.09,201.653 1579.46,201.795 1599.82,202.549 1620.19,201.311 1640.55,201.967 1660.92,201.571 1681.29,201.754 \n",
       "  1701.65,201.25 1722.02,201.808 1742.38,201.769 1762.75,201.248 1783.12,201.403 1803.48,201.926 1823.85,201.826 1844.21,201.732 1864.58,201.074 1884.95,202.217 \n",
       "  1905.31,201.789 1925.68,201.311 1946.04,201.075 1966.41,200.952 1986.78,200.871 2007.14,201.22 2027.51,201.738 2047.88,201.34 2068.24,201.385 2088.61,201.225 \n",
       "  2108.97,201.63 2129.34,201.08 2149.71,201.171 2170.07,200.824 2190.44,201.426 2210.8,200.931 2231.17,200.871 2251.54,201.147 2271.9,201.621 2292.27,200.785 \n",
       "  \n",
       "  \"/>\n",
       "<polyline clip-path=\"url(#clip112)\" style=\"stroke:#3da44d; stroke-width:4; stroke-opacity:1; fill:none\" points=\"\n",
       "  276.025,200.085 296.391,1164.45 316.757,1251.23 337.123,1325.1 357.489,1354.92 377.855,1331.22 398.221,1361.97 418.588,1341.85 438.954,1373.31 459.32,1357.28 \n",
       "  479.686,1360.57 500.052,1370.05 520.418,1360.41 540.784,1376.09 561.15,1366.67 581.516,1369.99 601.882,1376.08 622.249,1369.24 642.615,1377.41 662.981,1379.41 \n",
       "  683.347,1371.57 703.713,1376.56 724.079,1371.79 744.445,1371.89 764.811,1379.46 785.177,1374.56 805.543,1375.1 825.91,1379.95 846.276,1374.26 866.642,1375.08 \n",
       "  887.008,1380.25 907.374,1380.95 927.74,1375.76 948.106,1379.69 968.472,1379.94 988.838,1377.68 1009.2,1381.57 1029.57,1381.41 1049.94,1377.02 1070.3,1381.47 \n",
       "  1090.67,1378.18 1111.03,1380.99 1131.4,1377.88 1151.77,1382.28 1172.13,1381.99 1192.5,1379.5 1212.87,1381.2 1233.23,1381.31 1253.6,1381.45 1273.96,1382.11 \n",
       "  1294.33,1382.58 1314.7,1379.78 1335.06,1379.79 1355.43,1381.82 1375.79,1382.55 1396.16,1379.32 1416.53,1382.95 1436.89,1380.29 1457.26,1381.7 1477.62,1381.99 \n",
       "  1497.99,1379.73 1518.36,1382.65 1538.72,1380.3 1559.09,1381.81 1579.46,1379.86 1599.82,1382.46 1620.19,1382.53 1640.55,1380.4 1660.92,1380.61 1681.29,1381.9 \n",
       "  1701.65,1380.15 1722.02,1382.4 1742.38,1380.7 1762.75,1382.15 1783.12,1380.63 1803.48,1381.24 1823.85,1382.78 1844.21,1380.62 1864.58,1380.84 1884.95,1384.24 \n",
       "  1905.31,1380.78 1925.68,1382.63 1946.04,1381.19 1966.41,1382.26 1986.78,1382.34 2007.14,1380.75 2027.51,1381.85 2047.88,1382.7 2068.24,1382.7 2088.61,1381.45 \n",
       "  2108.97,1382.47 2129.34,1380.8 2149.71,1380.97 2170.07,1382.7 2190.44,1381.24 2210.8,1381.52 2231.17,1382.46 2251.54,1381.07 2271.9,1382.15 2292.27,1382.88 \n",
       "  \n",
       "  \"/>\n",
       "<path clip-path=\"url(#clip110)\" d=\"\n",
       "M1989.16 372.684 L2280.76 372.684 L2280.76 130.764 L1989.16 130.764  Z\n",
       "  \" fill=\"#ffffff\" fill-rule=\"evenodd\" fill-opacity=\"1\"/>\n",
       "<polyline clip-path=\"url(#clip110)\" style=\"stroke:#000000; stroke-width:4; stroke-opacity:1; fill:none\" points=\"\n",
       "  1989.16,372.684 2280.76,372.684 2280.76,130.764 1989.16,130.764 1989.16,372.684 \n",
       "  \"/>\n",
       "<polyline clip-path=\"url(#clip110)\" style=\"stroke:#009af9; stroke-width:4; stroke-opacity:1; fill:none\" points=\"\n",
       "  2013.16,191.244 2157.16,191.244 \n",
       "  \"/>\n",
       "<path clip-path=\"url(#clip110)\" d=\"M 0 0 M2195 210.931 Q2193.2 215.561 2191.48 216.973 Q2189.77 218.385 2186.9 218.385 L2183.5 218.385 L2183.5 214.82 L2186 214.82 Q2187.76 214.82 2188.73 213.987 Q2189.7 213.154 2190.88 210.052 L2191.65 208.107 L2181.16 182.598 L2185.67 182.598 L2193.77 202.876 L2201.88 182.598 L2206.39 182.598 L2195 210.931 Z\" fill=\"#000000\" fill-rule=\"evenodd\" fill-opacity=\"1\" /><path clip-path=\"url(#clip110)\" d=\"M 0 0 M2212.27 204.589 L2219.91 204.589 L2219.91 178.223 L2211.6 179.89 L2211.6 175.631 L2219.86 173.964 L2224.54 173.964 L2224.54 204.589 L2232.18 204.589 L2232.18 208.524 L2212.27 208.524 L2212.27 204.589 Z\" fill=\"#000000\" fill-rule=\"evenodd\" fill-opacity=\"1\" /><polyline clip-path=\"url(#clip110)\" style=\"stroke:#e26f46; stroke-width:4; stroke-opacity:1; fill:none\" points=\"\n",
       "  2013.16,251.724 2157.16,251.724 \n",
       "  \"/>\n",
       "<path clip-path=\"url(#clip110)\" d=\"M 0 0 M2195 271.411 Q2193.2 276.041 2191.48 277.453 Q2189.77 278.865 2186.9 278.865 L2183.5 278.865 L2183.5 275.3 L2186 275.3 Q2187.76 275.3 2188.73 274.467 Q2189.7 273.634 2190.88 270.532 L2191.65 268.587 L2181.16 243.078 L2185.67 243.078 L2193.77 263.356 L2201.88 243.078 L2206.39 243.078 L2195 271.411 Z\" fill=\"#000000\" fill-rule=\"evenodd\" fill-opacity=\"1\" /><path clip-path=\"url(#clip110)\" d=\"M 0 0 M2215.49 265.069 L2231.81 265.069 L2231.81 269.004 L2209.86 269.004 L2209.86 265.069 Q2212.52 262.314 2217.11 257.685 Q2221.71 253.032 2222.89 251.689 Q2225.14 249.166 2226.02 247.43 Q2226.92 245.671 2226.92 243.981 Q2226.92 241.226 2224.98 239.49 Q2223.06 237.754 2219.96 237.754 Q2217.76 237.754 2215.3 238.518 Q2212.87 239.282 2210.09 240.833 L2210.09 236.111 Q2212.92 234.976 2215.37 234.398 Q2217.83 233.819 2219.86 233.819 Q2225.23 233.819 2228.43 236.504 Q2231.62 239.189 2231.62 243.68 Q2231.62 245.81 2230.81 247.731 Q2230.02 249.629 2227.92 252.222 Q2227.34 252.893 2224.24 256.111 Q2221.14 259.305 2215.49 265.069 Z\" fill=\"#000000\" fill-rule=\"evenodd\" fill-opacity=\"1\" /><polyline clip-path=\"url(#clip110)\" style=\"stroke:#3da44d; stroke-width:4; stroke-opacity:1; fill:none\" points=\"\n",
       "  2013.16,312.204 2157.16,312.204 \n",
       "  \"/>\n",
       "<path clip-path=\"url(#clip110)\" d=\"M 0 0 M2195 331.891 Q2193.2 336.521 2191.48 337.933 Q2189.77 339.345 2186.9 339.345 L2183.5 339.345 L2183.5 335.78 L2186 335.78 Q2187.76 335.78 2188.73 334.947 Q2189.7 334.114 2190.88 331.012 L2191.65 329.067 L2181.16 303.558 L2185.67 303.558 L2193.77 323.836 L2201.88 303.558 L2206.39 303.558 L2195 331.891 Z\" fill=\"#000000\" fill-rule=\"evenodd\" fill-opacity=\"1\" /><path clip-path=\"url(#clip110)\" d=\"M 0 0 M2225.63 310.85 Q2228.98 311.568 2230.86 313.836 Q2232.76 316.105 2232.76 319.438 Q2232.76 324.554 2229.24 327.354 Q2225.72 330.155 2219.24 330.155 Q2217.06 330.155 2214.75 329.716 Q2212.46 329.299 2210 328.442 L2210 323.929 Q2211.95 325.063 2214.26 325.642 Q2216.58 326.22 2219.1 326.22 Q2223.5 326.22 2225.79 324.484 Q2228.1 322.748 2228.1 319.438 Q2228.1 316.382 2225.95 314.669 Q2223.82 312.933 2220 312.933 L2215.97 312.933 L2215.97 309.091 L2220.19 309.091 Q2223.64 309.091 2225.46 307.725 Q2227.29 306.336 2227.29 303.743 Q2227.29 301.081 2225.39 299.669 Q2223.52 298.234 2220 298.234 Q2218.08 298.234 2215.88 298.651 Q2213.68 299.068 2211.04 299.947 L2211.04 295.781 Q2213.71 295.04 2216.02 294.669 Q2218.36 294.299 2220.42 294.299 Q2225.74 294.299 2228.84 296.73 Q2231.95 299.137 2231.95 303.257 Q2231.95 306.128 2230.3 308.118 Q2228.66 310.086 2225.63 310.85 Z\" fill=\"#000000\" fill-rule=\"evenodd\" fill-opacity=\"1\" /></svg>\n"
      ]
     },
     "execution_count": 19,
     "metadata": {},
     "output_type": "execute_result"
    }
   ],
   "source": [
    "@time let\n",
    "    u0 = [19.,20.,50.]\n",
    "    p = [16.,45.92,4]\n",
    "    \n",
    "    # the setup is the same as in the tangent integrator we defined before\n",
    "    rng = MersenneTwister(42)\n",
    "    w0 = rand(rng, length(u0), length(u0))\n",
    "    w0 = Array(qr(w0).Q)\n",
    "    \n",
    "    f! = lorenz!\n",
    "    jac! = lorenz_jac!\n",
    "    \n",
    "    J = zeros(size(w0))\n",
    "    \n",
    "    function F!(du,u,p,t)\n",
    "        uv = @view u[:, 1]\n",
    "        f!(view(du,:,1),uv ,p,t)\n",
    "        jac!(J, uv,p,t)\n",
    "        mul!((@view du[:, 2:end]), J, (@view u[:, 2:end]))\n",
    "    end\n",
    "    \n",
    "    # define and initial value problem of the variational equations\n",
    "    # with initial value hcat(u0, w0) and the parameters p.\n",
    "    # (0, Inf) sets the time span.\n",
    "    ode_problem = ODEProblem(F!, hcat(u0, w0), (0., Inf), p)\n",
    "    \n",
    "    # define the integrator object similar to what we implemented earlier\n",
    "    #\n",
    "    # Tsit5 is an adaptive 5/4 Runge-Kutta method with efficient interpolation\n",
    "    # between timesteps.\n",
    "    #\n",
    "    # The estimated error just needs to be calculated for the solution of the actual\n",
    "    # system, not the tangent space\n",
    "    integrator = init(ode_problem, Tsit5(); norm=_tannorm, save_everystep = false)\n",
    "\n",
    "    dt = 0.1\n",
    "    t_max = 100\n",
    "    lse = lyap_qr_time_series(integrator, t_max, dt; \n",
    "        t_pre_iter=0, \n",
    "        t_save=t_max/100,\n",
    "        t_renormalize=dt,\n",
    "        lyapunov_count=length(u0)\n",
    "    )\n",
    "    \n",
    "    @show lse.lyapunov[:,end]\n",
    "    plot(lse)\n",
    "end"
   ]
  },
  {
   "cell_type": "markdown",
   "metadata": {},
   "source": [
    "### Utilizing symbolic and auto-differentiation"
   ]
  },
  {
   "cell_type": "markdown",
   "metadata": {},
   "source": [
    "Once we defined an ordinary differential equation $\\frac{d}{dt}x=f(x,t)$, its tangent space $Df$ is defined as well. So, if we could teach our program how to differentiate, there would be no need to define the Jacobian by hand. \n",
    "\n",
    "Additionally, imagine that our ODE is stiff. Then we need implicit methods to efficiently solve it (for a long time). Most stiff methods require access to the Jacobian of the variational equations. Let us think about defining the Jacobian of the Lorenz system by hand. The Lorenz system is 3-dimension, so its Jacobian is 9-dimensional and hence the variational equations are 9-dimension as well. The Jacobian of the variational equations now has 9x9=81 dimensions. So the Jacobian of the variational equations of a 3-dimensional system is already 81-dimensional. We really, do not want define this by hand, especially for higher dimensional systems.\n",
    "\n",
    "Luckily, nearly all of Julias numerical functions are compatible with auto-differentiation. Try to change the explicit algorithm `Tsit5()` to an implicit one, e.g. `Rosenbrock23()`. The solver tries to auto-differentiate the code\n",
    "```\n",
    "J = zeros(size(w0))\n",
    "    \n",
    "function F!(du,u,p,t)\n",
    "    uv = @view u[:, 1]\n",
    "    f!(view(du,:,1),uv ,p,t)\n",
    "    jac!(J, uv,p,t)\n",
    "    mul!((@view du[:, 2:end]), J, (@view u[:, 2:end]))\n",
    "end\n",
    "```\n",
    "But it will fail because the cache `J`, as we implemented it, is not compatible with dual numbers, the underlying mathematical framework of auto-differention. We could do the following:\n",
    " - calculate the Jacobian with auto-differentiation and make the cache compatible with dual numbers\n",
    " - calculate the Jacobian and the Jacobian of the variational equations symbolically\n",
    "\n",
    "We will choose the second approach as it is less technical and more flexible."
   ]
  },
  {
   "cell_type": "code",
   "execution_count": 20,
   "metadata": {},
   "outputs": [],
   "source": [
    "using ModelingToolkit"
   ]
  },
  {
   "cell_type": "markdown",
   "metadata": {},
   "source": [
    "First we define the right hand side of the Lorenz system symbolically in the language of `ModelingTolkit`."
   ]
  },
  {
   "cell_type": "code",
   "execution_count": 21,
   "metadata": {},
   "outputs": [
    {
     "data": {
      "text/plain": [
       "3-element Array{Operation,1}:\n",
       "         σ * (x₂(t) - x₁(t))\n",
       " x₁(t) * (ρ - x₃(t)) - x₂(t)\n",
       "   x₁(t) * x₂(t) - β * x₃(t)"
      ]
     },
     "execution_count": 21,
     "metadata": {},
     "output_type": "execute_result"
    }
   ],
   "source": [
    "# define parameters used in our ODE\n",
    "@parameters t \n",
    "@parameters σ ρ β\n",
    "\n",
    "# define our variables\n",
    "@variables x[1:3](t)\n",
    "\n",
    "# define the time derivative\n",
    "@derivatives dt'~t\n",
    "\n",
    "lorenz = [\n",
    "        σ*(x[2]-x[1]),\n",
    "        x[1]*(ρ-x[3])-x[2],\n",
    "        x[1]*x[2] - β*x[3]\n",
    "    ]"
   ]
  },
  {
   "cell_type": "markdown",
   "metadata": {},
   "source": [
    "Then we symbolically calculate the Jacobian of the Lorenz system."
   ]
  },
  {
   "cell_type": "code",
   "execution_count": 22,
   "metadata": {},
   "outputs": [
    {
     "data": {
      "text/plain": [
       "3×3 Array{Expression,2}:\n",
       "            -1σ             σ  Constant(0)\n",
       " -1 * x₃(t) + ρ  Constant(-1)   -1 * x₁(t)\n",
       "          x₂(t)         x₁(t)          -1β"
      ]
     },
     "execution_count": 22,
     "metadata": {},
     "output_type": "execute_result"
    }
   ],
   "source": [
    "# define the variables\n",
    "@variables w[1:3,1:3](t)\n",
    "lorenz_jac = expand_derivatives.(calculate_jacobian(lorenz, x))"
   ]
  },
  {
   "cell_type": "markdown",
   "metadata": {},
   "source": [
    "We can check that the symbolically calculated Jacobian of the Lorenz system is indeed coincides with the one we defined at the beginning of this notebook by hand."
   ]
  },
  {
   "cell_type": "code",
   "execution_count": 23,
   "metadata": {},
   "outputs": [],
   "source": [
    "# TODO"
   ]
  },
  {
   "cell_type": "markdown",
   "metadata": {},
   "source": [
    "Now we define the right hand side of the variational equations "
   ]
  },
  {
   "cell_type": "code",
   "execution_count": 24,
   "metadata": {},
   "outputs": [
    {
     "data": {
      "text/plain": [
       "12-element Array{Operation,1}:\n",
       "                                             σ * (x₂(t) + -1 * x₁(t))\n",
       "                                     x₁(t) * (-1 * x₃(t) + ρ) - x₂(t)\n",
       "                                            x₁(t) * x₂(t) - x₃(t) * β\n",
       "                        ((-1σ) * w₁ˏ₁(t) + σ * w₂ˏ₁(t)) + 0 * w₃ˏ₁(t)\n",
       " ((-1 * x₃(t) + ρ) * w₁ˏ₁(t) + -1 * w₂ˏ₁(t)) + (-1 * x₁(t)) * w₃ˏ₁(t)\n",
       "                (x₂(t) * w₁ˏ₁(t) + x₁(t) * w₂ˏ₁(t)) + (-1β) * w₃ˏ₁(t)\n",
       "                        ((-1σ) * w₁ˏ₂(t) + σ * w₂ˏ₂(t)) + 0 * w₃ˏ₂(t)\n",
       " ((-1 * x₃(t) + ρ) * w₁ˏ₂(t) + -1 * w₂ˏ₂(t)) + (-1 * x₁(t)) * w₃ˏ₂(t)\n",
       "                (x₂(t) * w₁ˏ₂(t) + x₁(t) * w₂ˏ₂(t)) + (-1β) * w₃ˏ₂(t)\n",
       "                        ((-1σ) * w₁ˏ₃(t) + σ * w₂ˏ₃(t)) + 0 * w₃ˏ₃(t)\n",
       " ((-1 * x₃(t) + ρ) * w₁ˏ₃(t) + -1 * w₂ˏ₃(t)) + (-1 * x₁(t)) * w₃ˏ₃(t)\n",
       "                (x₂(t) * w₁ˏ₃(t) + x₁(t) * w₂ˏ₃(t)) + (-1β) * w₃ˏ₃(t)"
      ]
     },
     "execution_count": 24,
     "metadata": {},
     "output_type": "execute_result"
    }
   ],
   "source": [
    "lorenz_tangent = let\n",
    "    # define the tangent system, i.e. Leorentz system + its jacobian\n",
    "    # This is the rhs we want to evolve\n",
    "    vcat(lorenz..., lorenz_jac*w...) # note the *w\n",
    "end"
   ]
  },
  {
   "cell_type": "markdown",
   "metadata": {},
   "source": [
    "and define the variational equations"
   ]
  },
  {
   "cell_type": "code",
   "execution_count": 25,
   "metadata": {},
   "outputs": [
    {
     "data": {
      "text/plain": [
       "12-element Array{Equation,1}:\n",
       " Equation(derivative(x₁(t), t), σ * (x₂(t) + -1 * x₁(t)))\n",
       " Equation(derivative(x₂(t), t), x₁(t) * (-1 * x₃(t) + ρ) - x₂(t))\n",
       " Equation(derivative(x₃(t), t), x₁(t) * x₂(t) - x₃(t) * β)\n",
       " Equation(derivative(w₁ˏ₁(t), t), ((-1σ) * w₁ˏ₁(t) + σ * w₂ˏ₁(t)) + 0 * w₃ˏ₁(t))\n",
       " Equation(derivative(w₂ˏ₁(t), t), ((-1 * x₃(t) + ρ) * w₁ˏ₁(t) + -1 * w₂ˏ₁(t)) + (-1 * x₁(t)) * w₃ˏ₁(t))\n",
       " Equation(derivative(w₃ˏ₁(t), t), (x₂(t) * w₁ˏ₁(t) + x₁(t) * w₂ˏ₁(t)) + (-1β) * w₃ˏ₁(t))\n",
       " Equation(derivative(w₁ˏ₂(t), t), ((-1σ) * w₁ˏ₂(t) + σ * w₂ˏ₂(t)) + 0 * w₃ˏ₂(t))\n",
       " Equation(derivative(w₂ˏ₂(t), t), ((-1 * x₃(t) + ρ) * w₁ˏ₂(t) + -1 * w₂ˏ₂(t)) + (-1 * x₁(t)) * w₃ˏ₂(t))\n",
       " Equation(derivative(w₃ˏ₂(t), t), (x₂(t) * w₁ˏ₂(t) + x₁(t) * w₂ˏ₂(t)) + (-1β) * w₃ˏ₂(t))\n",
       " Equation(derivative(w₁ˏ₃(t), t), ((-1σ) * w₁ˏ₃(t) + σ * w₂ˏ₃(t)) + 0 * w₃ˏ₃(t))\n",
       " Equation(derivative(w₂ˏ₃(t), t), ((-1 * x₃(t) + ρ) * w₁ˏ₃(t) + -1 * w₂ˏ₃(t)) + (-1 * x₁(t)) * w₃ˏ₃(t))\n",
       " Equation(derivative(w₃ˏ₃(t), t), (x₂(t) * w₁ˏ₃(t) + x₁(t) * w₂ˏ₃(t)) + (-1β) * w₃ˏ₃(t))"
      ]
     },
     "execution_count": 25,
     "metadata": {},
     "output_type": "execute_result"
    }
   ],
   "source": [
    "y = vcat(x..., w...)\n",
    "@assert length(y) == length(lorenz_tangent)\n",
    "\n",
    "variational_equations = Equation[]\n",
    "for i in 1:length(y)\n",
    "    push!(variational_equations, dt(y[i]) ~ lorenz_tangent[i])\n",
    "end\n",
    "variational_equations"
   ]
  },
  {
   "cell_type": "markdown",
   "metadata": {},
   "source": [
    "Next, we define our initial values and parameters as before. Then we need to compile the variational equations into Julia functions and define the corresponding `ODEProblem`. Then we proceed as before to define the integrator object."
   ]
  },
  {
   "cell_type": "code",
   "execution_count": 26,
   "metadata": {},
   "outputs": [
    {
     "name": "stdout",
     "output_type": "stream",
     "text": [
      " 17.206971 seconds (31.65 M allocations: 1.549 GiB, 2.51% gc time)\n"
     ]
    },
    {
     "data": {
      "text/plain": [
       "t: 0.0\n",
       "u: 3×4 Array{Float64,2}:\n",
       " 19.0  -0.761116    0.368551   0.533734\n",
       " 20.0  -0.648124   -0.400116  -0.647952\n",
       " 50.0  -0.0252479  -0.839093   0.543402"
      ]
     },
     "execution_count": 26,
     "metadata": {},
     "output_type": "execute_result"
    }
   ],
   "source": [
    "@time modeling_toolkit_integrator = let\n",
    "    u0 = [19.,20.,50.]\n",
    "    p = [16.,45.92,4]\n",
    "    \n",
    "    # the setup is the same as in the tangent integrator we defined before\n",
    "    rng = MersenneTwister(42)\n",
    "    w0 = rand(rng, length(u0), length(u0))\n",
    "    w0 = Array(qr(w0).Q)\n",
    "    \n",
    "    # define an ODESystem and an ODEFunction\n",
    "    ode_system = ODESystem(variational_equations)\n",
    "    ode_function = ODEFunction(ode_system, y, [σ, ρ, β]; jac=true)\n",
    "\n",
    "    # define the ODEProblem with parameters\n",
    "    ode_problem = ODEProblem(ode_function, hcat(u0, w0), (0., Inf), p)\n",
    "    \n",
    "    # create the integrator\n",
    "    integrator = init(ode_problem, Rosenbrock23(); norm=_tannorm, save_everystep = false) \n",
    "    \n",
    "end"
   ]
  },
  {
   "cell_type": "markdown",
   "metadata": {},
   "source": [
    "By setting `jac=false` in the `ODEFunction` call, the Jacobian of the variational system would be calculated via auto-differentiation, if the solver algorithm relies on it. This is possible because the cache handling is now done by `ODEFunction`, which is compatible with dual numbers."
   ]
  },
  {
   "cell_type": "markdown",
   "metadata": {},
   "source": [
    "Now we have our integrator object and can finally call the function calculating the Lyapunov timeseries.  "
   ]
  },
  {
   "cell_type": "code",
   "execution_count": 27,
   "metadata": {},
   "outputs": [
    {
     "name": "stdout",
     "output_type": "stream",
     "text": [
      "lse.lyapunov[:, end] = [1.4880146206090141, -0.22626019769684472, -22.124219328828115]\n",
      "  1.966174 seconds (830.21 k allocations: 36.124 MiB)\n"
     ]
    },
    {
     "data": {
      "image/svg+xml": [
       "<?xml version=\"1.0\" encoding=\"utf-8\"?>\n",
       "<svg xmlns=\"http://www.w3.org/2000/svg\" xmlns:xlink=\"http://www.w3.org/1999/xlink\" width=\"600\" height=\"400\" viewBox=\"0 0 2400 1600\">\n",
       "<defs>\n",
       "  <clipPath id=\"clip150\">\n",
       "    <rect x=\"0\" y=\"0\" width=\"2400\" height=\"1600\"/>\n",
       "  </clipPath>\n",
       "</defs>\n",
       "<path clip-path=\"url(#clip150)\" d=\"\n",
       "M0 1600 L2400 1600 L2400 0 L0 0  Z\n",
       "  \" fill=\"#ffffff\" fill-rule=\"evenodd\" fill-opacity=\"1\"/>\n",
       "<defs>\n",
       "  <clipPath id=\"clip151\">\n",
       "    <rect x=\"480\" y=\"0\" width=\"1681\" height=\"1600\"/>\n",
       "  </clipPath>\n",
       "</defs>\n",
       "<path clip-path=\"url(#clip150)\" d=\"\n",
       "M215.538 1423.18 L2352.76 1423.18 L2352.76 47.2441 L215.538 47.2441  Z\n",
       "  \" fill=\"#ffffff\" fill-rule=\"evenodd\" fill-opacity=\"1\"/>\n",
       "<defs>\n",
       "  <clipPath id=\"clip152\">\n",
       "    <rect x=\"215\" y=\"47\" width=\"2138\" height=\"1377\"/>\n",
       "  </clipPath>\n",
       "</defs>\n",
       "<polyline clip-path=\"url(#clip152)\" style=\"stroke:#000000; stroke-width:2; stroke-opacity:0.1; fill:none\" points=\"\n",
       "  255.659,1423.18 255.659,47.2441 \n",
       "  \"/>\n",
       "<polyline clip-path=\"url(#clip152)\" style=\"stroke:#000000; stroke-width:2; stroke-opacity:0.1; fill:none\" points=\"\n",
       "  764.811,1423.18 764.811,47.2441 \n",
       "  \"/>\n",
       "<polyline clip-path=\"url(#clip152)\" style=\"stroke:#000000; stroke-width:2; stroke-opacity:0.1; fill:none\" points=\"\n",
       "  1273.96,1423.18 1273.96,47.2441 \n",
       "  \"/>\n",
       "<polyline clip-path=\"url(#clip152)\" style=\"stroke:#000000; stroke-width:2; stroke-opacity:0.1; fill:none\" points=\"\n",
       "  1783.12,1423.18 1783.12,47.2441 \n",
       "  \"/>\n",
       "<polyline clip-path=\"url(#clip152)\" style=\"stroke:#000000; stroke-width:2; stroke-opacity:0.1; fill:none\" points=\"\n",
       "  2292.27,1423.18 2292.27,47.2441 \n",
       "  \"/>\n",
       "<polyline clip-path=\"url(#clip152)\" style=\"stroke:#000000; stroke-width:2; stroke-opacity:0.1; fill:none\" points=\"\n",
       "  215.538,1252.18 2352.76,1252.18 \n",
       "  \"/>\n",
       "<polyline clip-path=\"url(#clip152)\" style=\"stroke:#000000; stroke-width:2; stroke-opacity:0.1; fill:none\" points=\"\n",
       "  215.538,993.208 2352.76,993.208 \n",
       "  \"/>\n",
       "<polyline clip-path=\"url(#clip152)\" style=\"stroke:#000000; stroke-width:2; stroke-opacity:0.1; fill:none\" points=\"\n",
       "  215.538,734.238 2352.76,734.238 \n",
       "  \"/>\n",
       "<polyline clip-path=\"url(#clip152)\" style=\"stroke:#000000; stroke-width:2; stroke-opacity:0.1; fill:none\" points=\"\n",
       "  215.538,475.268 2352.76,475.268 \n",
       "  \"/>\n",
       "<polyline clip-path=\"url(#clip152)\" style=\"stroke:#000000; stroke-width:2; stroke-opacity:0.1; fill:none\" points=\"\n",
       "  215.538,216.298 2352.76,216.298 \n",
       "  \"/>\n",
       "<polyline clip-path=\"url(#clip150)\" style=\"stroke:#000000; stroke-width:4; stroke-opacity:1; fill:none\" points=\"\n",
       "  215.538,1423.18 2352.76,1423.18 \n",
       "  \"/>\n",
       "<polyline clip-path=\"url(#clip150)\" style=\"stroke:#000000; stroke-width:4; stroke-opacity:1; fill:none\" points=\"\n",
       "  215.538,1423.18 215.538,47.2441 \n",
       "  \"/>\n",
       "<polyline clip-path=\"url(#clip150)\" style=\"stroke:#000000; stroke-width:4; stroke-opacity:1; fill:none\" points=\"\n",
       "  255.659,1423.18 255.659,1406.67 \n",
       "  \"/>\n",
       "<polyline clip-path=\"url(#clip150)\" style=\"stroke:#000000; stroke-width:4; stroke-opacity:1; fill:none\" points=\"\n",
       "  764.811,1423.18 764.811,1406.67 \n",
       "  \"/>\n",
       "<polyline clip-path=\"url(#clip150)\" style=\"stroke:#000000; stroke-width:4; stroke-opacity:1; fill:none\" points=\"\n",
       "  1273.96,1423.18 1273.96,1406.67 \n",
       "  \"/>\n",
       "<polyline clip-path=\"url(#clip150)\" style=\"stroke:#000000; stroke-width:4; stroke-opacity:1; fill:none\" points=\"\n",
       "  1783.12,1423.18 1783.12,1406.67 \n",
       "  \"/>\n",
       "<polyline clip-path=\"url(#clip150)\" style=\"stroke:#000000; stroke-width:4; stroke-opacity:1; fill:none\" points=\"\n",
       "  2292.27,1423.18 2292.27,1406.67 \n",
       "  \"/>\n",
       "<polyline clip-path=\"url(#clip150)\" style=\"stroke:#000000; stroke-width:4; stroke-opacity:1; fill:none\" points=\"\n",
       "  215.538,1252.18 241.184,1252.18 \n",
       "  \"/>\n",
       "<polyline clip-path=\"url(#clip150)\" style=\"stroke:#000000; stroke-width:4; stroke-opacity:1; fill:none\" points=\"\n",
       "  215.538,993.208 241.184,993.208 \n",
       "  \"/>\n",
       "<polyline clip-path=\"url(#clip150)\" style=\"stroke:#000000; stroke-width:4; stroke-opacity:1; fill:none\" points=\"\n",
       "  215.538,734.238 241.184,734.238 \n",
       "  \"/>\n",
       "<polyline clip-path=\"url(#clip150)\" style=\"stroke:#000000; stroke-width:4; stroke-opacity:1; fill:none\" points=\"\n",
       "  215.538,475.268 241.184,475.268 \n",
       "  \"/>\n",
       "<polyline clip-path=\"url(#clip150)\" style=\"stroke:#000000; stroke-width:4; stroke-opacity:1; fill:none\" points=\"\n",
       "  215.538,216.298 241.184,216.298 \n",
       "  \"/>\n",
       "<path clip-path=\"url(#clip150)\" d=\"M 0 0 M237.175 1445.17 Q233.564 1445.17 231.735 1448.74 Q229.93 1452.28 229.93 1459.41 Q229.93 1466.51 231.735 1470.08 Q233.564 1473.62 237.175 1473.62 Q240.809 1473.62 242.615 1470.08 Q244.444 1466.51 244.444 1459.41 Q244.444 1452.28 242.615 1448.74 Q240.809 1445.17 237.175 1445.17 M237.175 1441.47 Q242.985 1441.47 246.041 1446.07 Q249.119 1450.66 249.119 1459.41 Q249.119 1468.13 246.041 1472.74 Q242.985 1477.32 237.175 1477.32 Q231.365 1477.32 228.286 1472.74 Q225.231 1468.13 225.231 1459.41 Q225.231 1450.66 228.286 1446.07 Q231.365 1441.47 237.175 1441.47 Z\" fill=\"#000000\" fill-rule=\"evenodd\" fill-opacity=\"1\" /><path clip-path=\"url(#clip150)\" d=\"M 0 0 M254.189 1470.77 L259.073 1470.77 L259.073 1476.65 L254.189 1476.65 L254.189 1470.77 Z\" fill=\"#000000\" fill-rule=\"evenodd\" fill-opacity=\"1\" /><path clip-path=\"url(#clip150)\" d=\"M 0 0 M274.142 1445.17 Q270.531 1445.17 268.703 1448.74 Q266.897 1452.28 266.897 1459.41 Q266.897 1466.51 268.703 1470.08 Q270.531 1473.62 274.142 1473.62 Q277.777 1473.62 279.582 1470.08 Q281.411 1466.51 281.411 1459.41 Q281.411 1452.28 279.582 1448.74 Q277.777 1445.17 274.142 1445.17 M274.142 1441.47 Q279.953 1441.47 283.008 1446.07 Q286.087 1450.66 286.087 1459.41 Q286.087 1468.13 283.008 1472.74 Q279.953 1477.32 274.142 1477.32 Q268.332 1477.32 265.254 1472.74 Q262.198 1468.13 262.198 1459.41 Q262.198 1450.66 265.254 1446.07 Q268.332 1441.47 274.142 1441.47 Z\" fill=\"#000000\" fill-rule=\"evenodd\" fill-opacity=\"1\" /><path clip-path=\"url(#clip150)\" d=\"M 0 0 M741.478 1472.72 L757.797 1472.72 L757.797 1476.65 L735.853 1476.65 L735.853 1472.72 Q738.515 1469.96 743.098 1465.33 Q747.705 1460.68 748.885 1459.34 Q751.131 1456.81 752.01 1455.08 Q752.913 1453.32 752.913 1451.63 Q752.913 1448.87 750.969 1447.14 Q749.047 1445.4 745.946 1445.4 Q743.747 1445.4 741.293 1446.17 Q738.862 1446.93 736.085 1448.48 L736.085 1443.76 Q738.909 1442.62 741.362 1442.05 Q743.816 1441.47 745.853 1441.47 Q751.223 1441.47 754.418 1444.15 Q757.612 1446.84 757.612 1451.33 Q757.612 1453.46 756.802 1455.38 Q756.015 1457.28 753.909 1459.87 Q753.33 1460.54 750.228 1463.76 Q747.126 1466.95 741.478 1472.72 Z\" fill=\"#000000\" fill-rule=\"evenodd\" fill-opacity=\"1\" /><path clip-path=\"url(#clip150)\" d=\"M 0 0 M762.867 1470.77 L767.751 1470.77 L767.751 1476.65 L762.867 1476.65 L762.867 1470.77 Z\" fill=\"#000000\" fill-rule=\"evenodd\" fill-opacity=\"1\" /><path clip-path=\"url(#clip150)\" d=\"M 0 0 M772.867 1442.09 L791.223 1442.09 L791.223 1446.03 L777.149 1446.03 L777.149 1454.5 Q778.168 1454.15 779.186 1453.99 Q780.205 1453.8 781.223 1453.8 Q787.01 1453.8 790.39 1456.98 Q793.769 1460.15 793.769 1465.56 Q793.769 1471.14 790.297 1474.24 Q786.825 1477.32 780.506 1477.32 Q778.33 1477.32 776.061 1476.95 Q773.816 1476.58 771.408 1475.84 L771.408 1471.14 Q773.492 1472.28 775.714 1472.83 Q777.936 1473.39 780.413 1473.39 Q784.418 1473.39 786.756 1471.28 Q789.094 1469.18 789.094 1465.56 Q789.094 1461.95 786.756 1459.85 Q784.418 1457.74 780.413 1457.74 Q778.538 1457.74 776.663 1458.16 Q774.811 1458.57 772.867 1459.45 L772.867 1442.09 Z\" fill=\"#000000\" fill-rule=\"evenodd\" fill-opacity=\"1\" /><path clip-path=\"url(#clip150)\" d=\"M 0 0 M1245.76 1442.09 L1264.11 1442.09 L1264.11 1446.03 L1250.04 1446.03 L1250.04 1454.5 Q1251.06 1454.15 1252.08 1453.99 Q1253.1 1453.8 1254.11 1453.8 Q1259.9 1453.8 1263.28 1456.98 Q1266.66 1460.15 1266.66 1465.56 Q1266.66 1471.14 1263.19 1474.24 Q1259.72 1477.32 1253.4 1477.32 Q1251.22 1477.32 1248.95 1476.95 Q1246.71 1476.58 1244.3 1475.84 L1244.3 1471.14 Q1246.38 1472.28 1248.61 1472.83 Q1250.83 1473.39 1253.3 1473.39 Q1257.31 1473.39 1259.65 1471.28 Q1261.98 1469.18 1261.98 1465.56 Q1261.98 1461.95 1259.65 1459.85 Q1257.31 1457.74 1253.3 1457.74 Q1251.43 1457.74 1249.55 1458.16 Q1247.7 1458.57 1245.76 1459.45 L1245.76 1442.09 Z\" fill=\"#000000\" fill-rule=\"evenodd\" fill-opacity=\"1\" /><path clip-path=\"url(#clip150)\" d=\"M 0 0 M1271.73 1470.77 L1276.61 1470.77 L1276.61 1476.65 L1271.73 1476.65 L1271.73 1470.77 Z\" fill=\"#000000\" fill-rule=\"evenodd\" fill-opacity=\"1\" /><path clip-path=\"url(#clip150)\" d=\"M 0 0 M1291.68 1445.17 Q1288.07 1445.17 1286.24 1448.74 Q1284.44 1452.28 1284.44 1459.41 Q1284.44 1466.51 1286.24 1470.08 Q1288.07 1473.62 1291.68 1473.62 Q1295.32 1473.62 1297.12 1470.08 Q1298.95 1466.51 1298.95 1459.41 Q1298.95 1452.28 1297.12 1448.74 Q1295.32 1445.17 1291.68 1445.17 M1291.68 1441.47 Q1297.49 1441.47 1300.55 1446.07 Q1303.63 1450.66 1303.63 1459.41 Q1303.63 1468.13 1300.55 1472.74 Q1297.49 1477.32 1291.68 1477.32 Q1285.87 1477.32 1282.79 1472.74 Q1279.74 1468.13 1279.74 1459.41 Q1279.74 1450.66 1282.79 1446.07 Q1285.87 1441.47 1291.68 1441.47 Z\" fill=\"#000000\" fill-rule=\"evenodd\" fill-opacity=\"1\" /><path clip-path=\"url(#clip150)\" d=\"M 0 0 M1754.02 1442.09 L1776.24 1442.09 L1776.24 1444.08 L1763.69 1476.65 L1758.81 1476.65 L1770.62 1446.03 L1754.02 1446.03 L1754.02 1442.09 Z\" fill=\"#000000\" fill-rule=\"evenodd\" fill-opacity=\"1\" /><path clip-path=\"url(#clip150)\" d=\"M 0 0 M1781.31 1470.77 L1786.19 1470.77 L1786.19 1476.65 L1781.31 1476.65 L1781.31 1470.77 Z\" fill=\"#000000\" fill-rule=\"evenodd\" fill-opacity=\"1\" /><path clip-path=\"url(#clip150)\" d=\"M 0 0 M1791.31 1442.09 L1809.67 1442.09 L1809.67 1446.03 L1795.59 1446.03 L1795.59 1454.5 Q1796.61 1454.15 1797.63 1453.99 Q1798.65 1453.8 1799.67 1453.8 Q1805.45 1453.8 1808.83 1456.98 Q1812.21 1460.15 1812.21 1465.56 Q1812.21 1471.14 1808.74 1474.24 Q1805.27 1477.32 1798.95 1477.32 Q1796.77 1477.32 1794.5 1476.95 Q1792.26 1476.58 1789.85 1475.84 L1789.85 1471.14 Q1791.94 1472.28 1794.16 1472.83 Q1796.38 1473.39 1798.86 1473.39 Q1802.86 1473.39 1805.2 1471.28 Q1807.54 1469.18 1807.54 1465.56 Q1807.54 1461.95 1805.2 1459.85 Q1802.86 1457.74 1798.86 1457.74 Q1796.98 1457.74 1795.11 1458.16 Q1793.25 1458.57 1791.31 1459.45 L1791.31 1442.09 Z\" fill=\"#000000\" fill-rule=\"evenodd\" fill-opacity=\"1\" /><path clip-path=\"url(#clip150)\" d=\"M 0 0 M2250.66 1472.72 L2258.3 1472.72 L2258.3 1446.35 L2249.99 1448.02 L2249.99 1443.76 L2258.25 1442.09 L2262.93 1442.09 L2262.93 1472.72 L2270.57 1472.72 L2270.57 1476.65 L2250.66 1476.65 L2250.66 1472.72 Z\" fill=\"#000000\" fill-rule=\"evenodd\" fill-opacity=\"1\" /><path clip-path=\"url(#clip150)\" d=\"M 0 0 M2285.64 1445.17 Q2282.03 1445.17 2280.2 1448.74 Q2278.39 1452.28 2278.39 1459.41 Q2278.39 1466.51 2280.2 1470.08 Q2282.03 1473.62 2285.64 1473.62 Q2289.27 1473.62 2291.08 1470.08 Q2292.91 1466.51 2292.91 1459.41 Q2292.91 1452.28 2291.08 1448.74 Q2289.27 1445.17 2285.64 1445.17 M2285.64 1441.47 Q2291.45 1441.47 2294.5 1446.07 Q2297.58 1450.66 2297.58 1459.41 Q2297.58 1468.13 2294.5 1472.74 Q2291.45 1477.32 2285.64 1477.32 Q2279.83 1477.32 2276.75 1472.74 Q2273.69 1468.13 2273.69 1459.41 Q2273.69 1450.66 2276.75 1446.07 Q2279.83 1441.47 2285.64 1441.47 Z\" fill=\"#000000\" fill-rule=\"evenodd\" fill-opacity=\"1\" /><path clip-path=\"url(#clip150)\" d=\"M 0 0 M2302.65 1470.77 L2307.53 1470.77 L2307.53 1476.65 L2302.65 1476.65 L2302.65 1470.77 Z\" fill=\"#000000\" fill-rule=\"evenodd\" fill-opacity=\"1\" /><path clip-path=\"url(#clip150)\" d=\"M 0 0 M2322.6 1445.17 Q2318.99 1445.17 2317.16 1448.74 Q2315.36 1452.28 2315.36 1459.41 Q2315.36 1466.51 2317.16 1470.08 Q2318.99 1473.62 2322.6 1473.62 Q2326.24 1473.62 2328.04 1470.08 Q2329.87 1466.51 2329.87 1459.41 Q2329.87 1452.28 2328.04 1448.74 Q2326.24 1445.17 2322.6 1445.17 M2322.6 1441.47 Q2328.41 1441.47 2331.47 1446.07 Q2334.55 1450.66 2334.55 1459.41 Q2334.55 1468.13 2331.47 1472.74 Q2328.41 1477.32 2322.6 1477.32 Q2316.79 1477.32 2313.72 1472.74 Q2310.66 1468.13 2310.66 1459.41 Q2310.66 1450.66 2313.72 1446.07 Q2316.79 1441.47 2322.6 1441.47 Z\" fill=\"#000000\" fill-rule=\"evenodd\" fill-opacity=\"1\" /><path clip-path=\"url(#clip150)\" d=\"M 0 0 M126.631 1254.57 L139.107 1254.57 L139.107 1258.37 L126.631 1258.37 L126.631 1254.57 Z\" fill=\"#000000\" fill-rule=\"evenodd\" fill-opacity=\"1\" /><path clip-path=\"url(#clip150)\" d=\"M 0 0 M148.204 1265.52 L164.524 1265.52 L164.524 1269.46 L142.58 1269.46 L142.58 1265.52 Q145.242 1262.77 149.825 1258.14 Q154.431 1253.49 155.612 1252.14 Q157.857 1249.62 158.737 1247.88 Q159.64 1246.12 159.64 1244.43 Q159.64 1241.68 157.695 1239.94 Q155.774 1238.21 152.672 1238.21 Q150.473 1238.21 148.019 1238.97 Q145.589 1239.74 142.811 1241.29 L142.811 1236.56 Q145.635 1235.43 148.089 1234.85 Q150.542 1234.27 152.579 1234.27 Q157.95 1234.27 161.144 1236.96 Q164.339 1239.64 164.339 1244.13 Q164.339 1246.26 163.528 1248.18 Q162.741 1250.08 160.635 1252.68 Q160.056 1253.35 156.954 1256.56 Q153.853 1259.76 148.204 1265.52 Z\" fill=\"#000000\" fill-rule=\"evenodd\" fill-opacity=\"1\" /><path clip-path=\"url(#clip150)\" d=\"M 0 0 M179.593 1237.98 Q175.982 1237.98 174.153 1241.54 Q172.348 1245.08 172.348 1252.21 Q172.348 1259.32 174.153 1262.88 Q175.982 1266.43 179.593 1266.43 Q183.227 1266.43 185.033 1262.88 Q186.862 1259.32 186.862 1252.21 Q186.862 1245.08 185.033 1241.54 Q183.227 1237.98 179.593 1237.98 M179.593 1234.27 Q185.403 1234.27 188.459 1238.88 Q191.538 1243.46 191.538 1252.21 Q191.538 1260.94 188.459 1265.55 Q185.403 1270.13 179.593 1270.13 Q173.783 1270.13 170.704 1265.55 Q167.649 1260.94 167.649 1252.21 Q167.649 1243.46 170.704 1238.88 Q173.783 1234.27 179.593 1234.27 Z\" fill=\"#000000\" fill-rule=\"evenodd\" fill-opacity=\"1\" /><path clip-path=\"url(#clip150)\" d=\"M 0 0 M127.256 995.604 L139.732 995.604 L139.732 999.4 L127.256 999.4 L127.256 995.604 Z\" fill=\"#000000\" fill-rule=\"evenodd\" fill-opacity=\"1\" /><path clip-path=\"url(#clip150)\" d=\"M 0 0 M145.612 1006.55 L153.251 1006.55 L153.251 980.187 L144.941 981.854 L144.941 977.595 L153.204 975.928 L157.88 975.928 L157.88 1006.55 L165.519 1006.55 L165.519 1010.49 L145.612 1010.49 L145.612 1006.55 Z\" fill=\"#000000\" fill-rule=\"evenodd\" fill-opacity=\"1\" /><path clip-path=\"url(#clip150)\" d=\"M 0 0 M170.635 975.928 L188.991 975.928 L188.991 979.863 L174.917 979.863 L174.917 988.335 Q175.936 987.988 176.954 987.826 Q177.973 987.641 178.991 987.641 Q184.778 987.641 188.158 990.812 Q191.538 993.983 191.538 999.4 Q191.538 1004.98 188.065 1008.08 Q184.593 1011.16 178.274 1011.16 Q176.098 1011.16 173.829 1010.79 Q171.584 1010.42 169.177 1009.68 L169.177 1004.98 Q171.26 1006.11 173.482 1006.67 Q175.704 1007.22 178.181 1007.22 Q182.186 1007.22 184.524 1005.12 Q186.862 1003.01 186.862 999.4 Q186.862 995.789 184.524 993.682 Q182.186 991.576 178.181 991.576 Q176.306 991.576 174.431 991.993 Q172.579 992.409 170.635 993.289 L170.635 975.928 Z\" fill=\"#000000\" fill-rule=\"evenodd\" fill-opacity=\"1\" /><path clip-path=\"url(#clip150)\" d=\"M 0 0 M126.26 736.634 L138.737 736.634 L138.737 740.43 L126.26 740.43 L126.26 736.634 Z\" fill=\"#000000\" fill-rule=\"evenodd\" fill-opacity=\"1\" /><path clip-path=\"url(#clip150)\" d=\"M 0 0 M144.617 747.583 L152.255 747.583 L152.255 721.217 L143.945 722.884 L143.945 718.625 L152.209 716.958 L156.885 716.958 L156.885 747.583 L164.524 747.583 L164.524 751.518 L144.617 751.518 L144.617 747.583 Z\" fill=\"#000000\" fill-rule=\"evenodd\" fill-opacity=\"1\" /><path clip-path=\"url(#clip150)\" d=\"M 0 0 M179.593 720.037 Q175.982 720.037 174.153 723.602 Q172.348 727.143 172.348 734.273 Q172.348 741.379 174.153 744.944 Q175.982 748.486 179.593 748.486 Q183.227 748.486 185.033 744.944 Q186.862 741.379 186.862 734.273 Q186.862 727.143 185.033 723.602 Q183.227 720.037 179.593 720.037 M179.593 716.333 Q185.403 716.333 188.459 720.939 Q191.538 725.523 191.538 734.273 Q191.538 743 188.459 747.606 Q185.403 752.189 179.593 752.189 Q173.783 752.189 170.704 747.606 Q167.649 743 167.649 734.273 Q167.649 725.523 170.704 720.939 Q173.783 716.333 179.593 716.333 Z\" fill=\"#000000\" fill-rule=\"evenodd\" fill-opacity=\"1\" /><path clip-path=\"url(#clip150)\" d=\"M 0 0 M153.042 477.664 L165.519 477.664 L165.519 481.46 L153.042 481.46 L153.042 477.664 Z\" fill=\"#000000\" fill-rule=\"evenodd\" fill-opacity=\"1\" /><path clip-path=\"url(#clip150)\" d=\"M 0 0 M170.635 457.988 L188.991 457.988 L188.991 461.923 L174.917 461.923 L174.917 470.395 Q175.936 470.048 176.954 469.886 Q177.973 469.701 178.991 469.701 Q184.778 469.701 188.158 472.872 Q191.538 476.044 191.538 481.46 Q191.538 487.039 188.065 490.141 Q184.593 493.219 178.274 493.219 Q176.098 493.219 173.829 492.849 Q171.584 492.479 169.177 491.738 L169.177 487.039 Q171.26 488.173 173.482 488.729 Q175.704 489.284 178.181 489.284 Q182.186 489.284 184.524 487.178 Q186.862 485.071 186.862 481.46 Q186.862 477.849 184.524 475.743 Q182.186 473.636 178.181 473.636 Q176.306 473.636 174.431 474.053 Q172.579 474.47 170.635 475.349 L170.635 457.988 Z\" fill=\"#000000\" fill-rule=\"evenodd\" fill-opacity=\"1\" /><path clip-path=\"url(#clip150)\" d=\"M 0 0 M179.593 202.097 Q175.982 202.097 174.153 205.662 Q172.348 209.203 172.348 216.333 Q172.348 223.439 174.153 227.004 Q175.982 230.546 179.593 230.546 Q183.227 230.546 185.033 227.004 Q186.862 223.439 186.862 216.333 Q186.862 209.203 185.033 205.662 Q183.227 202.097 179.593 202.097 M179.593 198.393 Q185.403 198.393 188.459 203 Q191.538 207.583 191.538 216.333 Q191.538 225.06 188.459 229.666 Q185.403 234.25 179.593 234.25 Q173.783 234.25 170.704 229.666 Q167.649 225.06 167.649 216.333 Q167.649 207.583 170.704 203 Q173.783 198.393 179.593 198.393 Z\" fill=\"#000000\" fill-rule=\"evenodd\" fill-opacity=\"1\" /><path clip-path=\"url(#clip150)\" d=\"M 0 0 M1229.91 1510.27 L1229.91 1520.4 L1241.97 1520.4 L1241.97 1524.95 L1229.91 1524.95 L1229.91 1544.3 Q1229.91 1548.66 1231.09 1549.9 Q1232.3 1551.14 1235.96 1551.14 L1241.97 1551.14 L1241.97 1556.04 L1235.96 1556.04 Q1229.18 1556.04 1226.6 1553.53 Q1224.02 1550.98 1224.02 1544.3 L1224.02 1524.95 L1219.73 1524.95 L1219.73 1520.4 L1224.02 1520.4 L1224.02 1510.27 L1229.91 1510.27 Z\" fill=\"#000000\" fill-rule=\"evenodd\" fill-opacity=\"1\" /><path clip-path=\"url(#clip150)\" d=\"M 0 0 M1248.12 1520.4 L1253.97 1520.4 L1253.97 1556.04 L1248.12 1556.04 L1248.12 1520.4 M1248.12 1506.52 L1253.97 1506.52 L1253.97 1513.93 L1248.12 1513.93 L1248.12 1506.52 Z\" fill=\"#000000\" fill-rule=\"evenodd\" fill-opacity=\"1\" /><path clip-path=\"url(#clip150)\" d=\"M 0 0 M1287.87 1527.24 Q1290.07 1523.29 1293.12 1521.41 Q1296.18 1519.54 1300.32 1519.54 Q1305.89 1519.54 1308.91 1523.45 Q1311.93 1527.33 1311.93 1534.53 L1311.93 1556.04 L1306.04 1556.04 L1306.04 1534.72 Q1306.04 1529.59 1304.23 1527.11 Q1302.42 1524.63 1298.69 1524.63 Q1294.14 1524.63 1291.5 1527.65 Q1288.86 1530.68 1288.86 1535.9 L1288.86 1556.04 L1282.97 1556.04 L1282.97 1534.72 Q1282.97 1529.56 1281.15 1527.11 Q1279.34 1524.63 1275.55 1524.63 Q1271.07 1524.63 1268.42 1527.68 Q1265.78 1530.71 1265.78 1535.9 L1265.78 1556.04 L1259.89 1556.04 L1259.89 1520.4 L1265.78 1520.4 L1265.78 1525.93 Q1267.79 1522.66 1270.59 1521.1 Q1273.39 1519.54 1277.24 1519.54 Q1281.12 1519.54 1283.83 1521.51 Q1286.57 1523.48 1287.87 1527.24 Z\" fill=\"#000000\" fill-rule=\"evenodd\" fill-opacity=\"1\" /><path clip-path=\"url(#clip150)\" d=\"M 0 0 M1348.57 1536.76 L1348.57 1539.62 L1321.64 1539.62 Q1322.02 1545.67 1325.27 1548.85 Q1328.55 1552 1334.37 1552 Q1337.75 1552 1340.9 1551.17 Q1344.08 1550.35 1347.2 1548.69 L1347.2 1554.23 Q1344.05 1555.57 1340.74 1556.27 Q1337.43 1556.97 1334.02 1556.97 Q1325.49 1556.97 1320.49 1552 Q1315.53 1547.04 1315.53 1538.57 Q1315.53 1529.82 1320.24 1524.69 Q1324.98 1519.54 1333 1519.54 Q1340.2 1519.54 1344.37 1524.18 Q1348.57 1528.8 1348.57 1536.76 M1342.71 1535.04 Q1342.65 1530.23 1340.01 1527.37 Q1337.4 1524.5 1333.07 1524.5 Q1328.17 1524.5 1325.21 1527.27 Q1322.28 1530.04 1321.83 1535.07 L1342.71 1535.04 Z\" fill=\"#000000\" fill-rule=\"evenodd\" fill-opacity=\"1\" /><path clip-path=\"url(#clip150)\" d=\"M 0 0 M40.4842 1022.78 L40.4842 1016.35 L82.5933 1016.35 L82.5933 993.214 L88.0042 993.214 L88.0042 1022.78 L40.4842 1022.78 Z\" fill=\"#000000\" fill-rule=\"evenodd\" fill-opacity=\"1\" /><path clip-path=\"url(#clip150)\" d=\"M 0 0 M91.3143 978.223 Q97.68 980.705 99.6216 983.061 Q101.563 985.416 101.563 989.363 L101.563 994.042 L96.6615 994.042 L96.6615 990.604 Q96.6615 988.185 95.5157 986.848 Q94.3699 985.512 90.1048 983.888 L87.4312 982.838 L52.3562 997.256 L52.3562 991.05 L80.238 979.91 L52.3562 968.77 L52.3562 962.563 L91.3143 978.223 Z\" fill=\"#000000\" fill-rule=\"evenodd\" fill-opacity=\"1\" /><path clip-path=\"url(#clip150)\" d=\"M 0 0 M70.0847 940.22 Q70.0847 947.317 71.7079 950.055 Q73.3312 952.792 77.2461 952.792 Q80.3653 952.792 82.2114 950.755 Q84.0256 948.686 84.0256 945.153 Q84.0256 940.283 80.5881 937.355 Q77.1188 934.395 71.3897 934.395 L70.0847 934.395 L70.0847 940.22 M67.6657 928.538 L88.0042 928.538 L88.0042 934.395 L82.5933 934.395 Q85.8398 936.4 87.3994 939.392 Q88.9272 942.384 88.9272 946.713 Q88.9272 952.187 85.8716 955.434 Q82.7843 958.648 77.6281 958.648 Q71.6125 958.648 68.5569 954.638 Q65.5014 950.596 65.5014 942.607 L65.5014 934.395 L64.9285 934.395 Q60.8862 934.395 58.6901 937.069 Q56.4621 939.71 56.4621 944.516 Q56.4621 947.572 57.1941 950.468 Q57.9262 953.365 59.3903 956.038 L53.9795 956.038 Q52.7381 952.824 52.1334 949.8 Q51.4968 946.776 51.4968 943.912 Q51.4968 936.177 55.5072 932.358 Q59.5176 928.538 67.6657 928.538 Z\" fill=\"#000000\" fill-rule=\"evenodd\" fill-opacity=\"1\" /><path clip-path=\"url(#clip150)\" d=\"M 0 0 M82.657 916.73 L101.563 916.73 L101.563 922.618 L52.3562 922.618 L52.3562 916.73 L57.7671 916.73 Q54.5842 914.884 53.0564 912.083 Q51.4968 909.25 51.4968 905.335 Q51.4968 898.842 56.6531 894.8 Q61.8093 890.726 70.212 890.726 Q78.6147 890.726 83.771 894.8 Q88.9272 898.842 88.9272 905.335 Q88.9272 909.25 87.3994 912.083 Q85.8398 914.884 82.657 916.73 M70.212 896.805 Q63.7508 896.805 60.0905 899.479 Q56.3984 902.121 56.3984 906.768 Q56.3984 911.415 60.0905 914.088 Q63.7508 916.73 70.212 916.73 Q76.6732 916.73 80.3653 914.088 Q84.0256 911.415 84.0256 906.768 Q84.0256 902.121 80.3653 899.479 Q76.6732 896.805 70.212 896.805 Z\" fill=\"#000000\" fill-rule=\"evenodd\" fill-opacity=\"1\" /><path clip-path=\"url(#clip150)\" d=\"M 0 0 M73.9359 885.188 L52.3562 885.188 L52.3562 879.332 L73.7131 879.332 Q78.7739 879.332 81.3202 877.358 Q83.8346 875.385 83.8346 871.438 Q83.8346 866.696 80.8109 863.958 Q77.7872 861.189 72.5673 861.189 L52.3562 861.189 L52.3562 855.333 L88.0042 855.333 L88.0042 861.189 L82.5296 861.189 Q85.7762 863.322 87.3676 866.155 Q88.9272 868.955 88.9272 872.679 Q88.9272 878.822 85.1078 882.005 Q81.2883 885.188 73.9359 885.188 M51.4968 870.451 L51.4968 870.451 Z\" fill=\"#000000\" fill-rule=\"evenodd\" fill-opacity=\"1\" /><path clip-path=\"url(#clip150)\" d=\"M 0 0 M66.4881 819.558 L88.0042 819.558 L88.0042 825.414 L66.679 825.414 Q61.6183 825.414 59.1038 827.387 Q56.5894 829.361 56.5894 833.308 Q56.5894 838.05 59.6131 840.787 Q62.6368 843.524 67.8567 843.524 L88.0042 843.524 L88.0042 849.413 L52.3562 849.413 L52.3562 843.524 L57.8944 843.524 Q54.6797 841.424 53.0883 838.591 Q51.4968 835.726 51.4968 832.003 Q51.4968 825.86 55.3163 822.709 Q59.1038 819.558 66.4881 819.558 Z\" fill=\"#000000\" fill-rule=\"evenodd\" fill-opacity=\"1\" /><path clip-path=\"url(#clip150)\" d=\"M 0 0 M56.4621 799.601 Q56.4621 804.312 60.1542 807.049 Q63.8145 809.786 70.212 809.786 Q76.6095 809.786 80.3017 807.081 Q83.9619 804.344 83.9619 799.601 Q83.9619 794.922 80.2698 792.185 Q76.5777 789.448 70.212 789.448 Q63.8781 789.448 60.186 792.185 Q56.4621 794.922 56.4621 799.601 M51.4968 799.601 Q51.4968 791.962 56.4621 787.602 Q61.4273 783.241 70.212 783.241 Q78.9649 783.241 83.9619 787.602 Q88.9272 791.962 88.9272 799.601 Q88.9272 807.272 83.9619 811.632 Q78.9649 815.961 70.212 815.961 Q61.4273 815.961 56.4621 811.632 Q51.4968 807.272 51.4968 799.601 Z\" fill=\"#000000\" fill-rule=\"evenodd\" fill-opacity=\"1\" /><path clip-path=\"url(#clip150)\" d=\"M 0 0 M52.3562 781.3 L52.3562 775.093 L82.275 763.953 L52.3562 752.813 L52.3562 746.607 L88.0042 759.975 L88.0042 767.932 L52.3562 781.3 Z\" fill=\"#000000\" fill-rule=\"evenodd\" fill-opacity=\"1\" /><path clip-path=\"url(#clip150)\" d=\"M 0 0 M68.7161 689.252 L71.5806 689.252 L71.5806 716.179 Q77.6281 715.797 80.8109 712.55 Q83.9619 709.272 83.9619 703.447 Q83.9619 700.073 83.1344 696.922 Q82.3069 693.739 80.6518 690.62 L86.1899 690.62 Q87.5267 693.771 88.227 697.081 Q88.9272 700.392 88.9272 703.797 Q88.9272 712.327 83.9619 717.324 Q78.9967 722.29 70.5303 722.29 Q61.7774 722.29 56.6531 717.579 Q51.4968 712.837 51.4968 704.816 Q51.4968 697.622 56.1438 693.453 Q60.7589 689.252 68.7161 689.252 M66.9973 695.108 Q62.1912 695.172 59.3266 697.813 Q56.4621 700.423 56.4621 704.752 Q56.4621 709.654 59.2312 712.614 Q62.0002 715.542 67.0292 715.988 L66.9973 695.108 Z\" fill=\"#000000\" fill-rule=\"evenodd\" fill-opacity=\"1\" /><path clip-path=\"url(#clip150)\" d=\"M 0 0 M52.3562 654.622 L69.7028 667.513 L88.0042 653.954 L88.0042 660.861 L73.9996 671.237 L88.0042 681.613 L88.0042 688.52 L69.3526 674.674 L52.3562 687.342 L52.3562 680.435 L65.0558 670.982 L52.3562 661.529 L52.3562 654.622 Z\" fill=\"#000000\" fill-rule=\"evenodd\" fill-opacity=\"1\" /><path clip-path=\"url(#clip150)\" d=\"M 0 0 M82.657 642.145 L101.563 642.145 L101.563 648.034 L52.3562 648.034 L52.3562 642.145 L57.7671 642.145 Q54.5842 640.299 53.0564 637.498 Q51.4968 634.666 51.4968 630.751 Q51.4968 624.258 56.6531 620.215 Q61.8093 616.141 70.212 616.141 Q78.6147 616.141 83.771 620.215 Q88.9272 624.258 88.9272 630.751 Q88.9272 634.666 87.3994 637.498 Q85.8398 640.299 82.657 642.145 M70.212 622.221 Q63.7508 622.221 60.0905 624.894 Q56.3984 627.536 56.3984 632.183 Q56.3984 636.83 60.0905 639.504 Q63.7508 642.145 70.212 642.145 Q76.6732 642.145 80.3653 639.504 Q84.0256 636.83 84.0256 632.183 Q84.0256 627.536 80.3653 624.894 Q76.6732 622.221 70.212 622.221 Z\" fill=\"#000000\" fill-rule=\"evenodd\" fill-opacity=\"1\" /><path clip-path=\"url(#clip150)\" d=\"M 0 0 M56.4621 596.185 Q56.4621 600.896 60.1542 603.633 Q63.8145 606.37 70.212 606.37 Q76.6095 606.37 80.3017 603.665 Q83.9619 600.927 83.9619 596.185 Q83.9619 591.506 80.2698 588.769 Q76.5777 586.032 70.212 586.032 Q63.8781 586.032 60.186 588.769 Q56.4621 591.506 56.4621 596.185 M51.4968 596.185 Q51.4968 588.546 56.4621 584.186 Q61.4273 579.825 70.212 579.825 Q78.9649 579.825 83.9619 584.186 Q88.9272 588.546 88.9272 596.185 Q88.9272 603.856 83.9619 608.216 Q78.9649 612.545 70.212 612.545 Q61.4273 612.545 56.4621 608.216 Q51.4968 603.856 51.4968 596.185 Z\" fill=\"#000000\" fill-rule=\"evenodd\" fill-opacity=\"1\" /><path clip-path=\"url(#clip150)\" d=\"M 0 0 M66.4881 544.05 L88.0042 544.05 L88.0042 549.906 L66.679 549.906 Q61.6183 549.906 59.1038 551.88 Q56.5894 553.853 56.5894 557.8 Q56.5894 562.542 59.6131 565.279 Q62.6368 568.017 67.8567 568.017 L88.0042 568.017 L88.0042 573.905 L52.3562 573.905 L52.3562 568.017 L57.8944 568.017 Q54.6797 565.916 53.0883 563.083 Q51.4968 560.219 51.4968 556.495 Q51.4968 550.352 55.3163 547.201 Q59.1038 544.05 66.4881 544.05 Z\" fill=\"#000000\" fill-rule=\"evenodd\" fill-opacity=\"1\" /><path clip-path=\"url(#clip150)\" d=\"M 0 0 M68.7161 507.415 L71.5806 507.415 L71.5806 534.342 Q77.6281 533.96 80.8109 530.714 Q83.9619 527.435 83.9619 521.611 Q83.9619 518.237 83.1344 515.086 Q82.3069 511.903 80.6518 508.784 L86.1899 508.784 Q87.5267 511.935 88.227 515.245 Q88.9272 518.555 88.9272 521.961 Q88.9272 530.491 83.9619 535.488 Q78.9967 540.453 70.5303 540.453 Q61.7774 540.453 56.6531 535.743 Q51.4968 531 51.4968 522.979 Q51.4968 515.786 56.1438 511.617 Q60.7589 507.415 68.7161 507.415 M66.9973 513.272 Q62.1912 513.335 59.3266 515.977 Q56.4621 518.587 56.4621 522.916 Q56.4621 527.817 59.2312 530.777 Q62.0002 533.706 67.0292 534.151 L66.9973 513.272 Z\" fill=\"#000000\" fill-rule=\"evenodd\" fill-opacity=\"1\" /><path clip-path=\"url(#clip150)\" d=\"M 0 0 M66.4881 471.64 L88.0042 471.64 L88.0042 477.496 L66.679 477.496 Q61.6183 477.496 59.1038 479.47 Q56.5894 481.443 56.5894 485.39 Q56.5894 490.132 59.6131 492.87 Q62.6368 495.607 67.8567 495.607 L88.0042 495.607 L88.0042 501.495 L52.3562 501.495 L52.3562 495.607 L57.8944 495.607 Q54.6797 493.506 53.0883 490.673 Q51.4968 487.809 51.4968 484.085 Q51.4968 477.942 55.3163 474.791 Q59.1038 471.64 66.4881 471.64 Z\" fill=\"#000000\" fill-rule=\"evenodd\" fill-opacity=\"1\" /><path clip-path=\"url(#clip150)\" d=\"M 0 0 M42.2347 459.704 L52.3562 459.704 L52.3562 447.641 L56.9077 447.641 L56.9077 459.704 L76.2594 459.704 Q80.6199 459.704 81.8613 458.527 Q83.1026 457.317 83.1026 453.657 L83.1026 447.641 L88.0042 447.641 L88.0042 453.657 Q88.0042 460.436 85.4897 463.014 Q82.9434 465.592 76.2594 465.592 L56.9077 465.592 L56.9077 469.889 L52.3562 469.889 L52.3562 465.592 L42.2347 465.592 L42.2347 459.704 Z\" fill=\"#000000\" fill-rule=\"evenodd\" fill-opacity=\"1\" /><polyline clip-path=\"url(#clip152)\" style=\"stroke:#009af9; stroke-width:4; stroke-opacity:1; fill:none\" points=\"\n",
       "  276.025,216.298 296.391,176.814 316.757,189.047 337.123,143.771 357.489,158.337 377.855,167.903 398.221,174.976 418.588,111.072 438.954,122.554 459.32,159.178 \n",
       "  479.686,164.287 500.052,86.1857 520.418,95.8235 540.784,138.472 561.15,143.57 581.516,125.662 601.882,130.805 622.249,131.229 642.615,135.611 662.981,141.559 \n",
       "  683.347,141.559 703.713,145.31 724.079,147.252 744.445,150.317 764.811,137.578 785.177,140.65 805.543,89.2154 825.91,93.7099 846.276,112.943 866.642,116.65 \n",
       "  887.008,125.201 907.374,128.018 927.74,133.808 948.106,136.308 968.472,142.098 988.838,144.239 1009.2,145.306 1029.57,145.306 1049.94,147.193 1070.3,137.056 \n",
       "  1090.67,139.052 1111.03,148.145 1131.4,149.806 1151.77,127.409 1172.13,129.387 1192.5,125.797 1212.87,127.769 1233.23,141.804 1253.6,143.39 1273.96,145.285 \n",
       "  1294.33,146.76 1314.7,138.462 1335.06,139.911 1355.43,122.75 1375.79,124.471 1396.16,138.193 1416.53,139.618 1436.89,139.618 1457.26,144.032 1477.62,145.315 \n",
       "  1497.99,144.322 1518.36,145.484 1538.72,129.14 1559.09,130.497 1579.46,133.374 1599.82,134.789 1620.19,140.013 1640.55,141.156 1660.92,144.653 1681.29,145.677 \n",
       "  1701.65,137.027 1722.02,138.181 1742.38,118.688 1762.75,120.085 1783.12,129.802 1803.48,130.994 1823.85,132.611 1844.21,133.734 1864.58,133.734 1884.95,136.725 \n",
       "  1905.31,137.78 1925.68,139.431 1946.04,140.373 1966.41,141.224 1986.78,142.148 2007.14,136.904 2027.51,137.842 2047.88,142.268 2068.24,143.154 2088.61,131.877 \n",
       "  2108.97,132.86 2129.34,130.883 2149.71,131.842 2170.07,139.85 2190.44,140.672 2210.8,140.259 2231.17,141.105 2251.54,141.105 2271.9,138.401 2292.27,139.228 \n",
       "  \n",
       "  \"/>\n",
       "<polyline clip-path=\"url(#clip152)\" style=\"stroke:#e26f46; stroke-width:4; stroke-opacity:1; fill:none\" points=\"\n",
       "  276.025,216.298 296.391,745.87 316.757,581.795 337.123,441.84 357.489,396.542 377.855,402.304 398.221,375.121 418.588,358.113 438.954,342.639 459.32,332.946 \n",
       "  479.686,322.513 500.052,334.7 520.418,325.93 540.784,311.723 561.15,305.472 581.516,286.595 601.882,282.606 622.249,273.55 642.615,270.601 662.981,269.327 \n",
       "  683.347,269.327 703.713,266.666 724.079,254.685 744.445,252.981 764.811,266.178 785.177,264.232 805.543,276.351 825.91,274.227 846.276,270.82 866.642,268.864 \n",
       "  887.008,259.381 907.374,258.049 927.74,258.964 948.106,257.671 968.472,240.088 988.838,239.402 1009.2,246.045 1029.57,246.045 1049.94,245.254 1070.3,241.513 \n",
       "  1090.67,240.878 1111.03,240.385 1131.4,239.798 1151.77,248.551 1172.13,247.833 1192.5,247.513 1212.87,246.832 1233.23,237.474 1253.6,237.023 1273.96,231.085 \n",
       "  1294.33,230.778 1314.7,239.514 1335.06,239.082 1355.43,241.095 1375.79,240.638 1396.16,239.303 1416.53,238.883 1436.89,238.883 1457.26,225.51 1477.62,225.347 \n",
       "  1497.99,233.278 1518.36,233.004 1538.72,238.211 1559.09,237.869 1579.46,236.859 1599.82,236.509 1620.19,230.305 1640.55,230.095 1660.92,226.176 1681.29,226.035 \n",
       "  1701.65,233.843 1722.02,233.588 1742.38,238.285 1762.75,237.97 1783.12,236.858 1803.48,236.574 1823.85,233.322 1844.21,233.094 1864.58,233.094 1884.95,233.473 \n",
       "  1905.31,233.245 1925.68,226.253 1946.04,226.131 1966.41,229.369 1986.78,229.208 2007.14,227.777 2027.51,227.641 2047.88,228.066 2068.24,227.926 2088.61,232.126 \n",
       "  2108.97,231.941 2129.34,232.088 2149.71,231.911 2170.07,226.344 2190.44,226.236 2210.8,225.622 2231.17,225.519 2251.54,225.519 2271.9,228.143 2292.27,228.017 \n",
       "  \n",
       "  \"/>\n",
       "<polyline clip-path=\"url(#clip152)\" style=\"stroke:#3da44d; stroke-width:4; stroke-opacity:1; fill:none\" points=\"\n",
       "  276.025,216.298 296.391,817.205 316.757,631.028 337.123,1155.16 357.489,966.597 377.855,1170.06 398.221,1030.68 418.588,1271.4 438.954,1156.27 459.32,1248.1 \n",
       "  479.686,1155.81 500.052,1319.83 520.418,1238.09 540.784,1290.1 561.15,1219.75 581.516,1328.86 601.882,1265.72 622.249,1336.13 642.615,1278.44 662.981,1330.28 \n",
       "  683.347,1330.28 703.713,1274.38 724.079,1339.06 744.445,1289.22 764.811,1337.26 785.177,1293.52 805.543,1375.64 825.91,1334.64 846.276,1357.21 866.642,1316.28 \n",
       "  887.008,1356.47 907.374,1321.21 927.74,1348.13 948.106,1313.83 968.472,1358.8 988.838,1325.83 1009.2,1349.5 1029.57,1349.5 1049.94,1319.39 1070.3,1362.44 \n",
       "  1090.67,1333.56 1111.03,1352.31 1131.4,1324.63 1151.77,1365.23 1172.13,1339.65 1192.5,1367.78 1212.87,1342.69 1233.23,1361.81 1253.6,1337.42 1273.96,1364.63 \n",
       "  1294.33,1340.78 1314.7,1363.09 1335.06,1341.74 1355.43,1377.29 1375.79,1355.94 1396.16,1363.52 1416.53,1342.59 1436.89,1342.59 1457.26,1371.51 1477.62,1350.99 \n",
       "  1497.99,1363.33 1518.36,1344.82 1538.72,1373.74 1559.09,1355.71 1579.46,1370.78 1599.82,1351.08 1620.19,1370.81 1640.55,1353.51 1660.92,1370.22 1681.29,1353.73 \n",
       "  1701.65,1370.2 1722.02,1353.4 1742.38,1384.24 1762.75,1367.52 1783.12,1374.45 1803.48,1358.49 1823.85,1375.19 1844.21,1359.64 1864.58,1359.64 1884.95,1370.86 \n",
       "  1905.31,1355.56 1925.68,1375.39 1946.04,1361.18 1966.41,1370.42 1986.78,1356.22 2007.14,1376.38 2027.51,1362.68 2047.88,1370.65 2068.24,1356.84 2088.61,1377.12 \n",
       "  2108.97,1363.61 2129.34,1378.1 2149.71,1365.06 2170.07,1374.87 2190.44,1362.41 2210.8,1375.13 2231.17,1362.23 2251.54,1362.23 2271.9,1374.5 2292.27,1362.2 \n",
       "  \n",
       "  \"/>\n",
       "<path clip-path=\"url(#clip150)\" d=\"\n",
       "M1989.16 372.684 L2280.76 372.684 L2280.76 130.764 L1989.16 130.764  Z\n",
       "  \" fill=\"#ffffff\" fill-rule=\"evenodd\" fill-opacity=\"1\"/>\n",
       "<polyline clip-path=\"url(#clip150)\" style=\"stroke:#000000; stroke-width:4; stroke-opacity:1; fill:none\" points=\"\n",
       "  1989.16,372.684 2280.76,372.684 2280.76,130.764 1989.16,130.764 1989.16,372.684 \n",
       "  \"/>\n",
       "<polyline clip-path=\"url(#clip150)\" style=\"stroke:#009af9; stroke-width:4; stroke-opacity:1; fill:none\" points=\"\n",
       "  2013.16,191.244 2157.16,191.244 \n",
       "  \"/>\n",
       "<path clip-path=\"url(#clip150)\" d=\"M 0 0 M2195 210.931 Q2193.2 215.561 2191.48 216.973 Q2189.77 218.385 2186.9 218.385 L2183.5 218.385 L2183.5 214.82 L2186 214.82 Q2187.76 214.82 2188.73 213.987 Q2189.7 213.154 2190.88 210.052 L2191.65 208.107 L2181.16 182.598 L2185.67 182.598 L2193.77 202.876 L2201.88 182.598 L2206.39 182.598 L2195 210.931 Z\" fill=\"#000000\" fill-rule=\"evenodd\" fill-opacity=\"1\" /><path clip-path=\"url(#clip150)\" d=\"M 0 0 M2212.27 204.589 L2219.91 204.589 L2219.91 178.223 L2211.6 179.89 L2211.6 175.631 L2219.86 173.964 L2224.54 173.964 L2224.54 204.589 L2232.18 204.589 L2232.18 208.524 L2212.27 208.524 L2212.27 204.589 Z\" fill=\"#000000\" fill-rule=\"evenodd\" fill-opacity=\"1\" /><polyline clip-path=\"url(#clip150)\" style=\"stroke:#e26f46; stroke-width:4; stroke-opacity:1; fill:none\" points=\"\n",
       "  2013.16,251.724 2157.16,251.724 \n",
       "  \"/>\n",
       "<path clip-path=\"url(#clip150)\" d=\"M 0 0 M2195 271.411 Q2193.2 276.041 2191.48 277.453 Q2189.77 278.865 2186.9 278.865 L2183.5 278.865 L2183.5 275.3 L2186 275.3 Q2187.76 275.3 2188.73 274.467 Q2189.7 273.634 2190.88 270.532 L2191.65 268.587 L2181.16 243.078 L2185.67 243.078 L2193.77 263.356 L2201.88 243.078 L2206.39 243.078 L2195 271.411 Z\" fill=\"#000000\" fill-rule=\"evenodd\" fill-opacity=\"1\" /><path clip-path=\"url(#clip150)\" d=\"M 0 0 M2215.49 265.069 L2231.81 265.069 L2231.81 269.004 L2209.86 269.004 L2209.86 265.069 Q2212.52 262.314 2217.11 257.685 Q2221.71 253.032 2222.89 251.689 Q2225.14 249.166 2226.02 247.43 Q2226.92 245.671 2226.92 243.981 Q2226.92 241.226 2224.98 239.49 Q2223.06 237.754 2219.96 237.754 Q2217.76 237.754 2215.3 238.518 Q2212.87 239.282 2210.09 240.833 L2210.09 236.111 Q2212.92 234.976 2215.37 234.398 Q2217.83 233.819 2219.86 233.819 Q2225.23 233.819 2228.43 236.504 Q2231.62 239.189 2231.62 243.68 Q2231.62 245.81 2230.81 247.731 Q2230.02 249.629 2227.92 252.222 Q2227.34 252.893 2224.24 256.111 Q2221.14 259.305 2215.49 265.069 Z\" fill=\"#000000\" fill-rule=\"evenodd\" fill-opacity=\"1\" /><polyline clip-path=\"url(#clip150)\" style=\"stroke:#3da44d; stroke-width:4; stroke-opacity:1; fill:none\" points=\"\n",
       "  2013.16,312.204 2157.16,312.204 \n",
       "  \"/>\n",
       "<path clip-path=\"url(#clip150)\" d=\"M 0 0 M2195 331.891 Q2193.2 336.521 2191.48 337.933 Q2189.77 339.345 2186.9 339.345 L2183.5 339.345 L2183.5 335.78 L2186 335.78 Q2187.76 335.78 2188.73 334.947 Q2189.7 334.114 2190.88 331.012 L2191.65 329.067 L2181.16 303.558 L2185.67 303.558 L2193.77 323.836 L2201.88 303.558 L2206.39 303.558 L2195 331.891 Z\" fill=\"#000000\" fill-rule=\"evenodd\" fill-opacity=\"1\" /><path clip-path=\"url(#clip150)\" d=\"M 0 0 M2225.63 310.85 Q2228.98 311.568 2230.86 313.836 Q2232.76 316.105 2232.76 319.438 Q2232.76 324.554 2229.24 327.354 Q2225.72 330.155 2219.24 330.155 Q2217.06 330.155 2214.75 329.716 Q2212.46 329.299 2210 328.442 L2210 323.929 Q2211.95 325.063 2214.26 325.642 Q2216.58 326.22 2219.1 326.22 Q2223.5 326.22 2225.79 324.484 Q2228.1 322.748 2228.1 319.438 Q2228.1 316.382 2225.95 314.669 Q2223.82 312.933 2220 312.933 L2215.97 312.933 L2215.97 309.091 L2220.19 309.091 Q2223.64 309.091 2225.46 307.725 Q2227.29 306.336 2227.29 303.743 Q2227.29 301.081 2225.39 299.669 Q2223.52 298.234 2220 298.234 Q2218.08 298.234 2215.88 298.651 Q2213.68 299.068 2211.04 299.947 L2211.04 295.781 Q2213.71 295.04 2216.02 294.669 Q2218.36 294.299 2220.42 294.299 Q2225.74 294.299 2228.84 296.73 Q2231.95 299.137 2231.95 303.257 Q2231.95 306.128 2230.3 308.118 Q2228.66 310.086 2225.63 310.85 Z\" fill=\"#000000\" fill-rule=\"evenodd\" fill-opacity=\"1\" /></svg>\n"
      ]
     },
     "execution_count": 27,
     "metadata": {},
     "output_type": "execute_result"
    }
   ],
   "source": [
    "@time let\n",
    "    \n",
    "    dt = 0.1\n",
    "    t_max = 10\n",
    "    lse = lyap_qr_time_series(modeling_toolkit_integrator, t_max, dt; \n",
    "        t_pre_iter=0, \n",
    "        t_save=t_max/100,\n",
    "        t_renormalize=dt,\n",
    "        lyapunov_count=3\n",
    "    )\n",
    "    \n",
    "    @show lse.lyapunov[:,end]\n",
    "    plot(lse)\n",
    "end"
   ]
  }
 ],
 "metadata": {
  "kernelspec": {
   "display_name": "Julia 1.4.1",
   "language": "julia",
   "name": "julia-1.4"
  },
  "language_info": {
   "file_extension": ".jl",
   "mimetype": "application/julia",
   "name": "julia",
   "version": "1.4.1"
  }
 },
 "nbformat": 4,
 "nbformat_minor": 2
}
